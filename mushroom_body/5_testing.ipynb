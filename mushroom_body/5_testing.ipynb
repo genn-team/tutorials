{
 "cells": [
  {
   "cell_type": "markdown",
   "metadata": {
    "id": "lGa0_oLb61zz"
   },
   "source": [
    "# Install PyGeNN wheel from Google Drive\n",
    "Download wheel file"
   ]
  },
  {
   "cell_type": "code",
   "execution_count": null,
   "metadata": {
    "colab": {
     "base_uri": "https://localhost:8080/"
    },
    "executionInfo": {
     "elapsed": 14099,
     "status": "ok",
     "timestamp": 1651566139458,
     "user": {
      "displayName": "Jamie Knight",
      "userId": "17931559686369144807"
     },
     "user_tz": -60
    },
    "id": "t2ihZLXh5VD-",
    "outputId": "a71c74bb-fb85-4c56-e15a-51600e2b5e1c"
   },
   "outputs": [],
   "source": [
    "!gdown 1-4H8-H48tEnb-9I9EtLyNfPdLQLe2JRV"
   ]
  },
  {
   "cell_type": "markdown",
   "metadata": {
    "id": "4oxLk_xy67Pd"
   },
   "source": [
    "and then install PyGeNN from wheel file"
   ]
  },
  {
   "cell_type": "code",
   "execution_count": null,
   "metadata": {
    "colab": {
     "base_uri": "https://localhost:8080/"
    },
    "executionInfo": {
     "elapsed": 4553,
     "status": "ok",
     "timestamp": 1651566144002,
     "user": {
      "displayName": "Jamie Knight",
      "userId": "17931559686369144807"
     },
     "user_tz": -60
    },
    "id": "v7Hg9SPK5bZO",
    "outputId": "d3b9c902-b832-4963-e1a0-8ed9434d923d"
   },
   "outputs": [],
   "source": [
    "!pip install pygenn-4.8.0-cp38-cp38-linux_x86_64.whl"
   ]
  },
  {
   "cell_type": "markdown",
   "metadata": {
    "id": "9_zqoaEB8XDY"
   },
   "source": [
    "Set environment variable to allow GeNN to find CUDA"
   ]
  },
  {
   "cell_type": "code",
   "execution_count": 3,
   "metadata": {
    "colab": {
     "base_uri": "https://localhost:8080/"
    },
    "executionInfo": {
     "elapsed": 9,
     "status": "ok",
     "timestamp": 1651566144002,
     "user": {
      "displayName": "Jamie Knight",
      "userId": "17931559686369144807"
     },
     "user_tz": -60
    },
    "id": "cIzSgI5Q8Wvq",
    "outputId": "602881bc-127a-461c-8a2f-9a5a5cbfced1"
   },
   "outputs": [
    {
     "name": "stdout",
     "output_type": "stream",
     "text": [
      "env: CUDA_PATH=/usr/local/cuda\n"
     ]
    }
   ],
   "source": [
    "%env CUDA_PATH=/usr/local/cuda"
   ]
  },
  {
   "cell_type": "markdown",
   "metadata": {
    "id": "lEidJYADC_mD"
   },
   "source": [
    "# Download data"
   ]
  },
  {
   "cell_type": "code",
   "execution_count": 4,
   "metadata": {
    "colab": {
     "base_uri": "https://localhost:8080/"
    },
    "executionInfo": {
     "elapsed": 4257,
     "status": "ok",
     "timestamp": 1651566148254,
     "user": {
      "displayName": "Jamie Knight",
      "userId": "17931559686369144807"
     },
     "user_tz": -60
    },
    "id": "qSN0kuPUC-5J",
    "outputId": "0030dcdd-0a91-41e6-815a-d6bfd9cb438c"
   },
   "outputs": [
    {
     "name": "stdout",
     "output_type": "stream",
     "text": [
      "Downloading...\n",
      "From: https://drive.google.com/uc?id=1XGmYUo6lvOT-QshMK5RSNLImfGGfT6SH\n",
      "To: /content/testing_images.npy.gz\n",
      "100% 5.99M/5.99M [00:00<00:00, 174MB/s]\n",
      "Downloading...\n",
      "From: https://drive.google.com/uc?id=1a6yF9xF9fK4G4xbKYoFBPKxkNb2lL5Rj\n",
      "To: /content/testing_labels.npy.gz\n",
      "100% 4.65k/4.65k [00:00<00:00, 7.45MB/s]\n"
     ]
    }
   ],
   "source": [
    "!gdown 1XGmYUo6lvOT-QshMK5RSNLImfGGfT6SH\n",
    "!gdown 1a6yF9xF9fK4G4xbKYoFBPKxkNb2lL5Rj"
   ]
  },
  {
   "cell_type": "markdown",
   "metadata": {
    "id": "yV0JrchrfQKR"
   },
   "source": [
    "# Build tutorial model\n",
    "Import modules"
   ]
  },
  {
   "cell_type": "code",
   "execution_count": 5,
   "metadata": {
    "executionInfo": {
     "elapsed": 15,
     "status": "ok",
     "timestamp": 1651566148255,
     "user": {
      "displayName": "Jamie Knight",
      "userId": "17931559686369144807"
     },
     "user_tz": -60
    },
    "id": "Hl53yKXi9LiV"
   },
   "outputs": [],
   "source": [
    "import numpy as np\n",
    "from copy import copy\n",
    "from google.colab import drive\n",
    "from gzip import GzipFile\n",
    "from matplotlib import pyplot as plt\n",
    "from pygenn import genn_model\n",
    "from tqdm import tqdm"
   ]
  },
  {
   "cell_type": "code",
   "execution_count": 6,
   "metadata": {
    "executionInfo": {
     "elapsed": 14,
     "status": "ok",
     "timestamp": 1651566148256,
     "user": {
      "displayName": "Jamie Knight",
      "userId": "17931559686369144807"
     },
     "user_tz": -60
    },
    "id": "ayctC3Y0i8ks"
   },
   "outputs": [],
   "source": [
    "# Load testing images\n",
    "with GzipFile(\"testing_images.npy.gz\", \"r\") as f:\n",
    "    testing_images = np.load(f)\n",
    "\n",
    "with GzipFile(\"testing_labels.npy.gz\", \"r\") as f:\n",
    "    testing_labels = np.load(f)"
   ]
  },
  {
   "cell_type": "code",
   "execution_count": 7,
   "metadata": {
    "colab": {
     "base_uri": "https://localhost:8080/"
    },
    "executionInfo": {
     "elapsed": 25104,
     "status": "ok",
     "timestamp": 1651566173347,
     "user": {
      "displayName": "Jamie Knight",
      "userId": "17931559686369144807"
     },
     "user_tz": -60
    },
    "id": "l5HX_B1Gohbq",
    "outputId": "4654b936-94e3-45fb-a782-071d3b2bcce9"
   },
   "outputs": [
    {
     "name": "stdout",
     "output_type": "stream",
     "text": [
      "Mounted at /content/drive\n"
     ]
    }
   ],
   "source": [
    "from google.colab import drive\n",
    "drive.mount(\"/content/drive\")\n"
   ]
  },
  {
   "cell_type": "code",
   "execution_count": 8,
   "metadata": {
    "executionInfo": {
     "elapsed": 1114,
     "status": "ok",
     "timestamp": 1651566174455,
     "user": {
      "displayName": "Jamie Knight",
      "userId": "17931559686369144807"
     },
     "user_tz": -60
    },
    "id": "i-4iEfEdom33"
   },
   "outputs": [],
   "source": [
    "pn_kc_ind = np.load(\"/content/drive/MyDrive/pn_kc_ind.npy\")\n",
    "kc_mbon_g = np.load(\"/content/drive/MyDrive/kc_mbon_g.npy\")"
   ]
  },
  {
   "cell_type": "markdown",
   "metadata": {
    "id": "g0IfyML59Lif"
   },
   "source": [
    "## Parameters\n",
    "Define some model parameters"
   ]
  },
  {
   "cell_type": "code",
   "execution_count": 9,
   "metadata": {
    "executionInfo": {
     "elapsed": 20,
     "status": "ok",
     "timestamp": 1651566174457,
     "user": {
      "displayName": "Jamie Knight",
      "userId": "17931559686369144807"
     },
     "user_tz": -60
    },
    "id": "oncGyriW9Lif"
   },
   "outputs": [],
   "source": [
    "# Simulation time step\n",
    "DT = 0.1\n",
    "\n",
    "# Scaling factor for converting normalised image pixels to input currents (nA)\n",
    "INPUT_SCALE = 80.0\n",
    "\n",
    "# Number of Projection Neurons in model (should match image size)\n",
    "NUM_PN = 784\n",
    "\n",
    "# Number of Kenyon Cells in model (defines memory capacity)\n",
    "NUM_KC = 20000\n",
    "\n",
    "# Number of Mushroom Body Output Neurons (should match number of labels)\n",
    "NUM_MBON = 10\n",
    "\n",
    "# How long to present each image to model\n",
    "PRESENT_TIME_MS = 20.0\n",
    "\n",
    "# Standard LIF neurons parameters\n",
    "LIF_PARAMS = {\n",
    "    \"C\": 0.2,\n",
    "    \"TauM\": 20.0,\n",
    "    \"Vrest\": -60.0,\n",
    "    \"Vreset\": -60.0,\n",
    "    \"Vthresh\": -50.0,\n",
    "    \"Ioffset\": 0.0,\n",
    "    \"TauRefrac\": 2.0}\n",
    "\n",
    "# We only want PNs to spike once\n",
    "PN_PARAMS = copy(LIF_PARAMS)\n",
    "PN_PARAMS[\"TauRefrac\"] = 100.0\n",
    "\n",
    "# Weight of each synaptic connection\n",
    "PN_KC_WEIGHT = 0.2\n",
    "\n",
    "# Time constant of synaptic integration\n",
    "PN_KC_TAU_SYN = 3.0\n",
    "\n",
    "# How many projection neurons should be connected to each Kenyon Cell\n",
    "PN_KC_FAN_IN = 20\n",
    "\n",
    "# Time constant of synaptic integration\n",
    "KC_MBON_TAU_SYN = 3.0\n",
    "\n",
    "# We will use weights of 1.0 for KC->GGN connections and  \n",
    "# want the GGN to inhibit the KCs after 200 spikes\n",
    "GGN_PARAMS = {\n",
    "    \"Vthresh\": 200.0}"
   ]
  },
  {
   "cell_type": "markdown",
   "metadata": {
    "id": "pCYjAoJf9Lig"
   },
   "source": [
    "# Custom models\n",
    "As well as the models we defined before:"
   ]
  },
  {
   "cell_type": "code",
   "execution_count": 10,
   "metadata": {
    "executionInfo": {
     "elapsed": 19,
     "status": "ok",
     "timestamp": 1651566174458,
     "user": {
      "displayName": "Jamie Knight",
      "userId": "17931559686369144807"
     },
     "user_tz": -60
    },
    "id": "IR8PXBg69Lih"
   },
   "outputs": [],
   "source": [
    "# Current source model, allowing current to be injected into neuron from variable\n",
    "cs_model = genn_model.create_custom_current_source_class(\n",
    "    \"cs_model\",\n",
    "    var_name_types=[(\"magnitude\", \"scalar\")],\n",
    "    injection_code=\"$(injectCurrent, $(magnitude));\")\n",
    "\n",
    "# Minimal integrate and fire neuron model\n",
    "if_model = genn_model.create_custom_neuron_class(\n",
    "    \"IF\",\n",
    "    param_names=[\"Vthresh\"],\n",
    "    var_name_types=[(\"V\", \"scalar\")],\n",
    "    sim_code=\n",
    "    \"\"\"\n",
    "    $(V)+= $(Isyn);\n",
    "    \"\"\",\n",
    "    threshold_condition_code=\n",
    "    \"\"\"\n",
    "    $(V) >= $(Vthresh)\n",
    "    \"\"\",\n",
    "    reset_code=\n",
    "    \"\"\"\n",
    "    $(V)= 0.0;\n",
    "    \"\"\")"
   ]
  },
  {
   "cell_type": "markdown",
   "metadata": {
    "id": "Gn4DpkPQ9Lii"
   },
   "source": [
    "## Model definition\n",
    "Create a new model called \"mnist_mb_second_layer_gain_control\" as before although we no longer need to record spikes from individual neurons:"
   ]
  },
  {
   "cell_type": "code",
   "execution_count": 11,
   "metadata": {
    "executionInfo": {
     "elapsed": 19,
     "status": "ok",
     "timestamp": 1651566174460,
     "user": {
      "displayName": "Jamie Knight",
      "userId": "17931559686369144807"
     },
     "user_tz": -60
    },
    "id": "Gx-GsJhD9Lik"
   },
   "outputs": [],
   "source": [
    "# Create model\n",
    "model = genn_model.GeNNModel(\"float\", \"mnist_mb_testing\")\n",
    "model.dT = DT\n",
    "\n",
    "# Create neuron populations\n",
    "lif_init = {\"V\": PN_PARAMS[\"Vreset\"], \"RefracTime\": 0.0}\n",
    "if_init = {\"V\": 0.0}\n",
    "pn = model.add_neuron_population(\"pn\", NUM_PN, \"LIF\", PN_PARAMS, lif_init)\n",
    "kc = model.add_neuron_population(\"kc\", NUM_KC, \"LIF\", LIF_PARAMS, lif_init)\n",
    "ggn = model.add_neuron_population(\"ggn\", 1, if_model, GGN_PARAMS, if_init)\n",
    "mbon = model.add_neuron_population(\"mbon\", NUM_MBON, \"LIF\", LIF_PARAMS, lif_init)\n",
    "\n",
    "# Turn on spike recording\n",
    "pn.spike_recording_enabled = True\n",
    "kc.spike_recording_enabled = True\n",
    "mbon.spike_recording_enabled = True\n",
    "\n",
    "# Create current sources to deliver input to network\n",
    "pn_input = model.add_current_source(\"pn_input\", cs_model, pn , {}, {\"magnitude\": 0.0})\n",
    "\n",
    "# Create synapse populations\n",
    "kc_ggn = model.add_synapse_population(\"kc_ggn\", \"DENSE_GLOBALG\", 0, \n",
    "                                      kc, ggn, \n",
    "                                      \"StaticPulse\", {}, {\"g\": 1.0}, {}, {}, \n",
    "                                      \"DeltaCurr\", {}, {})\n",
    "\n",
    "ggn_kc = model.add_synapse_population(\"ggn_kc\", \"DENSE_GLOBALG\", 0, \n",
    "                                      ggn, kc,\n",
    "                                      \"StaticPulse\", {}, {\"g\": -5.0}, {}, {}, \n",
    "                                      \"ExpCurr\", {\"tau\": 5.0}, {})\n",
    "\n"
   ]
  },
  {
   "cell_type": "code",
   "execution_count": 12,
   "metadata": {
    "executionInfo": {
     "elapsed": 19,
     "status": "ok",
     "timestamp": 1651566174461,
     "user": {
      "displayName": "Jamie Knight",
      "userId": "17931559686369144807"
     },
     "user_tz": -60
    },
    "id": "KfQ1y4vto6T7"
   },
   "outputs": [],
   "source": [
    "pn_kc = model.add_synapse_population(\"pn_kc\", \"SPARSE_GLOBALG\", 0,\n",
    "                                     pn, kc,\n",
    "                                     \"StaticPulse\", {}, {\"g\": PN_KC_WEIGHT}, {}, {},\n",
    "                                     \"ExpCurr\", {\"tau\": PN_KC_TAU_SYN}, {})\n",
    "pn_kc.set_sparse_connections(pn_kc_ind[0], pn_kc_ind[1])"
   ]
  },
  {
   "cell_type": "code",
   "execution_count": 13,
   "metadata": {
    "executionInfo": {
     "elapsed": 348,
     "status": "ok",
     "timestamp": 1651566174792,
     "user": {
      "displayName": "Jamie Knight",
      "userId": "17931559686369144807"
     },
     "user_tz": -60
    },
    "id": "NCL3jEsbo3T0"
   },
   "outputs": [],
   "source": [
    "kc_mbon = model.add_synapse_population(\"kc_mbon\", \"DENSE_INDIVIDUALG\", 0,\n",
    "                                       kc, mbon,\n",
    "                                       \"StaticPulse\", {}, {\"g\": kc_mbon_g}, {}, {},\n",
    "                                       \"ExpCurr\", {\"tau\": KC_MBON_TAU_SYN}, {})"
   ]
  },
  {
   "cell_type": "markdown",
   "metadata": {
    "id": "-GU4oXOS9Lil"
   },
   "source": [
    "## Build model\n",
    "Generate code and load it into PyGeNN (as we're no longer recording spikes, we don't need to allocate a recording buffer)"
   ]
  },
  {
   "cell_type": "code",
   "execution_count": 14,
   "metadata": {
    "executionInfo": {
     "elapsed": 21043,
     "status": "ok",
     "timestamp": 1651566195831,
     "user": {
      "displayName": "Jamie Knight",
      "userId": "17931559686369144807"
     },
     "user_tz": -60
    },
    "id": "-FE02Zoz9Lim"
   },
   "outputs": [],
   "source": [
    "# Convert present time into timesteps\n",
    "present_timesteps = int(round(PRESENT_TIME_MS / DT))\n",
    "\n",
    "# Build model and load it\n",
    "model.build()\n",
    "model.load(num_recording_timesteps=present_timesteps)"
   ]
  },
  {
   "cell_type": "markdown",
   "metadata": {
    "id": "CcpTaaB39Lim"
   },
   "source": [
    "# Simulate tutorial model\n",
    "As well as resetting the state of every neuron after presenting each stimuli, because we have now added synapses with their own dynamics, these also need to be reset.\n",
    " This function resets neuron state variables selected by the keys of a dictionary to the values specifed in the dictionary values and pushes the new values to the GPU."
   ]
  },
  {
   "cell_type": "markdown",
   "metadata": {
    "id": "DfcqDTVXdoRq"
   },
   "source": [
    "Now, like before, we loop through 4 stimuli and simulate the model. However, now we need to reset the Projection Neuron and Kenyon Cell populations; **and** the synapses between them. Additionally, we want to show spikes from the Kenyon Cells as well as the Projection Neurons."
   ]
  },
  {
   "cell_type": "code",
   "execution_count": 15,
   "metadata": {
    "executionInfo": {
     "elapsed": 9,
     "status": "ok",
     "timestamp": 1651566195833,
     "user": {
      "displayName": "Jamie Knight",
      "userId": "17931559686369144807"
     },
     "user_tz": -60
    },
    "id": "K9pAP8OrJUub"
   },
   "outputs": [],
   "source": [
    "def reset_in_syn(pop):\n",
    "    pop.in_syn[:] = 0.0\n",
    "    pop.push_in_syn_to_device()\n",
    "    \n",
    "def reset_neuron(pop, var_init):\n",
    "    # Reset variables\n",
    "    for var_name, var_val in var_init.items():\n",
    "        pop.vars[var_name].view[:] = var_val\n",
    "    \n",
    "        # Push the new values to GPU\n",
    "        pop.push_var_to_device(var_name)"
   ]
  },
  {
   "cell_type": "code",
   "execution_count": 16,
   "metadata": {
    "colab": {
     "base_uri": "https://localhost:8080/",
     "height": 1000
    },
    "executionInfo": {
     "elapsed": 3189,
     "status": "ok",
     "timestamp": 1651566199015,
     "user": {
      "displayName": "Jamie Knight",
      "userId": "17931559686369144807"
     },
     "user_tz": -60
    },
    "id": "MOZDBWPyqpR6",
    "outputId": "cc3850ab-b034-4a74-d9eb-7b8adb6cd717"
   },
   "outputs": [
    {
     "data": {
      "image/png": "[encoded data removed]",
      "text/plain": [
       "<Figure size 432x288 with 3 Axes>"
      ]
     },
     "metadata": {
      "needs_background": "light"
     },
     "output_type": "display_data"
    },
    {
     "data": {
      "image/png": "[encoded data removed]",
      "text/plain": [
       "<Figure size 432x288 with 3 Axes>"
      ]
     },
     "metadata": {
      "needs_background": "light"
     },
     "output_type": "display_data"
    },
    {
     "data": {
      "image/png": "[encoded data removed]",
      "text/plain": [
       "<Figure size 432x288 with 3 Axes>"
      ]
     },
     "metadata": {
      "needs_background": "light"
     },
     "output_type": "display_data"
    },
    {
     "data": {
      "image/png": "[encoded data removed]",
      "text/plain": [
       "<Figure size 432x288 with 3 Axes>"
      ]
     },
     "metadata": {
      "needs_background": "light"
     },
     "output_type": "display_data"
    }
   ],
   "source": [
    "for s in range(4):\n",
    "    # Set training image\n",
    "    pn_input.vars[\"magnitude\"].view[:] = testing_images[s] * INPUT_SCALE\n",
    "    pn_input.push_var_to_device(\"magnitude\")\n",
    "    \n",
    "    # Simulate present timesteps\n",
    "    for i in range(present_timesteps):\n",
    "        model.step_time()\n",
    "    \n",
    "    # Reset neuron state for next stimuli\n",
    "    reset_neuron(pn, lif_init)\n",
    "    reset_neuron(kc, lif_init)\n",
    "    reset_neuron(ggn, if_init)\n",
    "    reset_neuron(mbon, lif_init)\n",
    "\n",
    "    # Reset synapse state\n",
    "    reset_in_syn(pn_kc)\n",
    "    reset_in_syn(ggn_kc)\n",
    "    \n",
    "    # Download spikes from GPU\n",
    "    model.pull_recording_buffers_from_device();\n",
    "    \n",
    "    # Plot PN, KC and MBON spikes\n",
    "    fig, axes = plt.subplots(3, sharex=True)\n",
    "    pn_spike_times, pn_spike_ids = pn.spike_recording_data\n",
    "    kc_spike_times, kc_spike_ids = kc.spike_recording_data\n",
    "    mbon_spike_times, mbon_spike_ids = mbon.spike_recording_data\n",
    "    \n",
    "    \n",
    "    axes[0].scatter(pn_spike_times, pn_spike_ids, s=1)\n",
    "    axes[0].set_ylabel(\"PN\")\n",
    "    axes[1].scatter(kc_spike_times, kc_spike_ids, s=1)\n",
    "    axes[1].set_ylabel(\"KC\")\n",
    "    axes[2].scatter(mbon_spike_times, mbon_spike_ids, s=2)\n",
    "    axes[2].axhline(testing_labels[s], linestyle=\"--\", color=\"green\", alpha=0.3)\n",
    "    axes[2].set_ylim((-0.5, 10.5))\n",
    "    \n",
    "    if len(mbon_spike_times) > 0:\n",
    "        classification = mbon_spike_ids[np.argmin(mbon_spike_times)]\n",
    "        axes[2].axhline(classification, linestyle=\"--\", color=\"red\", alpha=0.3)\n",
    "    axes[2].set_ylabel(\"MBON\")\n",
    "    \n",
    "    axes[2].set_xlabel(\"Time [ms]\")"
   ]
  },
  {
   "cell_type": "code",
   "execution_count": 18,
   "metadata": {
    "colab": {
     "base_uri": "https://localhost:8080/"
    },
    "executionInfo": {
     "elapsed": 55840,
     "status": "ok",
     "timestamp": 1651566346731,
     "user": {
      "displayName": "Jamie Knight",
      "userId": "17931559686369144807"
     },
     "user_tz": -60
    },
    "id": "T1u8nh2Iqsmi",
    "outputId": "fa2b84b5-60d9-4c4e-fcc7-8c2ac9b65290"
   },
   "outputs": [
    {
     "name": "stderr",
     "output_type": "stream",
     "text": [
      "100%|██████████| 10000/10000 [00:55<00:00, 179.46it/s]"
     ]
    },
    {
     "name": "stdout",
     "output_type": "stream",
     "text": [
      "\n",
      "7593/10000 correct (75.93 %%)\n"
     ]
    },
    {
     "name": "stderr",
     "output_type": "stream",
     "text": [
      "\n"
     ]
    }
   ],
   "source": [
    "num_correct = 0\n",
    "for s in tqdm(range(testing_images.shape[0])):\n",
    "    # Set testing image\n",
    "    pn_input.vars[\"magnitude\"].view[:] = testing_images[s] * INPUT_SCALE\n",
    "    pn_input.push_var_to_device(\"magnitude\")\n",
    "\n",
    "    # Simulate present timesteps\n",
    "    for i in range(present_timesteps):\n",
    "        model.step_time()\n",
    "    \n",
    "    # Reset neuron state\n",
    "    reset_neuron(pn, lif_init)\n",
    "    reset_neuron(kc, lif_init)\n",
    "    reset_neuron(ggn, if_init)\n",
    "    reset_neuron(mbon, lif_init)\n",
    "    \n",
    "    # Reset synapse state\n",
    "    reset_in_syn(pn_kc)\n",
    "    reset_in_syn(ggn_kc)\n",
    "    reset_in_syn(kc_mbon)\n",
    "\n",
    "    # Download spikes from GPU\n",
    "    model.pull_recording_buffers_from_device();\n",
    "\n",
    "    # Determine the classification and count correct \n",
    "    mbon_spike_times, mbon_spike_ids = mbon.spike_recording_data\n",
    "    if len(mbon_spike_times) > 0:\n",
    "        if mbon_spike_ids[np.argmin(mbon_spike_times)] == testing_labels[s]:\n",
    "            num_correct += 1\n",
    "\n",
    "print(f\"\\n{num_correct}/{testing_images.shape[0]} correct ({(num_correct * 100.0) / testing_images.shape[0]} %%)\")"
   ]
  }
 ],
 "metadata": {
  "accelerator": "GPU",
  "colab": {
   "collapsed_sections": [],
   "name": "5_testing",
   "provenance": [
    {
     "file_id": "1dZ9OgHxp-kxby_32PR3qms0BS8YUyyQu",
     "timestamp": 1650905214730
    },
    {
     "file_id": "1ZlhL8kaiyFUqDDd96C_l6S81zv6qHJTm",
     "timestamp": 1650903908726
    },
    {
     "file_id": "1Tbho4uz51HOBVLUVKJY57NOCnupRovV6",
     "timestamp": 1650902813916
    },
    {
     "file_id": "1twJe42jWL8vtgfftQDMTg9ve37b4oUO4",
     "timestamp": 1650897280507
    }
   ]
  },
  "kernelspec": {
   "display_name": "Python 3",
   "language": "python",
   "name": "python3"
  },
  "language_info": {
   "codemirror_mode": {
    "name": "ipython",
    "version": 3
   },
   "file_extension": ".py",
   "mimetype": "text/x-python",
   "name": "python",
   "nbconvert_exporter": "python",
   "pygments_lexer": "ipython3",
   "version": "3.7.7"
  }
 },
 "nbformat": 4,
 "nbformat_minor": 1
}
