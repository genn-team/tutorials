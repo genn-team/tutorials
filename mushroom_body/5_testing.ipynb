{
  "cells": [
    {
      "cell_type": "markdown",
      "metadata": {
        "id": "lGa0_oLb61zz"
      },
      "source": [
        "# Install PyGeNN wheel from Google Drive\n",
        "Download wheel file"
      ]
    },
    {
      "cell_type": "code",
      "execution_count": 1,
      "metadata": {
        "colab": {
          "base_uri": "https://localhost:8080/"
        },
        "id": "t2ihZLXh5VD-",
        "outputId": "180bcfc9-571a-462b-ea24-f0780d9d1262"
      },
      "outputs": [
        {
          "output_type": "stream",
          "name": "stdout",
          "text": [
            "Downloading...\n",
            "From: https://drive.google.com/uc?id=1fllqUtL_1_tyGzjNHSR-9i5fXFI9jqAi\n",
            "To: /content/pygenn-4.8.1-cp310-cp310-linux_x86_64.whl\n",
            "\r  0% 0.00/22.3M [00:00<?, ?B/s]\r 47% 10.5M/22.3M [00:00<00:00, 102MB/s]\r100% 22.3M/22.3M [00:00<00:00, 129MB/s]\n"
          ]
        }
      ],
      "source": [
        "!gdown 1fllqUtL_1_tyGzjNHSR-9i5fXFI9jqAi "
      ]
    },
    {
      "cell_type": "markdown",
      "metadata": {
        "id": "4oxLk_xy67Pd"
      },
      "source": [
        "and then install PyGeNN from wheel file"
      ]
    },
    {
      "cell_type": "code",
      "execution_count": 2,
      "metadata": {
        "colab": {
          "base_uri": "https://localhost:8080/"
        },
        "id": "v7Hg9SPK5bZO",
        "outputId": "5a5440ce-d590-4680-b833-94bb8c2e11ce"
      },
      "outputs": [
        {
          "output_type": "stream",
          "name": "stdout",
          "text": [
            "Looking in indexes: https://pypi.org/simple, https://us-python.pkg.dev/colab-wheels/public/simple/\n",
            "Processing ./pygenn-4.8.1-cp310-cp310-linux_x86_64.whl\n",
            "Requirement already satisfied: psutil in /usr/local/lib/python3.10/dist-packages (from pygenn==4.8.1) (5.9.5)\n",
            "Collecting deprecated\n",
            "  Downloading Deprecated-1.2.13-py2.py3-none-any.whl (9.6 kB)\n",
            "Requirement already satisfied: numpy>=1.17 in /usr/local/lib/python3.10/dist-packages (from pygenn==4.8.1) (1.22.4)\n",
            "Requirement already satisfied: six in /usr/local/lib/python3.10/dist-packages (from pygenn==4.8.1) (1.16.0)\n",
            "Requirement already satisfied: wrapt<2,>=1.10 in /usr/local/lib/python3.10/dist-packages (from deprecated->pygenn==4.8.1) (1.14.1)\n",
            "Installing collected packages: deprecated, pygenn\n",
            "Successfully installed deprecated-1.2.13 pygenn-4.8.1\n"
          ]
        }
      ],
      "source": [
        "!pip install pygenn-4.8.1-cp310-cp310-linux_x86_64.whl"
      ]
    },
    {
      "cell_type": "markdown",
      "metadata": {
        "id": "9_zqoaEB8XDY"
      },
      "source": [
        "Set environment variable to allow GeNN to find CUDA"
      ]
    },
    {
      "cell_type": "code",
      "execution_count": 3,
      "metadata": {
        "colab": {
          "base_uri": "https://localhost:8080/"
        },
        "id": "cIzSgI5Q8Wvq",
        "outputId": "431c48e6-5eb2-49ea-cea2-740407b8ce58"
      },
      "outputs": [
        {
          "output_type": "stream",
          "name": "stdout",
          "text": [
            "env: CUDA_PATH=/usr/local/cuda\n"
          ]
        }
      ],
      "source": [
        "%env CUDA_PATH=/usr/local/cuda"
      ]
    },
    {
      "cell_type": "markdown",
      "source": [
        "## Install MNIST package"
      ],
      "metadata": {
        "id": "KVRtXVzIg07T"
      }
    },
    {
      "cell_type": "code",
      "source": [
        "!pip install mnist"
      ],
      "metadata": {
        "id": "AikBc4sfg1b-",
        "outputId": "2cb82431-d194-48cc-88fc-bc28ff501455",
        "colab": {
          "base_uri": "https://localhost:8080/"
        }
      },
      "execution_count": 4,
      "outputs": [
        {
          "output_type": "stream",
          "name": "stdout",
          "text": [
            "Looking in indexes: https://pypi.org/simple, https://us-python.pkg.dev/colab-wheels/public/simple/\n",
            "Collecting mnist\n",
            "  Downloading mnist-0.2.2-py2.py3-none-any.whl (3.5 kB)\n",
            "Requirement already satisfied: numpy in /usr/local/lib/python3.10/dist-packages (from mnist) (1.22.4)\n",
            "Installing collected packages: mnist\n",
            "Successfully installed mnist-0.2.2\n"
          ]
        }
      ]
    },
    {
      "cell_type": "markdown",
      "metadata": {
        "id": "yV0JrchrfQKR"
      },
      "source": [
        "# Build tutorial model\n",
        "Import modules"
      ]
    },
    {
      "cell_type": "code",
      "execution_count": 5,
      "metadata": {
        "id": "Hl53yKXi9LiV"
      },
      "outputs": [],
      "source": [
        "import mnist\n",
        "import numpy as np\n",
        "from copy import copy\n",
        "from google.colab import drive\n",
        "from matplotlib import pyplot as plt\n",
        "from pygenn import genn_model\n",
        "from tqdm.auto import tqdm"
      ]
    },
    {
      "cell_type": "code",
      "execution_count": 17,
      "metadata": {
        "id": "ayctC3Y0i8ks"
      },
      "outputs": [],
      "source": [
        "# Reshape and normalise training data\n",
        "testing_images = mnist.test_images()\n",
        "testing_images = np.reshape(test_images, (test_images.shape[0], -1)).astype(np.float32)\n",
        "testing_images /= np.sum(test_images, axis=1)[:, np.newaxis]\n",
        "testing_labels = mnist.test_labels()"
      ]
    },
    {
      "cell_type": "code",
      "execution_count": 7,
      "metadata": {
        "colab": {
          "base_uri": "https://localhost:8080/"
        },
        "id": "l5HX_B1Gohbq",
        "outputId": "31c84ab5-2268-488f-9816-995d887b0c7e"
      },
      "outputs": [
        {
          "output_type": "stream",
          "name": "stdout",
          "text": [
            "Mounted at /content/drive\n"
          ]
        }
      ],
      "source": [
        "from google.colab import drive\n",
        "drive.mount(\"/content/drive\")\n"
      ]
    },
    {
      "cell_type": "code",
      "execution_count": 8,
      "metadata": {
        "id": "i-4iEfEdom33"
      },
      "outputs": [],
      "source": [
        "pn_kc_ind = np.load(\"/content/drive/MyDrive/pn_kc_ind.npy\")\n",
        "kc_mbon_g = np.load(\"/content/drive/MyDrive/kc_mbon_g.npy\")"
      ]
    },
    {
      "cell_type": "markdown",
      "metadata": {
        "id": "g0IfyML59Lif"
      },
      "source": [
        "## Parameters\n",
        "Define some model parameters"
      ]
    },
    {
      "cell_type": "code",
      "execution_count": 9,
      "metadata": {
        "id": "oncGyriW9Lif"
      },
      "outputs": [],
      "source": [
        "# Simulation time step\n",
        "DT = 0.1\n",
        "\n",
        "# Scaling factor for converting normalised image pixels to input currents (nA)\n",
        "INPUT_SCALE = 80.0\n",
        "\n",
        "# Number of Projection Neurons in model (should match image size)\n",
        "NUM_PN = 784\n",
        "\n",
        "# Number of Kenyon Cells in model (defines memory capacity)\n",
        "NUM_KC = 20000\n",
        "\n",
        "# Number of Mushroom Body Output Neurons (should match number of labels)\n",
        "NUM_MBON = 10\n",
        "\n",
        "# How long to present each image to model\n",
        "PRESENT_TIME_MS = 20.0\n",
        "\n",
        "# Standard LIF neurons parameters\n",
        "LIF_PARAMS = {\n",
        "    \"C\": 0.2,\n",
        "    \"TauM\": 20.0,\n",
        "    \"Vrest\": -60.0,\n",
        "    \"Vreset\": -60.0,\n",
        "    \"Vthresh\": -50.0,\n",
        "    \"Ioffset\": 0.0,\n",
        "    \"TauRefrac\": 2.0}\n",
        "\n",
        "# We only want PNs to spike once\n",
        "PN_PARAMS = copy(LIF_PARAMS)\n",
        "PN_PARAMS[\"TauRefrac\"] = 100.0\n",
        "\n",
        "# Weight of each synaptic connection\n",
        "PN_KC_WEIGHT = 0.2\n",
        "\n",
        "# Time constant of synaptic integration\n",
        "PN_KC_TAU_SYN = 3.0\n",
        "\n",
        "# How many projection neurons should be connected to each Kenyon Cell\n",
        "PN_KC_FAN_IN = 20\n",
        "\n",
        "# Time constant of synaptic integration\n",
        "KC_MBON_TAU_SYN = 3.0\n",
        "\n",
        "# We will use weights of 1.0 for KC->GGN connections and  \n",
        "# want the GGN to inhibit the KCs after 200 spikes\n",
        "GGN_PARAMS = {\n",
        "    \"Vthresh\": 200.0}"
      ]
    },
    {
      "cell_type": "markdown",
      "metadata": {
        "id": "pCYjAoJf9Lig"
      },
      "source": [
        "# Custom models\n",
        "As well as the models we defined before:"
      ]
    },
    {
      "cell_type": "code",
      "execution_count": 10,
      "metadata": {
        "id": "IR8PXBg69Lih"
      },
      "outputs": [],
      "source": [
        "# Current source model, allowing current to be injected into neuron from variable\n",
        "cs_model = genn_model.create_custom_current_source_class(\n",
        "    \"cs_model\",\n",
        "    var_name_types=[(\"magnitude\", \"scalar\")],\n",
        "    injection_code=\"$(injectCurrent, $(magnitude));\")\n",
        "\n",
        "# Minimal integrate and fire neuron model\n",
        "if_model = genn_model.create_custom_neuron_class(\n",
        "    \"IF\",\n",
        "    param_names=[\"Vthresh\"],\n",
        "    var_name_types=[(\"V\", \"scalar\")],\n",
        "    sim_code=\n",
        "    \"\"\"\n",
        "    $(V)+= $(Isyn);\n",
        "    \"\"\",\n",
        "    threshold_condition_code=\n",
        "    \"\"\"\n",
        "    $(V) >= $(Vthresh)\n",
        "    \"\"\",\n",
        "    reset_code=\n",
        "    \"\"\"\n",
        "    $(V)= 0.0;\n",
        "    \"\"\")"
      ]
    },
    {
      "cell_type": "markdown",
      "metadata": {
        "id": "Gn4DpkPQ9Lii"
      },
      "source": [
        "## Model definition\n",
        "Create a new model called \"mnist_mb_second_layer_gain_control\" as before although we no longer need to record spikes from individual neurons:"
      ]
    },
    {
      "cell_type": "code",
      "execution_count": 11,
      "metadata": {
        "id": "Gx-GsJhD9Lik"
      },
      "outputs": [],
      "source": [
        "# Create model\n",
        "model = genn_model.GeNNModel(\"float\", \"mnist_mb_testing\")\n",
        "model.dT = DT\n",
        "\n",
        "# Create neuron populations\n",
        "lif_init = {\"V\": PN_PARAMS[\"Vreset\"], \"RefracTime\": 0.0}\n",
        "if_init = {\"V\": 0.0}\n",
        "pn = model.add_neuron_population(\"pn\", NUM_PN, \"LIF\", PN_PARAMS, lif_init)\n",
        "kc = model.add_neuron_population(\"kc\", NUM_KC, \"LIF\", LIF_PARAMS, lif_init)\n",
        "ggn = model.add_neuron_population(\"ggn\", 1, if_model, GGN_PARAMS, if_init)\n",
        "mbon = model.add_neuron_population(\"mbon\", NUM_MBON, \"LIF\", LIF_PARAMS, lif_init)\n",
        "\n",
        "# Turn on spike recording\n",
        "pn.spike_recording_enabled = True\n",
        "kc.spike_recording_enabled = True\n",
        "mbon.spike_recording_enabled = True\n",
        "\n",
        "# Create current sources to deliver input to network\n",
        "pn_input = model.add_current_source(\"pn_input\", cs_model, pn , {}, {\"magnitude\": 0.0})\n",
        "\n",
        "# Create synapse populations\n",
        "kc_ggn = model.add_synapse_population(\"kc_ggn\", \"DENSE_GLOBALG\", 0, \n",
        "                                      kc, ggn, \n",
        "                                      \"StaticPulse\", {}, {\"g\": 1.0}, {}, {}, \n",
        "                                      \"DeltaCurr\", {}, {})\n",
        "\n",
        "ggn_kc = model.add_synapse_population(\"ggn_kc\", \"DENSE_GLOBALG\", 0, \n",
        "                                      ggn, kc,\n",
        "                                      \"StaticPulse\", {}, {\"g\": -5.0}, {}, {}, \n",
        "                                      \"ExpCurr\", {\"tau\": 5.0}, {})\n",
        "\n"
      ]
    },
    {
      "cell_type": "code",
      "execution_count": 12,
      "metadata": {
        "id": "KfQ1y4vto6T7"
      },
      "outputs": [],
      "source": [
        "pn_kc = model.add_synapse_population(\"pn_kc\", \"SPARSE_GLOBALG\", 0,\n",
        "                                     pn, kc,\n",
        "                                     \"StaticPulse\", {}, {\"g\": PN_KC_WEIGHT}, {}, {},\n",
        "                                     \"ExpCurr\", {\"tau\": PN_KC_TAU_SYN}, {})\n",
        "pn_kc.set_sparse_connections(pn_kc_ind[0], pn_kc_ind[1])"
      ]
    },
    {
      "cell_type": "code",
      "execution_count": 13,
      "metadata": {
        "id": "NCL3jEsbo3T0"
      },
      "outputs": [],
      "source": [
        "kc_mbon = model.add_synapse_population(\"kc_mbon\", \"DENSE_INDIVIDUALG\", 0,\n",
        "                                       kc, mbon,\n",
        "                                       \"StaticPulse\", {}, {\"g\": kc_mbon_g}, {}, {},\n",
        "                                       \"ExpCurr\", {\"tau\": KC_MBON_TAU_SYN}, {})"
      ]
    },
    {
      "cell_type": "markdown",
      "metadata": {
        "id": "-GU4oXOS9Lil"
      },
      "source": [
        "## Build model\n",
        "Generate code and load it into PyGeNN (as we're no longer recording spikes, we don't need to allocate a recording buffer)"
      ]
    },
    {
      "cell_type": "code",
      "execution_count": 14,
      "metadata": {
        "id": "-FE02Zoz9Lim"
      },
      "outputs": [],
      "source": [
        "# Convert present time into timesteps\n",
        "present_timesteps = int(round(PRESENT_TIME_MS / DT))\n",
        "\n",
        "# Build model and load it\n",
        "model.build()\n",
        "model.load(num_recording_timesteps=present_timesteps)"
      ]
    },
    {
      "cell_type": "markdown",
      "metadata": {
        "id": "CcpTaaB39Lim"
      },
      "source": [
        "# Simulate tutorial model\n",
        "As well as resetting the state of every neuron after presenting each stimuli, because we have now added synapses with their own dynamics, these also need to be reset.\n",
        " This function resets neuron state variables selected by the keys of a dictionary to the values specifed in the dictionary values and pushes the new values to the GPU."
      ]
    },
    {
      "cell_type": "markdown",
      "metadata": {
        "id": "DfcqDTVXdoRq"
      },
      "source": [
        "Now, like before, we loop through 4 stimuli and simulate the model. However, now we need to reset the Projection Neuron and Kenyon Cell populations; **and** the synapses between them. Additionally, we want to show spikes from the Kenyon Cells as well as the Projection Neurons."
      ]
    },
    {
      "cell_type": "code",
      "execution_count": 18,
      "metadata": {
        "id": "K9pAP8OrJUub"
      },
      "outputs": [],
      "source": [
        "def reset_in_syn(pop):\n",
        "    pop.in_syn[:] = 0.0\n",
        "    pop.push_in_syn_to_device()\n",
        "    \n",
        "def reset_neuron(pop, var_init):\n",
        "    # Reset variables\n",
        "    for var_name, var_val in var_init.items():\n",
        "        pop.vars[var_name].view[:] = var_val\n",
        "    \n",
        "        # Push the new values to GPU\n",
        "        pop.push_var_to_device(var_name)"
      ]
    },
    {
      "cell_type": "code",
      "execution_count": 19,
      "metadata": {
        "colab": {
          "base_uri": "https://localhost:8080/",
          "height": 1000
        },
        "id": "MOZDBWPyqpR6",
        "outputId": "e6cf64df-7fce-4b4c-f8ac-4f6857d177c9"
      },
      "outputs": [
        {
          "output_type": "display_data",
          "data": {
            "text/plain": [
              "<Figure size 640x480 with 3 Axes>"
            ],
            "image/png": "[encoded data removed]"
          },
          "metadata": {}
        },
        {
          "output_type": "display_data",
          "data": {
            "text/plain": [
              "<Figure size 640x480 with 3 Axes>"
            ],
            "image/png": "[encoded data removed]"
          },
          "metadata": {}
        },
        {
          "output_type": "display_data",
          "data": {
            "text/plain": [
              "<Figure size 640x480 with 3 Axes>"
            ],
            "image/png": "[encoded data removed]"
          },
          "metadata": {}
        },
        {
          "output_type": "display_data",
          "data": {
            "text/plain": [
              "<Figure size 640x480 with 3 Axes>"
            ],
            "image/png": "[encoded data removed]"
          },
          "metadata": {}
        }
      ],
      "source": [
        "for s in range(4):\n",
        "    # Set training image\n",
        "    pn_input.vars[\"magnitude\"].view[:] = testing_images[s] * INPUT_SCALE\n",
        "    pn_input.push_var_to_device(\"magnitude\")\n",
        "    \n",
        "    # Simulate present timesteps\n",
        "    for i in range(present_timesteps):\n",
        "        model.step_time()\n",
        "    \n",
        "    # Reset neuron state for next stimuli\n",
        "    reset_neuron(pn, lif_init)\n",
        "    reset_neuron(kc, lif_init)\n",
        "    reset_neuron(ggn, if_init)\n",
        "    reset_neuron(mbon, lif_init)\n",
        "\n",
        "    # Reset synapse state\n",
        "    reset_in_syn(pn_kc)\n",
        "    reset_in_syn(ggn_kc)\n",
        "    \n",
        "    # Download spikes from GPU\n",
        "    model.pull_recording_buffers_from_device();\n",
        "    \n",
        "    # Plot PN, KC and MBON spikes\n",
        "    fig, axes = plt.subplots(3, sharex=True)\n",
        "    pn_spike_times, pn_spike_ids = pn.spike_recording_data\n",
        "    kc_spike_times, kc_spike_ids = kc.spike_recording_data\n",
        "    mbon_spike_times, mbon_spike_ids = mbon.spike_recording_data\n",
        "    \n",
        "    \n",
        "    axes[0].scatter(pn_spike_times, pn_spike_ids, s=1)\n",
        "    axes[0].set_ylabel(\"PN\")\n",
        "    axes[1].scatter(kc_spike_times, kc_spike_ids, s=1)\n",
        "    axes[1].set_ylabel(\"KC\")\n",
        "    axes[2].scatter(mbon_spike_times, mbon_spike_ids, s=2)\n",
        "    axes[2].axhline(testing_labels[s], linestyle=\"--\", color=\"green\", alpha=0.3)\n",
        "    axes[2].set_ylim((-0.5, 10.5))\n",
        "    \n",
        "    if len(mbon_spike_times) > 0:\n",
        "        classification = mbon_spike_ids[np.argmin(mbon_spike_times)]\n",
        "        axes[2].axhline(classification, linestyle=\"--\", color=\"red\", alpha=0.3)\n",
        "    axes[2].set_ylabel(\"MBON\")\n",
        "    \n",
        "    axes[2].set_xlabel(\"Time [ms]\")"
      ]
    },
    {
      "cell_type": "code",
      "execution_count": 20,
      "metadata": {
        "colab": {
          "base_uri": "https://localhost:8080/",
          "height": 86,
          "referenced_widgets": [
            "9eb2bd9dbf0544b89cc7cc28ea1807b9",
            "8e50a9157a194edba25b13183c2883ac",
            "828874e044134a1fb5b20d4685b47075",
            "7665edb29ff64765812e94e0c3bb9e84",
            "114593a8594d4f488deacfc52f4d04b6",
            "257e9149d30b4c6aa29c027096d983fb",
            "a700751eec3d4863b4f52f3cd97bcfca",
            "06a16a7b4d224c2bbc3afee732e5503e",
            "1deab90e3844444ca9ab2f5189897b60",
            "c9e82f60ffe743a9be969f46e7f64c53",
            "a20245a4f11642cea8538db3debe510d"
          ]
        },
        "id": "T1u8nh2Iqsmi",
        "outputId": "ee1ab2a4-7d4e-4ca4-819d-84ada7083326"
      },
      "outputs": [
        {
          "output_type": "display_data",
          "data": {
            "text/plain": [
              "  0%|          | 0/10000 [00:00<?, ?it/s]"
            ],
            "application/vnd.jupyter.widget-view+json": {
              "version_major": 2,
              "version_minor": 0,
              "model_id": "9eb2bd9dbf0544b89cc7cc28ea1807b9"
            }
          },
          "metadata": {}
        },
        {
          "output_type": "stream",
          "name": "stdout",
          "text": [
            "\n",
            "7494/10000 correct (74.94 %%)\n"
          ]
        }
      ],
      "source": [
        "num_correct = 0\n",
        "for s in tqdm(range(testing_images.shape[0])):\n",
        "    # Set testing image\n",
        "    pn_input.vars[\"magnitude\"].view[:] = testing_images[s] * INPUT_SCALE\n",
        "    pn_input.push_var_to_device(\"magnitude\")\n",
        "\n",
        "    # Simulate present timesteps\n",
        "    for i in range(present_timesteps):\n",
        "        model.step_time()\n",
        "    \n",
        "    # Reset neuron state\n",
        "    reset_neuron(pn, lif_init)\n",
        "    reset_neuron(kc, lif_init)\n",
        "    reset_neuron(ggn, if_init)\n",
        "    reset_neuron(mbon, lif_init)\n",
        "    \n",
        "    # Reset synapse state\n",
        "    reset_in_syn(pn_kc)\n",
        "    reset_in_syn(ggn_kc)\n",
        "    reset_in_syn(kc_mbon)\n",
        "\n",
        "    # Download spikes from GPU\n",
        "    model.pull_recording_buffers_from_device();\n",
        "\n",
        "    # Determine the classification and count correct \n",
        "    mbon_spike_times, mbon_spike_ids = mbon.spike_recording_data\n",
        "    if len(mbon_spike_times) > 0:\n",
        "        if mbon_spike_ids[np.argmin(mbon_spike_times)] == testing_labels[s]:\n",
        "            num_correct += 1\n",
        "\n",
        "print(f\"\\n{num_correct}/{testing_images.shape[0]} correct ({(num_correct * 100.0) / testing_images.shape[0]} %%)\")"
      ]
    }
  ],
  "metadata": {
    "accelerator": "GPU",
    "colab": {
      "name": "5_testing",
      "provenance": []
    },
    "kernelspec": {
      "display_name": "Python 3",
      "language": "python",
      "name": "python3"
    },
    "language_info": {
      "codemirror_mode": {
        "name": "ipython",
        "version": 3
      },
      "file_extension": ".py",
      "mimetype": "text/x-python",
      "name": "python",
      "nbconvert_exporter": "python",
      "pygments_lexer": "ipython3",
      "version": "3.7.7"
    },
    "widgets": {
      "application/vnd.jupyter.widget-state+json": {
        "9eb2bd9dbf0544b89cc7cc28ea1807b9": {
          "model_module": "@jupyter-widgets/controls",
          "model_name": "HBoxModel",
          "model_module_version": "1.5.0",
          "state": {
            "_dom_classes": [],
            "_model_module": "@jupyter-widgets/controls",
            "_model_module_version": "1.5.0",
            "_model_name": "HBoxModel",
            "_view_count": null,
            "_view_module": "@jupyter-widgets/controls",
            "_view_module_version": "1.5.0",
            "_view_name": "HBoxView",
            "box_style": "",
            "children": [
              "IPY_MODEL_8e50a9157a194edba25b13183c2883ac",
              "IPY_MODEL_828874e044134a1fb5b20d4685b47075",
              "IPY_MODEL_7665edb29ff64765812e94e0c3bb9e84"
            ],
            "layout": "IPY_MODEL_114593a8594d4f488deacfc52f4d04b6"
          }
        },
        "8e50a9157a194edba25b13183c2883ac": {
          "model_module": "@jupyter-widgets/controls",
          "model_name": "HTMLModel",
          "model_module_version": "1.5.0",
          "state": {
            "_dom_classes": [],
            "_model_module": "@jupyter-widgets/controls",
            "_model_module_version": "1.5.0",
            "_model_name": "HTMLModel",
            "_view_count": null,
            "_view_module": "@jupyter-widgets/controls",
            "_view_module_version": "1.5.0",
            "_view_name": "HTMLView",
            "description": "",
            "description_tooltip": null,
            "layout": "IPY_MODEL_257e9149d30b4c6aa29c027096d983fb",
            "placeholder": "​",
            "style": "IPY_MODEL_a700751eec3d4863b4f52f3cd97bcfca",
            "value": "100%"
          }
        },
        "828874e044134a1fb5b20d4685b47075": {
          "model_module": "@jupyter-widgets/controls",
          "model_name": "FloatProgressModel",
          "model_module_version": "1.5.0",
          "state": {
            "_dom_classes": [],
            "_model_module": "@jupyter-widgets/controls",
            "_model_module_version": "1.5.0",
            "_model_name": "FloatProgressModel",
            "_view_count": null,
            "_view_module": "@jupyter-widgets/controls",
            "_view_module_version": "1.5.0",
            "_view_name": "ProgressView",
            "bar_style": "success",
            "description": "",
            "description_tooltip": null,
            "layout": "IPY_MODEL_06a16a7b4d224c2bbc3afee732e5503e",
            "max": 10000,
            "min": 0,
            "orientation": "horizontal",
            "style": "IPY_MODEL_1deab90e3844444ca9ab2f5189897b60",
            "value": 10000
          }
        },
        "7665edb29ff64765812e94e0c3bb9e84": {
          "model_module": "@jupyter-widgets/controls",
          "model_name": "HTMLModel",
          "model_module_version": "1.5.0",
          "state": {
            "_dom_classes": [],
            "_model_module": "@jupyter-widgets/controls",
            "_model_module_version": "1.5.0",
            "_model_name": "HTMLModel",
            "_view_count": null,
            "_view_module": "@jupyter-widgets/controls",
            "_view_module_version": "1.5.0",
            "_view_name": "HTMLView",
            "description": "",
            "description_tooltip": null,
            "layout": "IPY_MODEL_c9e82f60ffe743a9be969f46e7f64c53",
            "placeholder": "​",
            "style": "IPY_MODEL_a20245a4f11642cea8538db3debe510d",
            "value": " 10000/10000 [00:26&lt;00:00, 446.46it/s]"
          }
        },
        "114593a8594d4f488deacfc52f4d04b6": {
          "model_module": "@jupyter-widgets/base",
          "model_name": "LayoutModel",
          "model_module_version": "1.2.0",
          "state": {
            "_model_module": "@jupyter-widgets/base",
            "_model_module_version": "1.2.0",
            "_model_name": "LayoutModel",
            "_view_count": null,
            "_view_module": "@jupyter-widgets/base",
            "_view_module_version": "1.2.0",
            "_view_name": "LayoutView",
            "align_content": null,
            "align_items": null,
            "align_self": null,
            "border": null,
            "bottom": null,
            "display": null,
            "flex": null,
            "flex_flow": null,
            "grid_area": null,
            "grid_auto_columns": null,
            "grid_auto_flow": null,
            "grid_auto_rows": null,
            "grid_column": null,
            "grid_gap": null,
            "grid_row": null,
            "grid_template_areas": null,
            "grid_template_columns": null,
            "grid_template_rows": null,
            "height": null,
            "justify_content": null,
            "justify_items": null,
            "left": null,
            "margin": null,
            "max_height": null,
            "max_width": null,
            "min_height": null,
            "min_width": null,
            "object_fit": null,
            "object_position": null,
            "order": null,
            "overflow": null,
            "overflow_x": null,
            "overflow_y": null,
            "padding": null,
            "right": null,
            "top": null,
            "visibility": null,
            "width": null
          }
        },
        "257e9149d30b4c6aa29c027096d983fb": {
          "model_module": "@jupyter-widgets/base",
          "model_name": "LayoutModel",
          "model_module_version": "1.2.0",
          "state": {
            "_model_module": "@jupyter-widgets/base",
            "_model_module_version": "1.2.0",
            "_model_name": "LayoutModel",
            "_view_count": null,
            "_view_module": "@jupyter-widgets/base",
            "_view_module_version": "1.2.0",
            "_view_name": "LayoutView",
            "align_content": null,
            "align_items": null,
            "align_self": null,
            "border": null,
            "bottom": null,
            "display": null,
            "flex": null,
            "flex_flow": null,
            "grid_area": null,
            "grid_auto_columns": null,
            "grid_auto_flow": null,
            "grid_auto_rows": null,
            "grid_column": null,
            "grid_gap": null,
            "grid_row": null,
            "grid_template_areas": null,
            "grid_template_columns": null,
            "grid_template_rows": null,
            "height": null,
            "justify_content": null,
            "justify_items": null,
            "left": null,
            "margin": null,
            "max_height": null,
            "max_width": null,
            "min_height": null,
            "min_width": null,
            "object_fit": null,
            "object_position": null,
            "order": null,
            "overflow": null,
            "overflow_x": null,
            "overflow_y": null,
            "padding": null,
            "right": null,
            "top": null,
            "visibility": null,
            "width": null
          }
        },
        "a700751eec3d4863b4f52f3cd97bcfca": {
          "model_module": "@jupyter-widgets/controls",
          "model_name": "DescriptionStyleModel",
          "model_module_version": "1.5.0",
          "state": {
            "_model_module": "@jupyter-widgets/controls",
            "_model_module_version": "1.5.0",
            "_model_name": "DescriptionStyleModel",
            "_view_count": null,
            "_view_module": "@jupyter-widgets/base",
            "_view_module_version": "1.2.0",
            "_view_name": "StyleView",
            "description_width": ""
          }
        },
        "06a16a7b4d224c2bbc3afee732e5503e": {
          "model_module": "@jupyter-widgets/base",
          "model_name": "LayoutModel",
          "model_module_version": "1.2.0",
          "state": {
            "_model_module": "@jupyter-widgets/base",
            "_model_module_version": "1.2.0",
            "_model_name": "LayoutModel",
            "_view_count": null,
            "_view_module": "@jupyter-widgets/base",
            "_view_module_version": "1.2.0",
            "_view_name": "LayoutView",
            "align_content": null,
            "align_items": null,
            "align_self": null,
            "border": null,
            "bottom": null,
            "display": null,
            "flex": null,
            "flex_flow": null,
            "grid_area": null,
            "grid_auto_columns": null,
            "grid_auto_flow": null,
            "grid_auto_rows": null,
            "grid_column": null,
            "grid_gap": null,
            "grid_row": null,
            "grid_template_areas": null,
            "grid_template_columns": null,
            "grid_template_rows": null,
            "height": null,
            "justify_content": null,
            "justify_items": null,
            "left": null,
            "margin": null,
            "max_height": null,
            "max_width": null,
            "min_height": null,
            "min_width": null,
            "object_fit": null,
            "object_position": null,
            "order": null,
            "overflow": null,
            "overflow_x": null,
            "overflow_y": null,
            "padding": null,
            "right": null,
            "top": null,
            "visibility": null,
            "width": null
          }
        },
        "1deab90e3844444ca9ab2f5189897b60": {
          "model_module": "@jupyter-widgets/controls",
          "model_name": "ProgressStyleModel",
          "model_module_version": "1.5.0",
          "state": {
            "_model_module": "@jupyter-widgets/controls",
            "_model_module_version": "1.5.0",
            "_model_name": "ProgressStyleModel",
            "_view_count": null,
            "_view_module": "@jupyter-widgets/base",
            "_view_module_version": "1.2.0",
            "_view_name": "StyleView",
            "bar_color": null,
            "description_width": ""
          }
        },
        "c9e82f60ffe743a9be969f46e7f64c53": {
          "model_module": "@jupyter-widgets/base",
          "model_name": "LayoutModel",
          "model_module_version": "1.2.0",
          "state": {
            "_model_module": "@jupyter-widgets/base",
            "_model_module_version": "1.2.0",
            "_model_name": "LayoutModel",
            "_view_count": null,
            "_view_module": "@jupyter-widgets/base",
            "_view_module_version": "1.2.0",
            "_view_name": "LayoutView",
            "align_content": null,
            "align_items": null,
            "align_self": null,
            "border": null,
            "bottom": null,
            "display": null,
            "flex": null,
            "flex_flow": null,
            "grid_area": null,
            "grid_auto_columns": null,
            "grid_auto_flow": null,
            "grid_auto_rows": null,
            "grid_column": null,
            "grid_gap": null,
            "grid_row": null,
            "grid_template_areas": null,
            "grid_template_columns": null,
            "grid_template_rows": null,
            "height": null,
            "justify_content": null,
            "justify_items": null,
            "left": null,
            "margin": null,
            "max_height": null,
            "max_width": null,
            "min_height": null,
            "min_width": null,
            "object_fit": null,
            "object_position": null,
            "order": null,
            "overflow": null,
            "overflow_x": null,
            "overflow_y": null,
            "padding": null,
            "right": null,
            "top": null,
            "visibility": null,
            "width": null
          }
        },
        "a20245a4f11642cea8538db3debe510d": {
          "model_module": "@jupyter-widgets/controls",
          "model_name": "DescriptionStyleModel",
          "model_module_version": "1.5.0",
          "state": {
            "_model_module": "@jupyter-widgets/controls",
            "_model_module_version": "1.5.0",
            "_model_name": "DescriptionStyleModel",
            "_view_count": null,
            "_view_module": "@jupyter-widgets/base",
            "_view_module_version": "1.2.0",
            "_view_name": "StyleView",
            "description_width": ""
          }
        }
      }
    }
  },
  "nbformat": 4,
  "nbformat_minor": 0
}