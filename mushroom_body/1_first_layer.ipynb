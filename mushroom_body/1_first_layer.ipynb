{
 "cells": [
  {
   "cell_type": "markdown",
   "metadata": {
    "id": "lGa0_oLb61zz"
   },
   "source": [
    "# Install PyGeNN wheel from Google Drive\n",
    "Download wheel file"
   ]
  },
  {
   "cell_type": "code",
   "execution_count": null,
   "metadata": {
    "colab": {
     "base_uri": "https://localhost:8080/"
    },
    "executionInfo": {
     "elapsed": 13522,
     "status": "ok",
     "timestamp": 1652099480573,
     "user": {
      "displayName": "Jamie Knight",
      "userId": "17931559686369144807"
     },
     "user_tz": -120
    },
    "id": "t2ihZLXh5VD-",
    "outputId": "e062ff29-ac6b-4709-f5ce-3df791392f09"
   },
   "outputs": [],
   "source": [
    "!gdown 1-4H8-H48tEnb-9I9EtLyNfPdLQLe2JRV\n"
   ]
  },
  {
   "cell_type": "markdown",
   "metadata": {
    "id": "4oxLk_xy67Pd"
   },
   "source": [
    "and then install PyGeNN from wheel file"
   ]
  },
  {
   "cell_type": "code",
   "execution_count": null,
   "metadata": {
    "colab": {
     "base_uri": "https://localhost:8080/"
    },
    "executionInfo": {
     "elapsed": 4938,
     "status": "ok",
     "timestamp": 1652099485499,
     "user": {
      "displayName": "Jamie Knight",
      "userId": "17931559686369144807"
     },
     "user_tz": -120
    },
    "id": "v7Hg9SPK5bZO",
    "outputId": "493683b0-4a85-48a0-dc2b-436917650692"
   },
   "outputs": [],
   "source": [
    "!pip install pygenn-4.8.0-cp38-cp38-linux_x86_64.whl"
   ]
  },
  {
   "cell_type": "markdown",
   "metadata": {
    "id": "9_zqoaEB8XDY"
   },
   "source": [
    "Set environment variable to allow GeNN to find CUDA"
   ]
  },
  {
   "cell_type": "code",
   "execution_count": 3,
   "metadata": {
    "colab": {
     "base_uri": "https://localhost:8080/"
    },
    "executionInfo": {
     "elapsed": 23,
     "status": "ok",
     "timestamp": 1652099485500,
     "user": {
      "displayName": "Jamie Knight",
      "userId": "17931559686369144807"
     },
     "user_tz": -120
    },
    "id": "cIzSgI5Q8Wvq",
    "outputId": "2b80d733-575e-4a09-9c01-5f6ecb8a7d29"
   },
   "outputs": [
    {
     "name": "stdout",
     "output_type": "stream",
     "text": [
      "env: CUDA_PATH=/usr/local/cuda\n"
     ]
    }
   ],
   "source": [
    "%env CUDA_PATH=/usr/local/cuda"
   ]
  },
  {
   "cell_type": "markdown",
   "metadata": {
    "id": "lEidJYADC_mD"
   },
   "source": [
    "# Download data"
   ]
  },
  {
   "cell_type": "code",
   "execution_count": 4,
   "metadata": {
    "colab": {
     "base_uri": "https://localhost:8080/"
    },
    "executionInfo": {
     "elapsed": 3485,
     "status": "ok",
     "timestamp": 1652099488972,
     "user": {
      "displayName": "Jamie Knight",
      "userId": "17931559686369144807"
     },
     "user_tz": -120
    },
    "id": "qSN0kuPUC-5J",
    "outputId": "3fb94dbd-5ae0-4c7a-ca53-932967208d96"
   },
   "outputs": [
    {
     "name": "stdout",
     "output_type": "stream",
     "text": [
      "Downloading...\n",
      "From: https://drive.google.com/uc?id=1NSKkpyqpvSHqUfLfJkh7b-8svElfNNNC\n",
      "To: /content/training_images.npy.gz\n",
      "100% 35.9M/35.9M [00:01<00:00, 24.6MB/s]\n"
     ]
    }
   ],
   "source": [
    "!gdown 1NSKkpyqpvSHqUfLfJkh7b-8svElfNNNC"
   ]
  },
  {
   "cell_type": "markdown",
   "metadata": {
    "id": "yV0JrchrfQKR"
   },
   "source": [
    "# Build tutorial model\n",
    "Import modules"
   ]
  },
  {
   "cell_type": "code",
   "execution_count": 5,
   "metadata": {
    "executionInfo": {
     "elapsed": 1127,
     "status": "ok",
     "timestamp": 1652099493758,
     "user": {
      "displayName": "Jamie Knight",
      "userId": "17931559686369144807"
     },
     "user_tz": -120
    },
    "id": "Hl53yKXi9LiV"
   },
   "outputs": [],
   "source": [
    "import numpy as np\n",
    "from copy import copy\n",
    "from gzip import GzipFile\n",
    "from matplotlib import pyplot as plt\n",
    "from pygenn import genn_model"
   ]
  },
  {
   "cell_type": "markdown",
   "metadata": {
    "id": "u67gXzipEue5"
   },
   "source": [
    "Load training images from downloaded file and verify they are *actually* normalised"
   ]
  },
  {
   "cell_type": "code",
   "execution_count": 6,
   "metadata": {
    "executionInfo": {
     "elapsed": 3518,
     "status": "ok",
     "timestamp": 1652099501261,
     "user": {
      "displayName": "Jamie Knight",
      "userId": "17931559686369144807"
     },
     "user_tz": -120
    },
    "id": "X9JrpOMu9LiZ"
   },
   "outputs": [],
   "source": [
    "with GzipFile(\"training_images.npy.gz\", \"r\") as f:\n",
    "    training_images = np.load(f)\n",
    "assert np.allclose(np.sum(training_images, axis=1), 1.0)"
   ]
  },
  {
   "cell_type": "markdown",
   "metadata": {
    "id": "mRl2x1HA9Lia"
   },
   "source": [
    "## Visualize training data\n",
    "Reshape first training image from 784 element vector to 28x28 matrix and visualize."
   ]
  },
  {
   "cell_type": "code",
   "execution_count": 7,
   "metadata": {
    "colab": {
     "base_uri": "https://localhost:8080/",
     "height": 265
    },
    "executionInfo": {
     "elapsed": 25,
     "status": "ok",
     "timestamp": 1652099503102,
     "user": {
      "displayName": "Jamie Knight",
      "userId": "17931559686369144807"
     },
     "user_tz": -120
    },
    "id": "N2jR9guR9Lic",
    "outputId": "7a915bad-bf3a-44d9-8410-818234a5c4fd"
   },
   "outputs": [
    {
     "data": {
      "image/png": "[encoded data removed]",
      "text/plain": [
       "<Figure size 432x288 with 1 Axes>"
      ]
     },
     "metadata": {
      "needs_background": "light"
     },
     "output_type": "display_data"
    }
   ],
   "source": [
    "fig, axis = plt.subplots()\n",
    "axis.imshow(np.reshape(training_images[0], (28, 28)));"
   ]
  },
  {
   "cell_type": "markdown",
   "metadata": {
    "id": "g0IfyML59Lif"
   },
   "source": [
    "## Parameters\n",
    "Define some model parameters"
   ]
  },
  {
   "cell_type": "code",
   "execution_count": 8,
   "metadata": {
    "executionInfo": {
     "elapsed": 733,
     "status": "ok",
     "timestamp": 1652099583825,
     "user": {
      "displayName": "Jamie Knight",
      "userId": "17931559686369144807"
     },
     "user_tz": -120
    },
    "id": "oncGyriW9Lif"
   },
   "outputs": [],
   "source": [
    "# Simulation time step\n",
    "DT = 0.1\n",
    "\n",
    "# Scaling factor for converting normalised image pixels to input currents (nA)\n",
    "INPUT_SCALE = 80.0\n",
    "\n",
    "# Number of Projection Neurons in model (should match image size)\n",
    "NUM_PN = 784\n",
    "\n",
    "# How long to present each image to model\n",
    "PRESENT_TIME_MS = 20.0"
   ]
  },
  {
   "cell_type": "markdown",
   "metadata": {
    "id": "ddx0SZ80Fe9z"
   },
   "source": [
    "Define a standard set of parameters to use for all leaky-integrate and fire neurons"
   ]
  },
  {
   "cell_type": "code",
   "execution_count": 9,
   "metadata": {
    "executionInfo": {
     "elapsed": 532,
     "status": "ok",
     "timestamp": 1652099703457,
     "user": {
      "displayName": "Jamie Knight",
      "userId": "17931559686369144807"
     },
     "user_tz": -120
    },
    "id": "---jKi0cFdec"
   },
   "outputs": [],
   "source": [
    "# Standard LIF neurons parameters\n",
    "LIF_PARAMS = {\n",
    "    \"C\": 0.2,\n",
    "    \"TauM\": 20.0,\n",
    "    \"Vrest\": -60.0,\n",
    "    \"Vreset\": -60.0,\n",
    "    \"Vthresh\": -50.0,\n",
    "    \"Ioffset\": 0.0,\n",
    "    \"TauRefrac\": 2.0}"
   ]
  },
  {
   "cell_type": "markdown",
   "metadata": {
    "id": "lAgVgaYcFq68"
   },
   "source": [
    "Make a copy of this to customise for our Projection neurons and increase the refractory time way above `PRESENT_TIME_MS` so these neurons will only spike once per input."
   ]
  },
  {
   "cell_type": "code",
   "execution_count": 10,
   "metadata": {
    "executionInfo": {
     "elapsed": 10,
     "status": "ok",
     "timestamp": 1652099705592,
     "user": {
      "displayName": "Jamie Knight",
      "userId": "17931559686369144807"
     },
     "user_tz": -120
    },
    "id": "9LLcZa-nFjN7"
   },
   "outputs": [],
   "source": [
    "# We only want PNs to spike once\n",
    "PN_PARAMS = copy(LIF_PARAMS)\n",
    "PN_PARAMS[\"TauRefrac\"] = 100.0"
   ]
  },
  {
   "cell_type": "markdown",
   "metadata": {
    "id": "pCYjAoJf9Lig"
   },
   "source": [
    "# Custom models\n",
    "We are going to apply inputs to our model by treating scaled image pixels as neuronal input currents so here we define a simple model to inject the current specified by a state variable. Like all types of custom model in GeNN, the `var_name_types` kwarg is used to specify state variable names and types"
   ]
  },
  {
   "cell_type": "code",
   "execution_count": 11,
   "metadata": {
    "executionInfo": {
     "elapsed": 9,
     "status": "ok",
     "timestamp": 1652099765986,
     "user": {
      "displayName": "Jamie Knight",
      "userId": "17931559686369144807"
     },
     "user_tz": -120
    },
    "id": "IR8PXBg69Lih"
   },
   "outputs": [],
   "source": [
    "# Current source model, allowing current to be injected into neuron from variable\n",
    "cs_model = genn_model.create_custom_current_source_class(\n",
    "    \"cs_model\",\n",
    "    var_name_types=[(\"magnitude\", \"scalar\")],\n",
    "    injection_code=\"$(injectCurrent, $(magnitude));\")"
   ]
  },
  {
   "cell_type": "markdown",
   "metadata": {
    "id": "Gn4DpkPQ9Lii"
   },
   "source": [
    "## Model definition\n",
    "Create a new model called \"mnist_mb_first_layer\" with floating point precision and set the simulation timestep to our chosen value"
   ]
  },
  {
   "cell_type": "code",
   "execution_count": 12,
   "metadata": {
    "executionInfo": {
     "elapsed": 521,
     "status": "ok",
     "timestamp": 1652099769867,
     "user": {
      "displayName": "Jamie Knight",
      "userId": "17931559686369144807"
     },
     "user_tz": -120
    },
    "id": "Gx-GsJhD9Lik"
   },
   "outputs": [],
   "source": [
    "# Create model\n",
    "model = genn_model.GeNNModel(\"float\", \"mnist_mb_first_layer\")\n",
    "model.dT = DT"
   ]
  },
  {
   "cell_type": "markdown",
   "metadata": {
    "id": "AlMTvSBNHYSD"
   },
   "source": [
    "Add a population of `NUM_PN` Projection Neurons, using the built-in LIF model, the parameters we previously chose and initialising the membrane voltage to the reset voltage."
   ]
  },
  {
   "cell_type": "code",
   "execution_count": 13,
   "metadata": {
    "executionInfo": {
     "elapsed": 521,
     "status": "ok",
     "timestamp": 1652099848550,
     "user": {
      "displayName": "Jamie Knight",
      "userId": "17931559686369144807"
     },
     "user_tz": -120
    },
    "id": "OnHOIAyVHAFH"
   },
   "outputs": [],
   "source": [
    "# Create neuron populations\n",
    "lif_init = {\"V\": PN_PARAMS[\"Vreset\"], \"RefracTime\": 0.0}\n",
    "pn = model.add_neuron_population(\"pn\", NUM_PN, \"LIF\", PN_PARAMS, lif_init)\n",
    "\n",
    "# Turn on spike recording\n",
    "pn.spike_recording_enabled = True"
   ]
  },
  {
   "cell_type": "markdown",
   "metadata": {
    "id": "sdYo9umiH06S"
   },
   "source": [
    "Add a current source to inject current into `pn` using our newly-defined custom model with the initial magnitude set to zero."
   ]
  },
  {
   "cell_type": "code",
   "execution_count": 14,
   "metadata": {
    "executionInfo": {
     "elapsed": 807,
     "status": "ok",
     "timestamp": 1652099851941,
     "user": {
      "displayName": "Jamie Knight",
      "userId": "17931559686369144807"
     },
     "user_tz": -120
    },
    "id": "7e1if0YCG_7m"
   },
   "outputs": [],
   "source": [
    "# Create current sources to deliver input to network\n",
    "pn_input = model.add_current_source(\"pn_input\", cs_model, pn , {}, {\"magnitude\": 0.0})"
   ]
  },
  {
   "cell_type": "markdown",
   "metadata": {
    "id": "-GU4oXOS9Lil"
   },
   "source": [
    "## Build model\n",
    "Generate code and load it into PyGeNN allocating a large enough spike recording buffer to cover `PRESENT_TIME_MS` (after converting from ms to timesteps)"
   ]
  },
  {
   "cell_type": "code",
   "execution_count": 15,
   "metadata": {
    "executionInfo": {
     "elapsed": 18400,
     "status": "ok",
     "timestamp": 1652099877332,
     "user": {
      "displayName": "Jamie Knight",
      "userId": "17931559686369144807"
     },
     "user_tz": -120
    },
    "id": "-FE02Zoz9Lim"
   },
   "outputs": [],
   "source": [
    "# Concert present time into timesteps\n",
    "present_timesteps = int(round(PRESENT_TIME_MS / DT))\n",
    "\n",
    "# Build model and load it\n",
    "model.build()\n",
    "model.load(num_recording_timesteps=present_timesteps)"
   ]
  },
  {
   "cell_type": "markdown",
   "metadata": {
    "id": "CcpTaaB39Lim"
   },
   "source": [
    "# Simulate tutorial model\n",
    "In order to ensure that the same stimulus causes exactly the same input each time it is presented, we want to reset the model's state after presenting each stimulus. This function resets neuron state variables selected by the keys of a dictionary to the values specifed in the dictionary values and pushes the new values to the GPU."
   ]
  },
  {
   "cell_type": "code",
   "execution_count": 16,
   "metadata": {
    "executionInfo": {
     "elapsed": 425,
     "status": "ok",
     "timestamp": 1652099905965,
     "user": {
      "displayName": "Jamie Knight",
      "userId": "17931559686369144807"
     },
     "user_tz": -120
    },
    "id": "7ENTbLZpGvye"
   },
   "outputs": [],
   "source": [
    "def reset_neuron(pop, var_init):\n",
    "    # Reset variables\n",
    "    for var_name, var_val in var_init.items():\n",
    "        pop.vars[var_name].view[:] = var_val\n",
    "    \n",
    "        # Push the new values to GPU\n",
    "        pop.push_var_to_device(var_name)"
   ]
  },
  {
   "cell_type": "markdown",
   "metadata": {
    "id": "hHUa3hbMGwWG"
   },
   "source": [
    "As an initial test of our model, we loop through 4 stimuli and show the Projection Neurons spikes emitted by the model in response."
   ]
  },
  {
   "cell_type": "code",
   "execution_count": 17,
   "metadata": {
    "colab": {
     "base_uri": "https://localhost:8080/",
     "height": 1000
    },
    "executionInfo": {
     "elapsed": 1956,
     "status": "ok",
     "timestamp": 1652099927572,
     "user": {
      "displayName": "Jamie Knight",
      "userId": "17931559686369144807"
     },
     "user_tz": -120
    },
    "id": "I5Qsfgq99Lin",
    "outputId": "f36c27f9-6d9f-4ee3-e816-78da0d113054"
   },
   "outputs": [
    {
     "data": {
      "image/png": "[encoded data removed]",
      "text/plain": [
       "<Figure size 432x288 with 1 Axes>"
      ]
     },
     "metadata": {
      "needs_background": "light"
     },
     "output_type": "display_data"
    },
    {
     "data": {
      "image/png": "[encoded data removed]",
      "text/plain": [
       "<Figure size 432x288 with 1 Axes>"
      ]
     },
     "metadata": {
      "needs_background": "light"
     },
     "output_type": "display_data"
    },
    {
     "data": {
      "image/png": "[encoded data removed]",
      "text/plain": [
       "<Figure size 432x288 with 1 Axes>"
      ]
     },
     "metadata": {
      "needs_background": "light"
     },
     "output_type": "display_data"
    },
    {
     "data": {
      "image/png": "[encoded data removed]",
      "text/plain": [
       "<Figure size 432x288 with 1 Axes>"
      ]
     },
     "metadata": {
      "needs_background": "light"
     },
     "output_type": "display_data"
    }
   ],
   "source": [
    "  for s in range(4):\n",
    "    # Set training image\n",
    "    pn_input.vars[\"magnitude\"].view[:] = training_images[s] * INPUT_SCALE\n",
    "    pn_input.push_var_to_device(\"magnitude\")\n",
    "\n",
    "    # Simulate timesteps\n",
    "    for i in range(present_timesteps):\n",
    "        model.step_time()\n",
    "\n",
    "    # Reset neuron state for next stimuli\n",
    "    reset_neuron(pn, lif_init)\n",
    "\n",
    "    # Download spikes from GPU\n",
    "    model.pull_recording_buffers_from_device();\n",
    "\n",
    "    # Plot PN spikes\n",
    "    fig, axis = plt.subplots()\n",
    "    pn_spike_times, pn_spike_ids = pn.spike_recording_data\n",
    "    axis.scatter(pn_spike_times, pn_spike_ids, s=1)\n",
    "    axis.set_xlabel(\"Time [ms]\")"
   ]
  },
  {
   "cell_type": "code",
   "execution_count": null,
   "metadata": {
    "id": "pBEsq9Jw9Lio"
   },
   "outputs": [],
   "source": []
  }
 ],
 "metadata": {
  "accelerator": "GPU",
  "colab": {
   "collapsed_sections": [],
   "name": "1_first_layer",
   "provenance": [
    {
     "file_id": "1twJe42jWL8vtgfftQDMTg9ve37b4oUO4",
     "timestamp": 1650906331414
    }
   ]
  },
  "kernelspec": {
   "display_name": "Python 3",
   "language": "python",
   "name": "python3"
  },
  "language_info": {
   "codemirror_mode": {
    "name": "ipython",
    "version": 3
   },
   "file_extension": ".py",
   "mimetype": "text/x-python",
   "name": "python",
   "nbconvert_exporter": "python",
   "pygments_lexer": "ipython3",
   "version": "3.7.7"
  }
 },
 "nbformat": 4,
 "nbformat_minor": 1
}
