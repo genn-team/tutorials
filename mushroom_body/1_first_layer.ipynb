{
  "cells": [
    {
      "cell_type": "markdown",
      "metadata": {
        "id": "lGa0_oLb61zz"
      },
      "source": [
        "# Install PyGeNN wheel from Google Drive\n",
        "Download wheel file"
      ]
    },
    {
      "cell_type": "code",
      "execution_count": 1,
      "metadata": {
        "colab": {
          "base_uri": "https://localhost:8080/"
        },
        "id": "t2ihZLXh5VD-",
        "outputId": "767a83f1-15be-4acf-9ed6-89a2a4339117"
      },
      "outputs": [
        {
          "output_type": "stream",
          "name": "stdout",
          "text": [
            "Downloading...\n",
            "From: https://drive.google.com/uc?id=1LMVTqYWWQdidyKKX-bKT-0EFTnzdFnm5\n",
            "To: /content/pygenn-4.9.0-cp310-cp310-linux_x86_64.whl\n",
            "100% 20.6M/20.6M [00:00<00:00, 66.8MB/s]\n"
          ]
        }
      ],
      "source": [
        "!gdown 1LMVTqYWWQdidyKKX-bKT-0EFTnzdFnm5\n"
      ]
    },
    {
      "cell_type": "markdown",
      "metadata": {
        "id": "4oxLk_xy67Pd"
      },
      "source": [
        "and then install PyGeNN from wheel file"
      ]
    },
    {
      "cell_type": "code",
      "execution_count": 2,
      "metadata": {
        "colab": {
          "base_uri": "https://localhost:8080/"
        },
        "id": "v7Hg9SPK5bZO",
        "outputId": "4814f3bb-eb46-4f6a-d7de-3cda46bbb507"
      },
      "outputs": [
        {
          "output_type": "stream",
          "name": "stdout",
          "text": [
            "Processing ./pygenn-4.9.0-cp310-cp310-linux_x86_64.whl\n",
            "Requirement already satisfied: numpy>=1.17 in /usr/local/lib/python3.10/dist-packages (from pygenn==4.9.0) (1.23.5)\n",
            "Requirement already satisfied: six in /usr/local/lib/python3.10/dist-packages (from pygenn==4.9.0) (1.16.0)\n",
            "Collecting deprecated (from pygenn==4.9.0)\n",
            "  Downloading Deprecated-1.2.14-py2.py3-none-any.whl (9.6 kB)\n",
            "Requirement already satisfied: psutil in /usr/local/lib/python3.10/dist-packages (from pygenn==4.9.0) (5.9.5)\n",
            "Requirement already satisfied: wrapt<2,>=1.10 in /usr/local/lib/python3.10/dist-packages (from deprecated->pygenn==4.9.0) (1.15.0)\n",
            "Installing collected packages: deprecated, pygenn\n",
            "Successfully installed deprecated-1.2.14 pygenn-4.9.0\n"
          ]
        }
      ],
      "source": [
        "!pip install pygenn-4.9.0-cp310-cp310-linux_x86_64.whl"
      ]
    },
    {
      "cell_type": "markdown",
      "metadata": {
        "id": "9_zqoaEB8XDY"
      },
      "source": [
        "Set environment variable to allow GeNN to find CUDA"
      ]
    },
    {
      "cell_type": "code",
      "execution_count": 3,
      "metadata": {
        "colab": {
          "base_uri": "https://localhost:8080/"
        },
        "id": "cIzSgI5Q8Wvq",
        "outputId": "19026d3f-f219-4baa-dfff-e3f92e3a97d2"
      },
      "outputs": [
        {
          "output_type": "stream",
          "name": "stdout",
          "text": [
            "env: CUDA_PATH=/usr/local/cuda\n"
          ]
        }
      ],
      "source": [
        "%env CUDA_PATH=/usr/local/cuda"
      ]
    },
    {
      "cell_type": "markdown",
      "source": [
        "## Install MNIST package"
      ],
      "metadata": {
        "id": "KVRtXVzIg07T"
      }
    },
    {
      "cell_type": "code",
      "source": [
        "!pip install mnist"
      ],
      "metadata": {
        "id": "AikBc4sfg1b-",
        "outputId": "852ccd54-9929-4478-f880-c057ef8e0a37",
        "colab": {
          "base_uri": "https://localhost:8080/"
        }
      },
      "execution_count": 4,
      "outputs": [
        {
          "output_type": "stream",
          "name": "stdout",
          "text": [
            "Collecting mnist\n",
            "  Downloading mnist-0.2.2-py2.py3-none-any.whl (3.5 kB)\n",
            "Requirement already satisfied: numpy in /usr/local/lib/python3.10/dist-packages (from mnist) (1.23.5)\n",
            "Installing collected packages: mnist\n",
            "Successfully installed mnist-0.2.2\n"
          ]
        }
      ]
    },
    {
      "cell_type": "markdown",
      "metadata": {
        "id": "yV0JrchrfQKR"
      },
      "source": [
        "# Build tutorial model\n",
        "Import modules"
      ]
    },
    {
      "cell_type": "code",
      "execution_count": 11,
      "metadata": {
        "id": "Hl53yKXi9LiV"
      },
      "outputs": [],
      "source": [
        "import mnist\n",
        "import numpy as np\n",
        "from copy import copy\n",
        "from matplotlib import pyplot as plt\n",
        "from pygenn import genn_model"
      ]
    },
    {
      "cell_type": "markdown",
      "metadata": {
        "id": "u67gXzipEue5"
      },
      "source": [
        "Load training images from downloaded file and normalise so each image's pixels add up to one"
      ]
    },
    {
      "cell_type": "code",
      "execution_count": 12,
      "metadata": {
        "id": "X9JrpOMu9LiZ"
      },
      "outputs": [],
      "source": [
        "training_images = mnist.train_images()\n",
        "training_images = np.reshape(training_images, (training_images.shape[0], -1)).astype(np.float32)\n",
        "\n",
        "training_images /= np.sum(training_images, axis=1)[:, np.newaxis]"
      ]
    },
    {
      "cell_type": "markdown",
      "metadata": {
        "id": "mRl2x1HA9Lia"
      },
      "source": [
        "## Visualize training data\n",
        "Reshape first training image from 784 element vector to 28x28 matrix and visualize."
      ]
    },
    {
      "cell_type": "code",
      "execution_count": 13,
      "metadata": {
        "colab": {
          "base_uri": "https://localhost:8080/",
          "height": 430
        },
        "id": "N2jR9guR9Lic",
        "outputId": "c54cf157-32c7-4d06-b8af-ced6759c9cd7"
      },
      "outputs": [
        {
          "output_type": "display_data",
          "data": {
            "text/plain": [
              "<Figure size 640x480 with 1 Axes>"
            ],
            "image/png": "[encoded data removed]"
          },
          "metadata": {}
        }
      ],
      "source": [
        "fig, axis = plt.subplots()\n",
        "axis.imshow(np.reshape(training_images[0], (28, 28)));"
      ]
    },
    {
      "cell_type": "markdown",
      "metadata": {
        "id": "g0IfyML59Lif"
      },
      "source": [
        "## Parameters\n",
        "Define some model parameters"
      ]
    },
    {
      "cell_type": "code",
      "execution_count": 14,
      "metadata": {
        "id": "oncGyriW9Lif"
      },
      "outputs": [],
      "source": [
        "# Simulation time step\n",
        "DT = 0.1\n",
        "\n",
        "# Scaling factor for converting normalised image pixels to input currents (nA)\n",
        "INPUT_SCALE = 80.0\n",
        "\n",
        "# Number of Projection Neurons in model (should match image size)\n",
        "NUM_PN = 784\n",
        "\n",
        "# How long to present each image to model\n",
        "PRESENT_TIME_MS = 20.0"
      ]
    },
    {
      "cell_type": "markdown",
      "metadata": {
        "id": "ddx0SZ80Fe9z"
      },
      "source": [
        "Define a standard set of parameters to use for all leaky-integrate and fire neurons"
      ]
    },
    {
      "cell_type": "code",
      "execution_count": 15,
      "metadata": {
        "id": "---jKi0cFdec"
      },
      "outputs": [],
      "source": [
        "# Standard LIF neurons parameters\n",
        "LIF_PARAMS = {\n",
        "    \"C\": 0.2,\n",
        "    \"TauM\": 20.0,\n",
        "    \"Vrest\": -60.0,\n",
        "    \"Vreset\": -60.0,\n",
        "    \"Vthresh\": -50.0,\n",
        "    \"Ioffset\": 0.0,\n",
        "    \"TauRefrac\": 2.0}"
      ]
    },
    {
      "cell_type": "markdown",
      "metadata": {
        "id": "lAgVgaYcFq68"
      },
      "source": [
        "Make a copy of this to customise for our Projection neurons and increase the refractory time way above `PRESENT_TIME_MS` so these neurons will only spike once per input."
      ]
    },
    {
      "cell_type": "code",
      "execution_count": 16,
      "metadata": {
        "id": "9LLcZa-nFjN7"
      },
      "outputs": [],
      "source": [
        "# We only want PNs to spike once\n",
        "PN_PARAMS = copy(LIF_PARAMS)\n",
        "PN_PARAMS[\"TauRefrac\"] = 100.0"
      ]
    },
    {
      "cell_type": "markdown",
      "metadata": {
        "id": "pCYjAoJf9Lig"
      },
      "source": [
        "# Custom models\n",
        "We are going to apply inputs to our model by treating scaled image pixels as neuronal input currents so here we define a simple model to inject the current specified by a state variable. Like all types of custom model in GeNN, the `var_name_types` kwarg is used to specify state variable names and types"
      ]
    },
    {
      "cell_type": "code",
      "execution_count": 17,
      "metadata": {
        "id": "IR8PXBg69Lih"
      },
      "outputs": [],
      "source": [
        "# Current source model, allowing current to be injected into neuron from variable\n",
        "cs_model = genn_model.create_custom_current_source_class(\n",
        "    \"cs_model\",\n",
        "    var_name_types=[(\"magnitude\", \"scalar\")],\n",
        "    injection_code=\"$(injectCurrent, $(magnitude));\")"
      ]
    },
    {
      "cell_type": "markdown",
      "metadata": {
        "id": "Gn4DpkPQ9Lii"
      },
      "source": [
        "## Model definition\n",
        "Create a new model called \"mnist_mb_first_layer\" with floating point precision and set the simulation timestep to our chosen value"
      ]
    },
    {
      "cell_type": "code",
      "execution_count": 18,
      "metadata": {
        "id": "Gx-GsJhD9Lik"
      },
      "outputs": [],
      "source": [
        "# Create model\n",
        "model = genn_model.GeNNModel(\"float\", \"mnist_mb_first_layer\")\n",
        "model.dT = DT"
      ]
    },
    {
      "cell_type": "markdown",
      "metadata": {
        "id": "AlMTvSBNHYSD"
      },
      "source": [
        "Add a population of `NUM_PN` Projection Neurons, using the built-in LIF model, the parameters we previously chose and initialising the membrane voltage to the reset voltage."
      ]
    },
    {
      "cell_type": "code",
      "execution_count": 19,
      "metadata": {
        "id": "OnHOIAyVHAFH"
      },
      "outputs": [],
      "source": [
        "# Create neuron populations\n",
        "lif_init = {\"V\": PN_PARAMS[\"Vreset\"], \"RefracTime\": 0.0}\n",
        "pn = model.add_neuron_population(\"pn\", NUM_PN, \"LIF\", PN_PARAMS, lif_init)\n",
        "\n",
        "# Turn on spike recording\n",
        "pn.spike_recording_enabled = True"
      ]
    },
    {
      "cell_type": "markdown",
      "metadata": {
        "id": "sdYo9umiH06S"
      },
      "source": [
        "Add a current source to inject current into `pn` using our newly-defined custom model with the initial magnitude set to zero."
      ]
    },
    {
      "cell_type": "code",
      "execution_count": 20,
      "metadata": {
        "id": "7e1if0YCG_7m"
      },
      "outputs": [],
      "source": [
        "# Create current sources to deliver input to network\n",
        "pn_input = model.add_current_source(\"pn_input\", cs_model, pn , {}, {\"magnitude\": 0.0})"
      ]
    },
    {
      "cell_type": "markdown",
      "metadata": {
        "id": "-GU4oXOS9Lil"
      },
      "source": [
        "## Build model\n",
        "Generate code and load it into PyGeNN allocating a large enough spike recording buffer to cover `PRESENT_TIME_MS` (after converting from ms to timesteps)"
      ]
    },
    {
      "cell_type": "code",
      "execution_count": 21,
      "metadata": {
        "id": "-FE02Zoz9Lim"
      },
      "outputs": [],
      "source": [
        "# Concert present time into timesteps\n",
        "present_timesteps = int(round(PRESENT_TIME_MS / DT))\n",
        "\n",
        "# Build model and load it\n",
        "model.build()\n",
        "model.load(num_recording_timesteps=present_timesteps)"
      ]
    },
    {
      "cell_type": "markdown",
      "metadata": {
        "id": "CcpTaaB39Lim"
      },
      "source": [
        "# Simulate tutorial model\n",
        "In order to ensure that the same stimulus causes exactly the same input each time it is presented, we want to reset the model's state after presenting each stimulus. This function resets neuron state variables selected by the keys of a dictionary to the values specifed in the dictionary values and pushes the new values to the GPU."
      ]
    },
    {
      "cell_type": "code",
      "execution_count": 22,
      "metadata": {
        "id": "7ENTbLZpGvye"
      },
      "outputs": [],
      "source": [
        "def reset_neuron(pop, var_init):\n",
        "    # Reset variables\n",
        "    for var_name, var_val in var_init.items():\n",
        "        pop.vars[var_name].view[:] = var_val\n",
        "\n",
        "        # Push the new values to GPU\n",
        "        pop.push_var_to_device(var_name)"
      ]
    },
    {
      "cell_type": "markdown",
      "metadata": {
        "id": "hHUa3hbMGwWG"
      },
      "source": [
        "As an initial test of our model, we loop through 4 stimuli and show the Projection Neurons spikes emitted by the model in response."
      ]
    },
    {
      "cell_type": "code",
      "execution_count": 23,
      "metadata": {
        "colab": {
          "base_uri": "https://localhost:8080/",
          "height": 1000
        },
        "id": "I5Qsfgq99Lin",
        "outputId": "6954bba7-e91d-43a9-b27b-6b1118bf4811"
      },
      "outputs": [
        {
          "output_type": "display_data",
          "data": {
            "text/plain": [
              "<Figure size 640x480 with 1 Axes>"
            ],
            "image/png": "[encoded data removed]"
          },
          "metadata": {}
        },
        {
          "output_type": "display_data",
          "data": {
            "text/plain": [
              "<Figure size 640x480 with 1 Axes>"
            ],
            "image/png": "[encoded data removed]"
          },
          "metadata": {}
        },
        {
          "output_type": "display_data",
          "data": {
            "text/plain": [
              "<Figure size 640x480 with 1 Axes>"
            ],
            "image/png": "[encoded data removed]"
          },
          "metadata": {}
        },
        {
          "output_type": "display_data",
          "data": {
            "text/plain": [
              "<Figure size 640x480 with 1 Axes>"
            ],
            "image/png": "[encoded data removed]"
          },
          "metadata": {}
        }
      ],
      "source": [
        "for s in range(4):\n",
        "    # Set training image\n",
        "    pn_input.vars[\"magnitude\"].view[:] = training_images[s] * INPUT_SCALE\n",
        "    pn_input.push_var_to_device(\"magnitude\")\n",
        "\n",
        "    # Simulate timesteps\n",
        "    for i in range(present_timesteps):\n",
        "        model.step_time()\n",
        "\n",
        "    # Reset neuron state for next stimuli\n",
        "    reset_neuron(pn, lif_init)\n",
        "\n",
        "    # Download spikes from GPU\n",
        "    model.pull_recording_buffers_from_device();\n",
        "\n",
        "    # Plot PN spikes\n",
        "    fig, axis = plt.subplots()\n",
        "    pn_spike_times, pn_spike_ids = pn.spike_recording_data\n",
        "    axis.scatter(pn_spike_times, pn_spike_ids, s=1)\n",
        "    axis.set_xlabel(\"Time [ms]\")"
      ]
    }
  ],
  "metadata": {
    "accelerator": "GPU",
    "colab": {
      "name": "1_first_layer",
      "provenance": []
    },
    "kernelspec": {
      "display_name": "Python 3",
      "language": "python",
      "name": "python3"
    },
    "language_info": {
      "codemirror_mode": {
        "name": "ipython",
        "version": 3
      },
      "file_extension": ".py",
      "mimetype": "text/x-python",
      "name": "python",
      "nbconvert_exporter": "python",
      "pygments_lexer": "ipython3",
      "version": "3.7.7"
    }
  },
  "nbformat": 4,
  "nbformat_minor": 0
}