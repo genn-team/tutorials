{
 "cells": [
  {
   "cell_type": "markdown",
   "metadata": {
    "id": "lGa0_oLb61zz"
   },
   "source": [
    "# Install PyGeNN wheel from Google Drive\n",
    "Download wheel file"
   ]
  },
  {
   "cell_type": "code",
   "execution_count": null,
   "metadata": {
    "colab": {
     "base_uri": "https://localhost:8080/"
    },
    "executionInfo": {
     "elapsed": 12549,
     "status": "ok",
     "timestamp": 1652100925213,
     "user": {
      "displayName": "Jamie Knight",
      "userId": "17931559686369144807"
     },
     "user_tz": -120
    },
    "id": "t2ihZLXh5VD-",
    "outputId": "53cf95de-97dc-4014-a6d3-fb297e9c1948"
   },
   "outputs": [],
   "source": [
    "!gdown 1-4H8-H48tEnb-9I9EtLyNfPdLQLe2JRV"
   ]
  },
  {
   "cell_type": "markdown",
   "metadata": {
    "id": "4oxLk_xy67Pd"
   },
   "source": [
    "and then install PyGeNN from wheel file"
   ]
  },
  {
   "cell_type": "code",
   "execution_count": null,
   "metadata": {
    "colab": {
     "base_uri": "https://localhost:8080/"
    },
    "executionInfo": {
     "elapsed": 4579,
     "status": "ok",
     "timestamp": 1652100929782,
     "user": {
      "displayName": "Jamie Knight",
      "userId": "17931559686369144807"
     },
     "user_tz": -120
    },
    "id": "v7Hg9SPK5bZO",
    "outputId": "2a771ce0-d60e-43fe-e802-c6990ae492c5"
   },
   "outputs": [],
   "source": [
    "!pip install pygenn-4.8.0-cp38-cp38-linux_x86_64.whl"
   ]
  },
  {
   "cell_type": "markdown",
   "metadata": {
    "id": "9_zqoaEB8XDY"
   },
   "source": [
    "Set environment variable to allow GeNN to find CUDA"
   ]
  },
  {
   "cell_type": "code",
   "execution_count": 3,
   "metadata": {
    "colab": {
     "base_uri": "https://localhost:8080/"
    },
    "executionInfo": {
     "elapsed": 22,
     "status": "ok",
     "timestamp": 1652100929783,
     "user": {
      "displayName": "Jamie Knight",
      "userId": "17931559686369144807"
     },
     "user_tz": -120
    },
    "id": "cIzSgI5Q8Wvq",
    "outputId": "8a07a1cb-6eb8-4a0f-d660-293f786f1773"
   },
   "outputs": [
    {
     "name": "stdout",
     "output_type": "stream",
     "text": [
      "env: CUDA_PATH=/usr/local/cuda\n"
     ]
    }
   ],
   "source": [
    "%env CUDA_PATH=/usr/local/cuda"
   ]
  },
  {
   "cell_type": "markdown",
   "metadata": {
    "id": "lEidJYADC_mD"
   },
   "source": [
    "# Download data"
   ]
  },
  {
   "cell_type": "code",
   "execution_count": 4,
   "metadata": {
    "colab": {
     "base_uri": "https://localhost:8080/"
    },
    "executionInfo": {
     "elapsed": 4503,
     "status": "ok",
     "timestamp": 1652100934275,
     "user": {
      "displayName": "Jamie Knight",
      "userId": "17931559686369144807"
     },
     "user_tz": -120
    },
    "id": "qSN0kuPUC-5J",
    "outputId": "b5f77bad-2d81-4f82-ba2d-36914c7ae4c2"
   },
   "outputs": [
    {
     "name": "stdout",
     "output_type": "stream",
     "text": [
      "Downloading...\n",
      "From: https://drive.google.com/uc?id=1NSKkpyqpvSHqUfLfJkh7b-8svElfNNNC\n",
      "To: /content/training_images.npy.gz\n",
      "100% 35.9M/35.9M [00:00<00:00, 161MB/s]\n",
      "Downloading...\n",
      "From: https://drive.google.com/uc?id=1WZ6Wp0hC7bxQdmzhO6taStpItI5bF7OR\n",
      "To: /content/training_labels.npy.gz\n",
      "100% 29.0k/29.0k [00:00<00:00, 42.5MB/s]\n"
     ]
    }
   ],
   "source": [
    "!gdown 1NSKkpyqpvSHqUfLfJkh7b-8svElfNNNC\n",
    "!gdown 1WZ6Wp0hC7bxQdmzhO6taStpItI5bF7OR"
   ]
  },
  {
   "cell_type": "markdown",
   "metadata": {
    "id": "yV0JrchrfQKR"
   },
   "source": [
    "# Build tutorial model\n",
    "Import modules"
   ]
  },
  {
   "cell_type": "code",
   "execution_count": 5,
   "metadata": {
    "executionInfo": {
     "elapsed": 1967,
     "status": "ok",
     "timestamp": 1652100951842,
     "user": {
      "displayName": "Jamie Knight",
      "userId": "17931559686369144807"
     },
     "user_tz": -120
    },
    "id": "Hl53yKXi9LiV"
   },
   "outputs": [],
   "source": [
    "import numpy as np\n",
    "from copy import copy\n",
    "from gzip import GzipFile\n",
    "from matplotlib import pyplot as plt\n",
    "from pygenn import genn_model\n",
    "\n",
    "# Load training images\n",
    "with GzipFile(\"training_images.npy.gz\", \"r\") as f:\n",
    "    training_images = np.load(f)"
   ]
  },
  {
   "cell_type": "code",
   "execution_count": 20,
   "metadata": {
    "executionInfo": {
     "elapsed": 704,
     "status": "ok",
     "timestamp": 1652101160349,
     "user": {
      "displayName": "Jamie Knight",
      "userId": "17931559686369144807"
     },
     "user_tz": -120
    },
    "id": "ZfxsGYr5kVv-"
   },
   "outputs": [],
   "source": [
    "from tqdm import tqdm"
   ]
  },
  {
   "cell_type": "code",
   "execution_count": 6,
   "metadata": {
    "executionInfo": {
     "elapsed": 573,
     "status": "ok",
     "timestamp": 1652100955950,
     "user": {
      "displayName": "Jamie Knight",
      "userId": "17931559686369144807"
     },
     "user_tz": -120
    },
    "id": "ayctC3Y0i8ks"
   },
   "outputs": [],
   "source": [
    "with GzipFile(\"training_labels.npy.gz\", \"r\") as f:\n",
    "    training_labels = np.load(f)"
   ]
  },
  {
   "cell_type": "markdown",
   "metadata": {
    "id": "g0IfyML59Lif"
   },
   "source": [
    "## Parameters\n",
    "Define some model parameters"
   ]
  },
  {
   "cell_type": "code",
   "execution_count": 7,
   "metadata": {
    "executionInfo": {
     "elapsed": 4,
     "status": "ok",
     "timestamp": 1652100957325,
     "user": {
      "displayName": "Jamie Knight",
      "userId": "17931559686369144807"
     },
     "user_tz": -120
    },
    "id": "oncGyriW9Lif"
   },
   "outputs": [],
   "source": [
    "# Simulation time step\n",
    "DT = 0.1\n",
    "\n",
    "# Scaling factor for converting normalised image pixels to input currents (nA)\n",
    "INPUT_SCALE = 80.0\n",
    "\n",
    "# Number of Projection Neurons in model (should match image size)\n",
    "NUM_PN = 784\n",
    "\n",
    "# Number of Kenyon Cells in model (defines memory capacity)\n",
    "NUM_KC = 20000\n",
    "\n",
    "# How long to present each image to model\n",
    "PRESENT_TIME_MS = 20.0\n",
    "\n",
    "# Standard LIF neurons parameters\n",
    "LIF_PARAMS = {\n",
    "    \"C\": 0.2,\n",
    "    \"TauM\": 20.0,\n",
    "    \"Vrest\": -60.0,\n",
    "    \"Vreset\": -60.0,\n",
    "    \"Vthresh\": -50.0,\n",
    "    \"Ioffset\": 0.0,\n",
    "    \"TauRefrac\": 2.0}\n",
    "\n",
    "# We only want PNs to spike once\n",
    "PN_PARAMS = copy(LIF_PARAMS)\n",
    "PN_PARAMS[\"TauRefrac\"] = 100.0\n",
    "\n",
    "# Weight of each synaptic connection\n",
    "PN_KC_WEIGHT = 0.2\n",
    "\n",
    "# Time constant of synaptic integration\n",
    "PN_KC_TAU_SYN = 3.0\n",
    "\n",
    "# How many projection neurons should be connected to each Kenyon Cell\n",
    "PN_KC_FAN_IN = 20\n",
    "\n",
    "# We will use weights of 1.0 for KC->GGN connections and  \n",
    "# want the GGN to inhibit the KCs after 200 spikes\n",
    "GGN_PARAMS = {\n",
    "    \"Vthresh\": 200.0}"
   ]
  },
  {
   "cell_type": "markdown",
   "metadata": {
    "id": "KldVFE9dJdv8"
   },
   "source": [
    "As we're now going to be adding our synaptic connections between the Projection Neurons and a new population of Kenyon Cells, also define some parameter for these"
   ]
  },
  {
   "cell_type": "code",
   "execution_count": 13,
   "metadata": {
    "executionInfo": {
     "elapsed": 444,
     "status": "ok",
     "timestamp": 1652101097695,
     "user": {
      "displayName": "Jamie Knight",
      "userId": "17931559686369144807"
     },
     "user_tz": -120
    },
    "id": "ZvNwgTphJeM9"
   },
   "outputs": [],
   "source": [
    "NUM_MBON = 10\n",
    "MBON_STIMULUS_CURRENT = 5.0"
   ]
  },
  {
   "cell_type": "code",
   "execution_count": 8,
   "metadata": {
    "executionInfo": {
     "elapsed": 1154,
     "status": "ok",
     "timestamp": 1652100961341,
     "user": {
      "displayName": "Jamie Knight",
      "userId": "17931559686369144807"
     },
     "user_tz": -120
    },
    "id": "-CKgGZHBjKl2"
   },
   "outputs": [],
   "source": [
    "\n",
    "KC_MBON_TAU_SYN = 3.0\n",
    "KC_MBON_PARAMS = {\"tau\": 15.0,\n",
    "                  \"rho\": 0.01,\n",
    "                  \"eta\": 0.00002,\n",
    "                  \"wMin\": 0.0,\n",
    "                  \"wMax\": 0.0233}"
   ]
  },
  {
   "cell_type": "code",
   "execution_count": null,
   "metadata": {
    "executionInfo": {
     "elapsed": 42,
     "status": "aborted",
     "timestamp": 1652100890348,
     "user": {
      "displayName": "Jamie Knight",
      "userId": "17931559686369144807"
     },
     "user_tz": -120
    },
    "id": "_-Eyq5_8jM4V"
   },
   "outputs": [],
   "source": []
  },
  {
   "cell_type": "markdown",
   "metadata": {
    "id": "pCYjAoJf9Lig"
   },
   "source": [
    "# Custom models\n",
    "As well as the models we defined before:"
   ]
  },
  {
   "cell_type": "code",
   "execution_count": 9,
   "metadata": {
    "executionInfo": {
     "elapsed": 623,
     "status": "ok",
     "timestamp": 1652100964038,
     "user": {
      "displayName": "Jamie Knight",
      "userId": "17931559686369144807"
     },
     "user_tz": -120
    },
    "id": "IR8PXBg69Lih"
   },
   "outputs": [],
   "source": [
    "# Current source model, allowing current to be injected into neuron from variable\n",
    "cs_model = genn_model.create_custom_current_source_class(\n",
    "    \"cs_model\",\n",
    "    var_name_types=[(\"magnitude\", \"scalar\")],\n",
    "    injection_code=\"$(injectCurrent, $(magnitude));\")\n",
    "\n",
    "# Minimal integrate and fire neuron model\n",
    "if_model = genn_model.create_custom_neuron_class(\n",
    "    \"IF\",\n",
    "    param_names=[\"Vthresh\"],\n",
    "    var_name_types=[(\"V\", \"scalar\")],\n",
    "    sim_code=\n",
    "    \"\"\"\n",
    "    $(V)+= $(Isyn);\n",
    "    \"\"\",\n",
    "    threshold_condition_code=\n",
    "    \"\"\"\n",
    "    $(V) >= $(Vthresh)\n",
    "    \"\"\",\n",
    "    reset_code=\n",
    "    \"\"\"\n",
    "    $(V)= 0.0;\n",
    "    \"\"\")"
   ]
  },
  {
   "cell_type": "markdown",
   "metadata": {
    "id": "cfKeAMLBjZ6u"
   },
   "source": [
    "We now also need an STDP learning rule!"
   ]
  },
  {
   "cell_type": "code",
   "execution_count": 10,
   "metadata": {
    "executionInfo": {
     "elapsed": 824,
     "status": "ok",
     "timestamp": 1652101045542,
     "user": {
      "displayName": "Jamie Knight",
      "userId": "17931559686369144807"
     },
     "user_tz": -120
    },
    "id": "pe-5DQ9hezIs"
   },
   "outputs": [],
   "source": [
    "symmetric_stdp = genn_model.create_custom_weight_update_class(\n",
    "    \"symmetric_stdp\",\n",
    "    param_names=[\"tau\", \"rho\", \"eta\", \"wMin\", \"wMax\"],\n",
    "    var_name_types=[(\"g\", \"scalar\")],\n",
    "    sim_code=\n",
    "    \"\"\"\n",
    "    const scalar dt = $(t) - $(sT_post);\n",
    "    const scalar timing = exp(-dt / $(tau)) - $(rho);\n",
    "    const scalar newWeight = $(g) + ($(eta) * timing);\n",
    "    $(g) = fmin($(wMax), fmax($(wMin), newWeight));\n",
    "    \"\"\",\n",
    "    learn_post_code=\n",
    "    \"\"\"\n",
    "    const scalar dt = $(t) - $(sT_pre);\n",
    "    const scalar timing = fmax(exp(-dt / $(tau)) - $(rho), -0.1*$(rho));\n",
    "    const scalar newWeight = $(g) + ($(eta) * timing);\n",
    "    $(g) = fmin($(wMax), fmax($(wMin), newWeight));\n",
    "    \"\"\",\n",
    "    is_pre_spike_time_required=True,\n",
    "    is_post_spike_time_required=True)\n"
   ]
  },
  {
   "cell_type": "markdown",
   "metadata": {
    "id": "Gn4DpkPQ9Lii"
   },
   "source": [
    "## Model definition\n",
    "Create a new model called \"mnist_mb_second_layer_gain_control\" as before although we no longer need to record spikes from individual neurons:"
   ]
  },
  {
   "cell_type": "code",
   "execution_count": 11,
   "metadata": {
    "executionInfo": {
     "elapsed": 386,
     "status": "ok",
     "timestamp": 1652101068741,
     "user": {
      "displayName": "Jamie Knight",
      "userId": "17931559686369144807"
     },
     "user_tz": -120
    },
    "id": "Gx-GsJhD9Lik"
   },
   "outputs": [],
   "source": [
    "# Create model\n",
    "model = genn_model.GeNNModel(\"float\", \"mnist_mb_third_layer\")\n",
    "model.dT = DT\n",
    "\n",
    "# Create neuron populations\n",
    "lif_init = {\"V\": PN_PARAMS[\"Vreset\"], \"RefracTime\": 0.0}\n",
    "if_init = {\"V\": 0.0}\n",
    "pn = model.add_neuron_population(\"pn\", NUM_PN, \"LIF\", PN_PARAMS, lif_init)\n",
    "kc = model.add_neuron_population(\"kc\", NUM_KC, \"LIF\", LIF_PARAMS, lif_init)\n",
    "ggn = model.add_neuron_population(\"ggn\", 1, if_model, GGN_PARAMS, if_init)\n",
    "\n",
    "# Turn on spike recording\n",
    "pn.spike_recording_enabled = True\n",
    "kc.spike_recording_enabled = True\n",
    "\n",
    "# Create current sources to deliver input to network\n",
    "pn_input = model.add_current_source(\"pn_input\", cs_model, pn , {}, {\"magnitude\": 0.0})\n",
    "\n",
    "# Create synapse populations\n",
    "pn_kc = model.add_synapse_population(\"pn_kc\", \"SPARSE_GLOBALG\", 0,\n",
    "                                     pn, kc,\n",
    "                                     \"StaticPulse\", {}, {\"g\": PN_KC_WEIGHT}, {}, {},\n",
    "                                     \"ExpCurr\", {\"tau\": PN_KC_TAU_SYN}, {},\n",
    "                                     genn_model.init_connectivity(\"FixedNumberPreWithReplacement\", {\"colLength\": PN_KC_FAN_IN}))\n",
    "\n",
    "kc_ggn = model.add_synapse_population(\"kc_ggn\", \"DENSE_GLOBALG\", 0, \n",
    "                                      kc, ggn, \n",
    "                                      \"StaticPulse\", {}, {\"g\": 1.0}, {}, {}, \n",
    "                                      \"DeltaCurr\", {}, {})\n",
    "\n",
    "ggn_kc = model.add_synapse_population(\"ggn_kc\", \"DENSE_GLOBALG\", 0, \n",
    "                                      ggn, kc,\n",
    "                                      \"StaticPulse\", {}, {\"g\": -5.0}, {}, {}, \n",
    "                                      \"ExpCurr\", {\"tau\": 5.0}, {})"
   ]
  },
  {
   "cell_type": "markdown",
   "metadata": {
    "id": "sdYo9umiH06S"
   },
   "source": [
    "Add a current source to inject current into `pn` using our newly-defined custom model with the initial magnitude set to zero."
   ]
  },
  {
   "cell_type": "code",
   "execution_count": 14,
   "metadata": {
    "executionInfo": {
     "elapsed": 444,
     "status": "ok",
     "timestamp": 1652101102020,
     "user": {
      "displayName": "Jamie Knight",
      "userId": "17931559686369144807"
     },
     "user_tz": -120
    },
    "id": "kiitnN5HjlNc"
   },
   "outputs": [],
   "source": [
    "mbon = model.add_neuron_population(\"mbon\", NUM_MBON, \"LIF\", LIF_PARAMS, lif_init)\n",
    "\n",
    "mbon.spike_recording_enabled = True\n",
    "\n",
    "# Create current sources to deliver input and supervision to network\n",
    "mbon_input = model.add_current_source(\"mbon_input\", cs_model, mbon , {}, {\"magnitude\": 0.0})"
   ]
  },
  {
   "cell_type": "markdown",
   "metadata": {
    "id": "0BQ2LzsPjvlv"
   },
   "source": []
  },
  {
   "cell_type": "code",
   "execution_count": 15,
   "metadata": {
    "executionInfo": {
     "elapsed": 432,
     "status": "ok",
     "timestamp": 1652101118089,
     "user": {
      "displayName": "Jamie Knight",
      "userId": "17931559686369144807"
     },
     "user_tz": -120
    },
    "id": "5hq70tYRjqZq"
   },
   "outputs": [],
   "source": [
    "kc_mbon = model.add_synapse_population(\"kc_mbon\", \"DENSE_INDIVIDUALG\", 0,\n",
    "                                       kc, mbon,\n",
    "                                       symmetric_stdp, KC_MBON_PARAMS, {\"g\": 0.0}, {}, {},\n",
    "                                       \"ExpCurr\", {\"tau\": KC_MBON_TAU_SYN}, {})"
   ]
  },
  {
   "cell_type": "markdown",
   "metadata": {
    "id": "-GU4oXOS9Lil"
   },
   "source": [
    "## Build model\n",
    "Generate code and load it into PyGeNN (as we're no longer recording spikes, we don't need to allocate a recording buffer)"
   ]
  },
  {
   "cell_type": "code",
   "execution_count": 16,
   "metadata": {
    "executionInfo": {
     "elapsed": 23263,
     "status": "ok",
     "timestamp": 1652101144015,
     "user": {
      "displayName": "Jamie Knight",
      "userId": "17931559686369144807"
     },
     "user_tz": -120
    },
    "id": "-FE02Zoz9Lim"
   },
   "outputs": [],
   "source": [
    "# Convert present time into timesteps\n",
    "present_timesteps = int(round(PRESENT_TIME_MS / DT))\n",
    "\n",
    "# Build model and load it\n",
    "model.build()\n",
    "model.load(num_recording_timesteps=present_timesteps)"
   ]
  },
  {
   "cell_type": "markdown",
   "metadata": {
    "id": "CcpTaaB39Lim"
   },
   "source": [
    "# Simulate tutorial model\n",
    "As well as resetting the state of every neuron after presenting each stimuli, because we have now added synapses with their own dynamics, these also need to be reset.\n",
    " This function resets neuron state variables selected by the keys of a dictionary to the values specifed in the dictionary values and pushes the new values to the GPU."
   ]
  },
  {
   "cell_type": "markdown",
   "metadata": {
    "id": "DfcqDTVXdoRq"
   },
   "source": [
    "Now, like before, we loop through 4 stimuli and simulate the model. However, now we need to reset the Projection Neuron and Kenyon Cell populations; **and** the synapses between them. Additionally, we want to show spikes from the Kenyon Cells as well as the Projection Neurons."
   ]
  },
  {
   "cell_type": "code",
   "execution_count": 17,
   "metadata": {
    "executionInfo": {
     "elapsed": 42,
     "status": "ok",
     "timestamp": 1652101144016,
     "user": {
      "displayName": "Jamie Knight",
      "userId": "17931559686369144807"
     },
     "user_tz": -120
    },
    "id": "hQV_X3IGkIQm"
   },
   "outputs": [],
   "source": [
    "def reset_spike_times(pop):\n",
    "    pop.spike_times[:] = -np.finfo(np.float32).max\n",
    "    pop.push_spike_times_to_device()"
   ]
  },
  {
   "cell_type": "code",
   "execution_count": 21,
   "metadata": {
    "colab": {
     "base_uri": "https://localhost:8080/"
    },
    "executionInfo": {
     "elapsed": 423507,
     "status": "ok",
     "timestamp": 1652101588019,
     "user": {
      "displayName": "Jamie Knight",
      "userId": "17931559686369144807"
     },
     "user_tz": -120
    },
    "id": "K9pAP8OrJUub",
    "outputId": "4e33d28b-d9bc-44f9-eb7b-fccd810c64ba"
   },
   "outputs": [
    {
     "name": "stderr",
     "output_type": "stream",
     "text": [
      "100%|██████████| 60000/60000 [07:02<00:00, 142.09it/s]\n"
     ]
    }
   ],
   "source": [
    "def reset_in_syn(pop):\n",
    "    pop.in_syn[:] = 0.0\n",
    "    pop.push_in_syn_to_device()\n",
    "    \n",
    "def reset_neuron(pop, var_init):\n",
    "    # Reset variables\n",
    "    for var_name, var_val in var_init.items():\n",
    "        pop.vars[var_name].view[:] = var_val\n",
    "    \n",
    "        # Push the new values to GPU\n",
    "        pop.push_var_to_device(var_name)\n",
    "\n",
    "# Convert present time into timesteps\n",
    "present_timesteps = int(round(PRESENT_TIME_MS / DT))\n",
    "\n",
    "for s in tqdm(range(training_images.shape[0])):\n",
    "    # Set training image\n",
    "    pn_input.vars[\"magnitude\"].view[:] = training_images[s] * INPUT_SCALE\n",
    "    pn_input.push_var_to_device(\"magnitude\")\n",
    "\n",
    "    # Turn on correct output neuron\n",
    "    mbon_input.vars[\"magnitude\"].view[:] = 0\n",
    "    mbon_input.vars[\"magnitude\"].view[training_labels[s]] = MBON_STIMULUS_CURRENT\n",
    "    mbon_input.push_var_to_device(\"magnitude\")\n",
    "\n",
    "    # Simulate present timesteps\n",
    "    for i in range(present_timesteps):\n",
    "        model.step_time()\n",
    "    \n",
    "    # Reset neuron state\n",
    "    reset_neuron(pn, lif_init)\n",
    "    reset_neuron(kc, lif_init)\n",
    "    reset_neuron(ggn, if_init)\n",
    "    reset_neuron(mbon, lif_init)\n",
    "\n",
    "    # Reset spike times\n",
    "    reset_spike_times(kc)\n",
    "    reset_spike_times(mbon)\n",
    "    \n",
    "    # Reset synapse state\n",
    "    reset_in_syn(pn_kc)\n",
    "    reset_in_syn(ggn_kc)\n",
    "    reset_in_syn(kc_mbon)"
   ]
  },
  {
   "cell_type": "markdown",
   "metadata": {
    "id": "KqM0qyChlzhP"
   },
   "source": [
    "# Visualise and save learned weights\n",
    "First of all we download the learned weights from device and get the memory view to access them through (in the same way as we used to access current source state variables)"
   ]
  },
  {
   "cell_type": "code",
   "execution_count": 22,
   "metadata": {
    "executionInfo": {
     "elapsed": 22,
     "status": "ok",
     "timestamp": 1652101588019,
     "user": {
      "displayName": "Jamie Knight",
      "userId": "17931559686369144807"
     },
     "user_tz": -120
    },
    "id": "s4lAfhkdkuHY"
   },
   "outputs": [],
   "source": [
    "kc_mbon.pull_var_from_device(\"g\")\n",
    "kc_mbon_g_view = kc_mbon.vars[\"g\"].view"
   ]
  },
  {
   "cell_type": "markdown",
   "metadata": {
    "id": "FINPVXN5mr5C"
   },
   "source": [
    "now we plot a histogram of the weight distribution - as is typical when using STDP rules whose learning rate is independent of the current magnitude of the weight it is bimodal"
   ]
  },
  {
   "cell_type": "code",
   "execution_count": 23,
   "metadata": {
    "colab": {
     "base_uri": "https://localhost:8080/",
     "height": 0
    },
    "executionInfo": {
     "elapsed": 10,
     "status": "ok",
     "timestamp": 1652101588020,
     "user": {
      "displayName": "Jamie Knight",
      "userId": "17931559686369144807"
     },
     "user_tz": -120
    },
    "id": "OHD_SzOsmF1Z",
    "outputId": "3f6893e1-5e28-4c59-b5ba-64e89bf993d5"
   },
   "outputs": [
    {
     "data": {
      "image/png": "[encoded data removed]",
      "text/plain": [
       "<Figure size 720x360 with 1 Axes>"
      ]
     },
     "metadata": {
      "needs_background": "light"
     },
     "output_type": "display_data"
    }
   ],
   "source": [
    "fig, axis = plt.subplots(figsize=(10, 5))\n",
    "axis.hist(kc_mbon_g_view, bins=100)\n",
    "axis.axvline(np.average(kc_mbon_g_view), linestyle=\"--\")\n",
    "axis.set_xlabel(\"Weight [nA]\")\n",
    "axis.set_ylabel(\"Count\");"
   ]
  },
  {
   "cell_type": "markdown",
   "metadata": {
    "id": "bi2A8qZWAASt"
   },
   "source": [
    "So we can reproduce exactly the same PN->KC connectivity again and reuse the weights we've learnt we want to save them back to YOUR google drive. First mount the drive"
   ]
  },
  {
   "cell_type": "code",
   "execution_count": null,
   "metadata": {
    "executionInfo": {
     "elapsed": 43,
     "status": "aborted",
     "timestamp": 1652100890357,
     "user": {
      "displayName": "Jamie Knight",
      "userId": "17931559686369144807"
     },
     "user_tz": -120
    },
    "id": "DMyS30_Rm-oe"
   },
   "outputs": [],
   "source": [
    "from google.colab import drive\n",
    "drive.mount(\"/content/drive\")"
   ]
  },
  {
   "cell_type": "markdown",
   "metadata": {
    "id": "JTZrJsB4AQH5"
   },
   "source": [
    "Save the learnt weights"
   ]
  },
  {
   "cell_type": "code",
   "execution_count": null,
   "metadata": {
    "executionInfo": {
     "elapsed": 42,
     "status": "aborted",
     "timestamp": 1652100890357,
     "user": {
      "displayName": "Jamie Knight",
      "userId": "17931559686369144807"
     },
     "user_tz": -120
    },
    "id": "kFQtm-CVmT20"
   },
   "outputs": [],
   "source": [
    "np.save(\"/content/drive/MyDrive/kc_mbon_g.npy\", kc_mbon_g_view)"
   ]
  },
  {
   "cell_type": "markdown",
   "metadata": {
    "id": "iqF9kWhEATFL"
   },
   "source": [
    "Download the PN->KC connectivity from the GPU and save the sparse connectivity."
   ]
  },
  {
   "cell_type": "code",
   "execution_count": null,
   "metadata": {
    "executionInfo": {
     "elapsed": 41,
     "status": "aborted",
     "timestamp": 1652100890358,
     "user": {
      "displayName": "Jamie Knight",
      "userId": "17931559686369144807"
     },
     "user_tz": -120
    },
    "id": "6xNyJgiGmR9Y"
   },
   "outputs": [],
   "source": [
    "pn_kc.pull_connectivity_from_device()\n",
    "np.save(\"/content/drive/MyDrive/pn_kc_ind.npy\", np.vstack((pn_kc.get_sparse_pre_inds(), pn_kc.get_sparse_post_inds())))"
   ]
  }
 ],
 "metadata": {
  "accelerator": "GPU",
  "colab": {
   "collapsed_sections": [],
   "name": "4_third_layer",
   "provenance": [
    {
     "file_id": "1ZlhL8kaiyFUqDDd96C_l6S81zv6qHJTm",
     "timestamp": 1650903908726
    },
    {
     "file_id": "1Tbho4uz51HOBVLUVKJY57NOCnupRovV6",
     "timestamp": 1650902813916
    },
    {
     "file_id": "1twJe42jWL8vtgfftQDMTg9ve37b4oUO4",
     "timestamp": 1650897280507
    }
   ]
  },
  "kernelspec": {
   "display_name": "Python 3",
   "language": "python",
   "name": "python3"
  },
  "language_info": {
   "codemirror_mode": {
    "name": "ipython",
    "version": 3
   },
   "file_extension": ".py",
   "mimetype": "text/x-python",
   "name": "python",
   "nbconvert_exporter": "python",
   "pygments_lexer": "ipython3",
   "version": "3.7.7"
  }
 },
 "nbformat": 4,
 "nbformat_minor": 1
}
