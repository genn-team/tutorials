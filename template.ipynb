{
 "cells": [
  {
   "cell_type": "markdown",
   "metadata": {
    "id": "lGa0_oLb61zz"
   },
   "source": [
    "# Template\n",
    "If you want to build your own models using GeNN to run on collab, just copy this template and go - it installs the latest version of PyGeNN and sets up the environment so it will use a cloud GPU!\n",
    "\n",
    "## Install PyGeNN wheel from Google Drive\n",
    "Download wheel file"
   ]
  },
  {
   "cell_type": "code",
   "execution_count": null,
   "metadata": {
    "colab": {
     "base_uri": "https://localhost:8080/"
    },
    "executionInfo": {
     "elapsed": 16976,
     "status": "ok",
     "timestamp": 1651246290353,
     "user": {
      "displayName": "Jamie Knight",
      "userId": "17931559686369144807"
     },
     "user_tz": -60
    },
    "id": "t2ihZLXh5VD-",
    "outputId": "169a35a8-2ba4-4811-db2a-339d4a51240a"
   },
   "outputs": [
    {
     "name": "stdout",
     "output_type": "stream",
     "text": [
      "Downloading...\n",
      "From: https://drive.google.com/uc?id=1_FGztpOraIhcPCIVQsi1ksKcA1jIwO9K\n",
      "To: /content/pygenn-4.7.1-cp37-cp37m-linux_x86_64.whl\n",
      "\r",
      "  0% 0.00/13.8M [00:00<?, ?B/s]\r",
      "100% 13.8M/13.8M [00:00<00:00, 180MB/s]\n"
     ]
    }
   ],
   "source": [
    "!gdown 1_FGztpOraIhcPCIVQsi1ksKcA1jIwO9K\n"
   ]
  },
  {
   "cell_type": "markdown",
   "metadata": {
    "id": "4oxLk_xy67Pd"
   },
   "source": [
    "and then install PyGeNN from wheel file"
   ]
  },
  {
   "cell_type": "code",
   "execution_count": null,
   "metadata": {
    "colab": {
     "base_uri": "https://localhost:8080/"
    },
    "executionInfo": {
     "elapsed": 4654,
     "status": "ok",
     "timestamp": 1651246295004,
     "user": {
      "displayName": "Jamie Knight",
      "userId": "17931559686369144807"
     },
     "user_tz": -60
    },
    "id": "v7Hg9SPK5bZO",
    "outputId": "fdc9bb9c-3c79-44d1-b4a3-ca25ff198d2b"
   },
   "outputs": [
    {
     "name": "stdout",
     "output_type": "stream",
     "text": [
      "Processing ./pygenn-4.7.1-cp37-cp37m-linux_x86_64.whl\n",
      "Requirement already satisfied: six in /usr/local/lib/python3.7/dist-packages (from pygenn==4.7.1) (1.15.0)\n",
      "Requirement already satisfied: importlib-metadata>=1.0 in /usr/local/lib/python3.7/dist-packages (from pygenn==4.7.1) (4.11.3)\n",
      "Collecting deprecated\n",
      "  Downloading Deprecated-1.2.13-py2.py3-none-any.whl (9.6 kB)\n",
      "Requirement already satisfied: numpy>=1.17 in /usr/local/lib/python3.7/dist-packages (from pygenn==4.7.1) (1.21.6)\n",
      "Requirement already satisfied: psutil in /usr/local/lib/python3.7/dist-packages (from pygenn==4.7.1) (5.4.8)\n",
      "Requirement already satisfied: zipp>=0.5 in /usr/local/lib/python3.7/dist-packages (from importlib-metadata>=1.0->pygenn==4.7.1) (3.8.0)\n",
      "Requirement already satisfied: typing-extensions>=3.6.4 in /usr/local/lib/python3.7/dist-packages (from importlib-metadata>=1.0->pygenn==4.7.1) (4.2.0)\n",
      "Requirement already satisfied: wrapt<2,>=1.10 in /usr/local/lib/python3.7/dist-packages (from deprecated->pygenn==4.7.1) (1.14.0)\n",
      "Installing collected packages: deprecated, pygenn\n",
      "Successfully installed deprecated-1.2.13 pygenn-4.7.1\n"
     ]
    }
   ],
   "source": [
    "!pip install pygenn-4.7.1-cp37-cp37m-linux_x86_64.whl"
   ]
  },
  {
   "cell_type": "markdown",
   "metadata": {
    "id": "cAm5bzGvAb17"
   },
   "source": [
    "Set environment variable to allow GeNN to find CUDA"
   ]
  },
  {
   "cell_type": "code",
   "execution_count": null,
   "metadata": {
    "colab": {
     "base_uri": "https://localhost:8080/"
    },
    "executionInfo": {
     "elapsed": 6,
     "status": "ok",
     "timestamp": 1651246295004,
     "user": {
      "displayName": "Jamie Knight",
      "userId": "17931559686369144807"
     },
     "user_tz": -60
    },
    "id": "cIzSgI5Q8Wvq",
    "outputId": "ee8f82f4-3c98-4c45-c569-03f627c8e6ab"
   },
   "outputs": [
    {
     "name": "stdout",
     "output_type": "stream",
     "text": [
      "env: CUDA_PATH=/usr/local/cuda\n"
     ]
    }
   ],
   "source": [
    "%env CUDA_PATH=/usr/local/cuda"
   ]
  }
 ],
 "metadata": {
  "accelerator": "GPU",
  "colab": {
   "collapsed_sections": [],
   "name": "template",
   "provenance": [
    {
     "file_id": "1VJR5YxRZA2hX_lv2gPkoknnj0aMsZVRs",
     "timestamp": 1651573748654
    }
   ]
  },
  "kernelspec": {
   "display_name": "Python 3",
   "language": "python",
   "name": "python3"
  },
  "language_info": {
   "codemirror_mode": {
    "name": "ipython",
    "version": 3
   },
   "file_extension": ".py",
   "mimetype": "text/x-python",
   "name": "python",
   "nbconvert_exporter": "python",
   "pygments_lexer": "ipython3",
   "version": "3.7.7"
  }
 },
 "nbformat": 4,
 "nbformat_minor": 1
}
