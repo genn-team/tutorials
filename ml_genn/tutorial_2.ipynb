{
  "cells": [
    {
      "cell_type": "markdown",
      "metadata": {
        "id": "lGa0_oLb61zz"
      },
      "source": [
        "# Tutorial 2\n",
        "In this tutorial, we are going to directly train a simple SNN with a single hidden layer using e-prop on the MNIST dataset, converted to a latency spike code.\n",
        "\n",
        "Clearly, this is far from a state of the art architecture, but it still achieves 97.6% accuracy on MNIST.\n",
        "## Install PyGeNN wheel from Google Drive\n",
        "Download wheel file"
      ]
    },
    {
      "cell_type": "code",
      "execution_count": 1,
      "metadata": {
        "colab": {
          "base_uri": "https://localhost:8080/"
        },
        "id": "t2ihZLXh5VD-",
        "outputId": "d17fa74d-effa-4177-bf6d-04188fa08554"
      },
      "outputs": [
        {
          "output_type": "stream",
          "name": "stdout",
          "text": [
            "Downloading...\n",
            "From: https://drive.google.com/uc?id=1fllqUtL_1_tyGzjNHSR-9i5fXFI9jqAi\n",
            "To: /content/pygenn-4.8.1-cp310-cp310-linux_x86_64.whl\n",
            "100% 22.3M/22.3M [00:00<00:00, 82.6MB/s]\n"
          ]
        }
      ],
      "source": [
        "!gdown 1fllqUtL_1_tyGzjNHSR-9i5fXFI9jqAi "
      ]
    },
    {
      "cell_type": "markdown",
      "metadata": {
        "id": "4oxLk_xy67Pd"
      },
      "source": [
        "and then install PyGeNN from wheel file"
      ]
    },
    {
      "cell_type": "code",
      "execution_count": 2,
      "metadata": {
        "colab": {
          "base_uri": "https://localhost:8080/"
        },
        "id": "v7Hg9SPK5bZO",
        "outputId": "d4ae3498-45cf-407e-c7a4-0702499d2943"
      },
      "outputs": [
        {
          "output_type": "stream",
          "name": "stdout",
          "text": [
            "Looking in indexes: https://pypi.org/simple, https://us-python.pkg.dev/colab-wheels/public/simple/\n",
            "Processing ./pygenn-4.8.1-cp310-cp310-linux_x86_64.whl\n",
            "Collecting deprecated\n",
            "  Downloading Deprecated-1.2.13-py2.py3-none-any.whl (9.6 kB)\n",
            "Requirement already satisfied: six in /usr/local/lib/python3.10/dist-packages (from pygenn==4.8.1) (1.16.0)\n",
            "Requirement already satisfied: numpy>=1.17 in /usr/local/lib/python3.10/dist-packages (from pygenn==4.8.1) (1.22.4)\n",
            "Requirement already satisfied: psutil in /usr/local/lib/python3.10/dist-packages (from pygenn==4.8.1) (5.9.5)\n",
            "Requirement already satisfied: wrapt<2,>=1.10 in /usr/local/lib/python3.10/dist-packages (from deprecated->pygenn==4.8.1) (1.14.1)\n",
            "Installing collected packages: deprecated, pygenn\n",
            "Successfully installed deprecated-1.2.13 pygenn-4.8.1\n"
          ]
        }
      ],
      "source": [
        "!pip install pygenn-4.8.1-cp310-cp310-linux_x86_64.whl"
      ]
    },
    {
      "cell_type": "markdown",
      "source": [
        "and checkout mlGeNN from git and install"
      ],
      "metadata": {
        "id": "tyvGBCg5rIuM"
      }
    },
    {
      "cell_type": "code",
      "source": [
        "!git clone --branch master https://github.com/genn-team/ml_genn.git\n",
        "!pip install ml_genn/ml_genn"
      ],
      "metadata": {
        "id": "tEpYAq5kq3SF",
        "outputId": "80fb249c-a474-44fc-f8b5-75ea14fc0cf6",
        "colab": {
          "base_uri": "https://localhost:8080/"
        }
      },
      "execution_count": 7,
      "outputs": [
        {
          "output_type": "stream",
          "name": "stdout",
          "text": [
            "Cloning into 'ml_genn'...\n",
            "remote: Enumerating objects: 6759, done.\u001b[K\n",
            "remote: Counting objects:   0% (1/2566)\u001b[K\rremote: Counting objects:   1% (26/2566)\u001b[K\rremote: Counting objects:   2% (52/2566)\u001b[K\rremote: Counting objects:   3% (77/2566)\u001b[K\rremote: Counting objects:   4% (103/2566)\u001b[K\rremote: Counting objects:   5% (129/2566)\u001b[K\rremote: Counting objects:   6% (154/2566)\u001b[K\rremote: Counting objects:   7% (180/2566)\u001b[K\rremote: Counting objects:   8% (206/2566)\u001b[K\rremote: Counting objects:   9% (231/2566)\u001b[K\rremote: Counting objects:  10% (257/2566)\u001b[K\rremote: Counting objects:  11% (283/2566)\u001b[K\rremote: Counting objects:  12% (308/2566)\u001b[K\rremote: Counting objects:  13% (334/2566)\u001b[K\rremote: Counting objects:  14% (360/2566)\u001b[K\rremote: Counting objects:  15% (385/2566)\u001b[K\rremote: Counting objects:  16% (411/2566)\u001b[K\rremote: Counting objects:  17% (437/2566)\u001b[K\rremote: Counting objects:  18% (462/2566)\u001b[K\rremote: Counting objects:  19% (488/2566)\u001b[K\rremote: Counting objects:  20% (514/2566)\u001b[K\rremote: Counting objects:  21% (539/2566)\u001b[K\rremote: Counting objects:  22% (565/2566)\u001b[K\rremote: Counting objects:  23% (591/2566)\u001b[K\rremote: Counting objects:  24% (616/2566)\u001b[K\rremote: Counting objects:  25% (642/2566)\u001b[K\rremote: Counting objects:  26% (668/2566)\u001b[K\rremote: Counting objects:  27% (693/2566)\u001b[K\rremote: Counting objects:  28% (719/2566)\u001b[K\rremote: Counting objects:  29% (745/2566)\u001b[K\rremote: Counting objects:  30% (770/2566)\u001b[K\rremote: Counting objects:  31% (796/2566)\u001b[K\rremote: Counting objects:  32% (822/2566)\u001b[K\rremote: Counting objects:  33% (847/2566)\u001b[K\rremote: Counting objects:  34% (873/2566)\u001b[K\rremote: Counting objects:  35% (899/2566)\u001b[K\rremote: Counting objects:  36% (924/2566)\u001b[K\rremote: Counting objects:  37% (950/2566)\u001b[K\rremote: Counting objects:  38% (976/2566)\u001b[K\rremote: Counting objects:  39% (1001/2566)\u001b[K\rremote: Counting objects:  40% (1027/2566)\u001b[K\rremote: Counting objects:  41% (1053/2566)\u001b[K\rremote: Counting objects:  42% (1078/2566)\u001b[K\rremote: Counting objects:  43% (1104/2566)\u001b[K\rremote: Counting objects:  44% (1130/2566)\u001b[K\rremote: Counting objects:  45% (1155/2566)\u001b[K\rremote: Counting objects:  46% (1181/2566)\u001b[K\rremote: Counting objects:  47% (1207/2566)\u001b[K\rremote: Counting objects:  48% (1232/2566)\u001b[K\rremote: Counting objects:  49% (1258/2566)\u001b[K\rremote: Counting objects:  50% (1283/2566)\u001b[K\rremote: Counting objects:  51% (1309/2566)\u001b[K\rremote: Counting objects:  52% (1335/2566)\u001b[K\rremote: Counting objects:  53% (1360/2566)\u001b[K\rremote: Counting objects:  54% (1386/2566)\u001b[K\rremote: Counting objects:  55% (1412/2566)\u001b[K\rremote: Counting objects:  56% (1437/2566)\u001b[K\rremote: Counting objects:  57% (1463/2566)\u001b[K\rremote: Counting objects:  58% (1489/2566)\u001b[K\rremote: Counting objects:  59% (1514/2566)\u001b[K\rremote: Counting objects:  60% (1540/2566)\u001b[K\rremote: Counting objects:  61% (1566/2566)\u001b[K\rremote: Counting objects:  62% (1591/2566)\u001b[K\rremote: Counting objects:  63% (1617/2566)\u001b[K\rremote: Counting objects:  64% (1643/2566)\u001b[K\rremote: Counting objects:  65% (1668/2566)\u001b[K\rremote: Counting objects:  66% (1694/2566)\u001b[K\rremote: Counting objects:  67% (1720/2566)\u001b[K\rremote: Counting objects:  68% (1745/2566)\u001b[K\rremote: Counting objects:  69% (1771/2566)\u001b[K\rremote: Counting objects:  70% (1797/2566)\u001b[K\rremote: Counting objects:  71% (1822/2566)\u001b[K\rremote: Counting objects:  72% (1848/2566)\u001b[K\rremote: Counting objects:  73% (1874/2566)\u001b[K\rremote: Counting objects:  74% (1899/2566)\u001b[K\rremote: Counting objects:  75% (1925/2566)\u001b[K\rremote: Counting objects:  76% (1951/2566)\u001b[K\rremote: Counting objects:  77% (1976/2566)\u001b[K\rremote: Counting objects:  78% (2002/2566)\u001b[K\rremote: Counting objects:  79% (2028/2566)\u001b[K\rremote: Counting objects:  80% (2053/2566)\u001b[K\rremote: Counting objects:  81% (2079/2566)\u001b[K\rremote: Counting objects:  82% (2105/2566)\u001b[K\rremote: Counting objects:  83% (2130/2566)\u001b[K\rremote: Counting objects:  84% (2156/2566)\u001b[K\rremote: Counting objects:  85% (2182/2566)\u001b[K\rremote: Counting objects:  86% (2207/2566)\u001b[K\rremote: Counting objects:  87% (2233/2566)\u001b[K\rremote: Counting objects:  88% (2259/2566)\u001b[K\rremote: Counting objects:  89% (2284/2566)\u001b[K\rremote: Counting objects:  90% (2310/2566)\u001b[K\rremote: Counting objects:  91% (2336/2566)\u001b[K\rremote: Counting objects:  92% (2361/2566)\u001b[K\rremote: Counting objects:  93% (2387/2566)\u001b[K\rremote: Counting objects:  94% (2413/2566)\u001b[K\rremote: Counting objects:  95% (2438/2566)\u001b[K\rremote: Counting objects:  96% (2464/2566)\u001b[K\rremote: Counting objects:  97% (2490/2566)\u001b[K\rremote: Counting objects:  98% (2515/2566)\u001b[K\rremote: Counting objects:  99% (2541/2566)\u001b[K\rremote: Counting objects: 100% (2566/2566)\u001b[K\rremote: Counting objects: 100% (2566/2566), done.\u001b[K\n",
            "remote: Compressing objects: 100% (967/967), done.\u001b[K\n",
            "remote: Total 6759 (delta 1592), reused 2471 (delta 1572), pack-reused 4193\u001b[K\n",
            "Receiving objects: 100% (6759/6759), 37.13 MiB | 24.03 MiB/s, done.\n",
            "Resolving deltas: 100% (4447/4447), done.\n",
            "Looking in indexes: https://pypi.org/simple, https://us-python.pkg.dev/colab-wheels/public/simple/\n",
            "Processing ./ml_genn/ml_genn\n",
            "  Preparing metadata (setup.py) ... \u001b[?25l\u001b[?25hdone\n",
            "Requirement already satisfied: pygenn>=4.8.1 in /usr/local/lib/python3.10/dist-packages (from ml-genn==2.0.0) (4.8.1)\n",
            "Requirement already satisfied: enum-compat in /usr/local/lib/python3.10/dist-packages (from ml-genn==2.0.0) (0.0.3)\n",
            "Requirement already satisfied: tqdm>=4.27.0 in /usr/local/lib/python3.10/dist-packages (from ml-genn==2.0.0) (4.65.0)\n",
            "Requirement already satisfied: deprecated in /usr/local/lib/python3.10/dist-packages (from ml-genn==2.0.0) (1.2.13)\n",
            "Requirement already satisfied: numpy>=1.17 in /usr/local/lib/python3.10/dist-packages (from pygenn>=4.8.1->ml-genn==2.0.0) (1.22.4)\n",
            "Requirement already satisfied: six in /usr/local/lib/python3.10/dist-packages (from pygenn>=4.8.1->ml-genn==2.0.0) (1.16.0)\n",
            "Requirement already satisfied: psutil in /usr/local/lib/python3.10/dist-packages (from pygenn>=4.8.1->ml-genn==2.0.0) (5.9.5)\n",
            "Requirement already satisfied: wrapt<2,>=1.10 in /usr/local/lib/python3.10/dist-packages (from deprecated->ml-genn==2.0.0) (1.14.1)\n",
            "Building wheels for collected packages: ml-genn\n",
            "  Building wheel for ml-genn (setup.py) ... \u001b[?25l\u001b[?25hdone\n",
            "  Created wheel for ml-genn: filename=ml_genn-2.0.0-py3-none-any.whl size=98340 sha256=99434db831dc27436aefa6761d706a57a8fe2e6117d99d578ca18a3f2200c452\n",
            "  Stored in directory: /tmp/pip-ephem-wheel-cache-1lp9i7s4/wheels/3f/cf/27/0e9dec4bb1be2afac4b38c2dfb4ce0bc164ce1ecb32b6f91b8\n",
            "Successfully built ml-genn\n",
            "Installing collected packages: ml-genn\n",
            "  Attempting uninstall: ml-genn\n",
            "    Found existing installation: ml-genn 2.0.0\n",
            "    Uninstalling ml-genn-2.0.0:\n",
            "      Successfully uninstalled ml-genn-2.0.0\n",
            "Successfully installed ml-genn-2.0.0\n"
          ]
        }
      ]
    },
    {
      "cell_type": "markdown",
      "metadata": {
        "id": "cAm5bzGvAb17"
      },
      "source": [
        "Set environment variable to allow GeNN to find CUDA"
      ]
    },
    {
      "cell_type": "code",
      "execution_count": 1,
      "metadata": {
        "colab": {
          "base_uri": "https://localhost:8080/"
        },
        "id": "cIzSgI5Q8Wvq",
        "outputId": "2554e98f-decb-4e48-e881-730ae7b73718"
      },
      "outputs": [
        {
          "output_type": "stream",
          "name": "stdout",
          "text": [
            "env: CUDA_PATH=/usr/local/cuda\n"
          ]
        }
      ],
      "source": [
        "%env CUDA_PATH=/usr/local/cuda"
      ]
    },
    {
      "cell_type": "markdown",
      "source": [
        "## Install MNIST package"
      ],
      "metadata": {
        "id": "KVRtXVzIg07T"
      }
    },
    {
      "cell_type": "code",
      "source": [
        "!pip install mnist"
      ],
      "metadata": {
        "colab": {
          "base_uri": "https://localhost:8080/"
        },
        "id": "AikBc4sfg1b-",
        "outputId": "eb20117f-2bb6-4948-e287-14b286e2452a"
      },
      "execution_count": 2,
      "outputs": [
        {
          "output_type": "stream",
          "name": "stdout",
          "text": [
            "Looking in indexes: https://pypi.org/simple, https://us-python.pkg.dev/colab-wheels/public/simple/\n",
            "Requirement already satisfied: mnist in /usr/local/lib/python3.10/dist-packages (0.2.2)\n",
            "Requirement already satisfied: numpy in /usr/local/lib/python3.10/dist-packages (from mnist) (1.22.4)\n"
          ]
        }
      ]
    },
    {
      "cell_type": "markdown",
      "metadata": {
        "id": "BwadUz9Azxss"
      },
      "source": [
        "## Build model\n",
        "Import standard modules and required mlGeNN classes"
      ]
    },
    {
      "cell_type": "code",
      "execution_count": 3,
      "metadata": {
        "id": "agqWFZjickfU"
      },
      "outputs": [],
      "source": [
        "import mnist\n",
        "import numpy as np\n",
        "import matplotlib.pyplot as plt\n",
        "\n",
        "from ml_genn import InputLayer, Layer, SequentialNetwork\n",
        "from ml_genn.callbacks import Checkpoint\n",
        "from ml_genn.compilers import EPropCompiler, InferenceCompiler\n",
        "from ml_genn.connectivity import Dense,FixedProbability\n",
        "from ml_genn.initializers import Normal\n",
        "from ml_genn.neurons import LeakyIntegrate, LeakyIntegrateFire, SpikeInput\n",
        "from ml_genn.serialisers import Numpy\n",
        "\n",
        "from ml_genn.utils.data import (calc_latest_spike_time, log_latency_encode_data)\n",
        "\n",
        "from ml_genn.compilers.eprop_compiler import default_params"
      ]
    },
    {
      "cell_type": "markdown",
      "source": [
        "\n",
        "##Parameters\n",
        "\n",
        "Define some model parameters\n"
      ],
      "metadata": {
        "id": "X2hcCpdlzaZA"
      }
    },
    {
      "cell_type": "code",
      "source": [
        "NUM_INPUT = 28 * 28\n",
        "NUM_HIDDEN = 128\n",
        "NUM_OUTPUT = 10\n",
        "BATCH_SIZE = 128"
      ],
      "metadata": {
        "id": "x87G22iUzcEU"
      },
      "execution_count": 4,
      "outputs": []
    },
    {
      "cell_type": "markdown",
      "source": [
        "## Latency encoding\n",
        "There are numerous ways to encode images using spikes but here we are going to emit a single spike for each spike at a time calculated as follows from intensity $x$:\n",
        "\\begin{align}\n",
        "    T(x) = \\begin{cases}\n",
        "        \\tau_\\text{eff} \\log\\left(\\frac{x}{x-\\theta}  \\right) & x > \\theta\\\\\n",
        "        \\infty & otherwise\\\\\n",
        "    \\end{cases}\n",
        "\\end{align}\n",
        "where $\\tau_\\text{eff}=20\\text{ms}$ and $\\theta=51$."
      ],
      "metadata": {
        "id": "op6AInYzviqh"
      }
    },
    {
      "cell_type": "code",
      "source": [
        "train_spikes = log_latency_encode_data(mnist.train_images(), 20.0, 51)"
      ],
      "metadata": {
        "id": "2m9780SfvWec"
      },
      "execution_count": 5,
      "outputs": []
    },
    {
      "cell_type": "markdown",
      "metadata": {
        "id": "iuwdL6IE2MuS"
      },
      "source": [
        "## Network definition\n",
        "Because our network is entirely feedforward, we can define it as a ``SequentialNetwork`` where each layer is automatically connected to the previous layer. As we have converted the MNIST dataset to spikes, we will use a ``SpikeInput`` to inject these directly into the network. For our hidden layer we are going use standard Leaky integrate-and-fire neurons as this task does not require more computationally expensive adaptive LIF neurons. Finally, we are going to use a non-spiking output layer and read classifications out of this by summing it's membrane voltage.\n",
        "\n"
      ]
    },
    {
      "cell_type": "code",
      "execution_count": 6,
      "metadata": {
        "id": "C68EDXn6cj-O"
      },
      "outputs": [],
      "source": [
        "# Create sequential model\n",
        "serialiser = Numpy(\"latency_mnist_checkpoints\")\n",
        "network = SequentialNetwork(default_params)\n",
        "with network:\n",
        "    # Populations\n",
        "    input = InputLayer(SpikeInput(max_spikes=BATCH_SIZE * NUM_INPUT),\n",
        "                                  NUM_INPUT)\n",
        "    hidden = Layer(Dense(Normal(sd=1.0 / np.sqrt(NUM_INPUT))), \n",
        "                   LeakyIntegrateFire(v_thresh=0.61, tau_mem=20.0,\n",
        "                                      tau_refrac=5.0),\n",
        "                   NUM_HIDDEN)\n",
        "    output = Layer(Dense(Normal(sd=1.0 / np.sqrt(NUM_HIDDEN))),\n",
        "                   LeakyIntegrate(tau_mem=20.0, readout=\"sum_var\"),\n",
        "                   NUM_OUTPUT)"
      ]
    },
    {
      "cell_type": "markdown",
      "metadata": {
        "id": "9PCMgNPCz86O"
      },
      "source": [
        "## Compilation\n",
        "In mlGeNN, in order to turn an abstract network description into something that can actually be used for training or inference you use a *compiler* class. Here, we use the ``EPropCompiler`` to train with e-prop and specify batch size and how many timesteps to evaluate each example for as well as choosing our optimiser and loss function. Because this is a classification task, we want to use cross-entropy loss and, because our labels are specified in this way (rather than e.g. one-hot encoded), we use the sparse catgorical variant."
      ]
    },
    {
      "cell_type": "code",
      "execution_count": 7,
      "metadata": {
        "id": "-7lzXzmQcgbt"
      },
      "outputs": [],
      "source": [
        "max_example_timesteps = int(np.ceil(calc_latest_spike_time(train_spikes)))\n",
        "compiler = EPropCompiler(example_timesteps=max_example_timesteps,\n",
        "                         losses=\"sparse_categorical_crossentropy\",\n",
        "                         optimiser=\"adam\", batch_size=BATCH_SIZE)\n",
        "compiled_net = compiler.compile(network)"
      ]
    },
    {
      "cell_type": "markdown",
      "metadata": {
        "id": "ATwobw4Mw2LG"
      },
      "source": [
        "## Training\n",
        "Now we will train the model for 10 epochs using our compiled network. To verify it's performance we take 10% of the training data as a validation split and add an additional callback to checkpoint weights every epoch.\n",
        "\n"
      ]
    },
    {
      "cell_type": "code",
      "execution_count": null,
      "metadata": {
        "id": "EEQyoL-zcu-A",
        "outputId": "836fbbaa-3cc0-4575-eccd-265bc150d3d3",
        "colab": {
          "base_uri": "https://localhost:8080/",
          "height": 81,
          "referenced_widgets": [
            "515447fa556c4004bbd58b4a26c49c78",
            "083c33f2b803408d929159013d5232b8",
            "2b1545af63754e7fab12ed28a6d55e07",
            "481109eb84834b3aa333afc1f7b380f1",
            "82772d785d8b4b3eb1a17f629281d4bc",
            "676c8605428449aab048e753a74363fd",
            "99cef5438c444d8890c2063359c280c4",
            "de48224d64fe4605b7fbbce247cc9ebc",
            "81660d844f1949c38dc8144bb4c9e1c5",
            "3d6f473cef634e00b923ee4d3414c6ea",
            "fe5ae8abd9454cf49024d3e2a02c7d6e",
            "2cd7ae3bf1f0419abc95b2550c4a9090",
            "f695b03e10c14bcf829af9d5c4c83ec3",
            "235ac505656c41ebaf648f96f5bd5094",
            "b212e8bf91f04cb88e8317dcd43d1f8b",
            "a97840cc4f0146e19ee4438a24a4d1a6",
            "5e352d08ab8f4366b7246e9fe6e3dfec",
            "4c690a43a5d64ba9b5a6aefbf0d0d789",
            "88043d0b85e54c3eafb645a992bb12a0",
            "3c9998909651421c9896f6731510c2a6",
            "a03a5001403e40838d1adbf6044cd3a2",
            "336631b019294430973eb30c6fc6f19b"
          ]
        }
      },
      "outputs": [
        {
          "output_type": "display_data",
          "data": {
            "text/plain": [
              "  0%|          | 0/422 [00:00<?, ?it/s]"
            ],
            "application/vnd.jupyter.widget-view+json": {
              "version_major": 2,
              "version_minor": 0,
              "model_id": "515447fa556c4004bbd58b4a26c49c78"
            }
          },
          "metadata": {}
        },
        {
          "output_type": "display_data",
          "data": {
            "text/plain": [
              "  0%|          | 0/47 [00:00<?, ?it/s]"
            ],
            "application/vnd.jupyter.widget-view+json": {
              "version_major": 2,
              "version_minor": 0,
              "model_id": "2cd7ae3bf1f0419abc95b2550c4a9090"
            }
          },
          "metadata": {}
        }
      ],
      "source": [
        "with compiled_net:\n",
        "    # Evaluate model on numpy dataset\n",
        "    callbacks = [\"batch_progress_bar\", Checkpoint(serialiser)]\n",
        "    compiled_net.train({input: train_spikes},\n",
        "                       {output: mnist.train_labels()},\n",
        "                       num_epochs=10, shuffle=True,\n",
        "                       validation_split=0.1,\n",
        "                       callbacks=callbacks)"
      ]
    }
  ],
  "metadata": {
    "accelerator": "GPU",
    "colab": {
      "name": "tutorial_1",
      "provenance": []
    },
    "kernelspec": {
      "display_name": "Python 3",
      "language": "python",
      "name": "python3"
    },
    "language_info": {
      "codemirror_mode": {
        "name": "ipython",
        "version": 3
      },
      "file_extension": ".py",
      "mimetype": "text/x-python",
      "name": "python",
      "nbconvert_exporter": "python",
      "pygments_lexer": "ipython3",
      "version": "3.7.7"
    },
    "widgets": {
      "application/vnd.jupyter.widget-state+json": {
        "515447fa556c4004bbd58b4a26c49c78": {
          "model_module": "@jupyter-widgets/controls",
          "model_name": "HBoxModel",
          "model_module_version": "1.5.0",
          "state": {
            "_dom_classes": [],
            "_model_module": "@jupyter-widgets/controls",
            "_model_module_version": "1.5.0",
            "_model_name": "HBoxModel",
            "_view_count": null,
            "_view_module": "@jupyter-widgets/controls",
            "_view_module_version": "1.5.0",
            "_view_name": "HBoxView",
            "box_style": "",
            "children": [
              "IPY_MODEL_083c33f2b803408d929159013d5232b8",
              "IPY_MODEL_2b1545af63754e7fab12ed28a6d55e07",
              "IPY_MODEL_481109eb84834b3aa333afc1f7b380f1"
            ],
            "layout": "IPY_MODEL_82772d785d8b4b3eb1a17f629281d4bc"
          }
        },
        "083c33f2b803408d929159013d5232b8": {
          "model_module": "@jupyter-widgets/controls",
          "model_name": "HTMLModel",
          "model_module_version": "1.5.0",
          "state": {
            "_dom_classes": [],
            "_model_module": "@jupyter-widgets/controls",
            "_model_module_version": "1.5.0",
            "_model_name": "HTMLModel",
            "_view_count": null,
            "_view_module": "@jupyter-widgets/controls",
            "_view_module_version": "1.5.0",
            "_view_name": "HTMLView",
            "description": "",
            "description_tooltip": null,
            "layout": "IPY_MODEL_676c8605428449aab048e753a74363fd",
            "placeholder": "​",
            "style": "IPY_MODEL_99cef5438c444d8890c2063359c280c4",
            "value": "Epoch 1:  40%"
          }
        },
        "2b1545af63754e7fab12ed28a6d55e07": {
          "model_module": "@jupyter-widgets/controls",
          "model_name": "FloatProgressModel",
          "model_module_version": "1.5.0",
          "state": {
            "_dom_classes": [],
            "_model_module": "@jupyter-widgets/controls",
            "_model_module_version": "1.5.0",
            "_model_name": "FloatProgressModel",
            "_view_count": null,
            "_view_module": "@jupyter-widgets/controls",
            "_view_module_version": "1.5.0",
            "_view_name": "ProgressView",
            "bar_style": "",
            "description": "",
            "description_tooltip": null,
            "layout": "IPY_MODEL_de48224d64fe4605b7fbbce247cc9ebc",
            "max": 422,
            "min": 0,
            "orientation": "horizontal",
            "style": "IPY_MODEL_81660d844f1949c38dc8144bb4c9e1c5",
            "value": 170
          }
        },
        "481109eb84834b3aa333afc1f7b380f1": {
          "model_module": "@jupyter-widgets/controls",
          "model_name": "HTMLModel",
          "model_module_version": "1.5.0",
          "state": {
            "_dom_classes": [],
            "_model_module": "@jupyter-widgets/controls",
            "_model_module_version": "1.5.0",
            "_model_name": "HTMLModel",
            "_view_count": null,
            "_view_module": "@jupyter-widgets/controls",
            "_view_module_version": "1.5.0",
            "_view_name": "HTMLView",
            "description": "",
            "description_tooltip": null,
            "layout": "IPY_MODEL_3d6f473cef634e00b923ee4d3414c6ea",
            "placeholder": "​",
            "style": "IPY_MODEL_fe5ae8abd9454cf49024d3e2a02c7d6e",
            "value": " 170/422 [00:13&lt;00:19, 13.03it/s, SparseCategoricalAccuracy: 0.9036]"
          }
        },
        "82772d785d8b4b3eb1a17f629281d4bc": {
          "model_module": "@jupyter-widgets/base",
          "model_name": "LayoutModel",
          "model_module_version": "1.2.0",
          "state": {
            "_model_module": "@jupyter-widgets/base",
            "_model_module_version": "1.2.0",
            "_model_name": "LayoutModel",
            "_view_count": null,
            "_view_module": "@jupyter-widgets/base",
            "_view_module_version": "1.2.0",
            "_view_name": "LayoutView",
            "align_content": null,
            "align_items": null,
            "align_self": null,
            "border": null,
            "bottom": null,
            "display": null,
            "flex": null,
            "flex_flow": null,
            "grid_area": null,
            "grid_auto_columns": null,
            "grid_auto_flow": null,
            "grid_auto_rows": null,
            "grid_column": null,
            "grid_gap": null,
            "grid_row": null,
            "grid_template_areas": null,
            "grid_template_columns": null,
            "grid_template_rows": null,
            "height": null,
            "justify_content": null,
            "justify_items": null,
            "left": null,
            "margin": null,
            "max_height": null,
            "max_width": null,
            "min_height": null,
            "min_width": null,
            "object_fit": null,
            "object_position": null,
            "order": null,
            "overflow": null,
            "overflow_x": null,
            "overflow_y": null,
            "padding": null,
            "right": null,
            "top": null,
            "visibility": null,
            "width": null
          }
        },
        "676c8605428449aab048e753a74363fd": {
          "model_module": "@jupyter-widgets/base",
          "model_name": "LayoutModel",
          "model_module_version": "1.2.0",
          "state": {
            "_model_module": "@jupyter-widgets/base",
            "_model_module_version": "1.2.0",
            "_model_name": "LayoutModel",
            "_view_count": null,
            "_view_module": "@jupyter-widgets/base",
            "_view_module_version": "1.2.0",
            "_view_name": "LayoutView",
            "align_content": null,
            "align_items": null,
            "align_self": null,
            "border": null,
            "bottom": null,
            "display": null,
            "flex": null,
            "flex_flow": null,
            "grid_area": null,
            "grid_auto_columns": null,
            "grid_auto_flow": null,
            "grid_auto_rows": null,
            "grid_column": null,
            "grid_gap": null,
            "grid_row": null,
            "grid_template_areas": null,
            "grid_template_columns": null,
            "grid_template_rows": null,
            "height": null,
            "justify_content": null,
            "justify_items": null,
            "left": null,
            "margin": null,
            "max_height": null,
            "max_width": null,
            "min_height": null,
            "min_width": null,
            "object_fit": null,
            "object_position": null,
            "order": null,
            "overflow": null,
            "overflow_x": null,
            "overflow_y": null,
            "padding": null,
            "right": null,
            "top": null,
            "visibility": null,
            "width": null
          }
        },
        "99cef5438c444d8890c2063359c280c4": {
          "model_module": "@jupyter-widgets/controls",
          "model_name": "DescriptionStyleModel",
          "model_module_version": "1.5.0",
          "state": {
            "_model_module": "@jupyter-widgets/controls",
            "_model_module_version": "1.5.0",
            "_model_name": "DescriptionStyleModel",
            "_view_count": null,
            "_view_module": "@jupyter-widgets/base",
            "_view_module_version": "1.2.0",
            "_view_name": "StyleView",
            "description_width": ""
          }
        },
        "de48224d64fe4605b7fbbce247cc9ebc": {
          "model_module": "@jupyter-widgets/base",
          "model_name": "LayoutModel",
          "model_module_version": "1.2.0",
          "state": {
            "_model_module": "@jupyter-widgets/base",
            "_model_module_version": "1.2.0",
            "_model_name": "LayoutModel",
            "_view_count": null,
            "_view_module": "@jupyter-widgets/base",
            "_view_module_version": "1.2.0",
            "_view_name": "LayoutView",
            "align_content": null,
            "align_items": null,
            "align_self": null,
            "border": null,
            "bottom": null,
            "display": null,
            "flex": null,
            "flex_flow": null,
            "grid_area": null,
            "grid_auto_columns": null,
            "grid_auto_flow": null,
            "grid_auto_rows": null,
            "grid_column": null,
            "grid_gap": null,
            "grid_row": null,
            "grid_template_areas": null,
            "grid_template_columns": null,
            "grid_template_rows": null,
            "height": null,
            "justify_content": null,
            "justify_items": null,
            "left": null,
            "margin": null,
            "max_height": null,
            "max_width": null,
            "min_height": null,
            "min_width": null,
            "object_fit": null,
            "object_position": null,
            "order": null,
            "overflow": null,
            "overflow_x": null,
            "overflow_y": null,
            "padding": null,
            "right": null,
            "top": null,
            "visibility": null,
            "width": null
          }
        },
        "81660d844f1949c38dc8144bb4c9e1c5": {
          "model_module": "@jupyter-widgets/controls",
          "model_name": "ProgressStyleModel",
          "model_module_version": "1.5.0",
          "state": {
            "_model_module": "@jupyter-widgets/controls",
            "_model_module_version": "1.5.0",
            "_model_name": "ProgressStyleModel",
            "_view_count": null,
            "_view_module": "@jupyter-widgets/base",
            "_view_module_version": "1.2.0",
            "_view_name": "StyleView",
            "bar_color": null,
            "description_width": ""
          }
        },
        "3d6f473cef634e00b923ee4d3414c6ea": {
          "model_module": "@jupyter-widgets/base",
          "model_name": "LayoutModel",
          "model_module_version": "1.2.0",
          "state": {
            "_model_module": "@jupyter-widgets/base",
            "_model_module_version": "1.2.0",
            "_model_name": "LayoutModel",
            "_view_count": null,
            "_view_module": "@jupyter-widgets/base",
            "_view_module_version": "1.2.0",
            "_view_name": "LayoutView",
            "align_content": null,
            "align_items": null,
            "align_self": null,
            "border": null,
            "bottom": null,
            "display": null,
            "flex": null,
            "flex_flow": null,
            "grid_area": null,
            "grid_auto_columns": null,
            "grid_auto_flow": null,
            "grid_auto_rows": null,
            "grid_column": null,
            "grid_gap": null,
            "grid_row": null,
            "grid_template_areas": null,
            "grid_template_columns": null,
            "grid_template_rows": null,
            "height": null,
            "justify_content": null,
            "justify_items": null,
            "left": null,
            "margin": null,
            "max_height": null,
            "max_width": null,
            "min_height": null,
            "min_width": null,
            "object_fit": null,
            "object_position": null,
            "order": null,
            "overflow": null,
            "overflow_x": null,
            "overflow_y": null,
            "padding": null,
            "right": null,
            "top": null,
            "visibility": null,
            "width": null
          }
        },
        "fe5ae8abd9454cf49024d3e2a02c7d6e": {
          "model_module": "@jupyter-widgets/controls",
          "model_name": "DescriptionStyleModel",
          "model_module_version": "1.5.0",
          "state": {
            "_model_module": "@jupyter-widgets/controls",
            "_model_module_version": "1.5.0",
            "_model_name": "DescriptionStyleModel",
            "_view_count": null,
            "_view_module": "@jupyter-widgets/base",
            "_view_module_version": "1.2.0",
            "_view_name": "StyleView",
            "description_width": ""
          }
        },
        "2cd7ae3bf1f0419abc95b2550c4a9090": {
          "model_module": "@jupyter-widgets/controls",
          "model_name": "HBoxModel",
          "model_module_version": "1.5.0",
          "state": {
            "_dom_classes": [],
            "_model_module": "@jupyter-widgets/controls",
            "_model_module_version": "1.5.0",
            "_model_name": "HBoxModel",
            "_view_count": null,
            "_view_module": "@jupyter-widgets/controls",
            "_view_module_version": "1.5.0",
            "_view_name": "HBoxView",
            "box_style": "",
            "children": [
              "IPY_MODEL_f695b03e10c14bcf829af9d5c4c83ec3",
              "IPY_MODEL_235ac505656c41ebaf648f96f5bd5094",
              "IPY_MODEL_b212e8bf91f04cb88e8317dcd43d1f8b"
            ],
            "layout": "IPY_MODEL_a97840cc4f0146e19ee4438a24a4d1a6"
          }
        },
        "f695b03e10c14bcf829af9d5c4c83ec3": {
          "model_module": "@jupyter-widgets/controls",
          "model_name": "HTMLModel",
          "model_module_version": "1.5.0",
          "state": {
            "_dom_classes": [],
            "_model_module": "@jupyter-widgets/controls",
            "_model_module_version": "1.5.0",
            "_model_name": "HTMLModel",
            "_view_count": null,
            "_view_module": "@jupyter-widgets/controls",
            "_view_module_version": "1.5.0",
            "_view_name": "HTMLView",
            "description": "",
            "description_tooltip": null,
            "layout": "IPY_MODEL_5e352d08ab8f4366b7246e9fe6e3dfec",
            "placeholder": "​",
            "style": "IPY_MODEL_4c690a43a5d64ba9b5a6aefbf0d0d789",
            "value": "Epoch 0:  98%"
          }
        },
        "235ac505656c41ebaf648f96f5bd5094": {
          "model_module": "@jupyter-widgets/controls",
          "model_name": "FloatProgressModel",
          "model_module_version": "1.5.0",
          "state": {
            "_dom_classes": [],
            "_model_module": "@jupyter-widgets/controls",
            "_model_module_version": "1.5.0",
            "_model_name": "FloatProgressModel",
            "_view_count": null,
            "_view_module": "@jupyter-widgets/controls",
            "_view_module_version": "1.5.0",
            "_view_name": "ProgressView",
            "bar_style": "",
            "description": "",
            "description_tooltip": null,
            "layout": "IPY_MODEL_88043d0b85e54c3eafb645a992bb12a0",
            "max": 47,
            "min": 0,
            "orientation": "horizontal",
            "style": "IPY_MODEL_3c9998909651421c9896f6731510c2a6",
            "value": 46
          }
        },
        "b212e8bf91f04cb88e8317dcd43d1f8b": {
          "model_module": "@jupyter-widgets/controls",
          "model_name": "HTMLModel",
          "model_module_version": "1.5.0",
          "state": {
            "_dom_classes": [],
            "_model_module": "@jupyter-widgets/controls",
            "_model_module_version": "1.5.0",
            "_model_name": "HTMLModel",
            "_view_count": null,
            "_view_module": "@jupyter-widgets/controls",
            "_view_module_version": "1.5.0",
            "_view_name": "HTMLView",
            "description": "",
            "description_tooltip": null,
            "layout": "IPY_MODEL_a03a5001403e40838d1adbf6044cd3a2",
            "placeholder": "​",
            "style": "IPY_MODEL_336631b019294430973eb30c6fc6f19b",
            "value": " 46/47 [00:03&lt;00:00, 12.97it/s, SparseCategoricalAccuracy: 0.9243]"
          }
        },
        "a97840cc4f0146e19ee4438a24a4d1a6": {
          "model_module": "@jupyter-widgets/base",
          "model_name": "LayoutModel",
          "model_module_version": "1.2.0",
          "state": {
            "_model_module": "@jupyter-widgets/base",
            "_model_module_version": "1.2.0",
            "_model_name": "LayoutModel",
            "_view_count": null,
            "_view_module": "@jupyter-widgets/base",
            "_view_module_version": "1.2.0",
            "_view_name": "LayoutView",
            "align_content": null,
            "align_items": null,
            "align_self": null,
            "border": null,
            "bottom": null,
            "display": null,
            "flex": null,
            "flex_flow": null,
            "grid_area": null,
            "grid_auto_columns": null,
            "grid_auto_flow": null,
            "grid_auto_rows": null,
            "grid_column": null,
            "grid_gap": null,
            "grid_row": null,
            "grid_template_areas": null,
            "grid_template_columns": null,
            "grid_template_rows": null,
            "height": null,
            "justify_content": null,
            "justify_items": null,
            "left": null,
            "margin": null,
            "max_height": null,
            "max_width": null,
            "min_height": null,
            "min_width": null,
            "object_fit": null,
            "object_position": null,
            "order": null,
            "overflow": null,
            "overflow_x": null,
            "overflow_y": null,
            "padding": null,
            "right": null,
            "top": null,
            "visibility": null,
            "width": null
          }
        },
        "5e352d08ab8f4366b7246e9fe6e3dfec": {
          "model_module": "@jupyter-widgets/base",
          "model_name": "LayoutModel",
          "model_module_version": "1.2.0",
          "state": {
            "_model_module": "@jupyter-widgets/base",
            "_model_module_version": "1.2.0",
            "_model_name": "LayoutModel",
            "_view_count": null,
            "_view_module": "@jupyter-widgets/base",
            "_view_module_version": "1.2.0",
            "_view_name": "LayoutView",
            "align_content": null,
            "align_items": null,
            "align_self": null,
            "border": null,
            "bottom": null,
            "display": null,
            "flex": null,
            "flex_flow": null,
            "grid_area": null,
            "grid_auto_columns": null,
            "grid_auto_flow": null,
            "grid_auto_rows": null,
            "grid_column": null,
            "grid_gap": null,
            "grid_row": null,
            "grid_template_areas": null,
            "grid_template_columns": null,
            "grid_template_rows": null,
            "height": null,
            "justify_content": null,
            "justify_items": null,
            "left": null,
            "margin": null,
            "max_height": null,
            "max_width": null,
            "min_height": null,
            "min_width": null,
            "object_fit": null,
            "object_position": null,
            "order": null,
            "overflow": null,
            "overflow_x": null,
            "overflow_y": null,
            "padding": null,
            "right": null,
            "top": null,
            "visibility": null,
            "width": null
          }
        },
        "4c690a43a5d64ba9b5a6aefbf0d0d789": {
          "model_module": "@jupyter-widgets/controls",
          "model_name": "DescriptionStyleModel",
          "model_module_version": "1.5.0",
          "state": {
            "_model_module": "@jupyter-widgets/controls",
            "_model_module_version": "1.5.0",
            "_model_name": "DescriptionStyleModel",
            "_view_count": null,
            "_view_module": "@jupyter-widgets/base",
            "_view_module_version": "1.2.0",
            "_view_name": "StyleView",
            "description_width": ""
          }
        },
        "88043d0b85e54c3eafb645a992bb12a0": {
          "model_module": "@jupyter-widgets/base",
          "model_name": "LayoutModel",
          "model_module_version": "1.2.0",
          "state": {
            "_model_module": "@jupyter-widgets/base",
            "_model_module_version": "1.2.0",
            "_model_name": "LayoutModel",
            "_view_count": null,
            "_view_module": "@jupyter-widgets/base",
            "_view_module_version": "1.2.0",
            "_view_name": "LayoutView",
            "align_content": null,
            "align_items": null,
            "align_self": null,
            "border": null,
            "bottom": null,
            "display": null,
            "flex": null,
            "flex_flow": null,
            "grid_area": null,
            "grid_auto_columns": null,
            "grid_auto_flow": null,
            "grid_auto_rows": null,
            "grid_column": null,
            "grid_gap": null,
            "grid_row": null,
            "grid_template_areas": null,
            "grid_template_columns": null,
            "grid_template_rows": null,
            "height": null,
            "justify_content": null,
            "justify_items": null,
            "left": null,
            "margin": null,
            "max_height": null,
            "max_width": null,
            "min_height": null,
            "min_width": null,
            "object_fit": null,
            "object_position": null,
            "order": null,
            "overflow": null,
            "overflow_x": null,
            "overflow_y": null,
            "padding": null,
            "right": null,
            "top": null,
            "visibility": null,
            "width": null
          }
        },
        "3c9998909651421c9896f6731510c2a6": {
          "model_module": "@jupyter-widgets/controls",
          "model_name": "ProgressStyleModel",
          "model_module_version": "1.5.0",
          "state": {
            "_model_module": "@jupyter-widgets/controls",
            "_model_module_version": "1.5.0",
            "_model_name": "ProgressStyleModel",
            "_view_count": null,
            "_view_module": "@jupyter-widgets/base",
            "_view_module_version": "1.2.0",
            "_view_name": "StyleView",
            "bar_color": null,
            "description_width": ""
          }
        },
        "a03a5001403e40838d1adbf6044cd3a2": {
          "model_module": "@jupyter-widgets/base",
          "model_name": "LayoutModel",
          "model_module_version": "1.2.0",
          "state": {
            "_model_module": "@jupyter-widgets/base",
            "_model_module_version": "1.2.0",
            "_model_name": "LayoutModel",
            "_view_count": null,
            "_view_module": "@jupyter-widgets/base",
            "_view_module_version": "1.2.0",
            "_view_name": "LayoutView",
            "align_content": null,
            "align_items": null,
            "align_self": null,
            "border": null,
            "bottom": null,
            "display": null,
            "flex": null,
            "flex_flow": null,
            "grid_area": null,
            "grid_auto_columns": null,
            "grid_auto_flow": null,
            "grid_auto_rows": null,
            "grid_column": null,
            "grid_gap": null,
            "grid_row": null,
            "grid_template_areas": null,
            "grid_template_columns": null,
            "grid_template_rows": null,
            "height": null,
            "justify_content": null,
            "justify_items": null,
            "left": null,
            "margin": null,
            "max_height": null,
            "max_width": null,
            "min_height": null,
            "min_width": null,
            "object_fit": null,
            "object_position": null,
            "order": null,
            "overflow": null,
            "overflow_x": null,
            "overflow_y": null,
            "padding": null,
            "right": null,
            "top": null,
            "visibility": null,
            "width": null
          }
        },
        "336631b019294430973eb30c6fc6f19b": {
          "model_module": "@jupyter-widgets/controls",
          "model_name": "DescriptionStyleModel",
          "model_module_version": "1.5.0",
          "state": {
            "_model_module": "@jupyter-widgets/controls",
            "_model_module_version": "1.5.0",
            "_model_name": "DescriptionStyleModel",
            "_view_count": null,
            "_view_module": "@jupyter-widgets/base",
            "_view_module_version": "1.2.0",
            "_view_name": "StyleView",
            "description_width": ""
          }
        }
      }
    }
  },
  "nbformat": 4,
  "nbformat_minor": 0
}