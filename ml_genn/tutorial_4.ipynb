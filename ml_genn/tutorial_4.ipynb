{
  "cells": [
    {
      "cell_type": "markdown",
      "metadata": {
        "id": "lGa0_oLb61zz"
      },
      "source": [
        "# Tutorial 4\n",
        "In this tutorial, we are going to train a small Convolutional Neural Network using TensorFlow and convert it to an SNN using the few-spike encoding scheme.\n",
        "\n",
        "The ANN and converted SNN both achieve around 99% on the MNIST test set.\n",
        "## Install PyGeNN wheel from Google Drive\n",
        "Download wheel file"
      ]
    },
    {
      "cell_type": "code",
      "execution_count": 1,
      "metadata": {
        "colab": {
          "base_uri": "https://localhost:8080/"
        },
        "id": "t2ihZLXh5VD-",
        "outputId": "cd83c9b6-a54c-4986-c7da-2e8974e7a450"
      },
      "outputs": [
        {
          "output_type": "stream",
          "name": "stdout",
          "text": [
            "Downloading...\n",
            "From: https://drive.google.com/uc?id=1LMVTqYWWQdidyKKX-bKT-0EFTnzdFnm5\n",
            "To: /content/pygenn-4.9.0-cp310-cp310-linux_x86_64.whl\n",
            "100% 20.6M/20.6M [00:00<00:00, 66.9MB/s]\n"
          ]
        }
      ],
      "source": [
        "!gdown 1LMVTqYWWQdidyKKX-bKT-0EFTnzdFnm5"
      ]
    },
    {
      "cell_type": "markdown",
      "metadata": {
        "id": "4oxLk_xy67Pd"
      },
      "source": [
        "and then install PyGeNN from wheel file"
      ]
    },
    {
      "cell_type": "code",
      "execution_count": 2,
      "metadata": {
        "colab": {
          "base_uri": "https://localhost:8080/"
        },
        "id": "v7Hg9SPK5bZO",
        "outputId": "efa309f8-acea-440f-9870-22a423e711b1"
      },
      "outputs": [
        {
          "output_type": "stream",
          "name": "stdout",
          "text": [
            "Processing ./pygenn-4.9.0-cp310-cp310-linux_x86_64.whl\n",
            "Requirement already satisfied: numpy>=1.17 in /usr/local/lib/python3.10/dist-packages (from pygenn==4.9.0) (1.23.5)\n",
            "Requirement already satisfied: six in /usr/local/lib/python3.10/dist-packages (from pygenn==4.9.0) (1.16.0)\n",
            "Collecting deprecated (from pygenn==4.9.0)\n",
            "  Downloading Deprecated-1.2.14-py2.py3-none-any.whl (9.6 kB)\n",
            "Requirement already satisfied: psutil in /usr/local/lib/python3.10/dist-packages (from pygenn==4.9.0) (5.9.5)\n",
            "Requirement already satisfied: wrapt<2,>=1.10 in /usr/local/lib/python3.10/dist-packages (from deprecated->pygenn==4.9.0) (1.15.0)\n",
            "Installing collected packages: deprecated, pygenn\n",
            "Successfully installed deprecated-1.2.14 pygenn-4.9.0\n"
          ]
        }
      ],
      "source": [
        "!pip install pygenn-4.9.0-cp310-cp310-linux_x86_64.whl"
      ]
    },
    {
      "cell_type": "markdown",
      "source": [
        "and checkout latest mlGeNN release from git and install both the ``ml_genn`` and ``ml_genn_tf`` packages"
      ],
      "metadata": {
        "id": "tyvGBCg5rIuM"
      }
    },
    {
      "cell_type": "code",
      "source": [
        "!rm -rf /content/ml_genn\n",
        "!git clone https://github.com/genn-team/ml_genn.git --branch ml_genn_2_1 -c advice.detachedHead=false\n",
        "!pip install ./ml_genn/ml_genn\n",
        "!pip install ./ml_genn/ml_genn_tf"
      ],
      "metadata": {
        "id": "tEpYAq5kq3SF",
        "outputId": "d4aa3605-ecca-45c7-e815-1286d2b10980",
        "colab": {
          "base_uri": "https://localhost:8080/"
        }
      },
      "execution_count": 3,
      "outputs": [
        {
          "output_type": "stream",
          "name": "stdout",
          "text": [
            "Cloning into 'ml_genn'...\n",
            "remote: Enumerating objects: 7161, done.\u001b[K\n",
            "remote: Counting objects: 100% (2978/2978), done.\u001b[K\n",
            "remote: Compressing objects: 100% (1139/1139), done.\u001b[K\n",
            "remote: Total 7161 (delta 1878), reused 2835 (delta 1812), pack-reused 4183\u001b[K\n",
            "Receiving objects: 100% (7161/7161), 37.20 MiB | 17.10 MiB/s, done.\n",
            "Resolving deltas: 100% (4723/4723), done.\n",
            "Processing ./ml_genn/ml_genn\n",
            "  Preparing metadata (setup.py) ... \u001b[?25l\u001b[?25hdone\n",
            "Requirement already satisfied: pygenn<5.0.0,>=4.9.0 in /usr/local/lib/python3.10/dist-packages (from ml-genn==2.1.0) (4.9.0)\n",
            "Collecting enum-compat (from ml-genn==2.1.0)\n",
            "  Downloading enum_compat-0.0.3-py3-none-any.whl (1.3 kB)\n",
            "Requirement already satisfied: tqdm>=4.27.0 in /usr/local/lib/python3.10/dist-packages (from ml-genn==2.1.0) (4.66.1)\n",
            "Requirement already satisfied: deprecated in /usr/local/lib/python3.10/dist-packages (from ml-genn==2.1.0) (1.2.14)\n",
            "Requirement already satisfied: numpy>=1.17 in /usr/local/lib/python3.10/dist-packages (from pygenn<5.0.0,>=4.9.0->ml-genn==2.1.0) (1.23.5)\n",
            "Requirement already satisfied: six in /usr/local/lib/python3.10/dist-packages (from pygenn<5.0.0,>=4.9.0->ml-genn==2.1.0) (1.16.0)\n",
            "Requirement already satisfied: psutil in /usr/local/lib/python3.10/dist-packages (from pygenn<5.0.0,>=4.9.0->ml-genn==2.1.0) (5.9.5)\n",
            "Requirement already satisfied: wrapt<2,>=1.10 in /usr/local/lib/python3.10/dist-packages (from deprecated->ml-genn==2.1.0) (1.15.0)\n",
            "Building wheels for collected packages: ml-genn\n",
            "  Building wheel for ml-genn (setup.py) ... \u001b[?25l\u001b[?25hdone\n",
            "  Created wheel for ml-genn: filename=ml_genn-2.1.0-py3-none-any.whl size=102333 sha256=5acb0ab3ab21064049bcdd84bf0f591e7810fd292dfe96d5b6caf0b5a93ded53\n",
            "  Stored in directory: /tmp/pip-ephem-wheel-cache-nri2cn_a/wheels/3f/cf/27/0e9dec4bb1be2afac4b38c2dfb4ce0bc164ce1ecb32b6f91b8\n",
            "Successfully built ml-genn\n",
            "Installing collected packages: enum-compat, ml-genn\n",
            "Successfully installed enum-compat-0.0.3 ml-genn-2.1.0\n",
            "Processing ./ml_genn/ml_genn_tf\n",
            "  Preparing metadata (setup.py) ... \u001b[?25l\u001b[?25hdone\n",
            "Requirement already satisfied: tensorflow>=2.0 in /usr/local/lib/python3.10/dist-packages (from ml-genn-tf==2.1.0) (2.13.0)\n",
            "Requirement already satisfied: ml_genn>=2.1.0 in /usr/local/lib/python3.10/dist-packages (from ml-genn-tf==2.1.0) (2.1.0)\n",
            "Requirement already satisfied: pygenn<5.0.0,>=4.9.0 in /usr/local/lib/python3.10/dist-packages (from ml_genn>=2.1.0->ml-genn-tf==2.1.0) (4.9.0)\n",
            "Requirement already satisfied: enum-compat in /usr/local/lib/python3.10/dist-packages (from ml_genn>=2.1.0->ml-genn-tf==2.1.0) (0.0.3)\n",
            "Requirement already satisfied: tqdm>=4.27.0 in /usr/local/lib/python3.10/dist-packages (from ml_genn>=2.1.0->ml-genn-tf==2.1.0) (4.66.1)\n",
            "Requirement already satisfied: deprecated in /usr/local/lib/python3.10/dist-packages (from ml_genn>=2.1.0->ml-genn-tf==2.1.0) (1.2.14)\n",
            "Requirement already satisfied: absl-py>=1.0.0 in /usr/local/lib/python3.10/dist-packages (from tensorflow>=2.0->ml-genn-tf==2.1.0) (1.4.0)\n",
            "Requirement already satisfied: astunparse>=1.6.0 in /usr/local/lib/python3.10/dist-packages (from tensorflow>=2.0->ml-genn-tf==2.1.0) (1.6.3)\n",
            "Requirement already satisfied: flatbuffers>=23.1.21 in /usr/local/lib/python3.10/dist-packages (from tensorflow>=2.0->ml-genn-tf==2.1.0) (23.5.26)\n",
            "Requirement already satisfied: gast<=0.4.0,>=0.2.1 in /usr/local/lib/python3.10/dist-packages (from tensorflow>=2.0->ml-genn-tf==2.1.0) (0.4.0)\n",
            "Requirement already satisfied: google-pasta>=0.1.1 in /usr/local/lib/python3.10/dist-packages (from tensorflow>=2.0->ml-genn-tf==2.1.0) (0.2.0)\n",
            "Requirement already satisfied: grpcio<2.0,>=1.24.3 in /usr/local/lib/python3.10/dist-packages (from tensorflow>=2.0->ml-genn-tf==2.1.0) (1.59.0)\n",
            "Requirement already satisfied: h5py>=2.9.0 in /usr/local/lib/python3.10/dist-packages (from tensorflow>=2.0->ml-genn-tf==2.1.0) (3.9.0)\n",
            "Requirement already satisfied: keras<2.14,>=2.13.1 in /usr/local/lib/python3.10/dist-packages (from tensorflow>=2.0->ml-genn-tf==2.1.0) (2.13.1)\n",
            "Requirement already satisfied: libclang>=13.0.0 in /usr/local/lib/python3.10/dist-packages (from tensorflow>=2.0->ml-genn-tf==2.1.0) (16.0.6)\n",
            "Requirement already satisfied: numpy<=1.24.3,>=1.22 in /usr/local/lib/python3.10/dist-packages (from tensorflow>=2.0->ml-genn-tf==2.1.0) (1.23.5)\n",
            "Requirement already satisfied: opt-einsum>=2.3.2 in /usr/local/lib/python3.10/dist-packages (from tensorflow>=2.0->ml-genn-tf==2.1.0) (3.3.0)\n",
            "Requirement already satisfied: packaging in /usr/local/lib/python3.10/dist-packages (from tensorflow>=2.0->ml-genn-tf==2.1.0) (23.2)\n",
            "Requirement already satisfied: protobuf!=4.21.0,!=4.21.1,!=4.21.2,!=4.21.3,!=4.21.4,!=4.21.5,<5.0.0dev,>=3.20.3 in /usr/local/lib/python3.10/dist-packages (from tensorflow>=2.0->ml-genn-tf==2.1.0) (3.20.3)\n",
            "Requirement already satisfied: setuptools in /usr/local/lib/python3.10/dist-packages (from tensorflow>=2.0->ml-genn-tf==2.1.0) (67.7.2)\n",
            "Requirement already satisfied: six>=1.12.0 in /usr/local/lib/python3.10/dist-packages (from tensorflow>=2.0->ml-genn-tf==2.1.0) (1.16.0)\n",
            "Requirement already satisfied: tensorboard<2.14,>=2.13 in /usr/local/lib/python3.10/dist-packages (from tensorflow>=2.0->ml-genn-tf==2.1.0) (2.13.0)\n",
            "Requirement already satisfied: tensorflow-estimator<2.14,>=2.13.0 in /usr/local/lib/python3.10/dist-packages (from tensorflow>=2.0->ml-genn-tf==2.1.0) (2.13.0)\n",
            "Requirement already satisfied: termcolor>=1.1.0 in /usr/local/lib/python3.10/dist-packages (from tensorflow>=2.0->ml-genn-tf==2.1.0) (2.3.0)\n",
            "Requirement already satisfied: typing-extensions<4.6.0,>=3.6.6 in /usr/local/lib/python3.10/dist-packages (from tensorflow>=2.0->ml-genn-tf==2.1.0) (4.5.0)\n",
            "Requirement already satisfied: wrapt>=1.11.0 in /usr/local/lib/python3.10/dist-packages (from tensorflow>=2.0->ml-genn-tf==2.1.0) (1.15.0)\n",
            "Requirement already satisfied: tensorflow-io-gcs-filesystem>=0.23.1 in /usr/local/lib/python3.10/dist-packages (from tensorflow>=2.0->ml-genn-tf==2.1.0) (0.34.0)\n",
            "Requirement already satisfied: wheel<1.0,>=0.23.0 in /usr/local/lib/python3.10/dist-packages (from astunparse>=1.6.0->tensorflow>=2.0->ml-genn-tf==2.1.0) (0.41.2)\n",
            "Requirement already satisfied: psutil in /usr/local/lib/python3.10/dist-packages (from pygenn<5.0.0,>=4.9.0->ml_genn>=2.1.0->ml-genn-tf==2.1.0) (5.9.5)\n",
            "Requirement already satisfied: google-auth<3,>=1.6.3 in /usr/local/lib/python3.10/dist-packages (from tensorboard<2.14,>=2.13->tensorflow>=2.0->ml-genn-tf==2.1.0) (2.17.3)\n",
            "Requirement already satisfied: google-auth-oauthlib<1.1,>=0.5 in /usr/local/lib/python3.10/dist-packages (from tensorboard<2.14,>=2.13->tensorflow>=2.0->ml-genn-tf==2.1.0) (1.0.0)\n",
            "Requirement already satisfied: markdown>=2.6.8 in /usr/local/lib/python3.10/dist-packages (from tensorboard<2.14,>=2.13->tensorflow>=2.0->ml-genn-tf==2.1.0) (3.4.4)\n",
            "Requirement already satisfied: requests<3,>=2.21.0 in /usr/local/lib/python3.10/dist-packages (from tensorboard<2.14,>=2.13->tensorflow>=2.0->ml-genn-tf==2.1.0) (2.31.0)\n",
            "Requirement already satisfied: tensorboard-data-server<0.8.0,>=0.7.0 in /usr/local/lib/python3.10/dist-packages (from tensorboard<2.14,>=2.13->tensorflow>=2.0->ml-genn-tf==2.1.0) (0.7.1)\n",
            "Requirement already satisfied: werkzeug>=1.0.1 in /usr/local/lib/python3.10/dist-packages (from tensorboard<2.14,>=2.13->tensorflow>=2.0->ml-genn-tf==2.1.0) (3.0.0)\n",
            "Requirement already satisfied: cachetools<6.0,>=2.0.0 in /usr/local/lib/python3.10/dist-packages (from google-auth<3,>=1.6.3->tensorboard<2.14,>=2.13->tensorflow>=2.0->ml-genn-tf==2.1.0) (5.3.1)\n",
            "Requirement already satisfied: pyasn1-modules>=0.2.1 in /usr/local/lib/python3.10/dist-packages (from google-auth<3,>=1.6.3->tensorboard<2.14,>=2.13->tensorflow>=2.0->ml-genn-tf==2.1.0) (0.3.0)\n",
            "Requirement already satisfied: rsa<5,>=3.1.4 in /usr/local/lib/python3.10/dist-packages (from google-auth<3,>=1.6.3->tensorboard<2.14,>=2.13->tensorflow>=2.0->ml-genn-tf==2.1.0) (4.9)\n",
            "Requirement already satisfied: requests-oauthlib>=0.7.0 in /usr/local/lib/python3.10/dist-packages (from google-auth-oauthlib<1.1,>=0.5->tensorboard<2.14,>=2.13->tensorflow>=2.0->ml-genn-tf==2.1.0) (1.3.1)\n",
            "Requirement already satisfied: charset-normalizer<4,>=2 in /usr/local/lib/python3.10/dist-packages (from requests<3,>=2.21.0->tensorboard<2.14,>=2.13->tensorflow>=2.0->ml-genn-tf==2.1.0) (3.3.0)\n",
            "Requirement already satisfied: idna<4,>=2.5 in /usr/local/lib/python3.10/dist-packages (from requests<3,>=2.21.0->tensorboard<2.14,>=2.13->tensorflow>=2.0->ml-genn-tf==2.1.0) (3.4)\n",
            "Requirement already satisfied: urllib3<3,>=1.21.1 in /usr/local/lib/python3.10/dist-packages (from requests<3,>=2.21.0->tensorboard<2.14,>=2.13->tensorflow>=2.0->ml-genn-tf==2.1.0) (2.0.6)\n",
            "Requirement already satisfied: certifi>=2017.4.17 in /usr/local/lib/python3.10/dist-packages (from requests<3,>=2.21.0->tensorboard<2.14,>=2.13->tensorflow>=2.0->ml-genn-tf==2.1.0) (2023.7.22)\n",
            "Requirement already satisfied: MarkupSafe>=2.1.1 in /usr/local/lib/python3.10/dist-packages (from werkzeug>=1.0.1->tensorboard<2.14,>=2.13->tensorflow>=2.0->ml-genn-tf==2.1.0) (2.1.3)\n",
            "Requirement already satisfied: pyasn1<0.6.0,>=0.4.6 in /usr/local/lib/python3.10/dist-packages (from pyasn1-modules>=0.2.1->google-auth<3,>=1.6.3->tensorboard<2.14,>=2.13->tensorflow>=2.0->ml-genn-tf==2.1.0) (0.5.0)\n",
            "Requirement already satisfied: oauthlib>=3.0.0 in /usr/local/lib/python3.10/dist-packages (from requests-oauthlib>=0.7.0->google-auth-oauthlib<1.1,>=0.5->tensorboard<2.14,>=2.13->tensorflow>=2.0->ml-genn-tf==2.1.0) (3.2.2)\n",
            "Building wheels for collected packages: ml-genn-tf\n",
            "  Building wheel for ml-genn-tf (setup.py) ... \u001b[?25l\u001b[?25hdone\n",
            "  Created wheel for ml-genn-tf: filename=ml_genn_tf-2.1.0-py3-none-any.whl size=11824 sha256=793116c8169426770975b0c6f3e0b72f58b5476926a5e65a854dc736b8a4208a\n",
            "  Stored in directory: /tmp/pip-ephem-wheel-cache-wrvk9qtf/wheels/ea/96/c7/d55638b75cdda3d23d010a39838aab55dd45fbc104b2fcffc5\n",
            "Successfully built ml-genn-tf\n",
            "Installing collected packages: ml-genn-tf\n",
            "Successfully installed ml-genn-tf-2.1.0\n"
          ]
        }
      ]
    },
    {
      "cell_type": "markdown",
      "metadata": {
        "id": "cAm5bzGvAb17"
      },
      "source": [
        "Set environment variable to allow GeNN to find CUDA"
      ]
    },
    {
      "cell_type": "code",
      "execution_count": 4,
      "metadata": {
        "colab": {
          "base_uri": "https://localhost:8080/"
        },
        "id": "cIzSgI5Q8Wvq",
        "outputId": "ec96856b-20ff-4d89-ff55-06a992add8ee"
      },
      "outputs": [
        {
          "output_type": "stream",
          "name": "stdout",
          "text": [
            "env: CUDA_PATH=/usr/local/cuda\n"
          ]
        }
      ],
      "source": [
        "%env CUDA_PATH=/usr/local/cuda"
      ]
    },
    {
      "cell_type": "markdown",
      "source": [
        "## Train ANN\n",
        "Firstly we define a simple ANN in Keras with two convolutional layers followed by two dense layers and train it:"
      ],
      "metadata": {
        "id": "2OEpKU4_dsMY"
      }
    },
    {
      "cell_type": "code",
      "source": [
        "from tensorflow.keras import models, layers, datasets\n",
        "from tensorflow.config import experimental\n",
        "\n",
        "# Irritatingly, TF's default GPU memory allocator  allocates\n",
        "# all available GPU memory - this can't be freed and would leave\n",
        "# none for mlGeNN so we turn off this behaviour\n",
        "for gpu in experimental.list_physical_devices(\"GPU\"):\n",
        "    experimental.set_memory_growth(gpu, True)\n",
        "\n",
        "# Load MNIST data and normalise to [0,1]\n",
        "(train_x, train_y), (test_x, test_y) = datasets.mnist.load_data()\n",
        "train_x = train_x.reshape((-1, 28, 28, 1)) / 255.0\n",
        "test_x = test_x.reshape((-1, 28, 28, 1)) / 255.0\n",
        "\n",
        "# Create and compile TF model\n",
        "tf_model = models.Sequential([\n",
        "    layers.Conv2D(16, 5, padding=\"valid\", activation=\"relu\", use_bias=False, input_shape=train_x.shape[1:]),\n",
        "    layers.AveragePooling2D(2),\n",
        "    layers.Conv2D(8, 5, padding=\"valid\", activation=\"relu\", use_bias=False),\n",
        "    layers.AveragePooling2D(2),\n",
        "    layers.Flatten(),\n",
        "    layers.Dense(128, activation=\"relu\", use_bias=False),\n",
        "    layers.Dense(64, activation=\"relu\", use_bias=False),\n",
        "    layers.Dense(train_y.max() + 1, activation=\"softmax\", use_bias=False),\n",
        "], name=\"simple_cnn\")\n",
        "tf_model.compile(optimizer=\"adam\", loss=\"sparse_categorical_crossentropy\", metrics=[\"accuracy\"])\n",
        "\n",
        "# Fit TF model\n",
        "tf_model.fit(train_x, train_y, epochs=10)"
      ],
      "metadata": {
        "id": "DfZqqLXBZ7P3",
        "outputId": "e63ad60e-fa28-469b-ce86-c2587dab57a1",
        "colab": {
          "base_uri": "https://localhost:8080/"
        }
      },
      "execution_count": 5,
      "outputs": [
        {
          "output_type": "stream",
          "name": "stdout",
          "text": [
            "Downloading data from https://storage.googleapis.com/tensorflow/tf-keras-datasets/mnist.npz\n",
            "11490434/11490434 [==============================] - 0s 0us/step\n",
            "Epoch 1/10\n",
            "1875/1875 [==============================] - 17s 4ms/step - loss: 0.2528 - accuracy: 0.9214\n",
            "Epoch 2/10\n",
            "1875/1875 [==============================] - 6s 3ms/step - loss: 0.0817 - accuracy: 0.9749\n",
            "Epoch 3/10\n",
            "1875/1875 [==============================] - 7s 4ms/step - loss: 0.0581 - accuracy: 0.9828\n",
            "Epoch 4/10\n",
            "1875/1875 [==============================] - 6s 3ms/step - loss: 0.0463 - accuracy: 0.9851\n",
            "Epoch 5/10\n",
            "1875/1875 [==============================] - 7s 4ms/step - loss: 0.0376 - accuracy: 0.9881\n",
            "Epoch 6/10\n",
            "1875/1875 [==============================] - 6s 3ms/step - loss: 0.0322 - accuracy: 0.9900\n",
            "Epoch 7/10\n",
            "1875/1875 [==============================] - 7s 4ms/step - loss: 0.0285 - accuracy: 0.9908\n",
            "Epoch 8/10\n",
            "1875/1875 [==============================] - 6s 3ms/step - loss: 0.0250 - accuracy: 0.9922\n",
            "Epoch 9/10\n",
            "1875/1875 [==============================] - 7s 4ms/step - loss: 0.0215 - accuracy: 0.9935\n",
            "Epoch 10/10\n",
            "1875/1875 [==============================] - 6s 3ms/step - loss: 0.0189 - accuracy: 0.9936\n"
          ]
        },
        {
          "output_type": "execute_result",
          "data": {
            "text/plain": [
              "<keras.src.callbacks.History at 0x7ec9804aa140>"
            ]
          },
          "metadata": {},
          "execution_count": 5
        }
      ]
    },
    {
      "cell_type": "markdown",
      "source": [
        "## Evaluate ANN model\n",
        "Now we evaluate the ANN on the MNIST test set:"
      ],
      "metadata": {
        "id": "nZs8E3mhbGBT"
      }
    },
    {
      "cell_type": "code",
      "source": [
        "tf_model.evaluate(test_x, test_y)"
      ],
      "metadata": {
        "id": "zDElkWfHbIOr",
        "outputId": "c710b1a2-b74f-4db7-d331-78e5ce6b5cf2",
        "colab": {
          "base_uri": "https://localhost:8080/"
        }
      },
      "execution_count": 6,
      "outputs": [
        {
          "output_type": "stream",
          "name": "stdout",
          "text": [
            "313/313 [==============================] - 1s 3ms/step - loss: 0.0406 - accuracy: 0.9872\n"
          ]
        },
        {
          "output_type": "execute_result",
          "data": {
            "text/plain": [
              "[0.040607091039419174, 0.9872000217437744]"
            ]
          },
          "metadata": {},
          "execution_count": 6
        }
      ]
    },
    {
      "cell_type": "markdown",
      "metadata": {
        "id": "BwadUz9Azxss"
      },
      "source": [
        "## Build normalization dataset\n",
        "To correctly configure the conversion algorithm, the range of activations in each layer is required. We determine this from a single, randomly selected batch of training data. Slightly awkwardly, mlGeNN takes these as an iterator so we turn them into a TF dataset:"
      ]
    },
    {
      "cell_type": "code",
      "source": [
        "import numpy as np\n",
        "from tensorflow.data import Dataset, AUTOTUNE\n",
        "\n",
        "# ML GeNN norm dataset\n",
        "norm_i = np.random.choice(train_x.shape[0], 128, replace=False)\n",
        "\n",
        "norm_ds = Dataset.from_tensor_slices((train_x[norm_i], train_y[norm_i]))\n",
        "norm_ds = norm_ds.batch(128)\n",
        "norm_ds = norm_ds.prefetch(AUTOTUNE)"
      ],
      "metadata": {
        "id": "NYKZehiaci9W"
      },
      "execution_count": 7,
      "outputs": []
    },
    {
      "cell_type": "markdown",
      "source": [
        "## Convert model\n",
        "We are going to use the few-spike conversion scheme to convert the ANN to an SNN with $k=8$ timesteps per examples:\n",
        "\n",
        "Stöckl, Christoph, and Wolfgang Maass. 2021. “Optimized Spiking Neurons Can Classify Images with High Accuracy through Temporal Coding with Two Spikes.” Nature Machine Intelligence 3(3): 230–38 ([doi](http://dx.doi.org/10.1038/s42256-021-00311-4))\n"
      ],
      "metadata": {
        "id": "tpRT1r3eesTP"
      }
    },
    {
      "cell_type": "code",
      "execution_count": 8,
      "metadata": {
        "id": "agqWFZjickfU"
      },
      "outputs": [],
      "source": [
        "from ml_genn_tf.converters import FewSpike\n",
        "\n",
        "# Build few-spike converter\n",
        "converter = FewSpike(k=8, norm_data=[norm_ds])\n",
        "\n",
        "# Convert and compile ML GeNN model\n",
        "net, net_inputs, net_outputs, tf_layer_pops = converter.convert(tf_model)"
      ]
    },
    {
      "cell_type": "markdown",
      "metadata": {
        "id": "9PCMgNPCz86O"
      },
      "source": [
        "## Compilation\n",
        "In mlGeNN, in order to turn an abstract network description into something that can actually be used for training or inference you use a *compiler* class. Here, we ask the converter to build us a suitable compiler and specify batch size and that we don't want connectvity expanded into sparse connectivity."
      ]
    },
    {
      "cell_type": "code",
      "source": [
        "compiler = converter.create_compiler(prefer_in_memory_connect=False, batch_size=128)\n",
        "compiled_net = compiler.compile(net, inputs=net_inputs, outputs=net_outputs)"
      ],
      "metadata": {
        "id": "eH_d7zxBbrE8"
      },
      "execution_count": 9,
      "outputs": []
    },
    {
      "cell_type": "markdown",
      "source": [
        "## Evaluate SNN models\n",
        "Finally, we evaluate the SNN model on the MNIST test set:"
      ],
      "metadata": {
        "id": "eQfD_7KP2gYm"
      }
    },
    {
      "cell_type": "code",
      "source": [
        "with compiled_net:\n",
        "    compiled_net.evaluate({net_inputs[0]: test_x},\n",
        "                          {net_outputs[0]: test_y})"
      ],
      "metadata": {
        "id": "6NQDJ1_o0LcY",
        "outputId": "6ee449bb-2b54-47bd-80fc-3d6d36c23409",
        "colab": {
          "base_uri": "https://localhost:8080/",
          "height": 49,
          "referenced_widgets": [
            "a1325a4621fc433e9cd0b753df97df21",
            "32fdc2b5ff3249998b27c4b248c9f67f",
            "97f615f0a3d14ff290250e476daf45c0",
            "1baccaef0ee043639237d7a151ab848c",
            "49525838458a497b97ff43322b6cb645",
            "60d37abe51dd420baf2fe7edbaf40d83",
            "7e7005c44f1543a28e2e70c1cea67479",
            "50f63b330dfb46b1ac8431387e7fe482",
            "20e940b8bf074235b0fbdd61c211a82d",
            "014837c5f59745c68f88b54b604fceb6",
            "3f40831ce119429a8e3e17eddfa57466"
          ]
        }
      },
      "execution_count": 10,
      "outputs": [
        {
          "output_type": "display_data",
          "data": {
            "text/plain": [
              "  0%|          | 0/84 [00:00<?, ?it/s]"
            ],
            "application/vnd.jupyter.widget-view+json": {
              "version_major": 2,
              "version_minor": 0,
              "model_id": "a1325a4621fc433e9cd0b753df97df21"
            }
          },
          "metadata": {}
        }
      ]
    }
  ],
  "metadata": {
    "accelerator": "GPU",
    "colab": {
      "name": "tutorial_1",
      "provenance": []
    },
    "kernelspec": {
      "display_name": "Python 3",
      "language": "python",
      "name": "python3"
    },
    "language_info": {
      "codemirror_mode": {
        "name": "ipython",
        "version": 3
      },
      "file_extension": ".py",
      "mimetype": "text/x-python",
      "name": "python",
      "nbconvert_exporter": "python",
      "pygments_lexer": "ipython3",
      "version": "3.7.7"
    },
    "widgets": {
      "application/vnd.jupyter.widget-state+json": {
        "a1325a4621fc433e9cd0b753df97df21": {
          "model_module": "@jupyter-widgets/controls",
          "model_name": "HBoxModel",
          "model_module_version": "1.5.0",
          "state": {
            "_dom_classes": [],
            "_model_module": "@jupyter-widgets/controls",
            "_model_module_version": "1.5.0",
            "_model_name": "HBoxModel",
            "_view_count": null,
            "_view_module": "@jupyter-widgets/controls",
            "_view_module_version": "1.5.0",
            "_view_name": "HBoxView",
            "box_style": "",
            "children": [
              "IPY_MODEL_32fdc2b5ff3249998b27c4b248c9f67f",
              "IPY_MODEL_97f615f0a3d14ff290250e476daf45c0",
              "IPY_MODEL_1baccaef0ee043639237d7a151ab848c"
            ],
            "layout": "IPY_MODEL_49525838458a497b97ff43322b6cb645"
          }
        },
        "32fdc2b5ff3249998b27c4b248c9f67f": {
          "model_module": "@jupyter-widgets/controls",
          "model_name": "HTMLModel",
          "model_module_version": "1.5.0",
          "state": {
            "_dom_classes": [],
            "_model_module": "@jupyter-widgets/controls",
            "_model_module_version": "1.5.0",
            "_model_name": "HTMLModel",
            "_view_count": null,
            "_view_module": "@jupyter-widgets/controls",
            "_view_module_version": "1.5.0",
            "_view_name": "HTMLView",
            "description": "",
            "description_tooltip": null,
            "layout": "IPY_MODEL_60d37abe51dd420baf2fe7edbaf40d83",
            "placeholder": "​",
            "style": "IPY_MODEL_7e7005c44f1543a28e2e70c1cea67479",
            "value": " 99%"
          }
        },
        "97f615f0a3d14ff290250e476daf45c0": {
          "model_module": "@jupyter-widgets/controls",
          "model_name": "FloatProgressModel",
          "model_module_version": "1.5.0",
          "state": {
            "_dom_classes": [],
            "_model_module": "@jupyter-widgets/controls",
            "_model_module_version": "1.5.0",
            "_model_name": "FloatProgressModel",
            "_view_count": null,
            "_view_module": "@jupyter-widgets/controls",
            "_view_module_version": "1.5.0",
            "_view_name": "ProgressView",
            "bar_style": "danger",
            "description": "",
            "description_tooltip": null,
            "layout": "IPY_MODEL_50f63b330dfb46b1ac8431387e7fe482",
            "max": 84,
            "min": 0,
            "orientation": "horizontal",
            "style": "IPY_MODEL_20e940b8bf074235b0fbdd61c211a82d",
            "value": 83
          }
        },
        "1baccaef0ee043639237d7a151ab848c": {
          "model_module": "@jupyter-widgets/controls",
          "model_name": "HTMLModel",
          "model_module_version": "1.5.0",
          "state": {
            "_dom_classes": [],
            "_model_module": "@jupyter-widgets/controls",
            "_model_module_version": "1.5.0",
            "_model_name": "HTMLModel",
            "_view_count": null,
            "_view_module": "@jupyter-widgets/controls",
            "_view_module_version": "1.5.0",
            "_view_name": "HTMLView",
            "description": "",
            "description_tooltip": null,
            "layout": "IPY_MODEL_014837c5f59745c68f88b54b604fceb6",
            "placeholder": "​",
            "style": "IPY_MODEL_3f40831ce119429a8e3e17eddfa57466",
            "value": " 83/84 [00:00&lt;00:00, 139.46it/s, SparseCategoricalAccuracy: 0.9872]"
          }
        },
        "49525838458a497b97ff43322b6cb645": {
          "model_module": "@jupyter-widgets/base",
          "model_name": "LayoutModel",
          "model_module_version": "1.2.0",
          "state": {
            "_model_module": "@jupyter-widgets/base",
            "_model_module_version": "1.2.0",
            "_model_name": "LayoutModel",
            "_view_count": null,
            "_view_module": "@jupyter-widgets/base",
            "_view_module_version": "1.2.0",
            "_view_name": "LayoutView",
            "align_content": null,
            "align_items": null,
            "align_self": null,
            "border": null,
            "bottom": null,
            "display": null,
            "flex": null,
            "flex_flow": null,
            "grid_area": null,
            "grid_auto_columns": null,
            "grid_auto_flow": null,
            "grid_auto_rows": null,
            "grid_column": null,
            "grid_gap": null,
            "grid_row": null,
            "grid_template_areas": null,
            "grid_template_columns": null,
            "grid_template_rows": null,
            "height": null,
            "justify_content": null,
            "justify_items": null,
            "left": null,
            "margin": null,
            "max_height": null,
            "max_width": null,
            "min_height": null,
            "min_width": null,
            "object_fit": null,
            "object_position": null,
            "order": null,
            "overflow": null,
            "overflow_x": null,
            "overflow_y": null,
            "padding": null,
            "right": null,
            "top": null,
            "visibility": null,
            "width": null
          }
        },
        "60d37abe51dd420baf2fe7edbaf40d83": {
          "model_module": "@jupyter-widgets/base",
          "model_name": "LayoutModel",
          "model_module_version": "1.2.0",
          "state": {
            "_model_module": "@jupyter-widgets/base",
            "_model_module_version": "1.2.0",
            "_model_name": "LayoutModel",
            "_view_count": null,
            "_view_module": "@jupyter-widgets/base",
            "_view_module_version": "1.2.0",
            "_view_name": "LayoutView",
            "align_content": null,
            "align_items": null,
            "align_self": null,
            "border": null,
            "bottom": null,
            "display": null,
            "flex": null,
            "flex_flow": null,
            "grid_area": null,
            "grid_auto_columns": null,
            "grid_auto_flow": null,
            "grid_auto_rows": null,
            "grid_column": null,
            "grid_gap": null,
            "grid_row": null,
            "grid_template_areas": null,
            "grid_template_columns": null,
            "grid_template_rows": null,
            "height": null,
            "justify_content": null,
            "justify_items": null,
            "left": null,
            "margin": null,
            "max_height": null,
            "max_width": null,
            "min_height": null,
            "min_width": null,
            "object_fit": null,
            "object_position": null,
            "order": null,
            "overflow": null,
            "overflow_x": null,
            "overflow_y": null,
            "padding": null,
            "right": null,
            "top": null,
            "visibility": null,
            "width": null
          }
        },
        "7e7005c44f1543a28e2e70c1cea67479": {
          "model_module": "@jupyter-widgets/controls",
          "model_name": "DescriptionStyleModel",
          "model_module_version": "1.5.0",
          "state": {
            "_model_module": "@jupyter-widgets/controls",
            "_model_module_version": "1.5.0",
            "_model_name": "DescriptionStyleModel",
            "_view_count": null,
            "_view_module": "@jupyter-widgets/base",
            "_view_module_version": "1.2.0",
            "_view_name": "StyleView",
            "description_width": ""
          }
        },
        "50f63b330dfb46b1ac8431387e7fe482": {
          "model_module": "@jupyter-widgets/base",
          "model_name": "LayoutModel",
          "model_module_version": "1.2.0",
          "state": {
            "_model_module": "@jupyter-widgets/base",
            "_model_module_version": "1.2.0",
            "_model_name": "LayoutModel",
            "_view_count": null,
            "_view_module": "@jupyter-widgets/base",
            "_view_module_version": "1.2.0",
            "_view_name": "LayoutView",
            "align_content": null,
            "align_items": null,
            "align_self": null,
            "border": null,
            "bottom": null,
            "display": null,
            "flex": null,
            "flex_flow": null,
            "grid_area": null,
            "grid_auto_columns": null,
            "grid_auto_flow": null,
            "grid_auto_rows": null,
            "grid_column": null,
            "grid_gap": null,
            "grid_row": null,
            "grid_template_areas": null,
            "grid_template_columns": null,
            "grid_template_rows": null,
            "height": null,
            "justify_content": null,
            "justify_items": null,
            "left": null,
            "margin": null,
            "max_height": null,
            "max_width": null,
            "min_height": null,
            "min_width": null,
            "object_fit": null,
            "object_position": null,
            "order": null,
            "overflow": null,
            "overflow_x": null,
            "overflow_y": null,
            "padding": null,
            "right": null,
            "top": null,
            "visibility": null,
            "width": null
          }
        },
        "20e940b8bf074235b0fbdd61c211a82d": {
          "model_module": "@jupyter-widgets/controls",
          "model_name": "ProgressStyleModel",
          "model_module_version": "1.5.0",
          "state": {
            "_model_module": "@jupyter-widgets/controls",
            "_model_module_version": "1.5.0",
            "_model_name": "ProgressStyleModel",
            "_view_count": null,
            "_view_module": "@jupyter-widgets/base",
            "_view_module_version": "1.2.0",
            "_view_name": "StyleView",
            "bar_color": null,
            "description_width": ""
          }
        },
        "014837c5f59745c68f88b54b604fceb6": {
          "model_module": "@jupyter-widgets/base",
          "model_name": "LayoutModel",
          "model_module_version": "1.2.0",
          "state": {
            "_model_module": "@jupyter-widgets/base",
            "_model_module_version": "1.2.0",
            "_model_name": "LayoutModel",
            "_view_count": null,
            "_view_module": "@jupyter-widgets/base",
            "_view_module_version": "1.2.0",
            "_view_name": "LayoutView",
            "align_content": null,
            "align_items": null,
            "align_self": null,
            "border": null,
            "bottom": null,
            "display": null,
            "flex": null,
            "flex_flow": null,
            "grid_area": null,
            "grid_auto_columns": null,
            "grid_auto_flow": null,
            "grid_auto_rows": null,
            "grid_column": null,
            "grid_gap": null,
            "grid_row": null,
            "grid_template_areas": null,
            "grid_template_columns": null,
            "grid_template_rows": null,
            "height": null,
            "justify_content": null,
            "justify_items": null,
            "left": null,
            "margin": null,
            "max_height": null,
            "max_width": null,
            "min_height": null,
            "min_width": null,
            "object_fit": null,
            "object_position": null,
            "order": null,
            "overflow": null,
            "overflow_x": null,
            "overflow_y": null,
            "padding": null,
            "right": null,
            "top": null,
            "visibility": null,
            "width": null
          }
        },
        "3f40831ce119429a8e3e17eddfa57466": {
          "model_module": "@jupyter-widgets/controls",
          "model_name": "DescriptionStyleModel",
          "model_module_version": "1.5.0",
          "state": {
            "_model_module": "@jupyter-widgets/controls",
            "_model_module_version": "1.5.0",
            "_model_name": "DescriptionStyleModel",
            "_view_count": null,
            "_view_module": "@jupyter-widgets/base",
            "_view_module_version": "1.2.0",
            "_view_name": "StyleView",
            "description_width": ""
          }
        }
      }
    }
  },
  "nbformat": 4,
  "nbformat_minor": 0
}