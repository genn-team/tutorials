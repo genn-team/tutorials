{
 "cells": [
  {
   "cell_type": "markdown",
   "metadata": {
    "id": "lQcK3QTM2icU"
   },
   "source": [
    "# Brian2GeNN template\n",
    "Checkout GeNN from git (counterintuitively, Python wheels of GeNN don't help you here!)"
   ]
  },
  {
   "cell_type": "code",
   "execution_count": null,
   "metadata": {
    "colab": {
     "base_uri": "https://localhost:8080/"
    },
    "executionInfo": {
     "elapsed": 18,
     "status": "ok",
     "timestamp": 1651657779231,
     "user": {
      "displayName": "Thomas Nowotny",
      "userId": "03613192946100503398"
     },
     "user_tz": -60
    },
    "id": "2r9oDN4j17zV",
    "outputId": "5a4c544f-9538-4515-ee15-53067b13672e"
   },
   "outputs": [],
   "source": [
    "!git clone --branch 4.8.0 https://github.com/genn-team/genn.git"
   ]
  },
  {
   "cell_type": "markdown",
   "metadata": {
    "id": "EXQku5cHUq8U"
   },
   "source": [
    "Set the CUDA path so GeNN can find the version of CUDA installed on Colab and the GeNN path so Brian2GeNN can find GeNN (adding GeNN to the path **should** work but doesn't seem to on Colab)"
   ]
  },
  {
   "cell_type": "code",
   "execution_count": 3,
   "metadata": {
    "colab": {
     "base_uri": "https://localhost:8080/"
    },
    "executionInfo": {
     "elapsed": 273,
     "status": "ok",
     "timestamp": 1651657831357,
     "user": {
      "displayName": "Thomas Nowotny",
      "userId": "03613192946100503398"
     },
     "user_tz": -60
    },
    "id": "Sy_LHgKv2Z8Y",
    "outputId": "59fe4bff-8cfa-4a31-8271-17a084e150f7"
   },
   "outputs": [
    {
     "name": "stdout",
     "output_type": "stream",
     "text": [
      "env: CUDA_PATH=/usr/local/cuda\n",
      "env: GENN_PATH=/content/genn\n"
     ]
    }
   ],
   "source": [
    "%env CUDA_PATH=/usr/local/cuda\n",
    "%env GENN_PATH=/content/genn"
   ]
  },
  {
   "cell_type": "markdown",
   "metadata": {
    "id": "lt5BZnXUUEsU"
   },
   "source": [
    "Install Brian2GeNN. Note Brian2 2.5 doesn't seem to be compatible"
   ]
  },
  {
   "cell_type": "code",
   "execution_count": 2,
   "metadata": {
    "colab": {
     "base_uri": "https://localhost:8080/"
    },
    "executionInfo": {
     "elapsed": 14719,
     "status": "ok",
     "timestamp": 1651657797800,
     "user": {
      "displayName": "Thomas Nowotny",
      "userId": "03613192946100503398"
     },
     "user_tz": -60
    },
    "id": "a7n867ti2XTb",
    "outputId": "7cf1f189-1f9a-498d-f438-e7786cb2ffe0"
   },
   "outputs": [
    {
     "name": "stdout",
     "output_type": "stream",
     "text": [
      "Requirement already satisfied: brian2<2.5 in /usr/local/lib/python3.7/dist-packages (2.4.2)\n",
      "Requirement already satisfied: pyparsing in /usr/local/lib/python3.7/dist-packages (from brian2<2.5) (3.0.8)\n",
      "Requirement already satisfied: setuptools>=24.2 in /usr/local/lib/python3.7/dist-packages (from brian2<2.5) (57.4.0)\n",
      "Requirement already satisfied: cython>=0.29 in /usr/local/lib/python3.7/dist-packages (from brian2<2.5) (0.29.28)\n",
      "Requirement already satisfied: sympy>=1.2 in /usr/local/lib/python3.7/dist-packages (from brian2<2.5) (1.7.1)\n",
      "Requirement already satisfied: numpy>=1.15 in /usr/local/lib/python3.7/dist-packages (from brian2<2.5) (1.21.6)\n",
      "Requirement already satisfied: jinja2>=2.7 in /usr/local/lib/python3.7/dist-packages (from brian2<2.5) (2.11.3)\n",
      "Requirement already satisfied: MarkupSafe>=0.23 in /usr/local/lib/python3.7/dist-packages (from jinja2>=2.7->brian2<2.5) (2.0.1)\n",
      "Requirement already satisfied: mpmath>=0.19 in /usr/local/lib/python3.7/dist-packages (from sympy>=1.2->brian2<2.5) (1.2.1)\n",
      "Requirement already satisfied: brian2genn in /usr/local/lib/python3.7/dist-packages (1.6)\n",
      "Requirement already satisfied: six in /usr/local/lib/python3.7/dist-packages (from brian2genn) (1.15.0)\n",
      "Requirement already satisfied: brian2>=2.4.2 in /usr/local/lib/python3.7/dist-packages (from brian2genn) (2.4.2)\n",
      "Requirement already satisfied: setuptools>=6.0 in /usr/local/lib/python3.7/dist-packages (from brian2genn) (57.4.0)\n",
      "Requirement already satisfied: jinja2>=2.7 in /usr/local/lib/python3.7/dist-packages (from brian2>=2.4.2->brian2genn) (2.11.3)\n",
      "Requirement already satisfied: sympy>=1.2 in /usr/local/lib/python3.7/dist-packages (from brian2>=2.4.2->brian2genn) (1.7.1)\n",
      "Requirement already satisfied: cython>=0.29 in /usr/local/lib/python3.7/dist-packages (from brian2>=2.4.2->brian2genn) (0.29.28)\n",
      "Requirement already satisfied: numpy>=1.15 in /usr/local/lib/python3.7/dist-packages (from brian2>=2.4.2->brian2genn) (1.21.6)\n",
      "Requirement already satisfied: pyparsing in /usr/local/lib/python3.7/dist-packages (from brian2>=2.4.2->brian2genn) (3.0.8)\n",
      "Requirement already satisfied: MarkupSafe>=0.23 in /usr/local/lib/python3.7/dist-packages (from jinja2>=2.7->brian2>=2.4.2->brian2genn) (2.0.1)\n",
      "Requirement already satisfied: mpmath>=0.19 in /usr/local/lib/python3.7/dist-packages (from sympy>=1.2->brian2>=2.4.2->brian2genn) (1.2.1)\n"
     ]
    }
   ],
   "source": [
    "!pip install \"brian2<2.5\"\n",
    "!pip install brian2genn"
   ]
  },
  {
   "cell_type": "markdown",
   "metadata": {
    "id": "kfePAmBiWBi8"
   },
   "source": [
    "Import everything from Brian2 and set the device to Brian2GeNN"
   ]
  },
  {
   "cell_type": "code",
   "execution_count": 4,
   "metadata": {
    "colab": {
     "base_uri": "https://localhost:8080/"
    },
    "executionInfo": {
     "elapsed": 3689,
     "status": "ok",
     "timestamp": 1651657840673,
     "user": {
      "displayName": "Thomas Nowotny",
      "userId": "03613192946100503398"
     },
     "user_tz": -60
    },
    "id": "KZ2HotU9SCZh",
    "outputId": "83bbc55a-7cfd-4bf3-cdc0-ee742530e777"
   },
   "outputs": [
    {
     "name": "stderr",
     "output_type": "stream",
     "text": [
      "INFO       The following preferences have been changed for Brian2GeNN, reset them manually if you use a different device later in the same script: codegen.loop_invariant_optimisations, core.network.default_schedule [brian2.devices.genn]\n"
     ]
    }
   ],
   "source": [
    "from brian2 import *\n",
    "import brian2genn\n",
    "\n",
    "set_device('genn', directory='simple_example_synapses')"
   ]
  },
  {
   "cell_type": "markdown",
   "metadata": {
    "id": "kqGxj4gkWGel"
   },
   "source": [
    "As an example, run CUBA example"
   ]
  },
  {
   "cell_type": "code",
   "execution_count": 5,
   "metadata": {
    "colab": {
     "base_uri": "https://localhost:8080/",
     "height": 370
    },
    "executionInfo": {
     "elapsed": 206074,
     "status": "ok",
     "timestamp": 1651658053491,
     "user": {
      "displayName": "Thomas Nowotny",
      "userId": "03613192946100503398"
     },
     "user_tz": -60
    },
    "id": "VZssHpUgSQwR",
    "outputId": "317810db-b33f-42c6-9b25-21d705e1f88c"
   },
   "outputs": [
    {
     "name": "stdout",
     "output_type": "stream",
     "text": [
      "running brian code generation ...\n",
      "building genn executable ...\n",
      "['/content/genn/bin/genn-buildmodel.sh', '-i', '/content:/content/simple_example_synapses:/content/simple_example_synapses/brianlib/randomkit', 'magicnetwork_model.cpp']\n",
      "executing genn binary on GPU ...\n"
     ]
    },
    {
     "data": {
      "image/png": "[encoded data removed]",
      "text/plain": [
       "<Figure size 432x288 with 1 Axes>"
      ]
     },
     "metadata": {
      "needs_background": "light"
     },
     "output_type": "display_data"
    }
   ],
   "source": [
    "taum = 20.*ms\n",
    "taue = 5.*ms\n",
    "taui = 10.*ms\n",
    "Vt = -50.*mV\n",
    "Vr = -60.*mV\n",
    "El = -49.*mV\n",
    "\n",
    "eqs = '''\n",
    "dv/dt  = (ge+gi-(v-El))/taum : volt (unless refractory)\n",
    "dge/dt = -ge/taue : volt\n",
    "dgi/dt = -gi/taui : volt\n",
    "'''\n",
    "\n",
    "P = NeuronGroup(4000, eqs, threshold='v>Vt', reset='v = Vr', refractory=5*ms,\n",
    "                method='exact')\n",
    "P.v = 'Vr + rand() * (Vt - Vr)'\n",
    "P.ge = 0.*mV\n",
    "P.gi = 0.*mV\n",
    "\n",
    "we = (60.*0.27/10.)*mV # excitatory synaptic weight (voltage)\n",
    "wi = (-20.*4.5/10.)*mV # inhibitory synaptic weight\n",
    "Ce = Synapses(P, P, on_pre='ge += we')\n",
    "Ci = Synapses(P, P, on_pre='gi += wi')\n",
    "Ce.connect('i<3200', p=0.02)\n",
    "Ci.connect('i>=3200', p=0.02)\n",
    "\n",
    "s_mon = SpikeMonitor(P)\n",
    "\n",
    "run(1 * second)\n",
    "\n",
    "plot(s_mon.t/ms, s_mon.i, ',k')\n",
    "xlabel('Time (ms)')\n",
    "ylabel('Neuron index')\n",
    "show()\n"
   ]
  }
 ],
 "metadata": {
  "accelerator": "GPU",
  "colab": {
   "collapsed_sections": [],
   "name": "brian2genn_template",
   "provenance": []
  },
  "kernelspec": {
   "display_name": "Python 3",
   "language": "python",
   "name": "python3"
  },
  "language_info": {
   "codemirror_mode": {
    "name": "ipython",
    "version": 3
   },
   "file_extension": ".py",
   "mimetype": "text/x-python",
   "name": "python",
   "nbconvert_exporter": "python",
   "pygments_lexer": "ipython3",
   "version": "3.7.7"
  }
 },
 "nbformat": 4,
 "nbformat_minor": 1
}
