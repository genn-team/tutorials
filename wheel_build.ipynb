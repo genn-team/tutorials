{
  "cells": [
    {
      "cell_type": "markdown",
      "metadata": {
        "id": "WGpkOTlce2g-"
      },
      "source": [
        "# Install PyGeNN\n",
        "Use apt-get to install FFI (required to build PyGeNN from source)"
      ]
    },
    {
      "cell_type": "code",
      "execution_count": 1,
      "metadata": {
        "colab": {
          "base_uri": "https://localhost:8080/"
        },
        "id": "DFwBDD37bown",
        "outputId": "264edb27-a671-43a9-daa3-03620af22bbe"
      },
      "outputs": [
        {
          "output_type": "stream",
          "name": "stdout",
          "text": [
            "Reading package lists... Done\n",
            "\n",
            "Reading state information... Done\n",
            "libffi-dev is already the newest version (3.4.2-4).\n",
            "0 upgraded, 0 newly installed, 0 to remove and 35 not upgraded.\n"
          ]
        }
      ],
      "source": [
        "!apt-get install libffi-dev"
      ]
    },
    {
      "cell_type": "markdown",
      "metadata": {
        "id": "CVGPTAgAfAoL"
      },
      "source": [
        "Checkout latest GeNN release from GitHub (ignore warnings about detached heads)"
      ]
    },
    {
      "cell_type": "code",
      "execution_count": 2,
      "metadata": {
        "colab": {
          "base_uri": "https://localhost:8080/"
        },
        "id": "g_ai7mhqbAKA",
        "outputId": "42dd241c-4b36-49ae-b3c4-0578742befe9"
      },
      "outputs": [
        {
          "output_type": "stream",
          "name": "stdout",
          "text": [
            "Cloning into 'genn'...\n",
            "remote: Enumerating objects: 132464, done.\u001b[K\n",
            "remote: Counting objects: 100% (16455/16455), done.\u001b[K\n",
            "remote: Compressing objects: 100% (4900/4900), done.\u001b[K\n",
            "remote: Total 132464 (delta 11488), reused 16181 (delta 11253), pack-reused 116009\u001b[K\n",
            "Receiving objects: 100% (132464/132464), 247.84 MiB | 27.36 MiB/s, done.\n",
            "Resolving deltas: 100% (94157/94157), done.\n"
          ]
        }
      ],
      "source": [
        "!rm -rf /content/genn\n",
        "!git clone https://github.com/genn-team/genn.git --branch pydoc -c advice.detachedHead=false"
      ]
    },
    {
      "cell_type": "markdown",
      "metadata": {
        "id": "uagk-hhAixLD"
      },
      "source": [
        "Set environment variable to allow GeNN to find CUDA"
      ]
    },
    {
      "cell_type": "code",
      "execution_count": 3,
      "metadata": {
        "colab": {
          "base_uri": "https://localhost:8080/"
        },
        "id": "oUbPhw4miWaA",
        "outputId": "c66151fa-0414-4174-da62-54cfcc6ce309"
      },
      "outputs": [
        {
          "output_type": "stream",
          "name": "stdout",
          "text": [
            "env: CUDA_PATH=/usr/local/cuda\n"
          ]
        }
      ],
      "source": [
        "%env CUDA_PATH=/usr/local/cuda"
      ]
    },
    {
      "cell_type": "markdown",
      "metadata": {
        "id": "Y_uiCnZOfKeL"
      },
      "source": [
        "Go into our newly created GeNN directory, build the GeNN library using make and then build PyGeNN using setuptools"
      ]
    },
    {
      "cell_type": "code",
      "execution_count": 4,
      "metadata": {
        "colab": {
          "base_uri": "https://localhost:8080/"
        },
        "id": "x8AC1auubl2h",
        "outputId": "e2974d6f-cb4c-44a4-f4c6-353a7f77fbe2"
      },
      "outputs": [
        {
          "output_type": "stream",
          "name": "stdout",
          "text": [
            "/content/genn\n",
            "Processing /content/genn\n",
            "  Preparing metadata (setup.py) ... \u001b[?25l\u001b[?25hdone\n",
            "Collecting numpy>=1.17 (from pygenn==5.0.0)\n",
            "  Using cached numpy-1.26.4-cp310-cp310-manylinux_2_17_x86_64.manylinux2014_x86_64.whl (18.2 MB)\n",
            "Collecting deprecated (from pygenn==5.0.0)\n",
            "  Using cached Deprecated-1.2.14-py2.py3-none-any.whl (9.6 kB)\n",
            "Collecting psutil (from pygenn==5.0.0)\n",
            "  Using cached psutil-5.9.8-cp36-abi3-manylinux_2_12_x86_64.manylinux2010_x86_64.manylinux_2_17_x86_64.manylinux2014_x86_64.whl (288 kB)\n",
            "Collecting wrapt<2,>=1.10 (from deprecated->pygenn==5.0.0)\n",
            "  Using cached wrapt-1.16.0-cp310-cp310-manylinux_2_5_x86_64.manylinux1_x86_64.manylinux_2_17_x86_64.manylinux2014_x86_64.whl (80 kB)\n",
            "Saved ./numpy-1.26.4-cp310-cp310-manylinux_2_17_x86_64.manylinux2014_x86_64.whl\n",
            "Saved ./Deprecated-1.2.14-py2.py3-none-any.whl\n",
            "Saved ./psutil-5.9.8-cp36-abi3-manylinux_2_12_x86_64.manylinux2010_x86_64.manylinux_2_17_x86_64.manylinux2014_x86_64.whl\n",
            "Saved ./wrapt-1.16.0-cp310-cp310-manylinux_2_5_x86_64.manylinux1_x86_64.manylinux_2_17_x86_64.manylinux2014_x86_64.whl\n",
            "Building wheels for collected packages: pygenn\n",
            "  Building wheel for pygenn (setup.py) ... \u001b[?25l\u001b[?25hdone\n",
            "  Created wheel for pygenn: filename=pygenn-5.0.0-cp310-cp310-linux_x86_64.whl size=8292950 sha256=088c2e0e5563198e68f7eb88f06c311e3afc702bea4e474faecdc9ba86800681\n",
            "  Stored in directory: /tmp/pip-ephem-wheel-cache-6e_jln1d/wheels/6b/74/84/00924c093596b65222f9c6b14f36b8fd82a86c14fd001ded68\n",
            "Successfully built pygenn\n"
          ]
        }
      ],
      "source": [
        "%cd /content/genn\n",
        "#!python setup.py bdist_wheel\n",
        "!pip wheel ."
      ]
    },
    {
      "cell_type": "markdown",
      "metadata": {
        "id": "lGa0_oLb61zz"
      },
      "source": [
        "# Save wheel to Google Drive\n",
        "First mount Google drive"
      ]
    },
    {
      "cell_type": "code",
      "execution_count": 5,
      "metadata": {
        "colab": {
          "base_uri": "https://localhost:8080/"
        },
        "id": "t2ihZLXh5VD-",
        "outputId": "8c9e0ff5-4cc9-4bae-9238-bd8c77bff910"
      },
      "outputs": [
        {
          "output_type": "stream",
          "name": "stdout",
          "text": [
            "Mounted at /content/drive\n"
          ]
        }
      ],
      "source": [
        "from google.colab import drive\n",
        "drive.mount(\"/content/drive\")\n"
      ]
    },
    {
      "cell_type": "markdown",
      "metadata": {
        "id": "4oxLk_xy67Pd"
      },
      "source": [
        "and then copy wheel file into folder with tutorials"
      ]
    },
    {
      "cell_type": "code",
      "execution_count": 7,
      "metadata": {
        "colab": {
          "base_uri": "https://localhost:8080/",
          "height": 53
        },
        "id": "v7Hg9SPK5bZO",
        "outputId": "10c601ee-538c-4e6c-e57a-c3a8edd5627f"
      },
      "outputs": [
        {
          "output_type": "stream",
          "name": "stdout",
          "text": [
            "pygenn-5.0.0-cp310-cp310-linux_x86_64.whl\n"
          ]
        },
        {
          "output_type": "execute_result",
          "data": {
            "text/plain": [
              "'/content/drive/MyDrive/genn_tutorials/pygenn-5.0.0-cp310-cp310-linux_x86_64.whl'"
            ],
            "application/vnd.google.colaboratory.intrinsic+json": {
              "type": "string"
            }
          },
          "metadata": {},
          "execution_count": 7
        }
      ],
      "source": [
        "from platform import python_implementation, python_version_tuple\n",
        "from shutil import copy\n",
        "from wheel.bdist_wheel import get_abi_tag, get_platform\n",
        "\n",
        "assert python_implementation() == \"CPython\"\n",
        "version_tuple = python_version_tuple()\n",
        "wheel_name = f\"pygenn-5.0.0-cp{version_tuple[0]}{version_tuple[1]}-{get_abi_tag()}-{get_platform(None)}.whl\"\n",
        "print(wheel_name)\n",
        "copy(f\"/content/genn/{wheel_name}\", f\"/content/drive/MyDrive/genn_tutorials/{wheel_name}\")"
      ]
    },
    {
      "cell_type": "code",
      "execution_count": null,
      "metadata": {
        "id": "xUDb70KBTvHn"
      },
      "outputs": [],
      "source": []
    }
  ],
  "metadata": {
    "accelerator": "GPU",
    "colab": {
      "name": "wheel_build",
      "provenance": []
    },
    "kernelspec": {
      "display_name": "Python 3",
      "language": "python",
      "name": "python3"
    },
    "language_info": {
      "codemirror_mode": {
        "name": "ipython",
        "version": 3
      },
      "file_extension": ".py",
      "mimetype": "text/x-python",
      "name": "python",
      "nbconvert_exporter": "python",
      "pygments_lexer": "ipython3",
      "version": "3.7.7"
    }
  },
  "nbformat": 4,
  "nbformat_minor": 0
}