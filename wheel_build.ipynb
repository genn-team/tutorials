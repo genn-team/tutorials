{
  "cells": [
    {
      "cell_type": "markdown",
      "metadata": {
        "id": "WGpkOTlce2g-"
      },
      "source": [
        "# Install PyGeNN\n",
        "Use apt-get to install FFI (required to build PyGeNN from source)"
      ]
    },
    {
      "cell_type": "code",
      "source": [
        "!apt-get install libffi-dev"
      ],
      "metadata": {
        "colab": {
          "base_uri": "https://localhost:8080/"
        },
        "id": "av2UfhVd1EX7",
        "outputId": "69d5ea34-a1c7-4c58-df6f-5fbb9a473134"
      },
      "execution_count": 6,
      "outputs": [
        {
          "output_type": "stream",
          "name": "stdout",
          "text": [
            "Reading package lists... Done\n",
            "Building dependency tree... Done\n",
            "Reading state information... Done\n",
            "The following NEW packages will be installed:\n",
            "  libffi-dev\n",
            "0 upgraded, 1 newly installed, 0 to remove and 49 not upgraded.\n",
            "Need to get 63.7 kB of archives.\n",
            "After this operation, 336 kB of additional disk space will be used.\n",
            "Get:1 http://archive.ubuntu.com/ubuntu jammy/main amd64 libffi-dev amd64 3.4.2-4 [63.7 kB]\n",
            "Fetched 63.7 kB in 0s (193 kB/s)\n",
            "Selecting previously unselected package libffi-dev:amd64.\n",
            "(Reading database ... 123630 files and directories currently installed.)\n",
            "Preparing to unpack .../libffi-dev_3.4.2-4_amd64.deb ...\n",
            "Unpacking libffi-dev:amd64 (3.4.2-4) ...\n",
            "Setting up libffi-dev:amd64 (3.4.2-4) ...\n",
            "Processing triggers for man-db (2.10.2-1) ...\n"
          ]
        }
      ]
    },
    {
      "cell_type": "markdown",
      "metadata": {
        "id": "CVGPTAgAfAoL"
      },
      "source": [
        "Checkout latest GeNN release from GitHub (ignore warnings about detached heads)"
      ]
    },
    {
      "cell_type": "code",
      "execution_count": 1,
      "metadata": {
        "colab": {
          "base_uri": "https://localhost:8080/"
        },
        "id": "g_ai7mhqbAKA",
        "outputId": "3fdc9176-b60a-4779-887e-2076ea2b94a9"
      },
      "outputs": [
        {
          "output_type": "stream",
          "name": "stdout",
          "text": [
            "Cloning into 'genn'...\n",
            "remote: Enumerating objects: 133971, done.\u001b[K\n",
            "remote: Counting objects: 100% (18336/18336), done.\u001b[K\n",
            "remote: Compressing objects: 100% (5283/5283), done.\u001b[K\n",
            "remote: Total 133971 (delta 12796), reused 17587 (delta 12585), pack-reused 115635 (from 1)\u001b[K\n",
            "Receiving objects: 100% (133971/133971), 251.21 MiB | 16.98 MiB/s, done.\n",
            "Resolving deltas: 100% (95199/95199), done.\n"
          ]
        }
      ],
      "source": [
        "!rm -rf /content/genn\n",
        "!git clone https://github.com/genn-team/genn.git --branch 5.1.0 -c advice.detachedHead=false"
      ]
    },
    {
      "cell_type": "markdown",
      "metadata": {
        "id": "uagk-hhAixLD"
      },
      "source": [
        "Set environment variable to allow GeNN to find CUDA"
      ]
    },
    {
      "cell_type": "code",
      "execution_count": 2,
      "metadata": {
        "colab": {
          "base_uri": "https://localhost:8080/"
        },
        "id": "oUbPhw4miWaA",
        "outputId": "8e9b5e5f-361a-4f75-d74f-a69eb78378a7"
      },
      "outputs": [
        {
          "output_type": "stream",
          "name": "stdout",
          "text": [
            "env: CUDA_PATH=/usr/local/cuda\n"
          ]
        }
      ],
      "source": [
        "%env CUDA_PATH=/usr/local/cuda"
      ]
    },
    {
      "cell_type": "markdown",
      "source": [
        "Insall Python dependencies"
      ],
      "metadata": {
        "id": "eD9hq2-n1RFo"
      }
    },
    {
      "cell_type": "code",
      "source": [
        "!pip install psutil pybind11"
      ],
      "metadata": {
        "colab": {
          "base_uri": "https://localhost:8080/"
        },
        "id": "R8qyZEe_1Nwa",
        "outputId": "f66ac50c-3b1a-4e16-ca6e-01c67cf374a1"
      },
      "execution_count": 7,
      "outputs": [
        {
          "output_type": "stream",
          "name": "stdout",
          "text": [
            "Requirement already satisfied: psutil in /usr/local/lib/python3.10/dist-packages (5.9.5)\n",
            "Collecting pybind11\n",
            "  Downloading pybind11-2.13.6-py3-none-any.whl.metadata (9.5 kB)\n",
            "Downloading pybind11-2.13.6-py3-none-any.whl (243 kB)\n",
            "\u001b[?25l   \u001b[90m━━━━━━━━━━━━━━━━━━━━━━━━━━━━━━━━━━━━━━━━\u001b[0m \u001b[32m0.0/243.3 kB\u001b[0m \u001b[31m?\u001b[0m eta \u001b[36m-:--:--\u001b[0m\r\u001b[2K   \u001b[91m━━━━━━━━━━━━━━━━━━━━━━━━━━━━━━━━━━━━━━\u001b[0m\u001b[91m╸\u001b[0m\u001b[90m━\u001b[0m \u001b[32m235.5/243.3 kB\u001b[0m \u001b[31m8.5 MB/s\u001b[0m eta \u001b[36m0:00:01\u001b[0m\r\u001b[2K   \u001b[90m━━━━━━━━━━━━━━━━━━━━━━━━━━━━━━━━━━━━━━━━\u001b[0m \u001b[32m243.3/243.3 kB\u001b[0m \u001b[31m6.3 MB/s\u001b[0m eta \u001b[36m0:00:00\u001b[0m\n",
            "\u001b[?25hInstalling collected packages: pybind11\n",
            "Successfully installed pybind11-2.13.6\n"
          ]
        }
      ]
    },
    {
      "cell_type": "markdown",
      "metadata": {
        "id": "Y_uiCnZOfKeL"
      },
      "source": [
        "Go into our newly created GeNN directory, build the GeNN library using make and then build PyGeNN using setuptools"
      ]
    },
    {
      "cell_type": "code",
      "execution_count": 8,
      "metadata": {
        "colab": {
          "base_uri": "https://localhost:8080/"
        },
        "id": "x8AC1auubl2h",
        "outputId": "8dd85743-54d2-4e4b-fd4c-b0dfe3b10068"
      },
      "outputs": [
        {
          "output_type": "stream",
          "name": "stdout",
          "text": [
            "/content/genn\n",
            "make -C src/genn/genn\n",
            "make[1]: Entering directory '/content/genn/src/genn/genn'\n",
            "mkdir -p /content/genn/obj_dynamic/genn/genn\n",
            "g++ -std=c++17 -Wall -Wpedantic -Wextra -MMD -MP -I/content/genn/include/genn/genn -I/content/genn/include/genn/third_party  -fPIC -DGENN_VERSION=\\\"5.1.0\\\" -DGIT_HASH=\\\"d9738170aed5897c56c8c18e09934e2109fa8215\\\" -c -o /content/genn/obj_dynamic/genn/genn/binomial.o binomial.cc\n",
            "mkdir -p /content/genn/obj_dynamic/genn/genn\n",
            "g++ -std=c++17 -Wall -Wpedantic -Wextra -MMD -MP -I/content/genn/include/genn/genn -I/content/genn/include/genn/third_party  -fPIC -DGENN_VERSION=\\\"5.1.0\\\" -DGIT_HASH=\\\"d9738170aed5897c56c8c18e09934e2109fa8215\\\" -c -o /content/genn/obj_dynamic/genn/genn/currentSource.o currentSource.cc\n",
            "mkdir -p /content/genn/obj_dynamic/genn/genn\n",
            "g++ -std=c++17 -Wall -Wpedantic -Wextra -MMD -MP -I/content/genn/include/genn/genn -I/content/genn/include/genn/third_party  -fPIC -DGENN_VERSION=\\\"5.1.0\\\" -DGIT_HASH=\\\"d9738170aed5897c56c8c18e09934e2109fa8215\\\" -c -o /content/genn/obj_dynamic/genn/genn/currentSourceModels.o currentSourceModels.cc\n",
            "mkdir -p /content/genn/obj_dynamic/genn/genn\n",
            "g++ -std=c++17 -Wall -Wpedantic -Wextra -MMD -MP -I/content/genn/include/genn/genn -I/content/genn/include/genn/third_party  -fPIC -DGENN_VERSION=\\\"5.1.0\\\" -DGIT_HASH=\\\"d9738170aed5897c56c8c18e09934e2109fa8215\\\" -c -o /content/genn/obj_dynamic/genn/genn/customConnectivityUpdate.o customConnectivityUpdate.cc\n",
            "mkdir -p /content/genn/obj_dynamic/genn/genn\n",
            "g++ -std=c++17 -Wall -Wpedantic -Wextra -MMD -MP -I/content/genn/include/genn/genn -I/content/genn/include/genn/third_party  -fPIC -DGENN_VERSION=\\\"5.1.0\\\" -DGIT_HASH=\\\"d9738170aed5897c56c8c18e09934e2109fa8215\\\" -c -o /content/genn/obj_dynamic/genn/genn/customConnectivityUpdateModels.o customConnectivityUpdateModels.cc\n",
            "mkdir -p /content/genn/obj_dynamic/genn/genn\n",
            "g++ -std=c++17 -Wall -Wpedantic -Wextra -MMD -MP -I/content/genn/include/genn/genn -I/content/genn/include/genn/third_party  -fPIC -DGENN_VERSION=\\\"5.1.0\\\" -DGIT_HASH=\\\"d9738170aed5897c56c8c18e09934e2109fa8215\\\" -c -o /content/genn/obj_dynamic/genn/genn/customUpdate.o customUpdate.cc\n",
            "mkdir -p /content/genn/obj_dynamic/genn/genn\n",
            "g++ -std=c++17 -Wall -Wpedantic -Wextra -MMD -MP -I/content/genn/include/genn/genn -I/content/genn/include/genn/third_party  -fPIC -DGENN_VERSION=\\\"5.1.0\\\" -DGIT_HASH=\\\"d9738170aed5897c56c8c18e09934e2109fa8215\\\" -c -o /content/genn/obj_dynamic/genn/genn/customUpdateModels.o customUpdateModels.cc\n",
            "mkdir -p /content/genn/obj_dynamic/genn/genn\n",
            "g++ -std=c++17 -Wall -Wpedantic -Wextra -MMD -MP -I/content/genn/include/genn/genn -I/content/genn/include/genn/third_party  -fPIC -DGENN_VERSION=\\\"5.1.0\\\" -DGIT_HASH=\\\"d9738170aed5897c56c8c18e09934e2109fa8215\\\" -c -o /content/genn/obj_dynamic/genn/genn/gennUtils.o gennUtils.cc\n",
            "mkdir -p /content/genn/obj_dynamic/genn/genn\n",
            "g++ -std=c++17 -Wall -Wpedantic -Wextra -MMD -MP -I/content/genn/include/genn/genn -I/content/genn/include/genn/third_party  -fPIC -DGENN_VERSION=\\\"5.1.0\\\" -DGIT_HASH=\\\"d9738170aed5897c56c8c18e09934e2109fa8215\\\" -c -o /content/genn/obj_dynamic/genn/genn/initSparseConnectivitySnippet.o initSparseConnectivitySnippet.cc\n",
            "mkdir -p /content/genn/obj_dynamic/genn/genn\n",
            "g++ -std=c++17 -Wall -Wpedantic -Wextra -MMD -MP -I/content/genn/include/genn/genn -I/content/genn/include/genn/third_party  -fPIC -DGENN_VERSION=\\\"5.1.0\\\" -DGIT_HASH=\\\"d9738170aed5897c56c8c18e09934e2109fa8215\\\" -c -o /content/genn/obj_dynamic/genn/genn/initToeplitzConnectivitySnippet.o initToeplitzConnectivitySnippet.cc\n",
            "mkdir -p /content/genn/obj_dynamic/genn/genn\n",
            "g++ -std=c++17 -Wall -Wpedantic -Wextra -MMD -MP -I/content/genn/include/genn/genn -I/content/genn/include/genn/third_party  -fPIC -DGENN_VERSION=\\\"5.1.0\\\" -DGIT_HASH=\\\"d9738170aed5897c56c8c18e09934e2109fa8215\\\" -c -o /content/genn/obj_dynamic/genn/genn/initVarSnippet.o initVarSnippet.cc\n",
            "mkdir -p /content/genn/obj_dynamic/genn/genn\n",
            "g++ -std=c++17 -Wall -Wpedantic -Wextra -MMD -MP -I/content/genn/include/genn/genn -I/content/genn/include/genn/third_party  -fPIC -DGENN_VERSION=\\\"5.1.0\\\" -DGIT_HASH=\\\"d9738170aed5897c56c8c18e09934e2109fa8215\\\" -c -o /content/genn/obj_dynamic/genn/genn/logging.o logging.cc\n",
            "mkdir -p /content/genn/obj_dynamic/genn/genn\n",
            "g++ -std=c++17 -Wall -Wpedantic -Wextra -MMD -MP -I/content/genn/include/genn/genn -I/content/genn/include/genn/third_party  -fPIC -DGENN_VERSION=\\\"5.1.0\\\" -DGIT_HASH=\\\"d9738170aed5897c56c8c18e09934e2109fa8215\\\" -c -o /content/genn/obj_dynamic/genn/genn/models.o models.cc\n",
            "mkdir -p /content/genn/obj_dynamic/genn/genn\n",
            "g++ -std=c++17 -Wall -Wpedantic -Wextra -MMD -MP -I/content/genn/include/genn/genn -I/content/genn/include/genn/third_party  -fPIC -DGENN_VERSION=\\\"5.1.0\\\" -DGIT_HASH=\\\"d9738170aed5897c56c8c18e09934e2109fa8215\\\" -c -o /content/genn/obj_dynamic/genn/genn/modelSpec.o modelSpec.cc\n",
            "mkdir -p /content/genn/obj_dynamic/genn/genn\n",
            "g++ -std=c++17 -Wall -Wpedantic -Wextra -MMD -MP -I/content/genn/include/genn/genn -I/content/genn/include/genn/third_party  -fPIC -DGENN_VERSION=\\\"5.1.0\\\" -DGIT_HASH=\\\"d9738170aed5897c56c8c18e09934e2109fa8215\\\" -c -o /content/genn/obj_dynamic/genn/genn/neuronGroup.o neuronGroup.cc\n",
            "mkdir -p /content/genn/obj_dynamic/genn/genn\n",
            "g++ -std=c++17 -Wall -Wpedantic -Wextra -MMD -MP -I/content/genn/include/genn/genn -I/content/genn/include/genn/third_party  -fPIC -DGENN_VERSION=\\\"5.1.0\\\" -DGIT_HASH=\\\"d9738170aed5897c56c8c18e09934e2109fa8215\\\" -c -o /content/genn/obj_dynamic/genn/genn/neuronModels.o neuronModels.cc\n",
            "mkdir -p /content/genn/obj_dynamic/genn/genn\n",
            "g++ -std=c++17 -Wall -Wpedantic -Wextra -MMD -MP -I/content/genn/include/genn/genn -I/content/genn/include/genn/third_party  -fPIC -DGENN_VERSION=\\\"5.1.0\\\" -DGIT_HASH=\\\"d9738170aed5897c56c8c18e09934e2109fa8215\\\" -c -o /content/genn/obj_dynamic/genn/genn/postsynapticModels.o postsynapticModels.cc\n",
            "mkdir -p /content/genn/obj_dynamic/genn/genn\n",
            "g++ -std=c++17 -Wall -Wpedantic -Wextra -MMD -MP -I/content/genn/include/genn/genn -I/content/genn/include/genn/third_party  -fPIC -DGENN_VERSION=\\\"5.1.0\\\" -DGIT_HASH=\\\"d9738170aed5897c56c8c18e09934e2109fa8215\\\" -c -o /content/genn/obj_dynamic/genn/genn/snippet.o snippet.cc\n",
            "mkdir -p /content/genn/obj_dynamic/genn/genn\n",
            "g++ -std=c++17 -Wall -Wpedantic -Wextra -MMD -MP -I/content/genn/include/genn/genn -I/content/genn/include/genn/third_party  -fPIC -DGENN_VERSION=\\\"5.1.0\\\" -DGIT_HASH=\\\"d9738170aed5897c56c8c18e09934e2109fa8215\\\" -c -o /content/genn/obj_dynamic/genn/genn/synapseGroup.o synapseGroup.cc\n",
            "mkdir -p /content/genn/obj_dynamic/genn/genn\n",
            "g++ -std=c++17 -Wall -Wpedantic -Wextra -MMD -MP -I/content/genn/include/genn/genn -I/content/genn/include/genn/third_party  -fPIC -DGENN_VERSION=\\\"5.1.0\\\" -DGIT_HASH=\\\"d9738170aed5897c56c8c18e09934e2109fa8215\\\" -c -o /content/genn/obj_dynamic/genn/genn/type.o type.cc\n",
            "type.cc: In instantiation of ‘\u001b[01m\u001b[KGeNN::Type::NumericValue::operator==(const GeNN::Type::NumericValue&) const::<lambda(auto:24, auto:25)> [with auto:24 = long unsigned int; auto:25 = long int]\u001b[m\u001b[K’:\n",
            "\u001b[01m\u001b[K/usr/include/c++/11/type_traits:2530:26:\u001b[m\u001b[K   required by substitution of ‘\u001b[01m\u001b[Ktemplate<class _Fn, class ... _Args> static std::__result_of_success<decltype (declval<_Fn>()((declval<_Args>)()...)), std::__invoke_other> std::__result_of_other_impl::_S_test(int) [with _Fn = GeNN::Type::NumericValue::operator==(const GeNN::Type::NumericValue&) const::<lambda(auto:24, auto:25)>; _Args = {const long unsigned int&, const long int&}]\u001b[m\u001b[K’\n",
            "\u001b[01m\u001b[K/usr/include/c++/11/type_traits:2541:55:\u001b[m\u001b[K   required from ‘\u001b[01m\u001b[Kstruct std::__result_of_impl<false, false, GeNN::Type::NumericValue::operator==(const GeNN::Type::NumericValue&) const::<lambda(auto:24, auto:25)>, const long unsigned int&, const long int&>\u001b[m\u001b[K’\n",
            "\u001b[01m\u001b[K/usr/include/c++/11/type_traits:2546:12:\u001b[m\u001b[K   required from ‘\u001b[01m\u001b[Kstruct std::__invoke_result<GeNN::Type::NumericValue::operator==(const GeNN::Type::NumericValue&) const::<lambda(auto:24, auto:25)>, const long unsigned int&, const long int&>\u001b[m\u001b[K’\n",
            "\u001b[01m\u001b[K/usr/include/c++/11/bits/invoke.h:90:5:\u001b[m\u001b[K   required by substitution of ‘\u001b[01m\u001b[Ktemplate<class _Callable, class ... _Args> constexpr typename std::__invoke_result<_Functor, _ArgTypes>::type std::__invoke(_Callable&&, _Args&& ...) [with _Callable = GeNN::Type::NumericValue::operator==(const GeNN::Type::NumericValue&) const::<lambda(auto:24, auto:25)>; _Args = {const long unsigned int&, const long int&}]\u001b[m\u001b[K’\n",
            "\u001b[01m\u001b[K/usr/include/c++/11/variant:1016:24:\u001b[m\u001b[K   required from ‘\u001b[01m\u001b[Kstatic constexpr decltype(auto) std::__detail::__variant::__gen_vtable_impl<std::__detail::__variant::_Multi_array<_Result_type (*)(_Visitor, _Variants ...)>, std::integer_sequence<long unsigned int, __indices ...> >::__visit_invoke(_Visitor&&, _Variants ...) [with _Result_type = std::__detail::__variant::__deduce_visit_result<bool>; _Visitor = GeNN::Type::NumericValue::operator==(const GeNN::Type::NumericValue&) const::<lambda(auto:24, auto:25)>&&; _Variants = {const std::variant<double, long unsigned int, long int>&, const std::variant<double, long unsigned int, long int>&}; long unsigned int ...__indices = {1, 2}]\u001b[m\u001b[K’\n",
            "\u001b[01m\u001b[K/usr/include/c++/11/variant:1032:28:\u001b[m\u001b[K   required from ‘\u001b[01m\u001b[Kstatic constexpr auto std::__detail::__variant::__gen_vtable_impl<std::__detail::__variant::_Multi_array<_Result_type (*)(_Visitor, _Variants ...)>, std::integer_sequence<long unsigned int, __indices ...> >::_S_apply() [with _Result_type = std::__detail::__variant::__deduce_visit_result<bool>; _Visitor = GeNN::Type::NumericValue::operator==(const GeNN::Type::NumericValue&) const::<lambda(auto:24, auto:25)>&&; _Variants = {const std::variant<double, long unsigned int, long int>&, const std::variant<double, long unsigned int, long int>&}; long unsigned int ...__indices = {1, 2}]\u001b[m\u001b[K’\n",
            "\u001b[01m\u001b[K/usr/include/c++/11/variant:968:56:\u001b[m\u001b[K   required from ‘\u001b[01m\u001b[Kstatic constexpr void std::__detail::__variant::__gen_vtable_impl<std::__detail::__variant::_Multi_array<_Result_type (*)(_Visitor, _Variants ...), __dimensions ...>, std::integer_sequence<long unsigned int, __indices ...> >::_S_apply_single_alt(_Tp&, _Tp*) [with bool __do_cookie = false; long unsigned int __index = 2; _Tp = std::__detail::__variant::_Multi_array<std::__detail::__variant::__deduce_visit_result<bool> (*)(GeNN::Type::NumericValue::operator==(const GeNN::Type::NumericValue&) const::<lambda(auto:24, auto:25)>&&, const std::variant<double, long unsigned int, long int>&, const std::variant<double, long unsigned int, long int>&)>; _Result_type = std::__detail::__variant::__deduce_visit_result<bool>; _Visitor = GeNN::Type::NumericValue::operator==(const GeNN::Type::NumericValue&) const::<lambda(auto:24, auto:25)>&&; long unsigned int ...__dimensions = {3}; _Variants = {const std::variant<double, long unsigned int, long int>&, const std::variant<double, long unsigned int, long int>&}; long unsigned int ...__indices = {1}]\u001b[m\u001b[K’\n",
            "\u001b[01m\u001b[K/usr/include/c++/11/variant:947:48:\u001b[m\u001b[K   required from ‘\u001b[01m\u001b[Kconstexpr const _Array_type std::__detail::__variant::__gen_vtable<std::__detail::__variant::__deduce_visit_result<bool>, GeNN::Type::NumericValue::operator==(const GeNN::Type::NumericValue&) const::<lambda(auto:24, auto:25)>&&, const std::variant<double, long unsigned int, long int>&, const std::variant<double, long unsigned int, long int>&>::_S_vtable\u001b[m\u001b[K’\n",
            "\u001b[01m\u001b[K/usr/include/c++/11/variant:1724:45:\u001b[m\u001b[K   required from ‘\u001b[01m\u001b[Kconstexpr decltype(auto) std::__do_visit(_Visitor&&, _Variants&& ...) [with _Result_type = std::__detail::__variant::__deduce_visit_result<bool>; _Visitor = GeNN::Type::NumericValue::operator==(const GeNN::Type::NumericValue&) const::<lambda(auto:24, auto:25)>; _Variants = {const std::variant<double, long unsigned int, long int>&, const std::variant<double, long unsigned int, long int>&}]\u001b[m\u001b[K’\n",
            "\u001b[01m\u001b[K/usr/include/c++/11/variant:1766:30:\u001b[m\u001b[K   required from ‘\u001b[01m\u001b[Kconstexpr std::__detail::__variant::__visit_result_t<_Visitor, _Variants ...> std::visit(_Visitor&&, _Variants&& ...) [with _Visitor = GeNN::Type::NumericValue::operator==(const GeNN::Type::NumericValue&) const::<lambda(auto:24, auto:25)>; _Variants = {const std::variant<double, long unsigned int, long int>&, const std::variant<double, long unsigned int, long int>&}; std::__detail::__variant::__visit_result_t<_Visitor, _Variants ...> = bool]\u001b[m\u001b[K’\n",
            "\u001b[01m\u001b[Ktype.cc:36:22:\u001b[m\u001b[K   required from here\n",
            "\u001b[01m\u001b[K/usr/include/c++/11/variant:1055:67:\u001b[m\u001b[K   in ‘\u001b[01m\u001b[Kconstexpr\u001b[m\u001b[K’ expansion of ‘\u001b[01m\u001b[Kstd::__detail::__variant::__gen_vtable_impl<std::__detail::__variant::_Multi_array<std::__detail::__variant::__deduce_visit_result<bool> (*)(GeNN::Type::NumericValue::operator==(const GeNN::Type::NumericValue&) const::<lambda(auto:24, auto:25)>&&, const std::variant<double, long unsigned int, long int>&, const std::variant<double, long unsigned int, long int>&), 3, 3>, std::integer_sequence<long unsigned int> >::_S_apply()\u001b[m\u001b[K’\n",
            "\u001b[01m\u001b[K/usr/include/c++/11/variant:932:19:\u001b[m\u001b[K   in ‘\u001b[01m\u001b[Kconstexpr\u001b[m\u001b[K’ expansion of ‘\u001b[01m\u001b[Kstd::__detail::__variant::__gen_vtable_impl<std::__detail::__variant::_Multi_array<std::__detail::__variant::__deduce_visit_result<bool> (*)(GeNN::Type::NumericValue::operator==(const GeNN::Type::NumericValue&) const::<lambda(auto:24, auto:25)>&&, const std::variant<double, long unsigned int, long int>&, const std::variant<double, long unsigned int, long int>&), 3, 3>, std::integer_sequence<long unsigned int> >::_S_apply_all_alts<0, 1, 2>(__vtable, (std::make_index_sequence<3>(), std::make_index_sequence<3>()))\u001b[m\u001b[K’\n",
            "\u001b[01m\u001b[K/usr/include/c++/11/variant:947:48:\u001b[m\u001b[K   in ‘\u001b[01m\u001b[Kconstexpr\u001b[m\u001b[K’ expansion of ‘\u001b[01m\u001b[Kstd::__detail::__variant::__gen_vtable_impl<std::__detail::__variant::_Multi_array<std::__detail::__variant::__deduce_visit_result<bool> (*)(GeNN::Type::NumericValue::operator==(const GeNN::Type::NumericValue&) const::<lambda(auto:24, auto:25)>&&, const std::variant<double, long unsigned int, long int>&, const std::variant<double, long unsigned int, long int>&), 3, 3>, std::integer_sequence<long unsigned int> >::_S_apply_single_alt<false, 1, std::__detail::__variant::_Multi_array<std::__detail::__variant::__deduce_visit_result<bool> (*)(GeNN::Type::NumericValue::operator==(const GeNN::Type::NumericValue&) const::<lambda(auto:24, auto:25)>&&, const std::variant<double, long unsigned int, long int>&, const std::variant<double, long unsigned int, long int>&), 3> >(__vtable.std::__detail::__variant::_Multi_array<std::__detail::__variant::__deduce_visit_result<bool> (*)(GeNN::Type::NumericValue::operator==(const GeNN::Type::NumericValue&) const::<lambda(auto:24, auto:25)>&&, const std::variant<double, long unsigned int, long int>&, const std::variant<double, long unsigned int, long int>&), 3, 3>::_M_arr[1], 0)\u001b[m\u001b[K’\n",
            "\u001b[01m\u001b[K/usr/include/c++/11/variant:968:56:\u001b[m\u001b[K   in ‘\u001b[01m\u001b[Kconstexpr\u001b[m\u001b[K’ expansion of ‘\u001b[01m\u001b[Kstd::__detail::__variant::__gen_vtable_impl<std::__detail::__variant::_Multi_array<std::__detail::__variant::__deduce_visit_result<bool> (*)(GeNN::Type::NumericValue::operator==(const GeNN::Type::NumericValue&) const::<lambda(auto:24, auto:25)>&&, const std::variant<double, long unsigned int, long int>&, const std::variant<double, long unsigned int, long int>&), 3>, std::integer_sequence<long unsigned int, 1> >::_S_apply()\u001b[m\u001b[K’\n",
            "\u001b[01m\u001b[K/usr/include/c++/11/variant:932:19:\u001b[m\u001b[K   in ‘\u001b[01m\u001b[Kconstexpr\u001b[m\u001b[K’ expansion of ‘\u001b[01m\u001b[Kstd::__detail::__variant::__gen_vtable_impl<std::__detail::__variant::_Multi_array<std::__detail::__variant::__deduce_visit_result<bool> (*)(GeNN::Type::NumericValue::operator==(const GeNN::Type::NumericValue&) const::<lambda(auto:24, auto:25)>&&, const std::variant<double, long unsigned int, long int>&, const std::variant<double, long unsigned int, long int>&), 3>, std::integer_sequence<long unsigned int, 1> >::_S_apply_all_alts<0, 1, 2>(__vtable, (std::make_index_sequence<3>(), std::make_index_sequence<3>()))\u001b[m\u001b[K’\n",
            "\u001b[01m\u001b[Ktype.cc:39:22:\u001b[m\u001b[K \u001b[01;35m\u001b[Kwarning: \u001b[m\u001b[Kcomparison of integer expressions of different signedness: ‘\u001b[01m\u001b[Klong unsigned int\u001b[m\u001b[K’ and ‘\u001b[01m\u001b[Klong int\u001b[m\u001b[K’ [\u001b[01;35m\u001b[K\u001b]8;;https://gcc.gnu.org/onlinedocs/gcc/Warning-Options.html#index-Wsign-compare\u0007-Wsign-compare\u001b]8;;\u0007\u001b[m\u001b[K]\n",
            "   39 |             return \u001b[01;35m\u001b[Ka == b\u001b[m\u001b[K;\n",
            "      |                    \u001b[01;35m\u001b[K~~^~~~\u001b[m\u001b[K\n",
            "type.cc: In instantiation of ‘\u001b[01m\u001b[KGeNN::Type::NumericValue::operator==(const GeNN::Type::NumericValue&) const::<lambda(auto:24, auto:25)> [with auto:24 = long int; auto:25 = long unsigned int]\u001b[m\u001b[K’:\n",
            "\u001b[01m\u001b[K/usr/include/c++/11/type_traits:2530:26:\u001b[m\u001b[K   required by substitution of ‘\u001b[01m\u001b[Ktemplate<class _Fn, class ... _Args> static std::__result_of_success<decltype (declval<_Fn>()((declval<_Args>)()...)), std::__invoke_other> std::__result_of_other_impl::_S_test(int) [with _Fn = GeNN::Type::NumericValue::operator==(const GeNN::Type::NumericValue&) const::<lambda(auto:24, auto:25)>; _Args = {const long int&, const long unsigned int&}]\u001b[m\u001b[K’\n",
            "\u001b[01m\u001b[K/usr/include/c++/11/type_traits:2541:55:\u001b[m\u001b[K   required from ‘\u001b[01m\u001b[Kstruct std::__result_of_impl<false, false, GeNN::Type::NumericValue::operator==(const GeNN::Type::NumericValue&) const::<lambda(auto:24, auto:25)>, const long int&, const long unsigned int&>\u001b[m\u001b[K’\n",
            "\u001b[01m\u001b[K/usr/include/c++/11/type_traits:2546:12:\u001b[m\u001b[K   required from ‘\u001b[01m\u001b[Kstruct std::__invoke_result<GeNN::Type::NumericValue::operator==(const GeNN::Type::NumericValue&) const::<lambda(auto:24, auto:25)>, const long int&, const long unsigned int&>\u001b[m\u001b[K’\n",
            "\u001b[01m\u001b[K/usr/include/c++/11/bits/invoke.h:90:5:\u001b[m\u001b[K   required by substitution of ‘\u001b[01m\u001b[Ktemplate<class _Callable, class ... _Args> constexpr typename std::__invoke_result<_Functor, _ArgTypes>::type std::__invoke(_Callable&&, _Args&& ...) [with _Callable = GeNN::Type::NumericValue::operator==(const GeNN::Type::NumericValue&) const::<lambda(auto:24, auto:25)>; _Args = {const long int&, const long unsigned int&}]\u001b[m\u001b[K’\n",
            "\u001b[01m\u001b[K/usr/include/c++/11/variant:1016:24:\u001b[m\u001b[K   required from ‘\u001b[01m\u001b[Kstatic constexpr decltype(auto) std::__detail::__variant::__gen_vtable_impl<std::__detail::__variant::_Multi_array<_Result_type (*)(_Visitor, _Variants ...)>, std::integer_sequence<long unsigned int, __indices ...> >::__visit_invoke(_Visitor&&, _Variants ...) [with _Result_type = std::__detail::__variant::__deduce_visit_result<bool>; _Visitor = GeNN::Type::NumericValue::operator==(const GeNN::Type::NumericValue&) const::<lambda(auto:24, auto:25)>&&; _Variants = {const std::variant<double, long unsigned int, long int>&, const std::variant<double, long unsigned int, long int>&}; long unsigned int ...__indices = {2, 1}]\u001b[m\u001b[K’\n",
            "\u001b[01m\u001b[K/usr/include/c++/11/variant:1032:28:\u001b[m\u001b[K   required from ‘\u001b[01m\u001b[Kstatic constexpr auto std::__detail::__variant::__gen_vtable_impl<std::__detail::__variant::_Multi_array<_Result_type (*)(_Visitor, _Variants ...)>, std::integer_sequence<long unsigned int, __indices ...> >::_S_apply() [with _Result_type = std::__detail::__variant::__deduce_visit_result<bool>; _Visitor = GeNN::Type::NumericValue::operator==(const GeNN::Type::NumericValue&) const::<lambda(auto:24, auto:25)>&&; _Variants = {const std::variant<double, long unsigned int, long int>&, const std::variant<double, long unsigned int, long int>&}; long unsigned int ...__indices = {2, 1}]\u001b[m\u001b[K’\n",
            "\u001b[01m\u001b[K/usr/include/c++/11/variant:968:56:\u001b[m\u001b[K   required from ‘\u001b[01m\u001b[Kstatic constexpr void std::__detail::__variant::__gen_vtable_impl<std::__detail::__variant::_Multi_array<_Result_type (*)(_Visitor, _Variants ...), __dimensions ...>, std::integer_sequence<long unsigned int, __indices ...> >::_S_apply_single_alt(_Tp&, _Tp*) [with bool __do_cookie = false; long unsigned int __index = 1; _Tp = std::__detail::__variant::_Multi_array<std::__detail::__variant::__deduce_visit_result<bool> (*)(GeNN::Type::NumericValue::operator==(const GeNN::Type::NumericValue&) const::<lambda(auto:24, auto:25)>&&, const std::variant<double, long unsigned int, long int>&, const std::variant<double, long unsigned int, long int>&)>; _Result_type = std::__detail::__variant::__deduce_visit_result<bool>; _Visitor = GeNN::Type::NumericValue::operator==(const GeNN::Type::NumericValue&) const::<lambda(auto:24, auto:25)>&&; long unsigned int ...__dimensions = {3}; _Variants = {const std::variant<double, long unsigned int, long int>&, const std::variant<double, long unsigned int, long int>&}; long unsigned int ...__indices = {2}]\u001b[m\u001b[K’\n",
            "\u001b[01m\u001b[K/usr/include/c++/11/variant:947:48:\u001b[m\u001b[K   required from ‘\u001b[01m\u001b[Kconstexpr const _Array_type std::__detail::__variant::__gen_vtable<std::__detail::__variant::__deduce_visit_result<bool>, GeNN::Type::NumericValue::operator==(const GeNN::Type::NumericValue&) const::<lambda(auto:24, auto:25)>&&, const std::variant<double, long unsigned int, long int>&, const std::variant<double, long unsigned int, long int>&>::_S_vtable\u001b[m\u001b[K’\n",
            "\u001b[01m\u001b[K/usr/include/c++/11/variant:1724:45:\u001b[m\u001b[K   required from ‘\u001b[01m\u001b[Kconstexpr decltype(auto) std::__do_visit(_Visitor&&, _Variants&& ...) [with _Result_type = std::__detail::__variant::__deduce_visit_result<bool>; _Visitor = GeNN::Type::NumericValue::operator==(const GeNN::Type::NumericValue&) const::<lambda(auto:24, auto:25)>; _Variants = {const std::variant<double, long unsigned int, long int>&, const std::variant<double, long unsigned int, long int>&}]\u001b[m\u001b[K’\n",
            "\u001b[01m\u001b[K/usr/include/c++/11/variant:1766:30:\u001b[m\u001b[K   required from ‘\u001b[01m\u001b[Kconstexpr std::__detail::__variant::__visit_result_t<_Visitor, _Variants ...> std::visit(_Visitor&&, _Variants&& ...) [with _Visitor = GeNN::Type::NumericValue::operator==(const GeNN::Type::NumericValue&) const::<lambda(auto:24, auto:25)>; _Variants = {const std::variant<double, long unsigned int, long int>&, const std::variant<double, long unsigned int, long int>&}; std::__detail::__variant::__visit_result_t<_Visitor, _Variants ...> = bool]\u001b[m\u001b[K’\n",
            "\u001b[01m\u001b[Ktype.cc:36:22:\u001b[m\u001b[K   required from here\n",
            "\u001b[01m\u001b[K/usr/include/c++/11/variant:1055:67:\u001b[m\u001b[K   in ‘\u001b[01m\u001b[Kconstexpr\u001b[m\u001b[K’ expansion of ‘\u001b[01m\u001b[Kstd::__detail::__variant::__gen_vtable_impl<std::__detail::__variant::_Multi_array<std::__detail::__variant::__deduce_visit_result<bool> (*)(GeNN::Type::NumericValue::operator==(const GeNN::Type::NumericValue&) const::<lambda(auto:24, auto:25)>&&, const std::variant<double, long unsigned int, long int>&, const std::variant<double, long unsigned int, long int>&), 3, 3>, std::integer_sequence<long unsigned int> >::_S_apply()\u001b[m\u001b[K’\n",
            "\u001b[01m\u001b[K/usr/include/c++/11/variant:932:19:\u001b[m\u001b[K   in ‘\u001b[01m\u001b[Kconstexpr\u001b[m\u001b[K’ expansion of ‘\u001b[01m\u001b[Kstd::__detail::__variant::__gen_vtable_impl<std::__detail::__variant::_Multi_array<std::__detail::__variant::__deduce_visit_result<bool> (*)(GeNN::Type::NumericValue::operator==(const GeNN::Type::NumericValue&) const::<lambda(auto:24, auto:25)>&&, const std::variant<double, long unsigned int, long int>&, const std::variant<double, long unsigned int, long int>&), 3, 3>, std::integer_sequence<long unsigned int> >::_S_apply_all_alts<0, 1, 2>(__vtable, (std::make_index_sequence<3>(), std::make_index_sequence<3>()))\u001b[m\u001b[K’\n",
            "\u001b[01m\u001b[K/usr/include/c++/11/variant:947:48:\u001b[m\u001b[K   in ‘\u001b[01m\u001b[Kconstexpr\u001b[m\u001b[K’ expansion of ‘\u001b[01m\u001b[Kstd::__detail::__variant::__gen_vtable_impl<std::__detail::__variant::_Multi_array<std::__detail::__variant::__deduce_visit_result<bool> (*)(GeNN::Type::NumericValue::operator==(const GeNN::Type::NumericValue&) const::<lambda(auto:24, auto:25)>&&, const std::variant<double, long unsigned int, long int>&, const std::variant<double, long unsigned int, long int>&), 3, 3>, std::integer_sequence<long unsigned int> >::_S_apply_single_alt<false, 2, std::__detail::__variant::_Multi_array<std::__detail::__variant::__deduce_visit_result<bool> (*)(GeNN::Type::NumericValue::operator==(const GeNN::Type::NumericValue&) const::<lambda(auto:24, auto:25)>&&, const std::variant<double, long unsigned int, long int>&, const std::variant<double, long unsigned int, long int>&), 3> >(__vtable.std::__detail::__variant::_Multi_array<std::__detail::__variant::__deduce_visit_result<bool> (*)(GeNN::Type::NumericValue::operator==(const GeNN::Type::NumericValue&) const::<lambda(auto:24, auto:25)>&&, const std::variant<double, long unsigned int, long int>&, const std::variant<double, long unsigned int, long int>&), 3, 3>::_M_arr[2], 0)\u001b[m\u001b[K’\n",
            "\u001b[01m\u001b[K/usr/include/c++/11/variant:968:56:\u001b[m\u001b[K   in ‘\u001b[01m\u001b[Kconstexpr\u001b[m\u001b[K’ expansion of ‘\u001b[01m\u001b[Kstd::__detail::__variant::__gen_vtable_impl<std::__detail::__variant::_Multi_array<std::__detail::__variant::__deduce_visit_result<bool> (*)(GeNN::Type::NumericValue::operator==(const GeNN::Type::NumericValue&) const::<lambda(auto:24, auto:25)>&&, const std::variant<double, long unsigned int, long int>&, const std::variant<double, long unsigned int, long int>&), 3>, std::integer_sequence<long unsigned int, 2> >::_S_apply()\u001b[m\u001b[K’\n",
            "\u001b[01m\u001b[K/usr/include/c++/11/variant:932:19:\u001b[m\u001b[K   in ‘\u001b[01m\u001b[Kconstexpr\u001b[m\u001b[K’ expansion of ‘\u001b[01m\u001b[Kstd::__detail::__variant::__gen_vtable_impl<std::__detail::__variant::_Multi_array<std::__detail::__variant::__deduce_visit_result<bool> (*)(GeNN::Type::NumericValue::operator==(const GeNN::Type::NumericValue&) const::<lambda(auto:24, auto:25)>&&, const std::variant<double, long unsigned int, long int>&, const std::variant<double, long unsigned int, long int>&), 3>, std::integer_sequence<long unsigned int, 2> >::_S_apply_all_alts<0, 1, 2>(__vtable, (std::make_index_sequence<3>(), std::make_index_sequence<3>()))\u001b[m\u001b[K’\n",
            "\u001b[01m\u001b[Ktype.cc:39:22:\u001b[m\u001b[K \u001b[01;35m\u001b[Kwarning: \u001b[m\u001b[Kcomparison of integer expressions of different signedness: ‘\u001b[01m\u001b[Klong int\u001b[m\u001b[K’ and ‘\u001b[01m\u001b[Klong unsigned int\u001b[m\u001b[K’ [\u001b[01;35m\u001b[K\u001b]8;;https://gcc.gnu.org/onlinedocs/gcc/Warning-Options.html#index-Wsign-compare\u0007-Wsign-compare\u001b]8;;\u0007\u001b[m\u001b[K]\n",
            "type.cc: In instantiation of ‘\u001b[01m\u001b[KGeNN::Type::NumericValue::operator!=(const GeNN::Type::NumericValue&) const::<lambda(auto:26, auto:27)> [with auto:26 = long unsigned int; auto:27 = long int]\u001b[m\u001b[K’:\n",
            "\u001b[01m\u001b[K/usr/include/c++/11/type_traits:2530:26:\u001b[m\u001b[K   required by substitution of ‘\u001b[01m\u001b[Ktemplate<class _Fn, class ... _Args> static std::__result_of_success<decltype (declval<_Fn>()((declval<_Args>)()...)), std::__invoke_other> std::__result_of_other_impl::_S_test(int) [with _Fn = GeNN::Type::NumericValue::operator!=(const GeNN::Type::NumericValue&) const::<lambda(auto:26, auto:27)>; _Args = {const long unsigned int&, const long int&}]\u001b[m\u001b[K’\n",
            "\u001b[01m\u001b[K/usr/include/c++/11/type_traits:2541:55:\u001b[m\u001b[K   required from ‘\u001b[01m\u001b[Kstruct std::__result_of_impl<false, false, GeNN::Type::NumericValue::operator!=(const GeNN::Type::NumericValue&) const::<lambda(auto:26, auto:27)>, const long unsigned int&, const long int&>\u001b[m\u001b[K’\n",
            "\u001b[01m\u001b[K/usr/include/c++/11/type_traits:2546:12:\u001b[m\u001b[K   required from ‘\u001b[01m\u001b[Kstruct std::__invoke_result<GeNN::Type::NumericValue::operator!=(const GeNN::Type::NumericValue&) const::<lambda(auto:26, auto:27)>, const long unsigned int&, const long int&>\u001b[m\u001b[K’\n",
            "\u001b[01m\u001b[K/usr/include/c++/11/bits/invoke.h:90:5:\u001b[m\u001b[K   required by substitution of ‘\u001b[01m\u001b[Ktemplate<class _Callable, class ... _Args> constexpr typename std::__invoke_result<_Functor, _ArgTypes>::type std::__invoke(_Callable&&, _Args&& ...) [with _Callable = GeNN::Type::NumericValue::operator!=(const GeNN::Type::NumericValue&) const::<lambda(auto:26, auto:27)>; _Args = {const long unsigned int&, const long int&}]\u001b[m\u001b[K’\n",
            "\u001b[01m\u001b[K/usr/include/c++/11/variant:1016:24:\u001b[m\u001b[K   required from ‘\u001b[01m\u001b[Kstatic constexpr decltype(auto) std::__detail::__variant::__gen_vtable_impl<std::__detail::__variant::_Multi_array<_Result_type (*)(_Visitor, _Variants ...)>, std::integer_sequence<long unsigned int, __indices ...> >::__visit_invoke(_Visitor&&, _Variants ...) [with _Result_type = std::__detail::__variant::__deduce_visit_result<bool>; _Visitor = GeNN::Type::NumericValue::operator!=(const GeNN::Type::NumericValue&) const::<lambda(auto:26, auto:27)>&&; _Variants = {const std::variant<double, long unsigned int, long int>&, const std::variant<double, long unsigned int, long int>&}; long unsigned int ...__indices = {1, 2}]\u001b[m\u001b[K’\n",
            "\u001b[01m\u001b[K/usr/include/c++/11/variant:1032:28:\u001b[m\u001b[K   required from ‘\u001b[01m\u001b[Kstatic constexpr auto std::__detail::__variant::__gen_vtable_impl<std::__detail::__variant::_Multi_array<_Result_type (*)(_Visitor, _Variants ...)>, std::integer_sequence<long unsigned int, __indices ...> >::_S_apply() [with _Result_type = std::__detail::__variant::__deduce_visit_result<bool>; _Visitor = GeNN::Type::NumericValue::operator!=(const GeNN::Type::NumericValue&) const::<lambda(auto:26, auto:27)>&&; _Variants = {const std::variant<double, long unsigned int, long int>&, const std::variant<double, long unsigned int, long int>&}; long unsigned int ...__indices = {1, 2}]\u001b[m\u001b[K’\n",
            "\u001b[01m\u001b[K/usr/include/c++/11/variant:968:56:\u001b[m\u001b[K   required from ‘\u001b[01m\u001b[Kstatic constexpr void std::__detail::__variant::__gen_vtable_impl<std::__detail::__variant::_Multi_array<_Result_type (*)(_Visitor, _Variants ...), __dimensions ...>, std::integer_sequence<long unsigned int, __indices ...> >::_S_apply_single_alt(_Tp&, _Tp*) [with bool __do_cookie = false; long unsigned int __index = 2; _Tp = std::__detail::__variant::_Multi_array<std::__detail::__variant::__deduce_visit_result<bool> (*)(GeNN::Type::NumericValue::operator!=(const GeNN::Type::NumericValue&) const::<lambda(auto:26, auto:27)>&&, const std::variant<double, long unsigned int, long int>&, const std::variant<double, long unsigned int, long int>&)>; _Result_type = std::__detail::__variant::__deduce_visit_result<bool>; _Visitor = GeNN::Type::NumericValue::operator!=(const GeNN::Type::NumericValue&) const::<lambda(auto:26, auto:27)>&&; long unsigned int ...__dimensions = {3}; _Variants = {const std::variant<double, long unsigned int, long int>&, const std::variant<double, long unsigned int, long int>&}; long unsigned int ...__indices = {1}]\u001b[m\u001b[K’\n",
            "\u001b[01m\u001b[K/usr/include/c++/11/variant:947:48:\u001b[m\u001b[K   required from ‘\u001b[01m\u001b[Kconstexpr const _Array_type std::__detail::__variant::__gen_vtable<std::__detail::__variant::__deduce_visit_result<bool>, GeNN::Type::NumericValue::operator!=(const GeNN::Type::NumericValue&) const::<lambda(auto:26, auto:27)>&&, const std::variant<double, long unsigned int, long int>&, const std::variant<double, long unsigned int, long int>&>::_S_vtable\u001b[m\u001b[K’\n",
            "\u001b[01m\u001b[K/usr/include/c++/11/variant:1724:45:\u001b[m\u001b[K   required from ‘\u001b[01m\u001b[Kconstexpr decltype(auto) std::__do_visit(_Visitor&&, _Variants&& ...) [with _Result_type = std::__detail::__variant::__deduce_visit_result<bool>; _Visitor = GeNN::Type::NumericValue::operator!=(const GeNN::Type::NumericValue&) const::<lambda(auto:26, auto:27)>; _Variants = {const std::variant<double, long unsigned int, long int>&, const std::variant<double, long unsigned int, long int>&}]\u001b[m\u001b[K’\n",
            "\u001b[01m\u001b[K/usr/include/c++/11/variant:1766:30:\u001b[m\u001b[K   required from ‘\u001b[01m\u001b[Kconstexpr std::__detail::__variant::__visit_result_t<_Visitor, _Variants ...> std::visit(_Visitor&&, _Variants&& ...) [with _Visitor = GeNN::Type::NumericValue::operator!=(const GeNN::Type::NumericValue&) const::<lambda(auto:26, auto:27)>; _Variants = {const std::variant<double, long unsigned int, long int>&, const std::variant<double, long unsigned int, long int>&}; std::__detail::__variant::__visit_result_t<_Visitor, _Variants ...> = bool]\u001b[m\u001b[K’\n",
            "\u001b[01m\u001b[Ktype.cc:46:22:\u001b[m\u001b[K   required from here\n",
            "\u001b[01m\u001b[K/usr/include/c++/11/variant:1055:67:\u001b[m\u001b[K   in ‘\u001b[01m\u001b[Kconstexpr\u001b[m\u001b[K’ expansion of ‘\u001b[01m\u001b[Kstd::__detail::__variant::__gen_vtable_impl<std::__detail::__variant::_Multi_array<std::__detail::__variant::__deduce_visit_result<bool> (*)(GeNN::Type::NumericValue::operator!=(const GeNN::Type::NumericValue&) const::<lambda(auto:26, auto:27)>&&, const std::variant<double, long unsigned int, long int>&, const std::variant<double, long unsigned int, long int>&), 3, 3>, std::integer_sequence<long unsigned int> >::_S_apply()\u001b[m\u001b[K’\n",
            "\u001b[01m\u001b[K/usr/include/c++/11/variant:932:19:\u001b[m\u001b[K   in ‘\u001b[01m\u001b[Kconstexpr\u001b[m\u001b[K’ expansion of ‘\u001b[01m\u001b[Kstd::__detail::__variant::__gen_vtable_impl<std::__detail::__variant::_Multi_array<std::__detail::__variant::__deduce_visit_result<bool> (*)(GeNN::Type::NumericValue::operator!=(const GeNN::Type::NumericValue&) const::<lambda(auto:26, auto:27)>&&, const std::variant<double, long unsigned int, long int>&, const std::variant<double, long unsigned int, long int>&), 3, 3>, std::integer_sequence<long unsigned int> >::_S_apply_all_alts<0, 1, 2>(__vtable, (std::make_index_sequence<3>(), std::make_index_sequence<3>()))\u001b[m\u001b[K’\n",
            "\u001b[01m\u001b[K/usr/include/c++/11/variant:947:48:\u001b[m\u001b[K   in ‘\u001b[01m\u001b[Kconstexpr\u001b[m\u001b[K’ expansion of ‘\u001b[01m\u001b[Kstd::__detail::__variant::__gen_vtable_impl<std::__detail::__variant::_Multi_array<std::__detail::__variant::__deduce_visit_result<bool> (*)(GeNN::Type::NumericValue::operator!=(const GeNN::Type::NumericValue&) const::<lambda(auto:26, auto:27)>&&, const std::variant<double, long unsigned int, long int>&, const std::variant<double, long unsigned int, long int>&), 3, 3>, std::integer_sequence<long unsigned int> >::_S_apply_single_alt<false, 1, std::__detail::__variant::_Multi_array<std::__detail::__variant::__deduce_visit_result<bool> (*)(GeNN::Type::NumericValue::operator!=(const GeNN::Type::NumericValue&) const::<lambda(auto:26, auto:27)>&&, const std::variant<double, long unsigned int, long int>&, const std::variant<double, long unsigned int, long int>&), 3> >(__vtable.std::__detail::__variant::_Multi_array<std::__detail::__variant::__deduce_visit_result<bool> (*)(GeNN::Type::NumericValue::operator!=(const GeNN::Type::NumericValue&) const::<lambda(auto:26, auto:27)>&&, const std::variant<double, long unsigned int, long int>&, const std::variant<double, long unsigned int, long int>&), 3, 3>::_M_arr[1], 0)\u001b[m\u001b[K’\n",
            "\u001b[01m\u001b[K/usr/include/c++/11/variant:968:56:\u001b[m\u001b[K   in ‘\u001b[01m\u001b[Kconstexpr\u001b[m\u001b[K’ expansion of ‘\u001b[01m\u001b[Kstd::__detail::__variant::__gen_vtable_impl<std::__detail::__variant::_Multi_array<std::__detail::__variant::__deduce_visit_result<bool> (*)(GeNN::Type::NumericValue::operator!=(const GeNN::Type::NumericValue&) const::<lambda(auto:26, auto:27)>&&, const std::variant<double, long unsigned int, long int>&, const std::variant<double, long unsigned int, long int>&), 3>, std::integer_sequence<long unsigned int, 1> >::_S_apply()\u001b[m\u001b[K’\n",
            "\u001b[01m\u001b[K/usr/include/c++/11/variant:932:19:\u001b[m\u001b[K   in ‘\u001b[01m\u001b[Kconstexpr\u001b[m\u001b[K’ expansion of ‘\u001b[01m\u001b[Kstd::__detail::__variant::__gen_vtable_impl<std::__detail::__variant::_Multi_array<std::__detail::__variant::__deduce_visit_result<bool> (*)(GeNN::Type::NumericValue::operator!=(const GeNN::Type::NumericValue&) const::<lambda(auto:26, auto:27)>&&, const std::variant<double, long unsigned int, long int>&, const std::variant<double, long unsigned int, long int>&), 3>, std::integer_sequence<long unsigned int, 1> >::_S_apply_all_alts<0, 1, 2>(__vtable, (std::make_index_sequence<3>(), std::make_index_sequence<3>()))\u001b[m\u001b[K’\n",
            "\u001b[01m\u001b[Ktype.cc:49:22:\u001b[m\u001b[K \u001b[01;35m\u001b[Kwarning: \u001b[m\u001b[Kcomparison of integer expressions of different signedness: ‘\u001b[01m\u001b[Klong unsigned int\u001b[m\u001b[K’ and ‘\u001b[01m\u001b[Klong int\u001b[m\u001b[K’ [\u001b[01;35m\u001b[K\u001b]8;;https://gcc.gnu.org/onlinedocs/gcc/Warning-Options.html#index-Wsign-compare\u0007-Wsign-compare\u001b]8;;\u0007\u001b[m\u001b[K]\n",
            "   49 |             return \u001b[01;35m\u001b[Ka != b\u001b[m\u001b[K;\n",
            "      |                    \u001b[01;35m\u001b[K~~^~~~\u001b[m\u001b[K\n",
            "type.cc: In instantiation of ‘\u001b[01m\u001b[KGeNN::Type::NumericValue::operator!=(const GeNN::Type::NumericValue&) const::<lambda(auto:26, auto:27)> [with auto:26 = long int; auto:27 = long unsigned int]\u001b[m\u001b[K’:\n",
            "\u001b[01m\u001b[K/usr/include/c++/11/type_traits:2530:26:\u001b[m\u001b[K   required by substitution of ‘\u001b[01m\u001b[Ktemplate<class _Fn, class ... _Args> static std::__result_of_success<decltype (declval<_Fn>()((declval<_Args>)()...)), std::__invoke_other> std::__result_of_other_impl::_S_test(int) [with _Fn = GeNN::Type::NumericValue::operator!=(const GeNN::Type::NumericValue&) const::<lambda(auto:26, auto:27)>; _Args = {const long int&, const long unsigned int&}]\u001b[m\u001b[K’\n",
            "\u001b[01m\u001b[K/usr/include/c++/11/type_traits:2541:55:\u001b[m\u001b[K   required from ‘\u001b[01m\u001b[Kstruct std::__result_of_impl<false, false, GeNN::Type::NumericValue::operator!=(const GeNN::Type::NumericValue&) const::<lambda(auto:26, auto:27)>, const long int&, const long unsigned int&>\u001b[m\u001b[K’\n",
            "\u001b[01m\u001b[K/usr/include/c++/11/type_traits:2546:12:\u001b[m\u001b[K   required from ‘\u001b[01m\u001b[Kstruct std::__invoke_result<GeNN::Type::NumericValue::operator!=(const GeNN::Type::NumericValue&) const::<lambda(auto:26, auto:27)>, const long int&, const long unsigned int&>\u001b[m\u001b[K’\n",
            "\u001b[01m\u001b[K/usr/include/c++/11/bits/invoke.h:90:5:\u001b[m\u001b[K   required by substitution of ‘\u001b[01m\u001b[Ktemplate<class _Callable, class ... _Args> constexpr typename std::__invoke_result<_Functor, _ArgTypes>::type std::__invoke(_Callable&&, _Args&& ...) [with _Callable = GeNN::Type::NumericValue::operator!=(const GeNN::Type::NumericValue&) const::<lambda(auto:26, auto:27)>; _Args = {const long int&, const long unsigned int&}]\u001b[m\u001b[K’\n",
            "\u001b[01m\u001b[K/usr/include/c++/11/variant:1016:24:\u001b[m\u001b[K   required from ‘\u001b[01m\u001b[Kstatic constexpr decltype(auto) std::__detail::__variant::__gen_vtable_impl<std::__detail::__variant::_Multi_array<_Result_type (*)(_Visitor, _Variants ...)>, std::integer_sequence<long unsigned int, __indices ...> >::__visit_invoke(_Visitor&&, _Variants ...) [with _Result_type = std::__detail::__variant::__deduce_visit_result<bool>; _Visitor = GeNN::Type::NumericValue::operator!=(const GeNN::Type::NumericValue&) const::<lambda(auto:26, auto:27)>&&; _Variants = {const std::variant<double, long unsigned int, long int>&, const std::variant<double, long unsigned int, long int>&}; long unsigned int ...__indices = {2, 1}]\u001b[m\u001b[K’\n",
            "\u001b[01m\u001b[K/usr/include/c++/11/variant:1032:28:\u001b[m\u001b[K   required from ‘\u001b[01m\u001b[Kstatic constexpr auto std::__detail::__variant::__gen_vtable_impl<std::__detail::__variant::_Multi_array<_Result_type (*)(_Visitor, _Variants ...)>, std::integer_sequence<long unsigned int, __indices ...> >::_S_apply() [with _Result_type = std::__detail::__variant::__deduce_visit_result<bool>; _Visitor = GeNN::Type::NumericValue::operator!=(const GeNN::Type::NumericValue&) const::<lambda(auto:26, auto:27)>&&; _Variants = {const std::variant<double, long unsigned int, long int>&, const std::variant<double, long unsigned int, long int>&}; long unsigned int ...__indices = {2, 1}]\u001b[m\u001b[K’\n",
            "\u001b[01m\u001b[K/usr/include/c++/11/variant:968:56:\u001b[m\u001b[K   required from ‘\u001b[01m\u001b[Kstatic constexpr void std::__detail::__variant::__gen_vtable_impl<std::__detail::__variant::_Multi_array<_Result_type (*)(_Visitor, _Variants ...), __dimensions ...>, std::integer_sequence<long unsigned int, __indices ...> >::_S_apply_single_alt(_Tp&, _Tp*) [with bool __do_cookie = false; long unsigned int __index = 1; _Tp = std::__detail::__variant::_Multi_array<std::__detail::__variant::__deduce_visit_result<bool> (*)(GeNN::Type::NumericValue::operator!=(const GeNN::Type::NumericValue&) const::<lambda(auto:26, auto:27)>&&, const std::variant<double, long unsigned int, long int>&, const std::variant<double, long unsigned int, long int>&)>; _Result_type = std::__detail::__variant::__deduce_visit_result<bool>; _Visitor = GeNN::Type::NumericValue::operator!=(const GeNN::Type::NumericValue&) const::<lambda(auto:26, auto:27)>&&; long unsigned int ...__dimensions = {3}; _Variants = {const std::variant<double, long unsigned int, long int>&, const std::variant<double, long unsigned int, long int>&}; long unsigned int ...__indices = {2}]\u001b[m\u001b[K’\n",
            "\u001b[01m\u001b[K/usr/include/c++/11/variant:947:48:\u001b[m\u001b[K   required from ‘\u001b[01m\u001b[Kconstexpr const _Array_type std::__detail::__variant::__gen_vtable<std::__detail::__variant::__deduce_visit_result<bool>, GeNN::Type::NumericValue::operator!=(const GeNN::Type::NumericValue&) const::<lambda(auto:26, auto:27)>&&, const std::variant<double, long unsigned int, long int>&, const std::variant<double, long unsigned int, long int>&>::_S_vtable\u001b[m\u001b[K’\n",
            "\u001b[01m\u001b[K/usr/include/c++/11/variant:1724:45:\u001b[m\u001b[K   required from ‘\u001b[01m\u001b[Kconstexpr decltype(auto) std::__do_visit(_Visitor&&, _Variants&& ...) [with _Result_type = std::__detail::__variant::__deduce_visit_result<bool>; _Visitor = GeNN::Type::NumericValue::operator!=(const GeNN::Type::NumericValue&) const::<lambda(auto:26, auto:27)>; _Variants = {const std::variant<double, long unsigned int, long int>&, const std::variant<double, long unsigned int, long int>&}]\u001b[m\u001b[K’\n",
            "\u001b[01m\u001b[K/usr/include/c++/11/variant:1766:30:\u001b[m\u001b[K   required from ‘\u001b[01m\u001b[Kconstexpr std::__detail::__variant::__visit_result_t<_Visitor, _Variants ...> std::visit(_Visitor&&, _Variants&& ...) [with _Visitor = GeNN::Type::NumericValue::operator!=(const GeNN::Type::NumericValue&) const::<lambda(auto:26, auto:27)>; _Variants = {const std::variant<double, long unsigned int, long int>&, const std::variant<double, long unsigned int, long int>&}; std::__detail::__variant::__visit_result_t<_Visitor, _Variants ...> = bool]\u001b[m\u001b[K’\n",
            "\u001b[01m\u001b[Ktype.cc:46:22:\u001b[m\u001b[K   required from here\n",
            "\u001b[01m\u001b[K/usr/include/c++/11/variant:1055:67:\u001b[m\u001b[K   in ‘\u001b[01m\u001b[Kconstexpr\u001b[m\u001b[K’ expansion of ‘\u001b[01m\u001b[Kstd::__detail::__variant::__gen_vtable_impl<std::__detail::__variant::_Multi_array<std::__detail::__variant::__deduce_visit_result<bool> (*)(GeNN::Type::NumericValue::operator!=(const GeNN::Type::NumericValue&) const::<lambda(auto:26, auto:27)>&&, const std::variant<double, long unsigned int, long int>&, const std::variant<double, long unsigned int, long int>&), 3, 3>, std::integer_sequence<long unsigned int> >::_S_apply()\u001b[m\u001b[K’\n",
            "\u001b[01m\u001b[K/usr/include/c++/11/variant:932:19:\u001b[m\u001b[K   in ‘\u001b[01m\u001b[Kconstexpr\u001b[m\u001b[K’ expansion of ‘\u001b[01m\u001b[Kstd::__detail::__variant::__gen_vtable_impl<std::__detail::__variant::_Multi_array<std::__detail::__variant::__deduce_visit_result<bool> (*)(GeNN::Type::NumericValue::operator!=(const GeNN::Type::NumericValue&) const::<lambda(auto:26, auto:27)>&&, const std::variant<double, long unsigned int, long int>&, const std::variant<double, long unsigned int, long int>&), 3, 3>, std::integer_sequence<long unsigned int> >::_S_apply_all_alts<0, 1, 2>(__vtable, (std::make_index_sequence<3>(), std::make_index_sequence<3>()))\u001b[m\u001b[K’\n",
            "\u001b[01m\u001b[K/usr/include/c++/11/variant:947:48:\u001b[m\u001b[K   in ‘\u001b[01m\u001b[Kconstexpr\u001b[m\u001b[K’ expansion of ‘\u001b[01m\u001b[Kstd::__detail::__variant::__gen_vtable_impl<std::__detail::__variant::_Multi_array<std::__detail::__variant::__deduce_visit_result<bool> (*)(GeNN::Type::NumericValue::operator!=(const GeNN::Type::NumericValue&) const::<lambda(auto:26, auto:27)>&&, const std::variant<double, long unsigned int, long int>&, const std::variant<double, long unsigned int, long int>&), 3, 3>, std::integer_sequence<long unsigned int> >::_S_apply_single_alt<false, 2, std::__detail::__variant::_Multi_array<std::__detail::__variant::__deduce_visit_result<bool> (*)(GeNN::Type::NumericValue::operator!=(const GeNN::Type::NumericValue&) const::<lambda(auto:26, auto:27)>&&, const std::variant<double, long unsigned int, long int>&, const std::variant<double, long unsigned int, long int>&), 3> >(__vtable.std::__detail::__variant::_Multi_array<std::__detail::__variant::__deduce_visit_result<bool> (*)(GeNN::Type::NumericValue::operator!=(const GeNN::Type::NumericValue&) const::<lambda(auto:26, auto:27)>&&, const std::variant<double, long unsigned int, long int>&, const std::variant<double, long unsigned int, long int>&), 3, 3>::_M_arr[2], 0)\u001b[m\u001b[K’\n",
            "\u001b[01m\u001b[K/usr/include/c++/11/variant:968:56:\u001b[m\u001b[K   in ‘\u001b[01m\u001b[Kconstexpr\u001b[m\u001b[K’ expansion of ‘\u001b[01m\u001b[Kstd::__detail::__variant::__gen_vtable_impl<std::__detail::__variant::_Multi_array<std::__detail::__variant::__deduce_visit_result<bool> (*)(GeNN::Type::NumericValue::operator!=(const GeNN::Type::NumericValue&) const::<lambda(auto:26, auto:27)>&&, const std::variant<double, long unsigned int, long int>&, const std::variant<double, long unsigned int, long int>&), 3>, std::integer_sequence<long unsigned int, 2> >::_S_apply()\u001b[m\u001b[K’\n",
            "\u001b[01m\u001b[K/usr/include/c++/11/variant:932:19:\u001b[m\u001b[K   in ‘\u001b[01m\u001b[Kconstexpr\u001b[m\u001b[K’ expansion of ‘\u001b[01m\u001b[Kstd::__detail::__variant::__gen_vtable_impl<std::__detail::__variant::_Multi_array<std::__detail::__variant::__deduce_visit_result<bool> (*)(GeNN::Type::NumericValue::operator!=(const GeNN::Type::NumericValue&) const::<lambda(auto:26, auto:27)>&&, const std::variant<double, long unsigned int, long int>&, const std::variant<double, long unsigned int, long int>&), 3>, std::integer_sequence<long unsigned int, 2> >::_S_apply_all_alts<0, 1, 2>(__vtable, (std::make_index_sequence<3>(), std::make_index_sequence<3>()))\u001b[m\u001b[K’\n",
            "\u001b[01m\u001b[Ktype.cc:49:22:\u001b[m\u001b[K \u001b[01;35m\u001b[Kwarning: \u001b[m\u001b[Kcomparison of integer expressions of different signedness: ‘\u001b[01m\u001b[Klong int\u001b[m\u001b[K’ and ‘\u001b[01m\u001b[Klong unsigned int\u001b[m\u001b[K’ [\u001b[01;35m\u001b[K\u001b]8;;https://gcc.gnu.org/onlinedocs/gcc/Warning-Options.html#index-Wsign-compare\u0007-Wsign-compare\u001b]8;;\u0007\u001b[m\u001b[K]\n",
            "mkdir -p /content/genn/obj_dynamic/genn/genn\n",
            "g++ -std=c++17 -Wall -Wpedantic -Wextra -MMD -MP -I/content/genn/include/genn/genn -I/content/genn/include/genn/third_party  -fPIC -DGENN_VERSION=\\\"5.1.0\\\" -DGIT_HASH=\\\"d9738170aed5897c56c8c18e09934e2109fa8215\\\" -c -o /content/genn/obj_dynamic/genn/genn/weightUpdateModels.o weightUpdateModels.cc\n",
            "mkdir -p /content/genn/obj_dynamic/genn/genn/code_generator\n",
            "g++ -std=c++17 -Wall -Wpedantic -Wextra -MMD -MP -I/content/genn/include/genn/genn -I/content/genn/include/genn/third_party  -fPIC -DGENN_VERSION=\\\"5.1.0\\\" -DGIT_HASH=\\\"d9738170aed5897c56c8c18e09934e2109fa8215\\\" -c -o /content/genn/obj_dynamic/genn/genn/code_generator/backendBase.o code_generator/backendBase.cc\n",
            "mkdir -p /content/genn/obj_dynamic/genn/genn/code_generator\n",
            "g++ -std=c++17 -Wall -Wpedantic -Wextra -MMD -MP -I/content/genn/include/genn/genn -I/content/genn/include/genn/third_party  -fPIC -DGENN_VERSION=\\\"5.1.0\\\" -DGIT_HASH=\\\"d9738170aed5897c56c8c18e09934e2109fa8215\\\" -c -o /content/genn/obj_dynamic/genn/genn/code_generator/backendSIMT.o code_generator/backendSIMT.cc\n",
            "mkdir -p /content/genn/obj_dynamic/genn/genn/code_generator\n",
            "g++ -std=c++17 -Wall -Wpedantic -Wextra -MMD -MP -I/content/genn/include/genn/genn -I/content/genn/include/genn/third_party  -fPIC -DGENN_VERSION=\\\"5.1.0\\\" -DGIT_HASH=\\\"d9738170aed5897c56c8c18e09934e2109fa8215\\\" -c -o /content/genn/obj_dynamic/genn/genn/code_generator/codeGenUtils.o code_generator/codeGenUtils.cc\n",
            "mkdir -p /content/genn/obj_dynamic/genn/genn/code_generator\n",
            "g++ -std=c++17 -Wall -Wpedantic -Wextra -MMD -MP -I/content/genn/include/genn/genn -I/content/genn/include/genn/third_party  -fPIC -DGENN_VERSION=\\\"5.1.0\\\" -DGIT_HASH=\\\"d9738170aed5897c56c8c18e09934e2109fa8215\\\" -c -o /content/genn/obj_dynamic/genn/genn/code_generator/codeStream.o code_generator/codeStream.cc\n",
            "mkdir -p /content/genn/obj_dynamic/genn/genn/code_generator\n",
            "g++ -std=c++17 -Wall -Wpedantic -Wextra -MMD -MP -I/content/genn/include/genn/genn -I/content/genn/include/genn/third_party  -fPIC -DGENN_VERSION=\\\"5.1.0\\\" -DGIT_HASH=\\\"d9738170aed5897c56c8c18e09934e2109fa8215\\\" -c -o /content/genn/obj_dynamic/genn/genn/code_generator/customConnectivityUpdateGroupMerged.o code_generator/customConnectivityUpdateGroupMerged.cc\n",
            "mkdir -p /content/genn/obj_dynamic/genn/genn/code_generator\n",
            "g++ -std=c++17 -Wall -Wpedantic -Wextra -MMD -MP -I/content/genn/include/genn/genn -I/content/genn/include/genn/third_party  -fPIC -DGENN_VERSION=\\\"5.1.0\\\" -DGIT_HASH=\\\"d9738170aed5897c56c8c18e09934e2109fa8215\\\" -c -o /content/genn/obj_dynamic/genn/genn/code_generator/customUpdateGroupMerged.o code_generator/customUpdateGroupMerged.cc\n",
            "mkdir -p /content/genn/obj_dynamic/genn/genn/code_generator\n",
            "g++ -std=c++17 -Wall -Wpedantic -Wextra -MMD -MP -I/content/genn/include/genn/genn -I/content/genn/include/genn/third_party  -fPIC -DGENN_VERSION=\\\"5.1.0\\\" -DGIT_HASH=\\\"d9738170aed5897c56c8c18e09934e2109fa8215\\\" -c -o /content/genn/obj_dynamic/genn/genn/code_generator/environment.o code_generator/environment.cc\n",
            "mkdir -p /content/genn/obj_dynamic/genn/genn/code_generator\n",
            "g++ -std=c++17 -Wall -Wpedantic -Wextra -MMD -MP -I/content/genn/include/genn/genn -I/content/genn/include/genn/third_party  -fPIC -DGENN_VERSION=\\\"5.1.0\\\" -DGIT_HASH=\\\"d9738170aed5897c56c8c18e09934e2109fa8215\\\" -c -o /content/genn/obj_dynamic/genn/genn/code_generator/generateMakefile.o code_generator/generateMakefile.cc\n",
            "mkdir -p /content/genn/obj_dynamic/genn/genn/code_generator\n",
            "g++ -std=c++17 -Wall -Wpedantic -Wextra -MMD -MP -I/content/genn/include/genn/genn -I/content/genn/include/genn/third_party  -fPIC -DGENN_VERSION=\\\"5.1.0\\\" -DGIT_HASH=\\\"d9738170aed5897c56c8c18e09934e2109fa8215\\\" -c -o /content/genn/obj_dynamic/genn/genn/code_generator/generateModules.o code_generator/generateModules.cc\n",
            "mkdir -p /content/genn/obj_dynamic/genn/genn/code_generator\n",
            "g++ -std=c++17 -Wall -Wpedantic -Wextra -MMD -MP -I/content/genn/include/genn/genn -I/content/genn/include/genn/third_party  -fPIC -DGENN_VERSION=\\\"5.1.0\\\" -DGIT_HASH=\\\"d9738170aed5897c56c8c18e09934e2109fa8215\\\" -c -o /content/genn/obj_dynamic/genn/genn/code_generator/generateMSBuild.o code_generator/generateMSBuild.cc\n",
            "mkdir -p /content/genn/obj_dynamic/genn/genn/code_generator\n",
            "g++ -std=c++17 -Wall -Wpedantic -Wextra -MMD -MP -I/content/genn/include/genn/genn -I/content/genn/include/genn/third_party  -fPIC -DGENN_VERSION=\\\"5.1.0\\\" -DGIT_HASH=\\\"d9738170aed5897c56c8c18e09934e2109fa8215\\\" -c -o /content/genn/obj_dynamic/genn/genn/code_generator/generateRunner.o code_generator/generateRunner.cc\n",
            "mkdir -p /content/genn/obj_dynamic/genn/genn/code_generator\n",
            "g++ -std=c++17 -Wall -Wpedantic -Wextra -MMD -MP -I/content/genn/include/genn/genn -I/content/genn/include/genn/third_party  -fPIC -DGENN_VERSION=\\\"5.1.0\\\" -DGIT_HASH=\\\"d9738170aed5897c56c8c18e09934e2109fa8215\\\" -c -o /content/genn/obj_dynamic/genn/genn/code_generator/initGroupMerged.o code_generator/initGroupMerged.cc\n",
            "mkdir -p /content/genn/obj_dynamic/genn/genn/code_generator\n",
            "g++ -std=c++17 -Wall -Wpedantic -Wextra -MMD -MP -I/content/genn/include/genn/genn -I/content/genn/include/genn/third_party  -fPIC -DGENN_VERSION=\\\"5.1.0\\\" -DGIT_HASH=\\\"d9738170aed5897c56c8c18e09934e2109fa8215\\\" -c -o /content/genn/obj_dynamic/genn/genn/code_generator/lazyString.o code_generator/lazyString.cc\n",
            "mkdir -p /content/genn/obj_dynamic/genn/genn/code_generator\n",
            "g++ -std=c++17 -Wall -Wpedantic -Wextra -MMD -MP -I/content/genn/include/genn/genn -I/content/genn/include/genn/third_party  -fPIC -DGENN_VERSION=\\\"5.1.0\\\" -DGIT_HASH=\\\"d9738170aed5897c56c8c18e09934e2109fa8215\\\" -c -o /content/genn/obj_dynamic/genn/genn/code_generator/modelSpecMerged.o code_generator/modelSpecMerged.cc\n",
            "mkdir -p /content/genn/obj_dynamic/genn/genn/code_generator\n",
            "g++ -std=c++17 -Wall -Wpedantic -Wextra -MMD -MP -I/content/genn/include/genn/genn -I/content/genn/include/genn/third_party  -fPIC -DGENN_VERSION=\\\"5.1.0\\\" -DGIT_HASH=\\\"d9738170aed5897c56c8c18e09934e2109fa8215\\\" -c -o /content/genn/obj_dynamic/genn/genn/code_generator/neuronUpdateGroupMerged.o code_generator/neuronUpdateGroupMerged.cc\n",
            "mkdir -p /content/genn/obj_dynamic/genn/genn/code_generator\n",
            "g++ -std=c++17 -Wall -Wpedantic -Wextra -MMD -MP -I/content/genn/include/genn/genn -I/content/genn/include/genn/third_party  -fPIC -DGENN_VERSION=\\\"5.1.0\\\" -DGIT_HASH=\\\"d9738170aed5897c56c8c18e09934e2109fa8215\\\" -c -o /content/genn/obj_dynamic/genn/genn/code_generator/presynapticUpdateStrategySIMT.o code_generator/presynapticUpdateStrategySIMT.cc\n",
            "mkdir -p /content/genn/obj_dynamic/genn/genn/code_generator\n",
            "g++ -std=c++17 -Wall -Wpedantic -Wextra -MMD -MP -I/content/genn/include/genn/genn -I/content/genn/include/genn/third_party  -fPIC -DGENN_VERSION=\\\"5.1.0\\\" -DGIT_HASH=\\\"d9738170aed5897c56c8c18e09934e2109fa8215\\\" -c -o /content/genn/obj_dynamic/genn/genn/code_generator/standardLibrary.o code_generator/standardLibrary.cc\n",
            "mkdir -p /content/genn/obj_dynamic/genn/genn/code_generator\n",
            "g++ -std=c++17 -Wall -Wpedantic -Wextra -MMD -MP -I/content/genn/include/genn/genn -I/content/genn/include/genn/third_party  -fPIC -DGENN_VERSION=\\\"5.1.0\\\" -DGIT_HASH=\\\"d9738170aed5897c56c8c18e09934e2109fa8215\\\" -c -o /content/genn/obj_dynamic/genn/genn/code_generator/synapseUpdateGroupMerged.o code_generator/synapseUpdateGroupMerged.cc\n",
            "mkdir -p /content/genn/obj_dynamic/genn/genn/transpiler\n",
            "g++ -std=c++17 -Wall -Wpedantic -Wextra -MMD -MP -I/content/genn/include/genn/genn -I/content/genn/include/genn/third_party  -fPIC -DGENN_VERSION=\\\"5.1.0\\\" -DGIT_HASH=\\\"d9738170aed5897c56c8c18e09934e2109fa8215\\\" -c -o /content/genn/obj_dynamic/genn/genn/transpiler/errorHandler.o transpiler/errorHandler.cc\n",
            "mkdir -p /content/genn/obj_dynamic/genn/genn/transpiler\n",
            "g++ -std=c++17 -Wall -Wpedantic -Wextra -MMD -MP -I/content/genn/include/genn/genn -I/content/genn/include/genn/third_party  -fPIC -DGENN_VERSION=\\\"5.1.0\\\" -DGIT_HASH=\\\"d9738170aed5897c56c8c18e09934e2109fa8215\\\" -c -o /content/genn/obj_dynamic/genn/genn/transpiler/parser.o transpiler/parser.cc\n",
            "mkdir -p /content/genn/obj_dynamic/genn/genn/transpiler\n",
            "g++ -std=c++17 -Wall -Wpedantic -Wextra -MMD -MP -I/content/genn/include/genn/genn -I/content/genn/include/genn/third_party  -fPIC -DGENN_VERSION=\\\"5.1.0\\\" -DGIT_HASH=\\\"d9738170aed5897c56c8c18e09934e2109fa8215\\\" -c -o /content/genn/obj_dynamic/genn/genn/transpiler/prettyPrinter.o transpiler/prettyPrinter.cc\n",
            "mkdir -p /content/genn/obj_dynamic/genn/genn/transpiler\n",
            "g++ -std=c++17 -Wall -Wpedantic -Wextra -MMD -MP -I/content/genn/include/genn/genn -I/content/genn/include/genn/third_party  -fPIC -DGENN_VERSION=\\\"5.1.0\\\" -DGIT_HASH=\\\"d9738170aed5897c56c8c18e09934e2109fa8215\\\" -c -o /content/genn/obj_dynamic/genn/genn/transpiler/scanner.o transpiler/scanner.cc\n",
            "mkdir -p /content/genn/obj_dynamic/genn/genn/transpiler\n",
            "g++ -std=c++17 -Wall -Wpedantic -Wextra -MMD -MP -I/content/genn/include/genn/genn -I/content/genn/include/genn/third_party  -fPIC -DGENN_VERSION=\\\"5.1.0\\\" -DGIT_HASH=\\\"d9738170aed5897c56c8c18e09934e2109fa8215\\\" -c -o /content/genn/obj_dynamic/genn/genn/transpiler/typeChecker.o transpiler/typeChecker.cc\n",
            "mkdir -p /content/genn/obj_dynamic/genn/genn/runtime\n",
            "g++ -std=c++17 -Wall -Wpedantic -Wextra -MMD -MP -I/content/genn/include/genn/genn -I/content/genn/include/genn/third_party  -fPIC -DGENN_VERSION=\\\"5.1.0\\\" -DGIT_HASH=\\\"d9738170aed5897c56c8c18e09934e2109fa8215\\\" -c -o /content/genn/obj_dynamic/genn/genn/runtime/runtime.o runtime/runtime.cc\n",
            "mkdir -p /content/genn/pygenn\n",
            "g++ -shared -Wall -Wpedantic -Wextra -MMD -MP -I/content/genn/include/genn/genn -I/content/genn/include/genn/third_party  -fPIC -DGENN_VERSION=\\\"5.1.0\\\" -DGIT_HASH=\\\"d9738170aed5897c56c8c18e09934e2109fa8215\\\" -o /content/genn/pygenn/libgenn_dynamic.so /content/genn/obj_dynamic/genn/genn/binomial.o /content/genn/obj_dynamic/genn/genn/currentSource.o /content/genn/obj_dynamic/genn/genn/currentSourceModels.o /content/genn/obj_dynamic/genn/genn/customConnectivityUpdate.o /content/genn/obj_dynamic/genn/genn/customConnectivityUpdateModels.o /content/genn/obj_dynamic/genn/genn/customUpdate.o /content/genn/obj_dynamic/genn/genn/customUpdateModels.o /content/genn/obj_dynamic/genn/genn/gennUtils.o /content/genn/obj_dynamic/genn/genn/initSparseConnectivitySnippet.o /content/genn/obj_dynamic/genn/genn/initToeplitzConnectivitySnippet.o /content/genn/obj_dynamic/genn/genn/initVarSnippet.o /content/genn/obj_dynamic/genn/genn/logging.o /content/genn/obj_dynamic/genn/genn/models.o /content/genn/obj_dynamic/genn/genn/modelSpec.o /content/genn/obj_dynamic/genn/genn/neuronGroup.o /content/genn/obj_dynamic/genn/genn/neuronModels.o /content/genn/obj_dynamic/genn/genn/postsynapticModels.o /content/genn/obj_dynamic/genn/genn/snippet.o /content/genn/obj_dynamic/genn/genn/synapseGroup.o /content/genn/obj_dynamic/genn/genn/type.o /content/genn/obj_dynamic/genn/genn/weightUpdateModels.o /content/genn/obj_dynamic/genn/genn/code_generator/backendBase.o /content/genn/obj_dynamic/genn/genn/code_generator/backendSIMT.o /content/genn/obj_dynamic/genn/genn/code_generator/codeGenUtils.o /content/genn/obj_dynamic/genn/genn/code_generator/codeStream.o /content/genn/obj_dynamic/genn/genn/code_generator/customConnectivityUpdateGroupMerged.o /content/genn/obj_dynamic/genn/genn/code_generator/customUpdateGroupMerged.o /content/genn/obj_dynamic/genn/genn/code_generator/environment.o /content/genn/obj_dynamic/genn/genn/code_generator/generateMakefile.o /content/genn/obj_dynamic/genn/genn/code_generator/generateModules.o /content/genn/obj_dynamic/genn/genn/code_generator/generateMSBuild.o /content/genn/obj_dynamic/genn/genn/code_generator/generateRunner.o /content/genn/obj_dynamic/genn/genn/code_generator/initGroupMerged.o /content/genn/obj_dynamic/genn/genn/code_generator/lazyString.o /content/genn/obj_dynamic/genn/genn/code_generator/modelSpecMerged.o /content/genn/obj_dynamic/genn/genn/code_generator/neuronUpdateGroupMerged.o /content/genn/obj_dynamic/genn/genn/code_generator/presynapticUpdateStrategySIMT.o /content/genn/obj_dynamic/genn/genn/code_generator/standardLibrary.o /content/genn/obj_dynamic/genn/genn/code_generator/synapseUpdateGroupMerged.o /content/genn/obj_dynamic/genn/genn/transpiler/errorHandler.o /content/genn/obj_dynamic/genn/genn/transpiler/parser.o /content/genn/obj_dynamic/genn/genn/transpiler/prettyPrinter.o /content/genn/obj_dynamic/genn/genn/transpiler/scanner.o /content/genn/obj_dynamic/genn/genn/transpiler/typeChecker.o /content/genn/obj_dynamic/genn/genn/runtime/runtime.o\n",
            "make[1]: Leaving directory '/content/genn/src/genn/genn'\n",
            "make -C src/genn/backends/single_threaded_cpu\n",
            "make[1]: Entering directory '/content/genn/src/genn/backends/single_threaded_cpu'\n",
            "mkdir -p /content/genn/obj_dynamic/genn/backends/single_threaded_cpu\n",
            "g++ -std=c++17 -Wall -Wpedantic -Wextra -MMD -MP -I/content/genn/include/genn/genn -I/content/genn/include/genn/third_party  -fPIC -I/content/genn/include/genn/backends/single_threaded_cpu -c -o /content/genn/obj_dynamic/genn/backends/single_threaded_cpu/backend.o backend.cc\n",
            "mkdir -p /content/genn/obj_dynamic/genn/backends/single_threaded_cpu\n",
            "g++ -std=c++17 -Wall -Wpedantic -Wextra -MMD -MP -I/content/genn/include/genn/genn -I/content/genn/include/genn/third_party  -fPIC -I/content/genn/include/genn/backends/single_threaded_cpu -c -o /content/genn/obj_dynamic/genn/backends/single_threaded_cpu/optimiser.o optimiser.cc\n",
            "mkdir -p /content/genn/pygenn\n",
            "g++ -shared -Wall -Wpedantic -Wextra -MMD -MP -I/content/genn/include/genn/genn -I/content/genn/include/genn/third_party  -fPIC -I/content/genn/include/genn/backends/single_threaded_cpu -o /content/genn/pygenn/libgenn_single_threaded_cpu_backend_dynamic.so /content/genn/obj_dynamic/genn/backends/single_threaded_cpu/backend.o /content/genn/obj_dynamic/genn/backends/single_threaded_cpu/optimiser.o\n",
            "make[1]: Leaving directory '/content/genn/src/genn/backends/single_threaded_cpu'\n",
            "make -C src/genn/genn\n",
            "make[1]: Entering directory '/content/genn/src/genn/genn'\n",
            "make[1]: Nothing to be done for 'all'.\n",
            "make[1]: Leaving directory '/content/genn/src/genn/genn'\n",
            "make -C src/genn/backends/cuda\n",
            "make[1]: Entering directory '/content/genn/src/genn/backends/cuda'\n",
            "mkdir -p /content/genn/obj_dynamic/genn/backends/cuda\n",
            "g++ -std=c++17 -Wall -Wpedantic -Wextra -MMD -MP -I/content/genn/include/genn/genn -I/content/genn/include/genn/third_party  -fPIC -I/content/genn/include/genn/backends/cuda -I\"/usr/local/cuda/include\" -pthread -c -o /content/genn/obj_dynamic/genn/backends/cuda/backend.o backend.cc\n",
            "mkdir -p /content/genn/obj_dynamic/genn/backends/cuda\n",
            "g++ -std=c++17 -Wall -Wpedantic -Wextra -MMD -MP -I/content/genn/include/genn/genn -I/content/genn/include/genn/third_party  -fPIC -I/content/genn/include/genn/backends/cuda -I\"/usr/local/cuda/include\" -pthread -c -o /content/genn/obj_dynamic/genn/backends/cuda/optimiser.o optimiser.cc\n",
            "mkdir -p /content/genn/pygenn\n",
            "g++ -shared -Wall -Wpedantic -Wextra -MMD -MP -I/content/genn/include/genn/genn -I/content/genn/include/genn/third_party  -fPIC -I/content/genn/include/genn/backends/cuda -I\"/usr/local/cuda/include\" -pthread -o /content/genn/pygenn/libgenn_cuda_backend_dynamic.so /content/genn/obj_dynamic/genn/backends/cuda/backend.o /content/genn/obj_dynamic/genn/backends/cuda/optimiser.o\n",
            "make[1]: Leaving directory '/content/genn/src/genn/backends/cuda'\n",
            "running bdist_wheel\n",
            "running build\n",
            "running build_py\n",
            "creating build/lib.linux-x86_64-cpython-310/pygenn\n",
            "copying pygenn/__init__.py -> build/lib.linux-x86_64-cpython-310/pygenn\n",
            "copying pygenn/model_preprocessor.py -> build/lib.linux-x86_64-cpython-310/pygenn\n",
            "copying pygenn/genn_groups.py -> build/lib.linux-x86_64-cpython-310/pygenn\n",
            "copying pygenn/_deprecated.py -> build/lib.linux-x86_64-cpython-310/pygenn\n",
            "copying pygenn/genn_model.py -> build/lib.linux-x86_64-cpython-310/pygenn\n",
            "copying pygenn/libgenn_dynamic.so -> build/lib.linux-x86_64-cpython-310/pygenn\n",
            "creating build/lib.linux-x86_64-cpython-310/pygenn/share/backends/opencl\n",
            "copying pygenn/share/backends/opencl/cl2.hpp -> build/lib.linux-x86_64-cpython-310/pygenn/share/backends/opencl\n",
            "creating build/lib.linux-x86_64-cpython-310/pygenn/share/backends/opencl/clRNG\n",
            "copying pygenn/share/backends/opencl/clRNG/private.h -> build/lib.linux-x86_64-cpython-310/pygenn/share/backends/opencl/clRNG\n",
            "copying pygenn/share/backends/opencl/clRNG/philox432.c -> build/lib.linux-x86_64-cpython-310/pygenn/share/backends/opencl/clRNG\n",
            "copying pygenn/share/backends/opencl/clRNG/lfsr113.c -> build/lib.linux-x86_64-cpython-310/pygenn/share/backends/opencl/clRNG\n",
            "copying pygenn/share/backends/opencl/clRNG/modularHost.c.h -> build/lib.linux-x86_64-cpython-310/pygenn/share/backends/opencl/clRNG\n",
            "copying pygenn/share/backends/opencl/clRNG/private.c -> build/lib.linux-x86_64-cpython-310/pygenn/share/backends/opencl/clRNG\n",
            "copying pygenn/share/backends/opencl/clRNG/clRNG.c -> build/lib.linux-x86_64-cpython-310/pygenn/share/backends/opencl/clRNG\n",
            "creating build/lib.linux-x86_64-cpython-310/pygenn/share/backends/opencl/clRNG/include/clRNG\n",
            "copying pygenn/share/backends/opencl/clRNG/include/clRNG/lfsr113.clh -> build/lib.linux-x86_64-cpython-310/pygenn/share/backends/opencl/clRNG/include/clRNG\n",
            "copying pygenn/share/backends/opencl/clRNG/include/clRNG/philox432.clh -> build/lib.linux-x86_64-cpython-310/pygenn/share/backends/opencl/clRNG/include/clRNG\n",
            "copying pygenn/share/backends/opencl/clRNG/include/clRNG/clRNG.h -> build/lib.linux-x86_64-cpython-310/pygenn/share/backends/opencl/clRNG/include/clRNG\n",
            "copying pygenn/share/backends/opencl/clRNG/include/clRNG/lfsr113.h -> build/lib.linux-x86_64-cpython-310/pygenn/share/backends/opencl/clRNG/include/clRNG\n",
            "copying pygenn/share/backends/opencl/clRNG/include/clRNG/philox432.h -> build/lib.linux-x86_64-cpython-310/pygenn/share/backends/opencl/clRNG/include/clRNG\n",
            "copying pygenn/share/backends/opencl/clRNG/include/clRNG/clRNG.clh -> build/lib.linux-x86_64-cpython-310/pygenn/share/backends/opencl/clRNG/include/clRNG\n",
            "creating build/lib.linux-x86_64-cpython-310/pygenn/share/backends/opencl/clRNG/include/clRNG/private\n",
            "copying pygenn/share/backends/opencl/clRNG/include/clRNG/private/modular.c.h -> build/lib.linux-x86_64-cpython-310/pygenn/share/backends/opencl/clRNG/include/clRNG/private\n",
            "copying pygenn/share/backends/opencl/clRNG/include/clRNG/private/lfsr113.c.h -> build/lib.linux-x86_64-cpython-310/pygenn/share/backends/opencl/clRNG/include/clRNG/private\n",
            "copying pygenn/share/backends/opencl/clRNG/include/clRNG/private/philox432.c.h -> build/lib.linux-x86_64-cpython-310/pygenn/share/backends/opencl/clRNG/include/clRNG/private\n",
            "creating build/lib.linux-x86_64-cpython-310/pygenn/share/backends/opencl/clRNG/include/clRNG/private/device\n",
            "copying pygenn/share/backends/opencl/clRNG/include/clRNG/private/device/modular.c.h -> build/lib.linux-x86_64-cpython-310/pygenn/share/backends/opencl/clRNG/include/clRNG/private/device\n",
            "copying pygenn/share/backends/opencl/clRNG/include/clRNG/private/device/lfsr113.c.h -> build/lib.linux-x86_64-cpython-310/pygenn/share/backends/opencl/clRNG/include/clRNG/private/device\n",
            "copying pygenn/share/backends/opencl/clRNG/include/clRNG/private/device/philox432.c.h -> build/lib.linux-x86_64-cpython-310/pygenn/share/backends/opencl/clRNG/include/clRNG/private/device\n",
            "creating build/lib.linux-x86_64-cpython-310/pygenn/share/backends/opencl/clRNG/include/clRNG/private/Random123\n",
            "copying pygenn/share/backends/opencl/clRNG/include/clRNG/private/Random123/philox.h -> build/lib.linux-x86_64-cpython-310/pygenn/share/backends/opencl/clRNG/include/clRNG/private/Random123\n",
            "copying pygenn/share/backends/opencl/clRNG/include/clRNG/private/Random123/array.h -> build/lib.linux-x86_64-cpython-310/pygenn/share/backends/opencl/clRNG/include/clRNG/private/Random123\n",
            "creating build/lib.linux-x86_64-cpython-310/pygenn/share/backends/opencl/clRNG/include/clRNG/private/Random123/features\n",
            "copying pygenn/share/backends/opencl/clRNG/include/clRNG/private/Random123/features/sse.h -> build/lib.linux-x86_64-cpython-310/pygenn/share/backends/opencl/clRNG/include/clRNG/private/Random123/features\n",
            "copying pygenn/share/backends/opencl/clRNG/include/clRNG/private/Random123/features/open64features.h -> build/lib.linux-x86_64-cpython-310/pygenn/share/backends/opencl/clRNG/include/clRNG/private/Random123/features\n",
            "copying pygenn/share/backends/opencl/clRNG/include/clRNG/private/Random123/features/gccfeatures.h -> build/lib.linux-x86_64-cpython-310/pygenn/share/backends/opencl/clRNG/include/clRNG/private/Random123/features\n",
            "copying pygenn/share/backends/opencl/clRNG/include/clRNG/private/Random123/features/compilerfeatures.h -> build/lib.linux-x86_64-cpython-310/pygenn/share/backends/opencl/clRNG/include/clRNG/private/Random123/features\n",
            "copying pygenn/share/backends/opencl/clRNG/include/clRNG/private/Random123/features/openclfeatures.h -> build/lib.linux-x86_64-cpython-310/pygenn/share/backends/opencl/clRNG/include/clRNG/private/Random123/features\n",
            "copying pygenn/share/backends/opencl/clRNG/include/clRNG/private/Random123/features/msvcfeatures.h -> build/lib.linux-x86_64-cpython-310/pygenn/share/backends/opencl/clRNG/include/clRNG/private/Random123/features\n",
            "copying pygenn/share/backends/opencl/clRNG/include/clRNG/private/Random123/features/clangfeatures.h -> build/lib.linux-x86_64-cpython-310/pygenn/share/backends/opencl/clRNG/include/clRNG/private/Random123/features\n",
            "copying pygenn/libgenn_single_threaded_cpu_backend_dynamic.so -> build/lib.linux-x86_64-cpython-310/pygenn\n",
            "copying pygenn/libgenn_cuda_backend_dynamic.so -> build/lib.linux-x86_64-cpython-310/pygenn\n",
            "running build_ext\n",
            "building '_runtime' extension\n",
            "creating build/temp.linux-x86_64-cpython-310/content/genn/pygenn/src\n",
            "x86_64-linux-gnu-g++ -Wno-unused-result -Wsign-compare -DNDEBUG -g -fwrapv -O2 -Wall -g -fstack-protector-strong -Wformat -Werror=format-security -g -fwrapv -O2 -fPIC -DLINKING_GENN_DLL=1 -DLINKING_BACKEND_DLL=1 -I/content/genn/pygenn/include -I/content/genn/include/genn/genn -I/content/genn/include/genn/third_party -I/usr/local/lib/python3.10/dist-packages/pybind11/include -I/usr/include/python3.10 -c /content/genn/pygenn/src/runtime.cc -o build/temp.linux-x86_64-cpython-310/content/genn/pygenn/src/runtime.o -fvisibility=hidden -g0 -std=c++17\n",
            "x86_64-linux-gnu-g++ -Wno-unused-result -Wsign-compare -DNDEBUG -g -fwrapv -O2 -Wall -g -fstack-protector-strong -Wformat -Werror=format-security -g -fwrapv -O2 -shared -Wl,-O1 -Wl,-Bsymbolic-functions build/temp.linux-x86_64-cpython-310/content/genn/pygenn/src/runtime.o -L/content/genn/pygenn -L/usr/lib/x86_64-linux-gnu -Wl,--enable-new-dtags,-rpath,$ORIGIN -lgenn_dynamic -lffi -o build/lib.linux-x86_64-cpython-310/pygenn/_runtime.cpython-310-x86_64-linux-gnu.so\n",
            "building '_genn' extension\n",
            "x86_64-linux-gnu-g++ -Wno-unused-result -Wsign-compare -DNDEBUG -g -fwrapv -O2 -Wall -g -fstack-protector-strong -Wformat -Werror=format-security -g -fwrapv -O2 -fPIC -DLINKING_GENN_DLL=1 -DLINKING_BACKEND_DLL=1 -I/content/genn/pygenn/include -I/content/genn/include/genn/genn -I/content/genn/include/genn/third_party -I/usr/local/lib/python3.10/dist-packages/pybind11/include -I/usr/include/python3.10 -c /content/genn/pygenn/src/genn.cc -o build/temp.linux-x86_64-cpython-310/content/genn/pygenn/src/genn.o -fvisibility=hidden -g0 -std=c++17\n",
            "x86_64-linux-gnu-g++ -Wno-unused-result -Wsign-compare -DNDEBUG -g -fwrapv -O2 -Wall -g -fstack-protector-strong -Wformat -Werror=format-security -g -fwrapv -O2 -shared -Wl,-O1 -Wl,-Bsymbolic-functions build/temp.linux-x86_64-cpython-310/content/genn/pygenn/src/genn.o -L/content/genn/pygenn -L/usr/lib/x86_64-linux-gnu -Wl,--enable-new-dtags,-rpath,$ORIGIN -lgenn_dynamic -lffi -o build/lib.linux-x86_64-cpython-310/pygenn/_genn.cpython-310-x86_64-linux-gnu.so\n",
            "building 'types' extension\n",
            "x86_64-linux-gnu-g++ -Wno-unused-result -Wsign-compare -DNDEBUG -g -fwrapv -O2 -Wall -g -fstack-protector-strong -Wformat -Werror=format-security -g -fwrapv -O2 -fPIC -DLINKING_GENN_DLL=1 -DLINKING_BACKEND_DLL=1 -I/content/genn/pygenn/include -I/content/genn/include/genn/genn -I/content/genn/include/genn/third_party -I/usr/local/lib/python3.10/dist-packages/pybind11/include -I/usr/include/python3.10 -c /content/genn/pygenn/src/types.cc -o build/temp.linux-x86_64-cpython-310/content/genn/pygenn/src/types.o -fvisibility=hidden -g0 -std=c++17\n",
            "x86_64-linux-gnu-g++ -Wno-unused-result -Wsign-compare -DNDEBUG -g -fwrapv -O2 -Wall -g -fstack-protector-strong -Wformat -Werror=format-security -g -fwrapv -O2 -shared -Wl,-O1 -Wl,-Bsymbolic-functions build/temp.linux-x86_64-cpython-310/content/genn/pygenn/src/types.o -L/content/genn/pygenn -L/usr/lib/x86_64-linux-gnu -Wl,--enable-new-dtags,-rpath,$ORIGIN -lgenn_dynamic -lffi -o build/lib.linux-x86_64-cpython-310/pygenn/types.cpython-310-x86_64-linux-gnu.so\n",
            "building 'init_sparse_connectivity_snippets' extension\n",
            "x86_64-linux-gnu-g++ -Wno-unused-result -Wsign-compare -DNDEBUG -g -fwrapv -O2 -Wall -g -fstack-protector-strong -Wformat -Werror=format-security -g -fwrapv -O2 -fPIC -DLINKING_GENN_DLL=1 -DLINKING_BACKEND_DLL=1 -I/content/genn/pygenn/include -I/content/genn/include/genn/genn -I/content/genn/include/genn/third_party -I/usr/local/lib/python3.10/dist-packages/pybind11/include -I/usr/include/python3.10 -c /content/genn/pygenn/src/initSparseConnectivitySnippets.cc -o build/temp.linux-x86_64-cpython-310/content/genn/pygenn/src/initSparseConnectivitySnippets.o -fvisibility=hidden -g0 -std=c++17\n",
            "x86_64-linux-gnu-g++ -Wno-unused-result -Wsign-compare -DNDEBUG -g -fwrapv -O2 -Wall -g -fstack-protector-strong -Wformat -Werror=format-security -g -fwrapv -O2 -shared -Wl,-O1 -Wl,-Bsymbolic-functions build/temp.linux-x86_64-cpython-310/content/genn/pygenn/src/initSparseConnectivitySnippets.o -L/content/genn/pygenn -L/usr/lib/x86_64-linux-gnu -Wl,--enable-new-dtags,-rpath,$ORIGIN -lgenn_dynamic -lffi -o build/lib.linux-x86_64-cpython-310/pygenn/init_sparse_connectivity_snippets.cpython-310-x86_64-linux-gnu.so\n",
            "building 'init_toeplitz_connectivity_snippets' extension\n",
            "x86_64-linux-gnu-g++ -Wno-unused-result -Wsign-compare -DNDEBUG -g -fwrapv -O2 -Wall -g -fstack-protector-strong -Wformat -Werror=format-security -g -fwrapv -O2 -fPIC -DLINKING_GENN_DLL=1 -DLINKING_BACKEND_DLL=1 -I/content/genn/pygenn/include -I/content/genn/include/genn/genn -I/content/genn/include/genn/third_party -I/usr/local/lib/python3.10/dist-packages/pybind11/include -I/usr/include/python3.10 -c /content/genn/pygenn/src/initToeplitzConnectivitySnippets.cc -o build/temp.linux-x86_64-cpython-310/content/genn/pygenn/src/initToeplitzConnectivitySnippets.o -fvisibility=hidden -g0 -std=c++17\n",
            "x86_64-linux-gnu-g++ -Wno-unused-result -Wsign-compare -DNDEBUG -g -fwrapv -O2 -Wall -g -fstack-protector-strong -Wformat -Werror=format-security -g -fwrapv -O2 -shared -Wl,-O1 -Wl,-Bsymbolic-functions build/temp.linux-x86_64-cpython-310/content/genn/pygenn/src/initToeplitzConnectivitySnippets.o -L/content/genn/pygenn -L/usr/lib/x86_64-linux-gnu -Wl,--enable-new-dtags,-rpath,$ORIGIN -lgenn_dynamic -lffi -o build/lib.linux-x86_64-cpython-310/pygenn/init_toeplitz_connectivity_snippets.cpython-310-x86_64-linux-gnu.so\n",
            "building 'init_var_snippets' extension\n",
            "x86_64-linux-gnu-g++ -Wno-unused-result -Wsign-compare -DNDEBUG -g -fwrapv -O2 -Wall -g -fstack-protector-strong -Wformat -Werror=format-security -g -fwrapv -O2 -fPIC -DLINKING_GENN_DLL=1 -DLINKING_BACKEND_DLL=1 -I/content/genn/pygenn/include -I/content/genn/include/genn/genn -I/content/genn/include/genn/third_party -I/usr/local/lib/python3.10/dist-packages/pybind11/include -I/usr/include/python3.10 -c /content/genn/pygenn/src/initVarSnippets.cc -o build/temp.linux-x86_64-cpython-310/content/genn/pygenn/src/initVarSnippets.o -fvisibility=hidden -g0 -std=c++17\n",
            "x86_64-linux-gnu-g++ -Wno-unused-result -Wsign-compare -DNDEBUG -g -fwrapv -O2 -Wall -g -fstack-protector-strong -Wformat -Werror=format-security -g -fwrapv -O2 -shared -Wl,-O1 -Wl,-Bsymbolic-functions build/temp.linux-x86_64-cpython-310/content/genn/pygenn/src/initVarSnippets.o -L/content/genn/pygenn -L/usr/lib/x86_64-linux-gnu -Wl,--enable-new-dtags,-rpath,$ORIGIN -lgenn_dynamic -lffi -o build/lib.linux-x86_64-cpython-310/pygenn/init_var_snippets.cpython-310-x86_64-linux-gnu.so\n",
            "building 'current_source_models' extension\n",
            "x86_64-linux-gnu-g++ -Wno-unused-result -Wsign-compare -DNDEBUG -g -fwrapv -O2 -Wall -g -fstack-protector-strong -Wformat -Werror=format-security -g -fwrapv -O2 -fPIC -DLINKING_GENN_DLL=1 -DLINKING_BACKEND_DLL=1 -I/content/genn/pygenn/include -I/content/genn/include/genn/genn -I/content/genn/include/genn/third_party -I/usr/local/lib/python3.10/dist-packages/pybind11/include -I/usr/include/python3.10 -c /content/genn/pygenn/src/currentSourceModels.cc -o build/temp.linux-x86_64-cpython-310/content/genn/pygenn/src/currentSourceModels.o -fvisibility=hidden -g0 -std=c++17\n",
            "x86_64-linux-gnu-g++ -Wno-unused-result -Wsign-compare -DNDEBUG -g -fwrapv -O2 -Wall -g -fstack-protector-strong -Wformat -Werror=format-security -g -fwrapv -O2 -shared -Wl,-O1 -Wl,-Bsymbolic-functions build/temp.linux-x86_64-cpython-310/content/genn/pygenn/src/currentSourceModels.o -L/content/genn/pygenn -L/usr/lib/x86_64-linux-gnu -Wl,--enable-new-dtags,-rpath,$ORIGIN -lgenn_dynamic -lffi -o build/lib.linux-x86_64-cpython-310/pygenn/current_source_models.cpython-310-x86_64-linux-gnu.so\n",
            "building 'custom_connectivity_update_models' extension\n",
            "x86_64-linux-gnu-g++ -Wno-unused-result -Wsign-compare -DNDEBUG -g -fwrapv -O2 -Wall -g -fstack-protector-strong -Wformat -Werror=format-security -g -fwrapv -O2 -fPIC -DLINKING_GENN_DLL=1 -DLINKING_BACKEND_DLL=1 -I/content/genn/pygenn/include -I/content/genn/include/genn/genn -I/content/genn/include/genn/third_party -I/usr/local/lib/python3.10/dist-packages/pybind11/include -I/usr/include/python3.10 -c /content/genn/pygenn/src/customConnectivityUpdateModels.cc -o build/temp.linux-x86_64-cpython-310/content/genn/pygenn/src/customConnectivityUpdateModels.o -fvisibility=hidden -g0 -std=c++17\n",
            "x86_64-linux-gnu-g++ -Wno-unused-result -Wsign-compare -DNDEBUG -g -fwrapv -O2 -Wall -g -fstack-protector-strong -Wformat -Werror=format-security -g -fwrapv -O2 -shared -Wl,-O1 -Wl,-Bsymbolic-functions build/temp.linux-x86_64-cpython-310/content/genn/pygenn/src/customConnectivityUpdateModels.o -L/content/genn/pygenn -L/usr/lib/x86_64-linux-gnu -Wl,--enable-new-dtags,-rpath,$ORIGIN -lgenn_dynamic -lffi -o build/lib.linux-x86_64-cpython-310/pygenn/custom_connectivity_update_models.cpython-310-x86_64-linux-gnu.so\n",
            "building 'custom_update_models' extension\n",
            "x86_64-linux-gnu-g++ -Wno-unused-result -Wsign-compare -DNDEBUG -g -fwrapv -O2 -Wall -g -fstack-protector-strong -Wformat -Werror=format-security -g -fwrapv -O2 -fPIC -DLINKING_GENN_DLL=1 -DLINKING_BACKEND_DLL=1 -I/content/genn/pygenn/include -I/content/genn/include/genn/genn -I/content/genn/include/genn/third_party -I/usr/local/lib/python3.10/dist-packages/pybind11/include -I/usr/include/python3.10 -c /content/genn/pygenn/src/customUpdateModels.cc -o build/temp.linux-x86_64-cpython-310/content/genn/pygenn/src/customUpdateModels.o -fvisibility=hidden -g0 -std=c++17\n",
            "x86_64-linux-gnu-g++ -Wno-unused-result -Wsign-compare -DNDEBUG -g -fwrapv -O2 -Wall -g -fstack-protector-strong -Wformat -Werror=format-security -g -fwrapv -O2 -shared -Wl,-O1 -Wl,-Bsymbolic-functions build/temp.linux-x86_64-cpython-310/content/genn/pygenn/src/customUpdateModels.o -L/content/genn/pygenn -L/usr/lib/x86_64-linux-gnu -Wl,--enable-new-dtags,-rpath,$ORIGIN -lgenn_dynamic -lffi -o build/lib.linux-x86_64-cpython-310/pygenn/custom_update_models.cpython-310-x86_64-linux-gnu.so\n",
            "building 'neuron_models' extension\n",
            "x86_64-linux-gnu-g++ -Wno-unused-result -Wsign-compare -DNDEBUG -g -fwrapv -O2 -Wall -g -fstack-protector-strong -Wformat -Werror=format-security -g -fwrapv -O2 -fPIC -DLINKING_GENN_DLL=1 -DLINKING_BACKEND_DLL=1 -I/content/genn/pygenn/include -I/content/genn/include/genn/genn -I/content/genn/include/genn/third_party -I/usr/local/lib/python3.10/dist-packages/pybind11/include -I/usr/include/python3.10 -c /content/genn/pygenn/src/neuronModels.cc -o build/temp.linux-x86_64-cpython-310/content/genn/pygenn/src/neuronModels.o -fvisibility=hidden -g0 -std=c++17\n",
            "x86_64-linux-gnu-g++ -Wno-unused-result -Wsign-compare -DNDEBUG -g -fwrapv -O2 -Wall -g -fstack-protector-strong -Wformat -Werror=format-security -g -fwrapv -O2 -shared -Wl,-O1 -Wl,-Bsymbolic-functions build/temp.linux-x86_64-cpython-310/content/genn/pygenn/src/neuronModels.o -L/content/genn/pygenn -L/usr/lib/x86_64-linux-gnu -Wl,--enable-new-dtags,-rpath,$ORIGIN -lgenn_dynamic -lffi -o build/lib.linux-x86_64-cpython-310/pygenn/neuron_models.cpython-310-x86_64-linux-gnu.so\n",
            "building 'postsynaptic_models' extension\n",
            "x86_64-linux-gnu-g++ -Wno-unused-result -Wsign-compare -DNDEBUG -g -fwrapv -O2 -Wall -g -fstack-protector-strong -Wformat -Werror=format-security -g -fwrapv -O2 -fPIC -DLINKING_GENN_DLL=1 -DLINKING_BACKEND_DLL=1 -I/content/genn/pygenn/include -I/content/genn/include/genn/genn -I/content/genn/include/genn/third_party -I/usr/local/lib/python3.10/dist-packages/pybind11/include -I/usr/include/python3.10 -c /content/genn/pygenn/src/postsynapticModels.cc -o build/temp.linux-x86_64-cpython-310/content/genn/pygenn/src/postsynapticModels.o -fvisibility=hidden -g0 -std=c++17\n",
            "x86_64-linux-gnu-g++ -Wno-unused-result -Wsign-compare -DNDEBUG -g -fwrapv -O2 -Wall -g -fstack-protector-strong -Wformat -Werror=format-security -g -fwrapv -O2 -shared -Wl,-O1 -Wl,-Bsymbolic-functions build/temp.linux-x86_64-cpython-310/content/genn/pygenn/src/postsynapticModels.o -L/content/genn/pygenn -L/usr/lib/x86_64-linux-gnu -Wl,--enable-new-dtags,-rpath,$ORIGIN -lgenn_dynamic -lffi -o build/lib.linux-x86_64-cpython-310/pygenn/postsynaptic_models.cpython-310-x86_64-linux-gnu.so\n",
            "building 'weight_update_models' extension\n",
            "x86_64-linux-gnu-g++ -Wno-unused-result -Wsign-compare -DNDEBUG -g -fwrapv -O2 -Wall -g -fstack-protector-strong -Wformat -Werror=format-security -g -fwrapv -O2 -fPIC -DLINKING_GENN_DLL=1 -DLINKING_BACKEND_DLL=1 -I/content/genn/pygenn/include -I/content/genn/include/genn/genn -I/content/genn/include/genn/third_party -I/usr/local/lib/python3.10/dist-packages/pybind11/include -I/usr/include/python3.10 -c /content/genn/pygenn/src/weightUpdateModels.cc -o build/temp.linux-x86_64-cpython-310/content/genn/pygenn/src/weightUpdateModels.o -fvisibility=hidden -g0 -std=c++17\n",
            "x86_64-linux-gnu-g++ -Wno-unused-result -Wsign-compare -DNDEBUG -g -fwrapv -O2 -Wall -g -fstack-protector-strong -Wformat -Werror=format-security -g -fwrapv -O2 -shared -Wl,-O1 -Wl,-Bsymbolic-functions build/temp.linux-x86_64-cpython-310/content/genn/pygenn/src/weightUpdateModels.o -L/content/genn/pygenn -L/usr/lib/x86_64-linux-gnu -Wl,--enable-new-dtags,-rpath,$ORIGIN -lgenn_dynamic -lffi -o build/lib.linux-x86_64-cpython-310/pygenn/weight_update_models.cpython-310-x86_64-linux-gnu.so\n",
            "building 'single_threaded_cpu_backend' extension\n",
            "x86_64-linux-gnu-g++ -Wno-unused-result -Wsign-compare -DNDEBUG -g -fwrapv -O2 -Wall -g -fstack-protector-strong -Wformat -Werror=format-security -g -fwrapv -O2 -fPIC -DLINKING_GENN_DLL=1 -DLINKING_BACKEND_DLL=1 -I/content/genn/pygenn/include -I/content/genn/include/genn/genn -I/content/genn/include/genn/third_party -I/usr/local/lib/python3.10/dist-packages/pybind11/include -I/content/genn/include/genn/backends/single_threaded_cpu -I/usr/include/python3.10 -c /content/genn/pygenn/src/singleThreadedCPUBackend.cc -o build/temp.linux-x86_64-cpython-310/content/genn/pygenn/src/singleThreadedCPUBackend.o -fvisibility=hidden -g0 -std=c++17\n",
            "x86_64-linux-gnu-g++ -Wno-unused-result -Wsign-compare -DNDEBUG -g -fwrapv -O2 -Wall -g -fstack-protector-strong -Wformat -Werror=format-security -g -fwrapv -O2 -shared -Wl,-O1 -Wl,-Bsymbolic-functions build/temp.linux-x86_64-cpython-310/content/genn/pygenn/src/singleThreadedCPUBackend.o -L/content/genn/pygenn -L/usr/lib/x86_64-linux-gnu -Wl,--enable-new-dtags,-rpath,$ORIGIN -lgenn_single_threaded_cpu_backend_dynamic -lgenn_dynamic -lffi -o build/lib.linux-x86_64-cpython-310/pygenn/single_threaded_cpu_backend.cpython-310-x86_64-linux-gnu.so\n",
            "building 'cuda_backend' extension\n",
            "x86_64-linux-gnu-g++ -Wno-unused-result -Wsign-compare -DNDEBUG -g -fwrapv -O2 -Wall -g -fstack-protector-strong -Wformat -Werror=format-security -g -fwrapv -O2 -fPIC -DLINKING_GENN_DLL=1 -DLINKING_BACKEND_DLL=1 -I/content/genn/pygenn/include -I/content/genn/include/genn/genn -I/content/genn/include/genn/third_party -I/usr/local/lib/python3.10/dist-packages/pybind11/include -I/usr/local/cuda/include -I/content/genn/include/genn/backends/cuda -I/usr/include/python3.10 -c /content/genn/pygenn/src/cudaBackend.cc -o build/temp.linux-x86_64-cpython-310/content/genn/pygenn/src/cudaBackend.o -fvisibility=hidden -g0 -std=c++17\n",
            "x86_64-linux-gnu-g++ -Wno-unused-result -Wsign-compare -DNDEBUG -g -fwrapv -O2 -Wall -g -fstack-protector-strong -Wformat -Werror=format-security -g -fwrapv -O2 -shared -Wl,-O1 -Wl,-Bsymbolic-functions build/temp.linux-x86_64-cpython-310/content/genn/pygenn/src/cudaBackend.o -L/content/genn/pygenn -L/usr/local/cuda/lib64 -L/usr/lib/x86_64-linux-gnu -Wl,--enable-new-dtags,-rpath,$ORIGIN -lgenn_cuda_backend_dynamic -lgenn_dynamic -lffi -lcuda -lcudart -o build/lib.linux-x86_64-cpython-310/pygenn/cuda_backend.cpython-310-x86_64-linux-gnu.so\n",
            "/usr/local/lib/python3.10/dist-packages/setuptools/_distutils/cmd.py:66: SetuptoolsDeprecationWarning: setup.py install is deprecated.\n",
            "!!\n",
            "\n",
            "        ********************************************************************************\n",
            "        Please avoid running ``setup.py`` directly.\n",
            "        Instead, use pypa/build, pypa/installer or other\n",
            "        standards-based tools.\n",
            "\n",
            "        See https://blog.ganssle.io/articles/2021/10/setup-py-deprecated.html for details.\n",
            "        ********************************************************************************\n",
            "\n",
            "!!\n",
            "  self.initialize_options()\n",
            "installing to build/bdist.linux-x86_64/wheel\n",
            "running install\n",
            "running install_lib\n",
            "creating build/bdist.linux-x86_64/wheel\n",
            "creating build/bdist.linux-x86_64/wheel/pygenn\n",
            "copying build/lib.linux-x86_64-cpython-310/pygenn/custom_update_models.cpython-310-x86_64-linux-gnu.so -> build/bdist.linux-x86_64/wheel/./pygenn\n",
            "copying build/lib.linux-x86_64-cpython-310/pygenn/__init__.py -> build/bdist.linux-x86_64/wheel/./pygenn\n",
            "copying build/lib.linux-x86_64-cpython-310/pygenn/init_sparse_connectivity_snippets.cpython-310-x86_64-linux-gnu.so -> build/bdist.linux-x86_64/wheel/./pygenn\n",
            "copying build/lib.linux-x86_64-cpython-310/pygenn/weight_update_models.cpython-310-x86_64-linux-gnu.so -> build/bdist.linux-x86_64/wheel/./pygenn\n",
            "copying build/lib.linux-x86_64-cpython-310/pygenn/_genn.cpython-310-x86_64-linux-gnu.so -> build/bdist.linux-x86_64/wheel/./pygenn\n",
            "copying build/lib.linux-x86_64-cpython-310/pygenn/model_preprocessor.py -> build/bdist.linux-x86_64/wheel/./pygenn\n",
            "copying build/lib.linux-x86_64-cpython-310/pygenn/genn_groups.py -> build/bdist.linux-x86_64/wheel/./pygenn\n",
            "copying build/lib.linux-x86_64-cpython-310/pygenn/libgenn_dynamic.so -> build/bdist.linux-x86_64/wheel/./pygenn\n",
            "copying build/lib.linux-x86_64-cpython-310/pygenn/postsynaptic_models.cpython-310-x86_64-linux-gnu.so -> build/bdist.linux-x86_64/wheel/./pygenn\n",
            "creating build/bdist.linux-x86_64/wheel/pygenn/share\n",
            "creating build/bdist.linux-x86_64/wheel/pygenn/share/backends\n",
            "creating build/bdist.linux-x86_64/wheel/pygenn/share/backends/opencl\n",
            "creating build/bdist.linux-x86_64/wheel/pygenn/share/backends/opencl/clRNG\n",
            "copying build/lib.linux-x86_64-cpython-310/pygenn/share/backends/opencl/clRNG/private.h -> build/bdist.linux-x86_64/wheel/./pygenn/share/backends/opencl/clRNG\n",
            "copying build/lib.linux-x86_64-cpython-310/pygenn/share/backends/opencl/clRNG/philox432.c -> build/bdist.linux-x86_64/wheel/./pygenn/share/backends/opencl/clRNG\n",
            "copying build/lib.linux-x86_64-cpython-310/pygenn/share/backends/opencl/clRNG/lfsr113.c -> build/bdist.linux-x86_64/wheel/./pygenn/share/backends/opencl/clRNG\n",
            "copying build/lib.linux-x86_64-cpython-310/pygenn/share/backends/opencl/clRNG/modularHost.c.h -> build/bdist.linux-x86_64/wheel/./pygenn/share/backends/opencl/clRNG\n",
            "copying build/lib.linux-x86_64-cpython-310/pygenn/share/backends/opencl/clRNG/private.c -> build/bdist.linux-x86_64/wheel/./pygenn/share/backends/opencl/clRNG\n",
            "creating build/bdist.linux-x86_64/wheel/pygenn/share/backends/opencl/clRNG/include\n",
            "creating build/bdist.linux-x86_64/wheel/pygenn/share/backends/opencl/clRNG/include/clRNG\n",
            "creating build/bdist.linux-x86_64/wheel/pygenn/share/backends/opencl/clRNG/include/clRNG/private\n",
            "copying build/lib.linux-x86_64-cpython-310/pygenn/share/backends/opencl/clRNG/include/clRNG/private/modular.c.h -> build/bdist.linux-x86_64/wheel/./pygenn/share/backends/opencl/clRNG/include/clRNG/private\n",
            "creating build/bdist.linux-x86_64/wheel/pygenn/share/backends/opencl/clRNG/include/clRNG/private/device\n",
            "copying build/lib.linux-x86_64-cpython-310/pygenn/share/backends/opencl/clRNG/include/clRNG/private/device/modular.c.h -> build/bdist.linux-x86_64/wheel/./pygenn/share/backends/opencl/clRNG/include/clRNG/private/device\n",
            "copying build/lib.linux-x86_64-cpython-310/pygenn/share/backends/opencl/clRNG/include/clRNG/private/device/lfsr113.c.h -> build/bdist.linux-x86_64/wheel/./pygenn/share/backends/opencl/clRNG/include/clRNG/private/device\n",
            "copying build/lib.linux-x86_64-cpython-310/pygenn/share/backends/opencl/clRNG/include/clRNG/private/device/philox432.c.h -> build/bdist.linux-x86_64/wheel/./pygenn/share/backends/opencl/clRNG/include/clRNG/private/device\n",
            "creating build/bdist.linux-x86_64/wheel/pygenn/share/backends/opencl/clRNG/include/clRNG/private/Random123\n",
            "copying build/lib.linux-x86_64-cpython-310/pygenn/share/backends/opencl/clRNG/include/clRNG/private/Random123/philox.h -> build/bdist.linux-x86_64/wheel/./pygenn/share/backends/opencl/clRNG/include/clRNG/private/Random123\n",
            "copying build/lib.linux-x86_64-cpython-310/pygenn/share/backends/opencl/clRNG/include/clRNG/private/Random123/array.h -> build/bdist.linux-x86_64/wheel/./pygenn/share/backends/opencl/clRNG/include/clRNG/private/Random123\n",
            "creating build/bdist.linux-x86_64/wheel/pygenn/share/backends/opencl/clRNG/include/clRNG/private/Random123/features\n",
            "copying build/lib.linux-x86_64-cpython-310/pygenn/share/backends/opencl/clRNG/include/clRNG/private/Random123/features/sse.h -> build/bdist.linux-x86_64/wheel/./pygenn/share/backends/opencl/clRNG/include/clRNG/private/Random123/features\n",
            "copying build/lib.linux-x86_64-cpython-310/pygenn/share/backends/opencl/clRNG/include/clRNG/private/Random123/features/open64features.h -> build/bdist.linux-x86_64/wheel/./pygenn/share/backends/opencl/clRNG/include/clRNG/private/Random123/features\n",
            "copying build/lib.linux-x86_64-cpython-310/pygenn/share/backends/opencl/clRNG/include/clRNG/private/Random123/features/gccfeatures.h -> build/bdist.linux-x86_64/wheel/./pygenn/share/backends/opencl/clRNG/include/clRNG/private/Random123/features\n",
            "copying build/lib.linux-x86_64-cpython-310/pygenn/share/backends/opencl/clRNG/include/clRNG/private/Random123/features/compilerfeatures.h -> build/bdist.linux-x86_64/wheel/./pygenn/share/backends/opencl/clRNG/include/clRNG/private/Random123/features\n",
            "copying build/lib.linux-x86_64-cpython-310/pygenn/share/backends/opencl/clRNG/include/clRNG/private/Random123/features/openclfeatures.h -> build/bdist.linux-x86_64/wheel/./pygenn/share/backends/opencl/clRNG/include/clRNG/private/Random123/features\n",
            "copying build/lib.linux-x86_64-cpython-310/pygenn/share/backends/opencl/clRNG/include/clRNG/private/Random123/features/msvcfeatures.h -> build/bdist.linux-x86_64/wheel/./pygenn/share/backends/opencl/clRNG/include/clRNG/private/Random123/features\n",
            "copying build/lib.linux-x86_64-cpython-310/pygenn/share/backends/opencl/clRNG/include/clRNG/private/Random123/features/clangfeatures.h -> build/bdist.linux-x86_64/wheel/./pygenn/share/backends/opencl/clRNG/include/clRNG/private/Random123/features\n",
            "copying build/lib.linux-x86_64-cpython-310/pygenn/share/backends/opencl/clRNG/include/clRNG/private/lfsr113.c.h -> build/bdist.linux-x86_64/wheel/./pygenn/share/backends/opencl/clRNG/include/clRNG/private\n",
            "copying build/lib.linux-x86_64-cpython-310/pygenn/share/backends/opencl/clRNG/include/clRNG/private/philox432.c.h -> build/bdist.linux-x86_64/wheel/./pygenn/share/backends/opencl/clRNG/include/clRNG/private\n",
            "copying build/lib.linux-x86_64-cpython-310/pygenn/share/backends/opencl/clRNG/include/clRNG/lfsr113.clh -> build/bdist.linux-x86_64/wheel/./pygenn/share/backends/opencl/clRNG/include/clRNG\n",
            "copying build/lib.linux-x86_64-cpython-310/pygenn/share/backends/opencl/clRNG/include/clRNG/philox432.clh -> build/bdist.linux-x86_64/wheel/./pygenn/share/backends/opencl/clRNG/include/clRNG\n",
            "copying build/lib.linux-x86_64-cpython-310/pygenn/share/backends/opencl/clRNG/include/clRNG/clRNG.h -> build/bdist.linux-x86_64/wheel/./pygenn/share/backends/opencl/clRNG/include/clRNG\n",
            "copying build/lib.linux-x86_64-cpython-310/pygenn/share/backends/opencl/clRNG/include/clRNG/lfsr113.h -> build/bdist.linux-x86_64/wheel/./pygenn/share/backends/opencl/clRNG/include/clRNG\n",
            "copying build/lib.linux-x86_64-cpython-310/pygenn/share/backends/opencl/clRNG/include/clRNG/philox432.h -> build/bdist.linux-x86_64/wheel/./pygenn/share/backends/opencl/clRNG/include/clRNG\n",
            "copying build/lib.linux-x86_64-cpython-310/pygenn/share/backends/opencl/clRNG/include/clRNG/clRNG.clh -> build/bdist.linux-x86_64/wheel/./pygenn/share/backends/opencl/clRNG/include/clRNG\n",
            "copying build/lib.linux-x86_64-cpython-310/pygenn/share/backends/opencl/clRNG/clRNG.c -> build/bdist.linux-x86_64/wheel/./pygenn/share/backends/opencl/clRNG\n",
            "copying build/lib.linux-x86_64-cpython-310/pygenn/share/backends/opencl/cl2.hpp -> build/bdist.linux-x86_64/wheel/./pygenn/share/backends/opencl\n",
            "copying build/lib.linux-x86_64-cpython-310/pygenn/libgenn_single_threaded_cpu_backend_dynamic.so -> build/bdist.linux-x86_64/wheel/./pygenn\n",
            "copying build/lib.linux-x86_64-cpython-310/pygenn/cuda_backend.cpython-310-x86_64-linux-gnu.so -> build/bdist.linux-x86_64/wheel/./pygenn\n",
            "copying build/lib.linux-x86_64-cpython-310/pygenn/init_var_snippets.cpython-310-x86_64-linux-gnu.so -> build/bdist.linux-x86_64/wheel/./pygenn\n",
            "copying build/lib.linux-x86_64-cpython-310/pygenn/libgenn_cuda_backend_dynamic.so -> build/bdist.linux-x86_64/wheel/./pygenn\n",
            "copying build/lib.linux-x86_64-cpython-310/pygenn/_deprecated.py -> build/bdist.linux-x86_64/wheel/./pygenn\n",
            "copying build/lib.linux-x86_64-cpython-310/pygenn/genn_model.py -> build/bdist.linux-x86_64/wheel/./pygenn\n",
            "copying build/lib.linux-x86_64-cpython-310/pygenn/custom_connectivity_update_models.cpython-310-x86_64-linux-gnu.so -> build/bdist.linux-x86_64/wheel/./pygenn\n",
            "copying build/lib.linux-x86_64-cpython-310/pygenn/single_threaded_cpu_backend.cpython-310-x86_64-linux-gnu.so -> build/bdist.linux-x86_64/wheel/./pygenn\n",
            "copying build/lib.linux-x86_64-cpython-310/pygenn/current_source_models.cpython-310-x86_64-linux-gnu.so -> build/bdist.linux-x86_64/wheel/./pygenn\n",
            "copying build/lib.linux-x86_64-cpython-310/pygenn/neuron_models.cpython-310-x86_64-linux-gnu.so -> build/bdist.linux-x86_64/wheel/./pygenn\n",
            "copying build/lib.linux-x86_64-cpython-310/pygenn/types.cpython-310-x86_64-linux-gnu.so -> build/bdist.linux-x86_64/wheel/./pygenn\n",
            "copying build/lib.linux-x86_64-cpython-310/pygenn/_runtime.cpython-310-x86_64-linux-gnu.so -> build/bdist.linux-x86_64/wheel/./pygenn\n",
            "copying build/lib.linux-x86_64-cpython-310/pygenn/init_toeplitz_connectivity_snippets.cpython-310-x86_64-linux-gnu.so -> build/bdist.linux-x86_64/wheel/./pygenn\n",
            "running install_egg_info\n",
            "running egg_info\n",
            "creating pygenn.egg-info\n",
            "writing pygenn.egg-info/PKG-INFO\n",
            "writing dependency_links to pygenn.egg-info/dependency_links.txt\n",
            "writing requirements to pygenn.egg-info/requires.txt\n",
            "writing top-level names to pygenn.egg-info/top_level.txt\n",
            "writing manifest file 'pygenn.egg-info/SOURCES.txt'\n",
            "dependency /content/genn/pygenn/libgenn_dynamic.so won't be automatically included in the manifest: the path must be relative\n",
            "dependency /content/genn/pygenn/src/docStrings.h won't be automatically included in the manifest: the path must be relative\n",
            "dependency /content/genn/pygenn/libgenn_dynamic.so won't be automatically included in the manifest: the path must be relative\n",
            "dependency /content/genn/pygenn/src/docStrings.h won't be automatically included in the manifest: the path must be relative\n",
            "dependency /content/genn/pygenn/libgenn_dynamic.so won't be automatically included in the manifest: the path must be relative\n",
            "dependency /content/genn/pygenn/src/docStrings.h won't be automatically included in the manifest: the path must be relative\n",
            "dependency /content/genn/pygenn/libgenn_dynamic.so won't be automatically included in the manifest: the path must be relative\n",
            "dependency /content/genn/pygenn/src/docStrings.h won't be automatically included in the manifest: the path must be relative\n",
            "dependency /content/genn/pygenn/libgenn_dynamic.so won't be automatically included in the manifest: the path must be relative\n",
            "dependency /content/genn/pygenn/src/docStrings.h won't be automatically included in the manifest: the path must be relative\n",
            "dependency /content/genn/pygenn/libgenn_dynamic.so won't be automatically included in the manifest: the path must be relative\n",
            "dependency /content/genn/pygenn/src/docStrings.h won't be automatically included in the manifest: the path must be relative\n",
            "dependency /content/genn/pygenn/libgenn_dynamic.so won't be automatically included in the manifest: the path must be relative\n",
            "dependency /content/genn/pygenn/src/docStrings.h won't be automatically included in the manifest: the path must be relative\n",
            "dependency /content/genn/pygenn/libgenn_dynamic.so won't be automatically included in the manifest: the path must be relative\n",
            "dependency /content/genn/pygenn/src/docStrings.h won't be automatically included in the manifest: the path must be relative\n",
            "dependency /content/genn/pygenn/libgenn_dynamic.so won't be automatically included in the manifest: the path must be relative\n",
            "dependency /content/genn/pygenn/src/docStrings.h won't be automatically included in the manifest: the path must be relative\n",
            "dependency /content/genn/pygenn/libgenn_dynamic.so won't be automatically included in the manifest: the path must be relative\n",
            "dependency /content/genn/pygenn/src/docStrings.h won't be automatically included in the manifest: the path must be relative\n",
            "dependency /content/genn/pygenn/libgenn_dynamic.so won't be automatically included in the manifest: the path must be relative\n",
            "dependency /content/genn/pygenn/src/docStrings.h won't be automatically included in the manifest: the path must be relative\n",
            "dependency /content/genn/pygenn/libgenn_dynamic.so won't be automatically included in the manifest: the path must be relative\n",
            "dependency /content/genn/pygenn/src/docStrings.h won't be automatically included in the manifest: the path must be relative\n",
            "dependency /content/genn/pygenn/libgenn_dynamic.so won't be automatically included in the manifest: the path must be relative\n",
            "dependency /content/genn/pygenn/src/docStrings.h won't be automatically included in the manifest: the path must be relative\n",
            "dependency /content/genn/pygenn/libgenn_single_threaded_cpu_backend_dynamic.so won't be automatically included in the manifest: the path must be relative\n",
            "dependency /content/genn/pygenn/libgenn_dynamic.so won't be automatically included in the manifest: the path must be relative\n",
            "dependency /content/genn/pygenn/src/docStrings.h won't be automatically included in the manifest: the path must be relative\n",
            "dependency /content/genn/pygenn/libgenn_cuda_backend_dynamic.so won't be automatically included in the manifest: the path must be relative\n",
            "reading manifest file 'pygenn.egg-info/SOURCES.txt'\n",
            "adding license file 'LICENSE'\n",
            "writing manifest file 'pygenn.egg-info/SOURCES.txt'\n",
            "Copying pygenn.egg-info to build/bdist.linux-x86_64/wheel/./pygenn-5.1.0-py3.10.egg-info\n",
            "running install_scripts\n",
            "creating build/bdist.linux-x86_64/wheel/pygenn-5.1.0.dist-info/WHEEL\n",
            "creating 'dist/pygenn-5.1.0-cp310-cp310-linux_x86_64.whl' and adding 'build/bdist.linux-x86_64/wheel' to it\n",
            "adding 'pygenn/__init__.py'\n",
            "adding 'pygenn/_deprecated.py'\n",
            "adding 'pygenn/_genn.cpython-310-x86_64-linux-gnu.so'\n",
            "adding 'pygenn/_runtime.cpython-310-x86_64-linux-gnu.so'\n",
            "adding 'pygenn/cuda_backend.cpython-310-x86_64-linux-gnu.so'\n",
            "adding 'pygenn/current_source_models.cpython-310-x86_64-linux-gnu.so'\n",
            "adding 'pygenn/custom_connectivity_update_models.cpython-310-x86_64-linux-gnu.so'\n",
            "adding 'pygenn/custom_update_models.cpython-310-x86_64-linux-gnu.so'\n",
            "adding 'pygenn/genn_groups.py'\n",
            "adding 'pygenn/genn_model.py'\n",
            "adding 'pygenn/init_sparse_connectivity_snippets.cpython-310-x86_64-linux-gnu.so'\n",
            "adding 'pygenn/init_toeplitz_connectivity_snippets.cpython-310-x86_64-linux-gnu.so'\n",
            "adding 'pygenn/init_var_snippets.cpython-310-x86_64-linux-gnu.so'\n",
            "adding 'pygenn/libgenn_cuda_backend_dynamic.so'\n",
            "adding 'pygenn/libgenn_dynamic.so'\n",
            "adding 'pygenn/libgenn_single_threaded_cpu_backend_dynamic.so'\n",
            "adding 'pygenn/model_preprocessor.py'\n",
            "adding 'pygenn/neuron_models.cpython-310-x86_64-linux-gnu.so'\n",
            "adding 'pygenn/postsynaptic_models.cpython-310-x86_64-linux-gnu.so'\n",
            "adding 'pygenn/single_threaded_cpu_backend.cpython-310-x86_64-linux-gnu.so'\n",
            "adding 'pygenn/types.cpython-310-x86_64-linux-gnu.so'\n",
            "adding 'pygenn/weight_update_models.cpython-310-x86_64-linux-gnu.so'\n",
            "adding 'pygenn/share/backends/opencl/cl2.hpp'\n",
            "adding 'pygenn/share/backends/opencl/clRNG/clRNG.c'\n",
            "adding 'pygenn/share/backends/opencl/clRNG/lfsr113.c'\n",
            "adding 'pygenn/share/backends/opencl/clRNG/modularHost.c.h'\n",
            "adding 'pygenn/share/backends/opencl/clRNG/philox432.c'\n",
            "adding 'pygenn/share/backends/opencl/clRNG/private.c'\n",
            "adding 'pygenn/share/backends/opencl/clRNG/private.h'\n",
            "adding 'pygenn/share/backends/opencl/clRNG/include/clRNG/clRNG.clh'\n",
            "adding 'pygenn/share/backends/opencl/clRNG/include/clRNG/clRNG.h'\n",
            "adding 'pygenn/share/backends/opencl/clRNG/include/clRNG/lfsr113.clh'\n",
            "adding 'pygenn/share/backends/opencl/clRNG/include/clRNG/lfsr113.h'\n",
            "adding 'pygenn/share/backends/opencl/clRNG/include/clRNG/philox432.clh'\n",
            "adding 'pygenn/share/backends/opencl/clRNG/include/clRNG/philox432.h'\n",
            "adding 'pygenn/share/backends/opencl/clRNG/include/clRNG/private/lfsr113.c.h'\n",
            "adding 'pygenn/share/backends/opencl/clRNG/include/clRNG/private/modular.c.h'\n",
            "adding 'pygenn/share/backends/opencl/clRNG/include/clRNG/private/philox432.c.h'\n",
            "adding 'pygenn/share/backends/opencl/clRNG/include/clRNG/private/Random123/array.h'\n",
            "adding 'pygenn/share/backends/opencl/clRNG/include/clRNG/private/Random123/philox.h'\n",
            "adding 'pygenn/share/backends/opencl/clRNG/include/clRNG/private/Random123/features/clangfeatures.h'\n",
            "adding 'pygenn/share/backends/opencl/clRNG/include/clRNG/private/Random123/features/compilerfeatures.h'\n",
            "adding 'pygenn/share/backends/opencl/clRNG/include/clRNG/private/Random123/features/gccfeatures.h'\n",
            "adding 'pygenn/share/backends/opencl/clRNG/include/clRNG/private/Random123/features/msvcfeatures.h'\n",
            "adding 'pygenn/share/backends/opencl/clRNG/include/clRNG/private/Random123/features/open64features.h'\n",
            "adding 'pygenn/share/backends/opencl/clRNG/include/clRNG/private/Random123/features/openclfeatures.h'\n",
            "adding 'pygenn/share/backends/opencl/clRNG/include/clRNG/private/Random123/features/sse.h'\n",
            "adding 'pygenn/share/backends/opencl/clRNG/include/clRNG/private/device/lfsr113.c.h'\n",
            "adding 'pygenn/share/backends/opencl/clRNG/include/clRNG/private/device/modular.c.h'\n",
            "adding 'pygenn/share/backends/opencl/clRNG/include/clRNG/private/device/philox432.c.h'\n",
            "adding 'pygenn-5.1.0.dist-info/LICENSE'\n",
            "adding 'pygenn-5.1.0.dist-info/METADATA'\n",
            "adding 'pygenn-5.1.0.dist-info/WHEEL'\n",
            "adding 'pygenn-5.1.0.dist-info/top_level.txt'\n",
            "adding 'pygenn-5.1.0.dist-info/RECORD'\n",
            "removing build/bdist.linux-x86_64/wheel\n"
          ]
        }
      ],
      "source": [
        "%cd /content/genn\n",
        "!python setup.py bdist_wheel"
      ]
    },
    {
      "cell_type": "markdown",
      "metadata": {
        "id": "lGa0_oLb61zz"
      },
      "source": [
        "# Save wheel to Google Drive\n",
        "First mount Google drive"
      ]
    },
    {
      "cell_type": "code",
      "execution_count": 4,
      "metadata": {
        "colab": {
          "base_uri": "https://localhost:8080/"
        },
        "id": "t2ihZLXh5VD-",
        "outputId": "8848092b-5a05-4278-e2cd-21fd1827fb34"
      },
      "outputs": [
        {
          "output_type": "stream",
          "name": "stdout",
          "text": [
            "Mounted at /content/drive\n"
          ]
        }
      ],
      "source": [
        "from google.colab import drive\n",
        "drive.mount(\"/content/drive\")\n"
      ]
    },
    {
      "cell_type": "markdown",
      "metadata": {
        "id": "4oxLk_xy67Pd"
      },
      "source": [
        "and then copy wheel file into folder with tutorials"
      ]
    },
    {
      "cell_type": "code",
      "execution_count": 9,
      "metadata": {
        "colab": {
          "base_uri": "https://localhost:8080/",
          "height": 54
        },
        "id": "v7Hg9SPK5bZO",
        "outputId": "a668a294-9897-48e9-8c75-aee6e518448c"
      },
      "outputs": [
        {
          "output_type": "stream",
          "name": "stdout",
          "text": [
            "pygenn-5.1.0-cp310-cp310-linux_x86_64.whl\n"
          ]
        },
        {
          "output_type": "execute_result",
          "data": {
            "text/plain": [
              "'/content/drive/MyDrive/genn_tutorials/pygenn-5.1.0-cp310-cp310-linux_x86_64.whl'"
            ],
            "application/vnd.google.colaboratory.intrinsic+json": {
              "type": "string"
            }
          },
          "metadata": {},
          "execution_count": 9
        }
      ],
      "source": [
        "from platform import python_implementation, python_version_tuple\n",
        "from shutil import copy\n",
        "from setuptools.command.bdist_wheel import get_abi_tag, get_platform\n",
        "\n",
        "assert python_implementation() == \"CPython\"\n",
        "version_tuple = python_version_tuple()\n",
        "wheel_name = f\"pygenn-5.1.0-cp{version_tuple[0]}{version_tuple[1]}-{get_abi_tag()}-{get_platform(None)}.whl\"\n",
        "print(wheel_name)\n",
        "copy(f\"/content/genn/dist/{wheel_name}\", f\"/content/drive/MyDrive/genn_tutorials/{wheel_name}\")"
      ]
    },
    {
      "cell_type": "code",
      "execution_count": null,
      "metadata": {
        "id": "xUDb70KBTvHn"
      },
      "outputs": [],
      "source": []
    }
  ],
  "metadata": {
    "accelerator": "GPU",
    "colab": {
      "name": "wheel_build",
      "provenance": []
    },
    "kernelspec": {
      "display_name": "Python 3",
      "language": "python",
      "name": "python3"
    },
    "language_info": {
      "codemirror_mode": {
        "name": "ipython",
        "version": 3
      },
      "file_extension": ".py",
      "mimetype": "text/x-python",
      "name": "python",
      "nbconvert_exporter": "python",
      "pygments_lexer": "ipython3",
      "version": "3.7.7"
    }
  },
  "nbformat": 4,
  "nbformat_minor": 0
}