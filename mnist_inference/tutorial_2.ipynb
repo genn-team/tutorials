{
  "cells": [
    {
      "cell_type": "markdown",
      "metadata": {
        "id": "lGa0_oLb61zz"
      },
      "source": [
        "# Tutorial 2\n",
        "In this tutorial we're going to take the model we developed in the previous tutorial, run it on the entire MNIST testing set and calculate the overall classification accuracy.\n",
        "\n",
        "## Install PyGeNN wheel from Google Drive\n",
        "Download wheel file"
      ]
    },
    {
      "cell_type": "code",
      "execution_count": 1,
      "metadata": {
        "colab": {
          "base_uri": "https://localhost:8080/"
        },
        "id": "t2ihZLXh5VD-",
        "outputId": "c626f2ba-ed14-45ba-94c6-19d4364b58d1"
      },
      "outputs": [
        {
          "output_type": "stream",
          "name": "stdout",
          "text": [
            "Downloading...\n",
            "From: https://drive.google.com/uc?id=1LMVTqYWWQdidyKKX-bKT-0EFTnzdFnm5\n",
            "To: /content/pygenn-4.9.0-cp310-cp310-linux_x86_64.whl\n",
            "100% 20.6M/20.6M [00:00<00:00, 64.5MB/s]\n"
          ]
        }
      ],
      "source": [
        "!gdown 1LMVTqYWWQdidyKKX-bKT-0EFTnzdFnm5"
      ]
    },
    {
      "cell_type": "markdown",
      "metadata": {
        "id": "4oxLk_xy67Pd"
      },
      "source": [
        "and then install PyGeNN from wheel file"
      ]
    },
    {
      "cell_type": "code",
      "execution_count": 2,
      "metadata": {
        "colab": {
          "base_uri": "https://localhost:8080/"
        },
        "id": "v7Hg9SPK5bZO",
        "outputId": "38b55630-3317-4d39-cfc2-f9e85fb07dfa"
      },
      "outputs": [
        {
          "output_type": "stream",
          "name": "stdout",
          "text": [
            "Processing ./pygenn-4.9.0-cp310-cp310-linux_x86_64.whl\n",
            "Requirement already satisfied: numpy>=1.17 in /usr/local/lib/python3.10/dist-packages (from pygenn==4.9.0) (1.23.5)\n",
            "Requirement already satisfied: six in /usr/local/lib/python3.10/dist-packages (from pygenn==4.9.0) (1.16.0)\n",
            "Collecting deprecated (from pygenn==4.9.0)\n",
            "  Downloading Deprecated-1.2.14-py2.py3-none-any.whl (9.6 kB)\n",
            "Requirement already satisfied: psutil in /usr/local/lib/python3.10/dist-packages (from pygenn==4.9.0) (5.9.5)\n",
            "Requirement already satisfied: wrapt<2,>=1.10 in /usr/local/lib/python3.10/dist-packages (from deprecated->pygenn==4.9.0) (1.15.0)\n",
            "Installing collected packages: deprecated, pygenn\n",
            "Successfully installed deprecated-1.2.14 pygenn-4.9.0\n"
          ]
        }
      ],
      "source": [
        "!pip install pygenn-4.9.0-cp310-cp310-linux_x86_64.whl"
      ]
    },
    {
      "cell_type": "markdown",
      "metadata": {
        "id": "cAm5bzGvAb17"
      },
      "source": [
        "Set environment variable to allow GeNN to find CUDA"
      ]
    },
    {
      "cell_type": "code",
      "execution_count": 3,
      "metadata": {
        "colab": {
          "base_uri": "https://localhost:8080/"
        },
        "id": "cIzSgI5Q8Wvq",
        "outputId": "052c73c6-2f8b-4b61-c33e-5f46b80fc163"
      },
      "outputs": [
        {
          "output_type": "stream",
          "name": "stdout",
          "text": [
            "env: CUDA_PATH=/usr/local/cuda\n"
          ]
        }
      ],
      "source": [
        "%env CUDA_PATH=/usr/local/cuda"
      ]
    },
    {
      "cell_type": "markdown",
      "metadata": {
        "id": "8tqbF5GldF0o"
      },
      "source": [
        "## Download pre-trained weights and MNIST test data"
      ]
    },
    {
      "cell_type": "code",
      "execution_count": 4,
      "metadata": {
        "colab": {
          "base_uri": "https://localhost:8080/"
        },
        "id": "N-2PV7LcdFg_",
        "outputId": "4bd79830-ccfe-4c51-9fd9-f280c9f8bb29"
      },
      "outputs": [
        {
          "output_type": "stream",
          "name": "stdout",
          "text": [
            "Downloading...\n",
            "From: https://drive.google.com/uc?id=1cmNL8W0QZZtn3dPHiOQnVjGAYTk6Rhpc\n",
            "To: /content/weights_0_1.npy\n",
            "100% 402k/402k [00:00<00:00, 4.85MB/s]\n",
            "Downloading...\n",
            "From: https://drive.google.com/uc?id=131lCXLEH6aTXnBZ9Nh4eJLSy5DQ6LKSF\n",
            "To: /content/weights_1_2.npy\n",
            "100% 5.25k/5.25k [00:00<00:00, 17.6MB/s]\n"
          ]
        }
      ],
      "source": [
        "!gdown 1cmNL8W0QZZtn3dPHiOQnVjGAYTk6Rhpc\n",
        "!gdown 131lCXLEH6aTXnBZ9Nh4eJLSy5DQ6LKSF"
      ]
    },
    {
      "cell_type": "markdown",
      "source": [
        "## Install MNIST package"
      ],
      "metadata": {
        "id": "KVRtXVzIg07T"
      }
    },
    {
      "cell_type": "code",
      "source": [
        "!pip install mnist"
      ],
      "metadata": {
        "id": "AikBc4sfg1b-",
        "outputId": "1e2d2106-1c29-4b27-9682-ecc176738b59",
        "colab": {
          "base_uri": "https://localhost:8080/"
        }
      },
      "execution_count": 5,
      "outputs": [
        {
          "output_type": "stream",
          "name": "stdout",
          "text": [
            "Collecting mnist\n",
            "  Downloading mnist-0.2.2-py2.py3-none-any.whl (3.5 kB)\n",
            "Requirement already satisfied: numpy in /usr/local/lib/python3.10/dist-packages (from mnist) (1.23.5)\n",
            "Installing collected packages: mnist\n",
            "Successfully installed mnist-0.2.2\n"
          ]
        }
      ]
    },
    {
      "cell_type": "markdown",
      "metadata": {
        "id": "l7UOIOeX1xeE"
      },
      "source": [
        "## Build model\n",
        "As well as the standard modules and required PyGeNN functions and classes we used in the first tutorial, also import `time.perf_counter` for measuring the performance of our classifier and `tqdm.tqdm` for drawing progress bars"
      ]
    },
    {
      "cell_type": "code",
      "execution_count": 6,
      "metadata": {
        "id": "agqWFZjickfU"
      },
      "outputs": [],
      "source": [
        "import mnist\n",
        "import numpy as np\n",
        "import matplotlib.pyplot as plt\n",
        "from pygenn.genn_model import (create_custom_neuron_class,\n",
        "                               create_custom_current_source_class,\n",
        "                               GeNNModel)\n",
        "from time import perf_counter\n",
        "from tqdm.auto import tqdm"
      ]
    },
    {
      "cell_type": "markdown",
      "metadata": {
        "id": "FMBcXoyd4yS1"
      },
      "source": [
        "As before, define some simulation parameters"
      ]
    },
    {
      "cell_type": "code",
      "execution_count": 7,
      "metadata": {
        "id": "KqBx7iO_kApE"
      },
      "outputs": [],
      "source": [
        "TIMESTEP = 1.0\n",
        "PRESENT_TIMESTEPS = 100\n",
        "INPUT_CURRENT_SCALE = 1.0 / 100.0"
      ]
    },
    {
      "cell_type": "markdown",
      "metadata": {
        "id": "2QlVBYQG431K"
      },
      "source": [
        "Create very similar neuron and current source models. However, to avoid having to download every spike and count them on the CPU, here, we add an additional state variable `SpikeCount` to each neuron which gets incremented in the reset code to count spikes."
      ]
    },
    {
      "cell_type": "code",
      "execution_count": 8,
      "metadata": {
        "id": "-7lzXzmQcgbt"
      },
      "outputs": [],
      "source": [
        "# Very simple integrate-and-fire neuron model\n",
        "if_model = create_custom_neuron_class(\n",
        "    \"if_model\",\n",
        "    param_names=[\"Vthr\"],\n",
        "    var_name_types=[(\"V\", \"scalar\"), (\"SpikeCount\", \"unsigned int\")],\n",
        "    sim_code=\"$(V) += $(Isyn) * DT;\",\n",
        "    reset_code=\"\"\"\n",
        "    $(V) = 0.0;\n",
        "    $(SpikeCount)++;\n",
        "    \"\"\",\n",
        "    threshold_condition_code=\"$(V) >= $(Vthr)\")\n",
        "\n",
        "cs_model = create_custom_current_source_class(\n",
        "    \"cs_model\",\n",
        "    var_name_types=[(\"magnitude\", \"scalar\")],\n",
        "    injection_code=\"$(injectCurrent, $(magnitude));\")"
      ]
    },
    {
      "cell_type": "markdown",
      "metadata": {
        "id": "lWMtozHB3OrM"
      },
      "source": [
        "Build model, load weights and create neuron, synapse and current source populations as before"
      ]
    },
    {
      "cell_type": "code",
      "execution_count": 9,
      "metadata": {
        "id": "Sx1VOU5udixG"
      },
      "outputs": [],
      "source": [
        "model = GeNNModel(\"float\", \"tutorial_2\")\n",
        "model.dT = TIMESTEP\n",
        "\n",
        "# Load weights\n",
        "weights_0_1 = np.load(\"weights_0_1.npy\")\n",
        "weights_1_2 = np.load(\"weights_1_2.npy\")\n",
        "\n",
        "if_params = {\"Vthr\": 5.0}\n",
        "if_init = {\"V\": 0.0, \"SpikeCount\":0}\n",
        "neurons = [model.add_neuron_population(\"neuron0\", weights_0_1.shape[0],\n",
        "                                       if_model, if_params, if_init),\n",
        "           model.add_neuron_population(\"neuron1\", weights_0_1.shape[1],\n",
        "                                       if_model, if_params, if_init),\n",
        "           model.add_neuron_population(\"neuron2\", weights_1_2.shape[1],\n",
        "                                       if_model, if_params, if_init)]\n",
        "model.add_synapse_population(\n",
        "        \"synapse_0_1\", \"DENSE_INDIVIDUALG\", 0,\n",
        "        neurons[0], neurons[1],\n",
        "        \"StaticPulse\", {}, {\"g\": weights_0_1.flatten()}, {}, {},\n",
        "        \"DeltaCurr\", {}, {})\n",
        "model.add_synapse_population(\n",
        "        \"synapse_1_2\", \"DENSE_INDIVIDUALG\", 0,\n",
        "        neurons[1], neurons[2],\n",
        "        \"StaticPulse\", {}, {\"g\": weights_1_2.flatten()}, {}, {},\n",
        "        \"DeltaCurr\", {}, {});\n",
        "\n",
        "current_input = model.add_current_source(\"current_input\", cs_model,\n",
        "                                         neurons[0], {}, {\"magnitude\": 0.0})"
      ]
    },
    {
      "cell_type": "markdown",
      "metadata": {
        "id": "jdggjUe13tT_"
      },
      "source": [
        "Run code generator to generate simulation code for model and load it into PyGeNN as before but, here, we don't want to record any spikes so no need to specify a recording buffer size."
      ]
    },
    {
      "cell_type": "code",
      "execution_count": 10,
      "metadata": {
        "id": "K8kHbKMJ3kIY"
      },
      "outputs": [],
      "source": [
        "model.build()\n",
        "model.load()"
      ]
    },
    {
      "cell_type": "markdown",
      "metadata": {
        "id": "oMxrFcIP66CX"
      },
      "source": []
    },
    {
      "cell_type": "markdown",
      "metadata": {
        "id": "rUxwsE323l37"
      },
      "source": [
        "Just like in the previous tutorial, load testing images and labels and verify their dimensions"
      ]
    },
    {
      "cell_type": "code",
      "execution_count": 11,
      "metadata": {
        "id": "0Tf07KUOeP-X"
      },
      "outputs": [],
      "source": [
        "testing_images = mnist.test_images()\n",
        "testing_labels = mnist.test_labels()\n",
        "\n",
        "testing_images = np.reshape(testing_images, (testing_images.shape[0], -1))\n",
        "assert testing_images.shape[1] == weights_0_1.shape[0]\n",
        "assert np.max(testing_labels) == (weights_1_2.shape[1] - 1)"
      ]
    },
    {
      "cell_type": "markdown",
      "metadata": {
        "id": "r-TFULk_3i8z"
      },
      "source": [
        "## Simulate model\n",
        "In this tutorial we're going to not only inject current but also access the new spike count variable in the output population and reset the voltages throughout the model. Therefore we need to create some additional memory views"
      ]
    },
    {
      "cell_type": "code",
      "execution_count": 12,
      "metadata": {
        "id": "3z1ccKHeejeB"
      },
      "outputs": [],
      "source": [
        "current_input_magnitude = current_input.vars[\"magnitude\"].view\n",
        "output_spike_count = neurons[-1].vars[\"SpikeCount\"].view\n",
        "neuron_voltages = [n.vars[\"V\"].view for n in neurons]"
      ]
    },
    {
      "cell_type": "markdown",
      "metadata": {
        "id": "JCDP_sTa4HTL"
      },
      "source": [
        "Now, we define our inference loop. We loop through all of the testing images and for each one:\n",
        "\n",
        "1.   Copy the (scaled) image data into the current input memory view and copy it to the GPU\n",
        "2.   Loop through all the neuron populations, zero their membrance voltages and copy these to the GPU\n",
        "3. Zero the output spike count and copy that to the GPU\n",
        "4. Simulate the model for `PRESENT_TIMESTEPS`\n",
        "5. Download the spike counts from the output layer\n",
        "6. If highest spike count corresponds to correct label, increment `num_correct`\n",
        "\n"
      ]
    },
    {
      "cell_type": "code",
      "execution_count": 13,
      "metadata": {
        "colab": {
          "base_uri": "https://localhost:8080/",
          "height": 101,
          "referenced_widgets": [
            "2657c620055b4992a03c15ad57fdc823",
            "0fe535fbc6e840cca258920dc623e3ba",
            "0f88f972ba974f6ea49b743f3f52e7c6",
            "0e0c90a6dda04c09969e1182d3bebe3d",
            "97146fc8a0e84195a5c90b0e08aec5bf",
            "de129f16e11a44d38044c5a5192ada09",
            "f4771b4fc5dc42fca8e804cdd4961a12",
            "b3dc1da183fb45d4ad9c9b0f5afcf89b",
            "6dd7a7ba50b7449e81b1cee5c91a4527",
            "5e6bc6423c0143bf84a0a91c454dbb73",
            "fa2a82aa22494021b3702f1318dab772"
          ]
        },
        "id": "4qSoinT4etKq",
        "outputId": "9b3c19a9-f79f-493c-f968-1cbbf9c88c31"
      },
      "outputs": [
        {
          "output_type": "display_data",
          "data": {
            "text/plain": [
              "  0%|          | 0/10000 [00:00<?, ?it/s]"
            ],
            "application/vnd.jupyter.widget-view+json": {
              "version_major": 2,
              "version_minor": 0,
              "model_id": "2657c620055b4992a03c15ad57fdc823"
            }
          },
          "metadata": {}
        },
        {
          "output_type": "stream",
          "name": "stdout",
          "text": [
            "\n",
            "Accuracy 97.44%%\n",
            "Time 15.786295805999998 seconds\n"
          ]
        }
      ],
      "source": [
        "# Simulate\n",
        "num_correct = 0\n",
        "start_time = perf_counter()\n",
        "for i in tqdm(range(testing_images.shape[0])):\n",
        "    current_input_magnitude[:] = testing_images[i] * INPUT_CURRENT_SCALE\n",
        "    current_input.push_var_to_device(\"magnitude\")\n",
        "\n",
        "    # Loop through all layers and their corresponding voltage views\n",
        "    for l, v in zip(neurons, neuron_voltages):\n",
        "        # Manually 'reset' voltage\n",
        "        v[:] = 0.0\n",
        "\n",
        "        # Upload\n",
        "        l.push_var_to_device(\"V\")\n",
        "\n",
        "    # Zero spike count\n",
        "    output_spike_count[:] = 0\n",
        "    neurons[-1].push_var_to_device(\"SpikeCount\")\n",
        "\n",
        "    for t in range(PRESENT_TIMESTEPS):\n",
        "        model.step_time()\n",
        "\n",
        "    # Download spike count from last layer\n",
        "    neurons[-1].pull_var_from_device(\"SpikeCount\")\n",
        "\n",
        "    # Find which neuron spiked the most to get prediction\n",
        "    predicted_label = np.argmax(output_spike_count)\n",
        "    true_label = testing_labels[i]\n",
        "\n",
        "    if predicted_label == true_label:\n",
        "        num_correct += 1\n",
        "\n",
        "end_time = perf_counter()\n",
        "print(f\"\\nAccuracy {((num_correct / float(testing_images.shape[0])) * 100.0)}%%\")\n",
        "print(f\"Time {end_time - start_time} seconds\")\n"
      ]
    }
  ],
  "metadata": {
    "accelerator": "GPU",
    "colab": {
      "name": "tutorial_2",
      "provenance": []
    },
    "kernelspec": {
      "display_name": "Python 3",
      "language": "python",
      "name": "python3"
    },
    "language_info": {
      "codemirror_mode": {
        "name": "ipython",
        "version": 3
      },
      "file_extension": ".py",
      "mimetype": "text/x-python",
      "name": "python",
      "nbconvert_exporter": "python",
      "pygments_lexer": "ipython3",
      "version": "3.7.7"
    },
    "widgets": {
      "application/vnd.jupyter.widget-state+json": {
        "2657c620055b4992a03c15ad57fdc823": {
          "model_module": "@jupyter-widgets/controls",
          "model_name": "HBoxModel",
          "model_module_version": "1.5.0",
          "state": {
            "_dom_classes": [],
            "_model_module": "@jupyter-widgets/controls",
            "_model_module_version": "1.5.0",
            "_model_name": "HBoxModel",
            "_view_count": null,
            "_view_module": "@jupyter-widgets/controls",
            "_view_module_version": "1.5.0",
            "_view_name": "HBoxView",
            "box_style": "",
            "children": [
              "IPY_MODEL_0fe535fbc6e840cca258920dc623e3ba",
              "IPY_MODEL_0f88f972ba974f6ea49b743f3f52e7c6",
              "IPY_MODEL_0e0c90a6dda04c09969e1182d3bebe3d"
            ],
            "layout": "IPY_MODEL_97146fc8a0e84195a5c90b0e08aec5bf"
          }
        },
        "0fe535fbc6e840cca258920dc623e3ba": {
          "model_module": "@jupyter-widgets/controls",
          "model_name": "HTMLModel",
          "model_module_version": "1.5.0",
          "state": {
            "_dom_classes": [],
            "_model_module": "@jupyter-widgets/controls",
            "_model_module_version": "1.5.0",
            "_model_name": "HTMLModel",
            "_view_count": null,
            "_view_module": "@jupyter-widgets/controls",
            "_view_module_version": "1.5.0",
            "_view_name": "HTMLView",
            "description": "",
            "description_tooltip": null,
            "layout": "IPY_MODEL_de129f16e11a44d38044c5a5192ada09",
            "placeholder": "​",
            "style": "IPY_MODEL_f4771b4fc5dc42fca8e804cdd4961a12",
            "value": "100%"
          }
        },
        "0f88f972ba974f6ea49b743f3f52e7c6": {
          "model_module": "@jupyter-widgets/controls",
          "model_name": "FloatProgressModel",
          "model_module_version": "1.5.0",
          "state": {
            "_dom_classes": [],
            "_model_module": "@jupyter-widgets/controls",
            "_model_module_version": "1.5.0",
            "_model_name": "FloatProgressModel",
            "_view_count": null,
            "_view_module": "@jupyter-widgets/controls",
            "_view_module_version": "1.5.0",
            "_view_name": "ProgressView",
            "bar_style": "success",
            "description": "",
            "description_tooltip": null,
            "layout": "IPY_MODEL_b3dc1da183fb45d4ad9c9b0f5afcf89b",
            "max": 10000,
            "min": 0,
            "orientation": "horizontal",
            "style": "IPY_MODEL_6dd7a7ba50b7449e81b1cee5c91a4527",
            "value": 10000
          }
        },
        "0e0c90a6dda04c09969e1182d3bebe3d": {
          "model_module": "@jupyter-widgets/controls",
          "model_name": "HTMLModel",
          "model_module_version": "1.5.0",
          "state": {
            "_dom_classes": [],
            "_model_module": "@jupyter-widgets/controls",
            "_model_module_version": "1.5.0",
            "_model_name": "HTMLModel",
            "_view_count": null,
            "_view_module": "@jupyter-widgets/controls",
            "_view_module_version": "1.5.0",
            "_view_name": "HTMLView",
            "description": "",
            "description_tooltip": null,
            "layout": "IPY_MODEL_5e6bc6423c0143bf84a0a91c454dbb73",
            "placeholder": "​",
            "style": "IPY_MODEL_fa2a82aa22494021b3702f1318dab772",
            "value": " 10000/10000 [00:15&lt;00:00, 657.22it/s]"
          }
        },
        "97146fc8a0e84195a5c90b0e08aec5bf": {
          "model_module": "@jupyter-widgets/base",
          "model_name": "LayoutModel",
          "model_module_version": "1.2.0",
          "state": {
            "_model_module": "@jupyter-widgets/base",
            "_model_module_version": "1.2.0",
            "_model_name": "LayoutModel",
            "_view_count": null,
            "_view_module": "@jupyter-widgets/base",
            "_view_module_version": "1.2.0",
            "_view_name": "LayoutView",
            "align_content": null,
            "align_items": null,
            "align_self": null,
            "border": null,
            "bottom": null,
            "display": null,
            "flex": null,
            "flex_flow": null,
            "grid_area": null,
            "grid_auto_columns": null,
            "grid_auto_flow": null,
            "grid_auto_rows": null,
            "grid_column": null,
            "grid_gap": null,
            "grid_row": null,
            "grid_template_areas": null,
            "grid_template_columns": null,
            "grid_template_rows": null,
            "height": null,
            "justify_content": null,
            "justify_items": null,
            "left": null,
            "margin": null,
            "max_height": null,
            "max_width": null,
            "min_height": null,
            "min_width": null,
            "object_fit": null,
            "object_position": null,
            "order": null,
            "overflow": null,
            "overflow_x": null,
            "overflow_y": null,
            "padding": null,
            "right": null,
            "top": null,
            "visibility": null,
            "width": null
          }
        },
        "de129f16e11a44d38044c5a5192ada09": {
          "model_module": "@jupyter-widgets/base",
          "model_name": "LayoutModel",
          "model_module_version": "1.2.0",
          "state": {
            "_model_module": "@jupyter-widgets/base",
            "_model_module_version": "1.2.0",
            "_model_name": "LayoutModel",
            "_view_count": null,
            "_view_module": "@jupyter-widgets/base",
            "_view_module_version": "1.2.0",
            "_view_name": "LayoutView",
            "align_content": null,
            "align_items": null,
            "align_self": null,
            "border": null,
            "bottom": null,
            "display": null,
            "flex": null,
            "flex_flow": null,
            "grid_area": null,
            "grid_auto_columns": null,
            "grid_auto_flow": null,
            "grid_auto_rows": null,
            "grid_column": null,
            "grid_gap": null,
            "grid_row": null,
            "grid_template_areas": null,
            "grid_template_columns": null,
            "grid_template_rows": null,
            "height": null,
            "justify_content": null,
            "justify_items": null,
            "left": null,
            "margin": null,
            "max_height": null,
            "max_width": null,
            "min_height": null,
            "min_width": null,
            "object_fit": null,
            "object_position": null,
            "order": null,
            "overflow": null,
            "overflow_x": null,
            "overflow_y": null,
            "padding": null,
            "right": null,
            "top": null,
            "visibility": null,
            "width": null
          }
        },
        "f4771b4fc5dc42fca8e804cdd4961a12": {
          "model_module": "@jupyter-widgets/controls",
          "model_name": "DescriptionStyleModel",
          "model_module_version": "1.5.0",
          "state": {
            "_model_module": "@jupyter-widgets/controls",
            "_model_module_version": "1.5.0",
            "_model_name": "DescriptionStyleModel",
            "_view_count": null,
            "_view_module": "@jupyter-widgets/base",
            "_view_module_version": "1.2.0",
            "_view_name": "StyleView",
            "description_width": ""
          }
        },
        "b3dc1da183fb45d4ad9c9b0f5afcf89b": {
          "model_module": "@jupyter-widgets/base",
          "model_name": "LayoutModel",
          "model_module_version": "1.2.0",
          "state": {
            "_model_module": "@jupyter-widgets/base",
            "_model_module_version": "1.2.0",
            "_model_name": "LayoutModel",
            "_view_count": null,
            "_view_module": "@jupyter-widgets/base",
            "_view_module_version": "1.2.0",
            "_view_name": "LayoutView",
            "align_content": null,
            "align_items": null,
            "align_self": null,
            "border": null,
            "bottom": null,
            "display": null,
            "flex": null,
            "flex_flow": null,
            "grid_area": null,
            "grid_auto_columns": null,
            "grid_auto_flow": null,
            "grid_auto_rows": null,
            "grid_column": null,
            "grid_gap": null,
            "grid_row": null,
            "grid_template_areas": null,
            "grid_template_columns": null,
            "grid_template_rows": null,
            "height": null,
            "justify_content": null,
            "justify_items": null,
            "left": null,
            "margin": null,
            "max_height": null,
            "max_width": null,
            "min_height": null,
            "min_width": null,
            "object_fit": null,
            "object_position": null,
            "order": null,
            "overflow": null,
            "overflow_x": null,
            "overflow_y": null,
            "padding": null,
            "right": null,
            "top": null,
            "visibility": null,
            "width": null
          }
        },
        "6dd7a7ba50b7449e81b1cee5c91a4527": {
          "model_module": "@jupyter-widgets/controls",
          "model_name": "ProgressStyleModel",
          "model_module_version": "1.5.0",
          "state": {
            "_model_module": "@jupyter-widgets/controls",
            "_model_module_version": "1.5.0",
            "_model_name": "ProgressStyleModel",
            "_view_count": null,
            "_view_module": "@jupyter-widgets/base",
            "_view_module_version": "1.2.0",
            "_view_name": "StyleView",
            "bar_color": null,
            "description_width": ""
          }
        },
        "5e6bc6423c0143bf84a0a91c454dbb73": {
          "model_module": "@jupyter-widgets/base",
          "model_name": "LayoutModel",
          "model_module_version": "1.2.0",
          "state": {
            "_model_module": "@jupyter-widgets/base",
            "_model_module_version": "1.2.0",
            "_model_name": "LayoutModel",
            "_view_count": null,
            "_view_module": "@jupyter-widgets/base",
            "_view_module_version": "1.2.0",
            "_view_name": "LayoutView",
            "align_content": null,
            "align_items": null,
            "align_self": null,
            "border": null,
            "bottom": null,
            "display": null,
            "flex": null,
            "flex_flow": null,
            "grid_area": null,
            "grid_auto_columns": null,
            "grid_auto_flow": null,
            "grid_auto_rows": null,
            "grid_column": null,
            "grid_gap": null,
            "grid_row": null,
            "grid_template_areas": null,
            "grid_template_columns": null,
            "grid_template_rows": null,
            "height": null,
            "justify_content": null,
            "justify_items": null,
            "left": null,
            "margin": null,
            "max_height": null,
            "max_width": null,
            "min_height": null,
            "min_width": null,
            "object_fit": null,
            "object_position": null,
            "order": null,
            "overflow": null,
            "overflow_x": null,
            "overflow_y": null,
            "padding": null,
            "right": null,
            "top": null,
            "visibility": null,
            "width": null
          }
        },
        "fa2a82aa22494021b3702f1318dab772": {
          "model_module": "@jupyter-widgets/controls",
          "model_name": "DescriptionStyleModel",
          "model_module_version": "1.5.0",
          "state": {
            "_model_module": "@jupyter-widgets/controls",
            "_model_module_version": "1.5.0",
            "_model_name": "DescriptionStyleModel",
            "_view_count": null,
            "_view_module": "@jupyter-widgets/base",
            "_view_module_version": "1.2.0",
            "_view_name": "StyleView",
            "description_width": ""
          }
        }
      }
    }
  },
  "nbformat": 4,
  "nbformat_minor": 0
}