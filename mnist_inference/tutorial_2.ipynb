{
  "cells": [
    {
      "cell_type": "markdown",
      "metadata": {
        "id": "lGa0_oLb61zz"
      },
      "source": [
        "# Tutorial 2\n",
        "In this tutorial we're going to take the model we developed in the previous tutorial, run it on the entire MNIST testing set and calculate the overall classification accuracy.\n",
        "\n",
        "## Install PyGeNN wheel from Google Drive\n",
        "Download wheel file"
      ]
    },
    {
      "cell_type": "code",
      "execution_count": 1,
      "metadata": {
        "colab": {
          "base_uri": "https://localhost:8080/"
        },
        "id": "t2ihZLXh5VD-",
        "outputId": "1efb0e38-f450-4456-a8e4-681eb9023050"
      },
      "outputs": [
        {
          "output_type": "stream",
          "name": "stdout",
          "text": [
            "Downloading...\n",
            "From: https://drive.google.com/uc?id=1fllqUtL_1_tyGzjNHSR-9i5fXFI9jqAi\n",
            "To: /content/pygenn-4.8.1-cp310-cp310-linux_x86_64.whl\n",
            "\r  0% 0.00/22.3M [00:00<?, ?B/s]\r 80% 17.8M/22.3M [00:00<00:00, 174MB/s]\r100% 22.3M/22.3M [00:00<00:00, 174MB/s]\n"
          ]
        }
      ],
      "source": [
        "!gdown 1fllqUtL_1_tyGzjNHSR-9i5fXFI9jqAi "
      ]
    },
    {
      "cell_type": "markdown",
      "metadata": {
        "id": "4oxLk_xy67Pd"
      },
      "source": [
        "and then install PyGeNN from wheel file"
      ]
    },
    {
      "cell_type": "code",
      "execution_count": 2,
      "metadata": {
        "colab": {
          "base_uri": "https://localhost:8080/"
        },
        "id": "v7Hg9SPK5bZO",
        "outputId": "51a18189-570f-4dd7-a7a0-9b07036a9a39"
      },
      "outputs": [
        {
          "output_type": "stream",
          "name": "stdout",
          "text": [
            "Looking in indexes: https://pypi.org/simple, https://us-python.pkg.dev/colab-wheels/public/simple/\n",
            "Processing ./pygenn-4.8.1-cp310-cp310-linux_x86_64.whl\n",
            "Requirement already satisfied: six in /usr/local/lib/python3.10/dist-packages (from pygenn==4.8.1) (1.16.0)\n",
            "Requirement already satisfied: psutil in /usr/local/lib/python3.10/dist-packages (from pygenn==4.8.1) (5.9.5)\n",
            "Requirement already satisfied: numpy>=1.17 in /usr/local/lib/python3.10/dist-packages (from pygenn==4.8.1) (1.22.4)\n",
            "Collecting deprecated\n",
            "  Downloading Deprecated-1.2.13-py2.py3-none-any.whl (9.6 kB)\n",
            "Requirement already satisfied: wrapt<2,>=1.10 in /usr/local/lib/python3.10/dist-packages (from deprecated->pygenn==4.8.1) (1.14.1)\n",
            "Installing collected packages: deprecated, pygenn\n",
            "Successfully installed deprecated-1.2.13 pygenn-4.8.1\n"
          ]
        }
      ],
      "source": [
        "!pip install pygenn-4.8.1-cp310-cp310-linux_x86_64.whl"
      ]
    },
    {
      "cell_type": "markdown",
      "metadata": {
        "id": "cAm5bzGvAb17"
      },
      "source": [
        "Set environment variable to allow GeNN to find CUDA"
      ]
    },
    {
      "cell_type": "code",
      "execution_count": 3,
      "metadata": {
        "colab": {
          "base_uri": "https://localhost:8080/"
        },
        "id": "cIzSgI5Q8Wvq",
        "outputId": "77f409dd-a993-4fe8-a2dd-b16b9c854937"
      },
      "outputs": [
        {
          "output_type": "stream",
          "name": "stdout",
          "text": [
            "env: CUDA_PATH=/usr/local/cuda\n"
          ]
        }
      ],
      "source": [
        "%env CUDA_PATH=/usr/local/cuda"
      ]
    },
    {
      "cell_type": "markdown",
      "metadata": {
        "id": "8tqbF5GldF0o"
      },
      "source": [
        "## Download pre-trained weights and MNIST test data"
      ]
    },
    {
      "cell_type": "code",
      "execution_count": 4,
      "metadata": {
        "colab": {
          "base_uri": "https://localhost:8080/"
        },
        "id": "N-2PV7LcdFg_",
        "outputId": "54db2a25-5ac1-4041-da73-27a8545169dd"
      },
      "outputs": [
        {
          "output_type": "stream",
          "name": "stdout",
          "text": [
            "Downloading...\n",
            "From: https://drive.google.com/uc?id=1cmNL8W0QZZtn3dPHiOQnVjGAYTk6Rhpc\n",
            "To: /content/weights_0_1.npy\n",
            "100% 402k/402k [00:00<00:00, 69.7MB/s]\n",
            "Downloading...\n",
            "From: https://drive.google.com/uc?id=131lCXLEH6aTXnBZ9Nh4eJLSy5DQ6LKSF\n",
            "To: /content/weights_1_2.npy\n",
            "100% 5.25k/5.25k [00:00<00:00, 19.7MB/s]\n"
          ]
        }
      ],
      "source": [
        "!gdown 1cmNL8W0QZZtn3dPHiOQnVjGAYTk6Rhpc\n",
        "!gdown 131lCXLEH6aTXnBZ9Nh4eJLSy5DQ6LKSF"
      ]
    },
    {
      "cell_type": "markdown",
      "source": [
        "## Install MNIST package"
      ],
      "metadata": {
        "id": "KVRtXVzIg07T"
      }
    },
    {
      "cell_type": "code",
      "source": [
        "!pip install mnist"
      ],
      "metadata": {
        "id": "AikBc4sfg1b-",
        "outputId": "583ac717-795b-4ac3-d197-46dea0ce0e82",
        "colab": {
          "base_uri": "https://localhost:8080/"
        }
      },
      "execution_count": 5,
      "outputs": [
        {
          "output_type": "stream",
          "name": "stdout",
          "text": [
            "Looking in indexes: https://pypi.org/simple, https://us-python.pkg.dev/colab-wheels/public/simple/\n",
            "Collecting mnist\n",
            "  Downloading mnist-0.2.2-py2.py3-none-any.whl (3.5 kB)\n",
            "Requirement already satisfied: numpy in /usr/local/lib/python3.10/dist-packages (from mnist) (1.22.4)\n",
            "Installing collected packages: mnist\n",
            "Successfully installed mnist-0.2.2\n"
          ]
        }
      ]
    },
    {
      "cell_type": "markdown",
      "metadata": {
        "id": "l7UOIOeX1xeE"
      },
      "source": [
        "## Build model\n",
        "As well as the standard modules and required PyGeNN functions and classes we used in the first tutorial, also import `time.perf_counter` for measuring the performance of our classifier and `tqdm.tqdm` for drawing progress bars"
      ]
    },
    {
      "cell_type": "code",
      "execution_count": 17,
      "metadata": {
        "id": "agqWFZjickfU"
      },
      "outputs": [],
      "source": [
        "import mnist\n",
        "import numpy as np\n",
        "import matplotlib.pyplot as plt\n",
        "from pygenn.genn_model import (create_custom_neuron_class,\n",
        "                               create_custom_current_source_class,\n",
        "                               GeNNModel)\n",
        "from time import perf_counter\n",
        "from tqdm.auto import tqdm"
      ]
    },
    {
      "cell_type": "markdown",
      "metadata": {
        "id": "FMBcXoyd4yS1"
      },
      "source": [
        "As before, define some simulation parameters"
      ]
    },
    {
      "cell_type": "code",
      "execution_count": 7,
      "metadata": {
        "id": "KqBx7iO_kApE"
      },
      "outputs": [],
      "source": [
        "TIMESTEP = 1.0\n",
        "PRESENT_TIMESTEPS = 100\n",
        "INPUT_CURRENT_SCALE = 1.0 / 100.0"
      ]
    },
    {
      "cell_type": "markdown",
      "metadata": {
        "id": "2QlVBYQG431K"
      },
      "source": [
        "Create very similar neuron and current source models. However, to avoid having to download every spike and count them on the CPU, here, we add an additional state variable `SpikeCount` to each neuron which gets incremented in the reset code to count spikes."
      ]
    },
    {
      "cell_type": "code",
      "execution_count": 8,
      "metadata": {
        "id": "-7lzXzmQcgbt"
      },
      "outputs": [],
      "source": [
        "# Very simple integrate-and-fire neuron model\n",
        "if_model = create_custom_neuron_class(\n",
        "    \"if_model\",\n",
        "    param_names=[\"Vthr\"],\n",
        "    var_name_types=[(\"V\", \"scalar\"), (\"SpikeCount\", \"unsigned int\")],\n",
        "    sim_code=\"$(V) += $(Isyn) * DT;\",\n",
        "    reset_code=\"\"\"\n",
        "    $(V) = 0.0;\n",
        "    $(SpikeCount)++;\n",
        "    \"\"\",\n",
        "    threshold_condition_code=\"$(V) >= $(Vthr)\")\n",
        "\n",
        "cs_model = create_custom_current_source_class(\n",
        "    \"cs_model\",\n",
        "    var_name_types=[(\"magnitude\", \"scalar\")],\n",
        "    injection_code=\"$(injectCurrent, $(magnitude));\")"
      ]
    },
    {
      "cell_type": "markdown",
      "metadata": {
        "id": "lWMtozHB3OrM"
      },
      "source": [
        "Build model, load weights and create neuron, synapse and current source populations as before"
      ]
    },
    {
      "cell_type": "code",
      "execution_count": 9,
      "metadata": {
        "id": "Sx1VOU5udixG"
      },
      "outputs": [],
      "source": [
        "model = GeNNModel(\"float\", \"tutorial_2\")\n",
        "model.dT = TIMESTEP\n",
        "\n",
        "# Load weights\n",
        "weights_0_1 = np.load(\"weights_0_1.npy\")\n",
        "weights_1_2 = np.load(\"weights_1_2.npy\")\n",
        "\n",
        "if_params = {\"Vthr\": 5.0}\n",
        "if_init = {\"V\": 0.0, \"SpikeCount\":0}\n",
        "neurons = [model.add_neuron_population(\"neuron0\", weights_0_1.shape[0],\n",
        "                                       if_model, if_params, if_init),\n",
        "           model.add_neuron_population(\"neuron1\", weights_0_1.shape[1],\n",
        "                                       if_model, if_params, if_init),\n",
        "           model.add_neuron_population(\"neuron2\", weights_1_2.shape[1],\n",
        "                                       if_model, if_params, if_init)]\n",
        "model.add_synapse_population(\n",
        "        \"synapse_0_1\", \"DENSE_INDIVIDUALG\", 0,\n",
        "        neurons[0], neurons[1],\n",
        "        \"StaticPulse\", {}, {\"g\": weights_0_1.flatten()}, {}, {},\n",
        "        \"DeltaCurr\", {}, {})\n",
        "model.add_synapse_population(\n",
        "        \"synapse_1_2\", \"DENSE_INDIVIDUALG\", 0,\n",
        "        neurons[1], neurons[2],\n",
        "        \"StaticPulse\", {}, {\"g\": weights_1_2.flatten()}, {}, {},\n",
        "        \"DeltaCurr\", {}, {});\n",
        "\n",
        "current_input = model.add_current_source(\"current_input\", cs_model,\n",
        "                                         neurons[0], {}, {\"magnitude\": 0.0})"
      ]
    },
    {
      "cell_type": "markdown",
      "metadata": {
        "id": "jdggjUe13tT_"
      },
      "source": [
        "Run code generator to generate simulation code for model and load it into PyGeNN as before but, here, we don't want to record any spikes so no need to specify a recording buffer size."
      ]
    },
    {
      "cell_type": "code",
      "execution_count": 10,
      "metadata": {
        "id": "K8kHbKMJ3kIY"
      },
      "outputs": [],
      "source": [
        "model.build()\n",
        "model.load()"
      ]
    },
    {
      "cell_type": "markdown",
      "metadata": {
        "id": "oMxrFcIP66CX"
      },
      "source": []
    },
    {
      "cell_type": "markdown",
      "metadata": {
        "id": "rUxwsE323l37"
      },
      "source": [
        "Just like in the previous tutorial, load testing images and labels and verify their dimensions"
      ]
    },
    {
      "cell_type": "code",
      "execution_count": 14,
      "metadata": {
        "id": "0Tf07KUOeP-X"
      },
      "outputs": [],
      "source": [
        "testing_images = mnist.test_images()\n",
        "testing_labels = mnist.test_labels()\n",
        "\n",
        "testing_images = np.reshape(testing_images, (testing_images.shape[0], -1))\n",
        "assert testing_images.shape[1] == weights_0_1.shape[0]\n",
        "assert np.max(testing_labels) == (weights_1_2.shape[1] - 1)"
      ]
    },
    {
      "cell_type": "markdown",
      "metadata": {
        "id": "r-TFULk_3i8z"
      },
      "source": [
        "## Simulate model\n",
        "In this tutorial we're going to not only inject current but also access the new spike count variable in the output population and reset the voltages throughout the model. Therefore we need to create some additional memory views"
      ]
    },
    {
      "cell_type": "code",
      "execution_count": 15,
      "metadata": {
        "id": "3z1ccKHeejeB"
      },
      "outputs": [],
      "source": [
        "current_input_magnitude = current_input.vars[\"magnitude\"].view\n",
        "output_spike_count = neurons[-1].vars[\"SpikeCount\"].view\n",
        "neuron_voltages = [n.vars[\"V\"].view for n in neurons]"
      ]
    },
    {
      "cell_type": "markdown",
      "metadata": {
        "id": "JCDP_sTa4HTL"
      },
      "source": [
        "Now, we define our inference loop. We loop through all of the testing images and for each one:\n",
        "\n",
        "1.   Copy the (scaled) image data into the current input memory view and copy it to the GPU\n",
        "2.   Loop through all the neuron populations, zero their membrance voltages and copy these to the GPU\n",
        "3. Zero the output spike count and copy that to the GPU\n",
        "4. Simulate the model for `PRESENT_TIMESTEPS`\n",
        "5. Download the spike counts from the output layer\n",
        "6. If highest spike count corresponds to correct label, increment `num_correct`\n",
        "\n"
      ]
    },
    {
      "cell_type": "code",
      "execution_count": 18,
      "metadata": {
        "colab": {
          "base_uri": "https://localhost:8080/",
          "height": 104,
          "referenced_widgets": [
            "ddb9e37e3c244130a32c9c466d706ca3",
            "d1a6d1df49744d8fb92337220d6fea69",
            "3644695ad69d41e38af00564deddc620",
            "2f1cd3c28034457e964d1c98152f064c",
            "39ab3c424e9f418389394b3dca9061c9",
            "a05140a86fef4119b77deed4c62f391f",
            "f34497e1c3e1428e95c035c59d5e05dc",
            "f31f2633be414c1c9944b4bc4911dccb",
            "445de8e8d02d41a8bbf561d2a5d9dc0d",
            "79b63fb3946048329b5a143c0b419aab",
            "38927a1396864e90a8930851ba4505de"
          ]
        },
        "id": "4qSoinT4etKq",
        "outputId": "a8895d7a-7cda-41c6-8b3d-431b9b54b575"
      },
      "outputs": [
        {
          "output_type": "display_data",
          "data": {
            "text/plain": [
              "  0%|          | 0/10000 [00:00<?, ?it/s]"
            ],
            "application/vnd.jupyter.widget-view+json": {
              "version_major": 2,
              "version_minor": 0,
              "model_id": "ddb9e37e3c244130a32c9c466d706ca3"
            }
          },
          "metadata": {}
        },
        {
          "output_type": "stream",
          "name": "stdout",
          "text": [
            "\n",
            "Accuracy 97.44%%\n",
            "Time 11.010158458999996 seconds\n"
          ]
        }
      ],
      "source": [
        "# Simulate\n",
        "num_correct = 0\n",
        "start_time = perf_counter()\n",
        "for i in tqdm(range(testing_images.shape[0])):\n",
        "    current_input_magnitude[:] = testing_images[i] * INPUT_CURRENT_SCALE\n",
        "    current_input.push_var_to_device(\"magnitude\")\n",
        "\n",
        "    # Loop through all layers and their corresponding voltage views\n",
        "    for l, v in zip(neurons, neuron_voltages):\n",
        "        # Manually 'reset' voltage\n",
        "        v[:] = 0.0\n",
        "\n",
        "        # Upload\n",
        "        l.push_var_to_device(\"V\")\n",
        "\n",
        "    # Zero spike count\n",
        "    output_spike_count[:] = 0\n",
        "    neurons[-1].push_var_to_device(\"SpikeCount\")\n",
        "\n",
        "    for t in range(PRESENT_TIMESTEPS):\n",
        "        model.step_time()\n",
        "\n",
        "    # Download spike count from last layer\n",
        "    neurons[-1].pull_var_from_device(\"SpikeCount\")\n",
        "\n",
        "    # Find which neuron spiked the most to get prediction\n",
        "    predicted_label = np.argmax(output_spike_count)\n",
        "    true_label = testing_labels[i]\n",
        "\n",
        "    if predicted_label == true_label:\n",
        "        num_correct += 1\n",
        "\n",
        "end_time = perf_counter()\n",
        "print(f\"\\nAccuracy {((num_correct / float(testing_images.shape[0])) * 100.0)}%%\")\n",
        "print(f\"Time {end_time - start_time} seconds\")\n"
      ]
    }
  ],
  "metadata": {
    "accelerator": "GPU",
    "colab": {
      "name": "tutorial_2",
      "provenance": []
    },
    "kernelspec": {
      "display_name": "Python 3",
      "language": "python",
      "name": "python3"
    },
    "language_info": {
      "codemirror_mode": {
        "name": "ipython",
        "version": 3
      },
      "file_extension": ".py",
      "mimetype": "text/x-python",
      "name": "python",
      "nbconvert_exporter": "python",
      "pygments_lexer": "ipython3",
      "version": "3.7.7"
    },
    "widgets": {
      "application/vnd.jupyter.widget-state+json": {
        "ddb9e37e3c244130a32c9c466d706ca3": {
          "model_module": "@jupyter-widgets/controls",
          "model_name": "HBoxModel",
          "model_module_version": "1.5.0",
          "state": {
            "_dom_classes": [],
            "_model_module": "@jupyter-widgets/controls",
            "_model_module_version": "1.5.0",
            "_model_name": "HBoxModel",
            "_view_count": null,
            "_view_module": "@jupyter-widgets/controls",
            "_view_module_version": "1.5.0",
            "_view_name": "HBoxView",
            "box_style": "",
            "children": [
              "IPY_MODEL_d1a6d1df49744d8fb92337220d6fea69",
              "IPY_MODEL_3644695ad69d41e38af00564deddc620",
              "IPY_MODEL_2f1cd3c28034457e964d1c98152f064c"
            ],
            "layout": "IPY_MODEL_39ab3c424e9f418389394b3dca9061c9"
          }
        },
        "d1a6d1df49744d8fb92337220d6fea69": {
          "model_module": "@jupyter-widgets/controls",
          "model_name": "HTMLModel",
          "model_module_version": "1.5.0",
          "state": {
            "_dom_classes": [],
            "_model_module": "@jupyter-widgets/controls",
            "_model_module_version": "1.5.0",
            "_model_name": "HTMLModel",
            "_view_count": null,
            "_view_module": "@jupyter-widgets/controls",
            "_view_module_version": "1.5.0",
            "_view_name": "HTMLView",
            "description": "",
            "description_tooltip": null,
            "layout": "IPY_MODEL_a05140a86fef4119b77deed4c62f391f",
            "placeholder": "​",
            "style": "IPY_MODEL_f34497e1c3e1428e95c035c59d5e05dc",
            "value": "100%"
          }
        },
        "3644695ad69d41e38af00564deddc620": {
          "model_module": "@jupyter-widgets/controls",
          "model_name": "FloatProgressModel",
          "model_module_version": "1.5.0",
          "state": {
            "_dom_classes": [],
            "_model_module": "@jupyter-widgets/controls",
            "_model_module_version": "1.5.0",
            "_model_name": "FloatProgressModel",
            "_view_count": null,
            "_view_module": "@jupyter-widgets/controls",
            "_view_module_version": "1.5.0",
            "_view_name": "ProgressView",
            "bar_style": "success",
            "description": "",
            "description_tooltip": null,
            "layout": "IPY_MODEL_f31f2633be414c1c9944b4bc4911dccb",
            "max": 10000,
            "min": 0,
            "orientation": "horizontal",
            "style": "IPY_MODEL_445de8e8d02d41a8bbf561d2a5d9dc0d",
            "value": 10000
          }
        },
        "2f1cd3c28034457e964d1c98152f064c": {
          "model_module": "@jupyter-widgets/controls",
          "model_name": "HTMLModel",
          "model_module_version": "1.5.0",
          "state": {
            "_dom_classes": [],
            "_model_module": "@jupyter-widgets/controls",
            "_model_module_version": "1.5.0",
            "_model_name": "HTMLModel",
            "_view_count": null,
            "_view_module": "@jupyter-widgets/controls",
            "_view_module_version": "1.5.0",
            "_view_name": "HTMLView",
            "description": "",
            "description_tooltip": null,
            "layout": "IPY_MODEL_79b63fb3946048329b5a143c0b419aab",
            "placeholder": "​",
            "style": "IPY_MODEL_38927a1396864e90a8930851ba4505de",
            "value": " 10000/10000 [00:11&lt;00:00, 985.46it/s]"
          }
        },
        "39ab3c424e9f418389394b3dca9061c9": {
          "model_module": "@jupyter-widgets/base",
          "model_name": "LayoutModel",
          "model_module_version": "1.2.0",
          "state": {
            "_model_module": "@jupyter-widgets/base",
            "_model_module_version": "1.2.0",
            "_model_name": "LayoutModel",
            "_view_count": null,
            "_view_module": "@jupyter-widgets/base",
            "_view_module_version": "1.2.0",
            "_view_name": "LayoutView",
            "align_content": null,
            "align_items": null,
            "align_self": null,
            "border": null,
            "bottom": null,
            "display": null,
            "flex": null,
            "flex_flow": null,
            "grid_area": null,
            "grid_auto_columns": null,
            "grid_auto_flow": null,
            "grid_auto_rows": null,
            "grid_column": null,
            "grid_gap": null,
            "grid_row": null,
            "grid_template_areas": null,
            "grid_template_columns": null,
            "grid_template_rows": null,
            "height": null,
            "justify_content": null,
            "justify_items": null,
            "left": null,
            "margin": null,
            "max_height": null,
            "max_width": null,
            "min_height": null,
            "min_width": null,
            "object_fit": null,
            "object_position": null,
            "order": null,
            "overflow": null,
            "overflow_x": null,
            "overflow_y": null,
            "padding": null,
            "right": null,
            "top": null,
            "visibility": null,
            "width": null
          }
        },
        "a05140a86fef4119b77deed4c62f391f": {
          "model_module": "@jupyter-widgets/base",
          "model_name": "LayoutModel",
          "model_module_version": "1.2.0",
          "state": {
            "_model_module": "@jupyter-widgets/base",
            "_model_module_version": "1.2.0",
            "_model_name": "LayoutModel",
            "_view_count": null,
            "_view_module": "@jupyter-widgets/base",
            "_view_module_version": "1.2.0",
            "_view_name": "LayoutView",
            "align_content": null,
            "align_items": null,
            "align_self": null,
            "border": null,
            "bottom": null,
            "display": null,
            "flex": null,
            "flex_flow": null,
            "grid_area": null,
            "grid_auto_columns": null,
            "grid_auto_flow": null,
            "grid_auto_rows": null,
            "grid_column": null,
            "grid_gap": null,
            "grid_row": null,
            "grid_template_areas": null,
            "grid_template_columns": null,
            "grid_template_rows": null,
            "height": null,
            "justify_content": null,
            "justify_items": null,
            "left": null,
            "margin": null,
            "max_height": null,
            "max_width": null,
            "min_height": null,
            "min_width": null,
            "object_fit": null,
            "object_position": null,
            "order": null,
            "overflow": null,
            "overflow_x": null,
            "overflow_y": null,
            "padding": null,
            "right": null,
            "top": null,
            "visibility": null,
            "width": null
          }
        },
        "f34497e1c3e1428e95c035c59d5e05dc": {
          "model_module": "@jupyter-widgets/controls",
          "model_name": "DescriptionStyleModel",
          "model_module_version": "1.5.0",
          "state": {
            "_model_module": "@jupyter-widgets/controls",
            "_model_module_version": "1.5.0",
            "_model_name": "DescriptionStyleModel",
            "_view_count": null,
            "_view_module": "@jupyter-widgets/base",
            "_view_module_version": "1.2.0",
            "_view_name": "StyleView",
            "description_width": ""
          }
        },
        "f31f2633be414c1c9944b4bc4911dccb": {
          "model_module": "@jupyter-widgets/base",
          "model_name": "LayoutModel",
          "model_module_version": "1.2.0",
          "state": {
            "_model_module": "@jupyter-widgets/base",
            "_model_module_version": "1.2.0",
            "_model_name": "LayoutModel",
            "_view_count": null,
            "_view_module": "@jupyter-widgets/base",
            "_view_module_version": "1.2.0",
            "_view_name": "LayoutView",
            "align_content": null,
            "align_items": null,
            "align_self": null,
            "border": null,
            "bottom": null,
            "display": null,
            "flex": null,
            "flex_flow": null,
            "grid_area": null,
            "grid_auto_columns": null,
            "grid_auto_flow": null,
            "grid_auto_rows": null,
            "grid_column": null,
            "grid_gap": null,
            "grid_row": null,
            "grid_template_areas": null,
            "grid_template_columns": null,
            "grid_template_rows": null,
            "height": null,
            "justify_content": null,
            "justify_items": null,
            "left": null,
            "margin": null,
            "max_height": null,
            "max_width": null,
            "min_height": null,
            "min_width": null,
            "object_fit": null,
            "object_position": null,
            "order": null,
            "overflow": null,
            "overflow_x": null,
            "overflow_y": null,
            "padding": null,
            "right": null,
            "top": null,
            "visibility": null,
            "width": null
          }
        },
        "445de8e8d02d41a8bbf561d2a5d9dc0d": {
          "model_module": "@jupyter-widgets/controls",
          "model_name": "ProgressStyleModel",
          "model_module_version": "1.5.0",
          "state": {
            "_model_module": "@jupyter-widgets/controls",
            "_model_module_version": "1.5.0",
            "_model_name": "ProgressStyleModel",
            "_view_count": null,
            "_view_module": "@jupyter-widgets/base",
            "_view_module_version": "1.2.0",
            "_view_name": "StyleView",
            "bar_color": null,
            "description_width": ""
          }
        },
        "79b63fb3946048329b5a143c0b419aab": {
          "model_module": "@jupyter-widgets/base",
          "model_name": "LayoutModel",
          "model_module_version": "1.2.0",
          "state": {
            "_model_module": "@jupyter-widgets/base",
            "_model_module_version": "1.2.0",
            "_model_name": "LayoutModel",
            "_view_count": null,
            "_view_module": "@jupyter-widgets/base",
            "_view_module_version": "1.2.0",
            "_view_name": "LayoutView",
            "align_content": null,
            "align_items": null,
            "align_self": null,
            "border": null,
            "bottom": null,
            "display": null,
            "flex": null,
            "flex_flow": null,
            "grid_area": null,
            "grid_auto_columns": null,
            "grid_auto_flow": null,
            "grid_auto_rows": null,
            "grid_column": null,
            "grid_gap": null,
            "grid_row": null,
            "grid_template_areas": null,
            "grid_template_columns": null,
            "grid_template_rows": null,
            "height": null,
            "justify_content": null,
            "justify_items": null,
            "left": null,
            "margin": null,
            "max_height": null,
            "max_width": null,
            "min_height": null,
            "min_width": null,
            "object_fit": null,
            "object_position": null,
            "order": null,
            "overflow": null,
            "overflow_x": null,
            "overflow_y": null,
            "padding": null,
            "right": null,
            "top": null,
            "visibility": null,
            "width": null
          }
        },
        "38927a1396864e90a8930851ba4505de": {
          "model_module": "@jupyter-widgets/controls",
          "model_name": "DescriptionStyleModel",
          "model_module_version": "1.5.0",
          "state": {
            "_model_module": "@jupyter-widgets/controls",
            "_model_module_version": "1.5.0",
            "_model_name": "DescriptionStyleModel",
            "_view_count": null,
            "_view_module": "@jupyter-widgets/base",
            "_view_module_version": "1.2.0",
            "_view_name": "StyleView",
            "description_width": ""
          }
        }
      }
    }
  },
  "nbformat": 4,
  "nbformat_minor": 0
}