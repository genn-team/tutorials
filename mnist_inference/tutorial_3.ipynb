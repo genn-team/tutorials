{
 "cells": [
  {
   "cell_type": "markdown",
   "metadata": {
    "id": "lGa0_oLb61zz"
   },
   "source": [
    "# Tutorial 3\n",
    "The model we developed in the previous tutorial classified MNIST successfully but was rather slow. Like ANNs, to maximise performance when simulating small SNNs like this on a GPU, we need to simulate multiple copies of the model at once and run them on **batches** of input images.\n",
    "In this tutorial we will modify our model to do just that as well as off-loading further computation to the GPU to improve performance.\n",
    "\n",
    "## Install PyGeNN wheel from Google Drive\n",
    "Download wheel file"
   ]
  },
  {
   "cell_type": "code",
   "execution_count": null,
   "metadata": {
    "colab": {
     "base_uri": "https://localhost:8080/"
    },
    "executionInfo": {
     "elapsed": 16616,
     "status": "ok",
     "timestamp": 1651526581296,
     "user": {
      "displayName": "Jamie Knight",
      "userId": "17931559686369144807"
     },
     "user_tz": -60
    },
    "id": "t2ihZLXh5VD-",
    "outputId": "c658db69-7972-4836-bf28-2292a6a2c1de"
   },
   "outputs": [],
   "source": [
    "!gdown 1-4H8-H48tEnb-9I9EtLyNfPdLQLe2JRV"
   ]
  },
  {
   "cell_type": "markdown",
   "metadata": {
    "id": "4oxLk_xy67Pd"
   },
   "source": [
    "and then install PyGeNN from wheel file"
   ]
  },
  {
   "cell_type": "code",
   "execution_count": null,
   "metadata": {
    "colab": {
     "base_uri": "https://localhost:8080/"
    },
    "executionInfo": {
     "elapsed": 2697,
     "status": "ok",
     "timestamp": 1651526583983,
     "user": {
      "displayName": "Jamie Knight",
      "userId": "17931559686369144807"
     },
     "user_tz": -60
    },
    "id": "v7Hg9SPK5bZO",
    "outputId": "942c7444-e915-4cfa-9e0b-59d2574de1ea"
   },
   "outputs": [],
   "source": [
    "!pip install pygenn-4.8.0-cp38-cp38-linux_x86_64.whl"
   ]
  },
  {
   "cell_type": "markdown",
   "metadata": {
    "id": "cAm5bzGvAb17"
   },
   "source": [
    "Set environment variable to allow GeNN to find CUDA"
   ]
  },
  {
   "cell_type": "code",
   "execution_count": 3,
   "metadata": {
    "colab": {
     "base_uri": "https://localhost:8080/"
    },
    "executionInfo": {
     "elapsed": 23,
     "status": "ok",
     "timestamp": 1651526583984,
     "user": {
      "displayName": "Jamie Knight",
      "userId": "17931559686369144807"
     },
     "user_tz": -60
    },
    "id": "cIzSgI5Q8Wvq",
    "outputId": "19f9d9b4-22aa-4ede-810f-127b76ff7c8c"
   },
   "outputs": [
    {
     "name": "stdout",
     "output_type": "stream",
     "text": [
      "env: CUDA_PATH=/usr/local/cuda\n"
     ]
    }
   ],
   "source": [
    "%env CUDA_PATH=/usr/local/cuda"
   ]
  },
  {
   "cell_type": "markdown",
   "metadata": {
    "id": "8tqbF5GldF0o"
   },
   "source": [
    "## Download pre-trained weights and MNIST test data"
   ]
  },
  {
   "cell_type": "code",
   "execution_count": 4,
   "metadata": {
    "colab": {
     "base_uri": "https://localhost:8080/"
    },
    "executionInfo": {
     "elapsed": 12054,
     "status": "ok",
     "timestamp": 1651526596025,
     "user": {
      "displayName": "Jamie Knight",
      "userId": "17931559686369144807"
     },
     "user_tz": -60
    },
    "id": "N-2PV7LcdFg_",
    "outputId": "b21e864d-a7cc-4654-f894-8142814301e5"
   },
   "outputs": [
    {
     "name": "stdout",
     "output_type": "stream",
     "text": [
      "Downloading...\n",
      "From: https://drive.google.com/uc?id=1cmNL8W0QZZtn3dPHiOQnVjGAYTk6Rhpc\n",
      "To: /content/weights_0_1.npy\n",
      "100% 402k/402k [00:00<00:00, 66.0MB/s]\n",
      "Downloading...\n",
      "From: https://drive.google.com/uc?id=131lCXLEH6aTXnBZ9Nh4eJLSy5DQ6LKSF\n",
      "To: /content/weights_1_2.npy\n",
      "100% 5.25k/5.25k [00:00<00:00, 7.49MB/s]\n",
      "Downloading...\n",
      "From: https://drive.google.com/uc?id=14nSMTTlFebhqkudWVpuWnNFFEQx_7lFg\n",
      "To: /content/testing_images.npy\n",
      "100% 7.84M/7.84M [00:00<00:00, 209MB/s]\n",
      "Downloading...\n",
      "From: https://drive.google.com/uc?id=1KSLTNx--oNoV1lEGPmo0FQbUlgsmaBKS\n",
      "To: /content/testing_labels.npy\n",
      "100% 10.1k/10.1k [00:00<00:00, 13.2MB/s]\n"
     ]
    }
   ],
   "source": [
    "!gdown 1cmNL8W0QZZtn3dPHiOQnVjGAYTk6Rhpc\n",
    "!gdown 131lCXLEH6aTXnBZ9Nh4eJLSy5DQ6LKSF\n",
    "!gdown 14nSMTTlFebhqkudWVpuWnNFFEQx_7lFg\n",
    "!gdown 1KSLTNx--oNoV1lEGPmo0FQbUlgsmaBKS"
   ]
  },
  {
   "cell_type": "markdown",
   "metadata": {
    "id": "jBVpqi2k5mNb"
   },
   "source": [
    "## Build model\n",
    "Import standard module and PyGeNN functionality as before and configure simulation parameters"
   ]
  },
  {
   "cell_type": "code",
   "execution_count": 5,
   "metadata": {
    "executionInfo": {
     "elapsed": 14,
     "status": "ok",
     "timestamp": 1651526596025,
     "user": {
      "displayName": "Jamie Knight",
      "userId": "17931559686369144807"
     },
     "user_tz": -60
    },
    "id": "agqWFZjickfU"
   },
   "outputs": [],
   "source": [
    "import numpy as np\n",
    "import matplotlib.pyplot as plt\n",
    "from pygenn.genn_model import (create_custom_neuron_class,\n",
    "                               create_custom_current_source_class,\n",
    "                               create_custom_custom_update_class,\n",
    "                               create_var_ref,\n",
    "                               GeNNModel)\n",
    "from time import perf_counter\n",
    "from tqdm import tqdm\n",
    "\n",
    "TIMESTEP = 1.0\n",
    "PRESENT_TIMESTEPS = 100\n",
    "INPUT_CURRENT_SCALE = 1.0 / 100.0"
   ]
  },
  {
   "cell_type": "markdown",
   "metadata": {
    "id": "OTkuiEAx5qMG"
   },
   "source": [
    "As we're going to use it in a few places, we add an additional simulation parameter to define the batch size."
   ]
  },
  {
   "cell_type": "code",
   "execution_count": 6,
   "metadata": {
    "executionInfo": {
     "elapsed": 13,
     "status": "ok",
     "timestamp": 1651526596026,
     "user": {
      "displayName": "Jamie Knight",
      "userId": "17931559686369144807"
     },
     "user_tz": -60
    },
    "id": "ejMfqnhAkrye"
   },
   "outputs": [],
   "source": [
    "BATCH_SIZE = 128"
   ]
  },
  {
   "cell_type": "markdown",
   "metadata": {
    "id": "fojA3yl_6KU9"
   },
   "source": [
    "Define the custom neuron and synapse models in exactly the same way as before"
   ]
  },
  {
   "cell_type": "code",
   "execution_count": 7,
   "metadata": {
    "executionInfo": {
     "elapsed": 11,
     "status": "ok",
     "timestamp": 1651526596026,
     "user": {
      "displayName": "Jamie Knight",
      "userId": "17931559686369144807"
     },
     "user_tz": -60
    },
    "id": "-7lzXzmQcgbt"
   },
   "outputs": [],
   "source": [
    "# Very simple integrate-and-fire neuron model\n",
    "if_model = create_custom_neuron_class(\n",
    "    \"if_model\",\n",
    "    param_names=[\"Vthr\"],\n",
    "    var_name_types=[(\"V\", \"scalar\"), (\"SpikeCount\", \"unsigned int\")],\n",
    "    sim_code=\"$(V) += $(Isyn) * DT;\",\n",
    "    reset_code=\"\"\"\n",
    "    $(V) = 0.0;\n",
    "    $(SpikeCount)++;\n",
    "    \"\"\",\n",
    "    threshold_condition_code=\"$(V) >= $(Vthr)\")\n",
    "\n",
    "cs_model = create_custom_current_source_class(\n",
    "    \"cs_model\",\n",
    "    var_name_types=[(\"magnitude\", \"scalar\")],\n",
    "    injection_code=\"$(injectCurrent, $(magnitude));\")\n"
   ]
  },
  {
   "cell_type": "markdown",
   "metadata": {
    "id": "93YuiQG7qzG3"
   },
   "source": [
    "As we increase the batch size of our model, the cost of resetting the spike counts and membrane voltages will increase. To counteract this, we can offload tasks like this to the GPU using a *custom update* model. These are defined using very similar syntax to neuron and synapse models but have one additional feature - variable references. These allow custom updates to be *attached* to existing neuron or synapse populations to modify their variables outside of the standard neuron and synapse updates."
   ]
  },
  {
   "cell_type": "code",
   "execution_count": 8,
   "metadata": {
    "executionInfo": {
     "elapsed": 12,
     "status": "ok",
     "timestamp": 1651526596027,
     "user": {
      "displayName": "Jamie Knight",
      "userId": "17931559686369144807"
     },
     "user_tz": -60
    },
    "id": "I8KZoiK1nQlK"
   },
   "outputs": [],
   "source": [
    "reset_model = create_custom_custom_update_class(\n",
    "    \"reset\",\n",
    "    param_names=[],\n",
    "    var_name_types=[],\n",
    "    var_refs=[(\"V\", \"scalar\"), (\"SpikeCount\", \"unsigned int\")],\n",
    "    update_code=\"\"\"\n",
    "    $(V) = 0.0;\n",
    "    $(SpikeCount) = 0;\n",
    "    \"\"\")"
   ]
  },
  {
   "cell_type": "markdown",
   "metadata": {
    "id": "kDWkDTCWqwt3"
   },
   "source": [
    "Create a new model in exactly the same way as before"
   ]
  },
  {
   "cell_type": "code",
   "execution_count": 9,
   "metadata": {
    "executionInfo": {
     "elapsed": 11,
     "status": "ok",
     "timestamp": 1651526596027,
     "user": {
      "displayName": "Jamie Knight",
      "userId": "17931559686369144807"
     },
     "user_tz": -60
    },
    "id": "BSSdg6ckl6im"
   },
   "outputs": [],
   "source": [
    "model = GeNNModel(\"float\", \"tutorial_3\")\n",
    "model.dT = TIMESTEP"
   ]
  },
  {
   "cell_type": "markdown",
   "metadata": {
    "id": "njWcYaZk5w7G"
   },
   "source": [
    "Set the model batch size"
   ]
  },
  {
   "cell_type": "code",
   "execution_count": 10,
   "metadata": {
    "executionInfo": {
     "elapsed": 12,
     "status": "ok",
     "timestamp": 1651526596028,
     "user": {
      "displayName": "Jamie Knight",
      "userId": "17931559686369144807"
     },
     "user_tz": -60
    },
    "id": "iOyB3Z6qkVBM"
   },
   "outputs": [],
   "source": [
    "model.batch_size = BATCH_SIZE"
   ]
  },
  {
   "cell_type": "markdown",
   "metadata": {
    "id": "enyL8xum-OpC"
   },
   "source": [
    "Build model, load weights and create neuron, synapse and current source populations as before"
   ]
  },
  {
   "cell_type": "code",
   "execution_count": 11,
   "metadata": {
    "executionInfo": {
     "elapsed": 11,
     "status": "ok",
     "timestamp": 1651526596028,
     "user": {
      "displayName": "Jamie Knight",
      "userId": "17931559686369144807"
     },
     "user_tz": -60
    },
    "id": "Sx1VOU5udixG"
   },
   "outputs": [],
   "source": [
    "# Load weights\n",
    "weights_0_1 = np.load(\"weights_0_1.npy\")\n",
    "weights_1_2 = np.load(\"weights_1_2.npy\")\n",
    "\n",
    "if_params = {\"Vthr\": 5.0}\n",
    "if_init = {\"V\": 0.0, \"SpikeCount\":0}\n",
    "neurons = [model.add_neuron_population(\"neuron0\", weights_0_1.shape[0],\n",
    "                                       if_model, if_params, if_init),\n",
    "           model.add_neuron_population(\"neuron1\", weights_0_1.shape[1],\n",
    "                                       if_model, if_params, if_init),\n",
    "           model.add_neuron_population(\"neuron2\", weights_1_2.shape[1],\n",
    "                                       if_model, if_params, if_init)]\n",
    "model.add_synapse_population(\n",
    "        \"synapse_0_1\", \"DENSE_INDIVIDUALG\", 0,\n",
    "        neurons[0], neurons[1],\n",
    "        \"StaticPulse\", {}, {\"g\": weights_0_1.flatten()}, {}, {},\n",
    "        \"DeltaCurr\", {}, {})\n",
    "model.add_synapse_population(\n",
    "        \"synapse_1_2\", \"DENSE_INDIVIDUALG\", 0,\n",
    "        neurons[1], neurons[2],\n",
    "        \"StaticPulse\", {}, {\"g\": weights_1_2.flatten()}, {}, {},\n",
    "        \"DeltaCurr\", {}, {});\n",
    "\n",
    "current_input = model.add_current_source(\"current_input\", cs_model,\n",
    "                                         neurons[0], {}, {\"magnitude\": 0.0})"
   ]
  },
  {
   "cell_type": "markdown",
   "metadata": {
    "id": "3S_ZASOdrnj3"
   },
   "source": []
  },
  {
   "cell_type": "code",
   "execution_count": 12,
   "metadata": {
    "executionInfo": {
     "elapsed": 439,
     "status": "ok",
     "timestamp": 1651526621888,
     "user": {
      "displayName": "Jamie Knight",
      "userId": "17931559686369144807"
     },
     "user_tz": -60
    },
    "id": "7PW3c8ibpx9x"
   },
   "outputs": [],
   "source": [
    "for n in neurons:\n",
    "    reset_var_refs = {\"V\": create_var_ref(n, \"V\"),\n",
    "                      \"SpikeCount\": create_var_ref(n, \"SpikeCount\")}\n",
    "    model.add_custom_update(f\"{n.name}_optimizer\", \"Reset\", reset_model,\n",
    "                            {}, {}, reset_var_refs)"
   ]
  },
  {
   "cell_type": "markdown",
   "metadata": {
    "id": "vv-XOushroKw"
   },
   "source": []
  },
  {
   "cell_type": "code",
   "execution_count": 13,
   "metadata": {
    "executionInfo": {
     "elapsed": 16346,
     "status": "ok",
     "timestamp": 1651526641183,
     "user": {
      "displayName": "Jamie Knight",
      "userId": "17931559686369144807"
     },
     "user_tz": -60
    },
    "id": "muUbvSHOooev"
   },
   "outputs": [],
   "source": [
    "# Build and load our model\n",
    "model.build()\n",
    "model.load()\n",
    "\n",
    "testing_images = np.load(\"testing_images.npy\")\n",
    "testing_labels = np.load(\"testing_labels.npy\")\n",
    "\n",
    "assert testing_images.shape[1] == weights_0_1.shape[0]\n",
    "assert np.max(testing_labels) == (weights_1_2.shape[1] - 1)"
   ]
  },
  {
   "cell_type": "markdown",
   "metadata": {
    "id": "awF6vfLX-TVM"
   },
   "source": [
    "First of all, we determine where to split our test data to achieve our batch size and then use `np.split` to perform the splitting operation (the last batch will contain < `BATCH_SIZE` stimuli as 128 does not divide 10000 evenly)"
   ]
  },
  {
   "cell_type": "code",
   "execution_count": 14,
   "metadata": {
    "executionInfo": {
     "elapsed": 396,
     "status": "ok",
     "timestamp": 1651526668092,
     "user": {
      "displayName": "Jamie Knight",
      "userId": "17931559686369144807"
     },
     "user_tz": -60
    },
    "id": "BB0kXBmQkwCX"
   },
   "outputs": [],
   "source": [
    "batch_splits = range(BATCH_SIZE, testing_images.shape[0] + 1, BATCH_SIZE)\n",
    "\n",
    "testing_image_batches = np.split(testing_images, batch_splits, axis=0)\n",
    "testing_label_batches = np.split(testing_labels, batch_splits, axis=0)"
   ]
  },
  {
   "cell_type": "markdown",
   "metadata": {
    "id": "pd4BBHjtur5E"
   },
   "source": [
    "## Simulate model\n",
    "Our batched simulation loop looks very similar to the loop we defined in the previous tutorial however:\n",
    "*   We now loop over *batches* of images and labels rather than individual ones\n",
    "*   When we copy images into the input current view, we only copy as many images as are present in this batch to handle the remainder in the final batch\n",
    "*   We specify an axis for `np.argmax` so that we get the neuron with the largest spike count in each batch\n",
    "\n"
   ]
  },
  {
   "cell_type": "code",
   "execution_count": 15,
   "metadata": {
    "colab": {
     "base_uri": "https://localhost:8080/"
    },
    "executionInfo": {
     "elapsed": 1024,
     "status": "ok",
     "timestamp": 1651526675190,
     "user": {
      "displayName": "Jamie Knight",
      "userId": "17931559686369144807"
     },
     "user_tz": -60
    },
    "id": "4qSoinT4etKq",
    "outputId": "824d0f81-66ec-4c54-b742-cc6eae6e2fc4"
   },
   "outputs": [
    {
     "name": "stderr",
     "output_type": "stream",
     "text": [
      "79it [00:00, 104.96it/s]"
     ]
    },
    {
     "name": "stdout",
     "output_type": "stream",
     "text": [
      "\n",
      "Accuracy 97.54%%\n",
      "Time 0.7618121939999583 seconds\n"
     ]
    },
    {
     "name": "stderr",
     "output_type": "stream",
     "text": [
      "\n"
     ]
    }
   ],
   "source": [
    "current_input_magnitude = current_input.vars[\"magnitude\"].view\n",
    "output_spike_count = neurons[-1].vars[\"SpikeCount\"].view\n",
    "neuron_voltages = [n.vars[\"V\"].view for n in neurons]\n",
    "\n",
    "# Simulate\n",
    "num_correct = 0\n",
    "start_time = perf_counter()\n",
    "for img, lab in tqdm(zip(testing_image_batches, testing_label_batches)):\n",
    "    current_input_magnitude[:img.shape[0],:] = img * INPUT_CURRENT_SCALE\n",
    "    current_input.push_var_to_device(\"magnitude\")\n",
    "\n",
    "    # Run reset custom update\n",
    "    model.custom_update(\"Reset\")\n",
    "\n",
    "    for t in range(PRESENT_TIMESTEPS):\n",
    "        model.step_time()\n",
    "\n",
    "    # Download spike count from last layer\n",
    "    neurons[-1].pull_var_from_device(\"SpikeCount\")\n",
    "\n",
    "    # Find which neuron spiked most in each batch to get prediction\n",
    "    predicted_lab = np.argmax(output_spike_count, axis=1)\n",
    "\n",
    "    # Add number of  \n",
    "    num_correct += np.sum(predicted_lab[:lab.shape[0]] == lab)\n",
    "\n",
    "end_time = perf_counter()\n",
    "print(f\"\\nAccuracy {((num_correct / float(testing_images.shape[0])) * 100.0)}%%\")\n",
    "print(f\"Time {end_time - start_time} seconds\")\n"
   ]
  },
  {
   "cell_type": "markdown",
   "metadata": {
    "id": "y34o04ucAUjJ"
   },
   "source": [
    "And...we get a speed up of over 30x compared to the previous tutorial"
   ]
  }
 ],
 "metadata": {
  "accelerator": "GPU",
  "colab": {
   "authorship_tag": "ABX9TyO4jVThaqvYYJk4Bf5Naxmu",
   "collapsed_sections": [],
   "name": "tutorial_3",
   "provenance": []
  },
  "kernelspec": {
   "display_name": "Python 3",
   "language": "python",
   "name": "python3"
  },
  "language_info": {
   "codemirror_mode": {
    "name": "ipython",
    "version": 3
   },
   "file_extension": ".py",
   "mimetype": "text/x-python",
   "name": "python",
   "nbconvert_exporter": "python",
   "pygments_lexer": "ipython3",
   "version": "3.7.7"
  }
 },
 "nbformat": 4,
 "nbformat_minor": 1
}
